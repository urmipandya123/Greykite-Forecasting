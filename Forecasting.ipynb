{
 "cells": [
  {
   "cell_type": "code",
   "execution_count": 1,
   "metadata": {},
   "outputs": [],
   "source": [
    "import plotly\n",
    "import pandas as pd\n",
    "import matplotlib.pyplot as plt\n",
    "import seaborn as sns\n",
    "%matplotlib inline\n",
    "import statsmodels.api as sm\n",
    "import pylab as py\n",
    "\n",
    "plt.rcParams[\"font.family\"] = \"Times New Roman\"\n",
    "plt.rcParams[\"font.size\"] = \"17\"\n",
    "\n",
    "from greykite.framework.templates.autogen.forecast_config import EvaluationPeriodParam\n",
    "from greykite.framework.templates.autogen.forecast_config import ForecastConfig\n",
    "from greykite.framework.templates.autogen.forecast_config import MetadataParam\n",
    "from greykite.framework.templates.autogen.forecast_config import ModelComponentsParam\n",
    "from greykite.framework.templates.forecaster import Forecaster\n",
    "from greykite.framework.templates.model_templates import ModelTemplateEnum\n",
    "from greykite.framework.utils.result_summary import summarize_grid_search_results\n",
    "from greykite.framework.input.univariate_time_series import UnivariateTimeSeries\n",
    "from greykite.algo.common.seasonality_inferrer import SeasonalityInferConfig\n",
    "from greykite.algo.common.seasonality_inferrer import SeasonalityInferrer\n",
    "from greykite.algo.common.seasonality_inferrer import TrendAdjustMethodEnum\n",
    "from greykite.common import constants as cst\n",
    "from plotly.offline import init_notebook_mode, iplot\n",
    "\n",
    "import warnings\n",
    "from collections import defaultdict\n",
    "warnings.filterwarnings(\"ignore\")"
   ]
  },
  {
   "cell_type": "code",
   "execution_count": 2,
   "metadata": {},
   "outputs": [
    {
     "data": {
      "text/plain": [
       "<greykite.framework.input.univariate_time_series.UnivariateTimeSeries at 0x14c84ea3910>"
      ]
     },
     "execution_count": 2,
     "metadata": {},
     "output_type": "execute_result"
    }
   ],
   "source": [
    "path_file = 'AirPassengers.csv'\n",
    "\n",
    "df = pd.read_csv(path_file)\n",
    "Month = UnivariateTimeSeries()\n",
    "Month.load_data(\n",
    "     df=df,\n",
    "     time_col=\"Month\",\n",
    "     value_col=\"#Passengers\",\n",
    "     freq=\"MS\")"
   ]
  },
  {
   "cell_type": "code",
   "execution_count": 3,
   "metadata": {},
   "outputs": [
    {
     "name": "stdout",
     "output_type": "stream",
     "text": [
      "{'data_points': 144, 'mean_increment_secs': 2629460.1398601397, 'min_timestamp': Timestamp('1949-01-01 00:00:00'), 'max_timestamp': Timestamp('1960-12-01 00:00:00')}\n",
      "count    144.000000\n",
      "mean     280.298611\n",
      "std      119.966317\n",
      "min      104.000000\n",
      "25%      180.000000\n",
      "50%      265.500000\n",
      "75%      360.500000\n",
      "max      622.000000\n",
      "Name: y, dtype: float64\n",
      "     Month  #Passengers\n",
      "0  1949-01          112\n",
      "1  1949-02          118\n",
      "2  1949-03          132\n",
      "3  1949-04          129\n",
      "4  1949-05          121\n"
     ]
    }
   ],
   "source": [
    "print(Month.describe_time_col())\n",
    "print(Month.describe_value_col())\n",
    "print(df.head())"
   ]
  },
  {
   "cell_type": "code",
   "execution_count": 4,
   "metadata": {},
   "outputs": [
    {
     "name": "stdout",
     "output_type": "stream",
     "text": [
      "       Month  #Passengers\n",
      "139  1960-08          606\n",
      "140  1960-09          508\n",
      "141  1960-10          461\n",
      "142  1960-11          390\n",
      "143  1960-12          432\n",
      "<class 'pandas.core.frame.DataFrame'>\n",
      "RangeIndex: 144 entries, 0 to 143\n",
      "Data columns (total 2 columns):\n",
      " #   Column       Non-Null Count  Dtype \n",
      "---  ------       --------------  ----- \n",
      " 0   Month        144 non-null    object\n",
      " 1   #Passengers  144 non-null    int64 \n",
      "dtypes: int64(1), object(1)\n",
      "memory usage: 2.4+ KB\n",
      "None\n",
      "             count        mean         std    min    25%    50%    75%    max\n",
      "#Passengers  144.0  280.298611  119.966317  104.0  180.0  265.5  360.5  622.0\n"
     ]
    }
   ],
   "source": [
    "print(df.tail())\n",
    "print(df.info())\n",
    "print(df.describe().T)"
   ]
  },
  {
   "cell_type": "code",
   "execution_count": 5,
   "metadata": {},
   "outputs": [
    {
     "data": {
      "application/vnd.plotly.v1+json": {
       "config": {
        "linkText": "Export to plot.ly",
        "plotlyServerURL": "https://plot.ly",
        "showLink": false
       },
       "data": [
        {
         "line": {
          "color": "rgb(32, 149, 212)"
         },
         "mode": "lines",
         "name": "#Passengers",
         "opacity": 0.8,
         "type": "scatter",
         "x": [
          "1949-01-01T00:00:00",
          "1949-02-01T00:00:00",
          "1949-03-01T00:00:00",
          "1949-04-01T00:00:00",
          "1949-05-01T00:00:00",
          "1949-06-01T00:00:00",
          "1949-07-01T00:00:00",
          "1949-08-01T00:00:00",
          "1949-09-01T00:00:00",
          "1949-10-01T00:00:00",
          "1949-11-01T00:00:00",
          "1949-12-01T00:00:00",
          "1950-01-01T00:00:00",
          "1950-02-01T00:00:00",
          "1950-03-01T00:00:00",
          "1950-04-01T00:00:00",
          "1950-05-01T00:00:00",
          "1950-06-01T00:00:00",
          "1950-07-01T00:00:00",
          "1950-08-01T00:00:00",
          "1950-09-01T00:00:00",
          "1950-10-01T00:00:00",
          "1950-11-01T00:00:00",
          "1950-12-01T00:00:00",
          "1951-01-01T00:00:00",
          "1951-02-01T00:00:00",
          "1951-03-01T00:00:00",
          "1951-04-01T00:00:00",
          "1951-05-01T00:00:00",
          "1951-06-01T00:00:00",
          "1951-07-01T00:00:00",
          "1951-08-01T00:00:00",
          "1951-09-01T00:00:00",
          "1951-10-01T00:00:00",
          "1951-11-01T00:00:00",
          "1951-12-01T00:00:00",
          "1952-01-01T00:00:00",
          "1952-02-01T00:00:00",
          "1952-03-01T00:00:00",
          "1952-04-01T00:00:00",
          "1952-05-01T00:00:00",
          "1952-06-01T00:00:00",
          "1952-07-01T00:00:00",
          "1952-08-01T00:00:00",
          "1952-09-01T00:00:00",
          "1952-10-01T00:00:00",
          "1952-11-01T00:00:00",
          "1952-12-01T00:00:00",
          "1953-01-01T00:00:00",
          "1953-02-01T00:00:00",
          "1953-03-01T00:00:00",
          "1953-04-01T00:00:00",
          "1953-05-01T00:00:00",
          "1953-06-01T00:00:00",
          "1953-07-01T00:00:00",
          "1953-08-01T00:00:00",
          "1953-09-01T00:00:00",
          "1953-10-01T00:00:00",
          "1953-11-01T00:00:00",
          "1953-12-01T00:00:00",
          "1954-01-01T00:00:00",
          "1954-02-01T00:00:00",
          "1954-03-01T00:00:00",
          "1954-04-01T00:00:00",
          "1954-05-01T00:00:00",
          "1954-06-01T00:00:00",
          "1954-07-01T00:00:00",
          "1954-08-01T00:00:00",
          "1954-09-01T00:00:00",
          "1954-10-01T00:00:00",
          "1954-11-01T00:00:00",
          "1954-12-01T00:00:00",
          "1955-01-01T00:00:00",
          "1955-02-01T00:00:00",
          "1955-03-01T00:00:00",
          "1955-04-01T00:00:00",
          "1955-05-01T00:00:00",
          "1955-06-01T00:00:00",
          "1955-07-01T00:00:00",
          "1955-08-01T00:00:00",
          "1955-09-01T00:00:00",
          "1955-10-01T00:00:00",
          "1955-11-01T00:00:00",
          "1955-12-01T00:00:00",
          "1956-01-01T00:00:00",
          "1956-02-01T00:00:00",
          "1956-03-01T00:00:00",
          "1956-04-01T00:00:00",
          "1956-05-01T00:00:00",
          "1956-06-01T00:00:00",
          "1956-07-01T00:00:00",
          "1956-08-01T00:00:00",
          "1956-09-01T00:00:00",
          "1956-10-01T00:00:00",
          "1956-11-01T00:00:00",
          "1956-12-01T00:00:00",
          "1957-01-01T00:00:00",
          "1957-02-01T00:00:00",
          "1957-03-01T00:00:00",
          "1957-04-01T00:00:00",
          "1957-05-01T00:00:00",
          "1957-06-01T00:00:00",
          "1957-07-01T00:00:00",
          "1957-08-01T00:00:00",
          "1957-09-01T00:00:00",
          "1957-10-01T00:00:00",
          "1957-11-01T00:00:00",
          "1957-12-01T00:00:00",
          "1958-01-01T00:00:00",
          "1958-02-01T00:00:00",
          "1958-03-01T00:00:00",
          "1958-04-01T00:00:00",
          "1958-05-01T00:00:00",
          "1958-06-01T00:00:00",
          "1958-07-01T00:00:00",
          "1958-08-01T00:00:00",
          "1958-09-01T00:00:00",
          "1958-10-01T00:00:00",
          "1958-11-01T00:00:00",
          "1958-12-01T00:00:00",
          "1959-01-01T00:00:00",
          "1959-02-01T00:00:00",
          "1959-03-01T00:00:00",
          "1959-04-01T00:00:00",
          "1959-05-01T00:00:00",
          "1959-06-01T00:00:00",
          "1959-07-01T00:00:00",
          "1959-08-01T00:00:00",
          "1959-09-01T00:00:00",
          "1959-10-01T00:00:00",
          "1959-11-01T00:00:00",
          "1959-12-01T00:00:00",
          "1960-01-01T00:00:00",
          "1960-02-01T00:00:00",
          "1960-03-01T00:00:00",
          "1960-04-01T00:00:00",
          "1960-05-01T00:00:00",
          "1960-06-01T00:00:00",
          "1960-07-01T00:00:00",
          "1960-08-01T00:00:00",
          "1960-09-01T00:00:00",
          "1960-10-01T00:00:00",
          "1960-11-01T00:00:00",
          "1960-12-01T00:00:00"
         ],
         "y": [
          112,
          118,
          132,
          129,
          121,
          135,
          148,
          148,
          136,
          119,
          104,
          118,
          115,
          126,
          141,
          135,
          125,
          149,
          170,
          170,
          158,
          133,
          114,
          140,
          145,
          150,
          178,
          163,
          172,
          178,
          199,
          199,
          184,
          162,
          146,
          166,
          171,
          180,
          193,
          181,
          183,
          218,
          230,
          242,
          209,
          191,
          172,
          194,
          196,
          196,
          236,
          235,
          229,
          243,
          264,
          272,
          237,
          211,
          180,
          201,
          204,
          188,
          235,
          227,
          234,
          264,
          302,
          293,
          259,
          229,
          203,
          229,
          242,
          233,
          267,
          269,
          270,
          315,
          364,
          347,
          312,
          274,
          237,
          278,
          284,
          277,
          317,
          313,
          318,
          374,
          413,
          405,
          355,
          306,
          271,
          306,
          315,
          301,
          356,
          348,
          355,
          422,
          465,
          467,
          404,
          347,
          305,
          336,
          340,
          318,
          362,
          348,
          363,
          435,
          491,
          505,
          404,
          359,
          310,
          337,
          360,
          342,
          406,
          396,
          420,
          472,
          548,
          559,
          463,
          407,
          362,
          405,
          417,
          391,
          419,
          461,
          472,
          535,
          622,
          606,
          508,
          461,
          390,
          432
         ]
        }
       ],
       "layout": {
        "legend": {
         "traceorder": "reversed"
        },
        "showlegend": true,
        "template": {
         "data": {
          "bar": [
           {
            "error_x": {
             "color": "#2a3f5f"
            },
            "error_y": {
             "color": "#2a3f5f"
            },
            "marker": {
             "line": {
              "color": "#E5ECF6",
              "width": 0.5
             },
             "pattern": {
              "fillmode": "overlay",
              "size": 10,
              "solidity": 0.2
             }
            },
            "type": "bar"
           }
          ],
          "barpolar": [
           {
            "marker": {
             "line": {
              "color": "#E5ECF6",
              "width": 0.5
             },
             "pattern": {
              "fillmode": "overlay",
              "size": 10,
              "solidity": 0.2
             }
            },
            "type": "barpolar"
           }
          ],
          "carpet": [
           {
            "aaxis": {
             "endlinecolor": "#2a3f5f",
             "gridcolor": "white",
             "linecolor": "white",
             "minorgridcolor": "white",
             "startlinecolor": "#2a3f5f"
            },
            "baxis": {
             "endlinecolor": "#2a3f5f",
             "gridcolor": "white",
             "linecolor": "white",
             "minorgridcolor": "white",
             "startlinecolor": "#2a3f5f"
            },
            "type": "carpet"
           }
          ],
          "choropleth": [
           {
            "colorbar": {
             "outlinewidth": 0,
             "ticks": ""
            },
            "type": "choropleth"
           }
          ],
          "contour": [
           {
            "colorbar": {
             "outlinewidth": 0,
             "ticks": ""
            },
            "colorscale": [
             [
              0,
              "#0d0887"
             ],
             [
              0.1111111111111111,
              "#46039f"
             ],
             [
              0.2222222222222222,
              "#7201a8"
             ],
             [
              0.3333333333333333,
              "#9c179e"
             ],
             [
              0.4444444444444444,
              "#bd3786"
             ],
             [
              0.5555555555555556,
              "#d8576b"
             ],
             [
              0.6666666666666666,
              "#ed7953"
             ],
             [
              0.7777777777777778,
              "#fb9f3a"
             ],
             [
              0.8888888888888888,
              "#fdca26"
             ],
             [
              1,
              "#f0f921"
             ]
            ],
            "type": "contour"
           }
          ],
          "contourcarpet": [
           {
            "colorbar": {
             "outlinewidth": 0,
             "ticks": ""
            },
            "type": "contourcarpet"
           }
          ],
          "heatmap": [
           {
            "colorbar": {
             "outlinewidth": 0,
             "ticks": ""
            },
            "colorscale": [
             [
              0,
              "#0d0887"
             ],
             [
              0.1111111111111111,
              "#46039f"
             ],
             [
              0.2222222222222222,
              "#7201a8"
             ],
             [
              0.3333333333333333,
              "#9c179e"
             ],
             [
              0.4444444444444444,
              "#bd3786"
             ],
             [
              0.5555555555555556,
              "#d8576b"
             ],
             [
              0.6666666666666666,
              "#ed7953"
             ],
             [
              0.7777777777777778,
              "#fb9f3a"
             ],
             [
              0.8888888888888888,
              "#fdca26"
             ],
             [
              1,
              "#f0f921"
             ]
            ],
            "type": "heatmap"
           }
          ],
          "heatmapgl": [
           {
            "colorbar": {
             "outlinewidth": 0,
             "ticks": ""
            },
            "colorscale": [
             [
              0,
              "#0d0887"
             ],
             [
              0.1111111111111111,
              "#46039f"
             ],
             [
              0.2222222222222222,
              "#7201a8"
             ],
             [
              0.3333333333333333,
              "#9c179e"
             ],
             [
              0.4444444444444444,
              "#bd3786"
             ],
             [
              0.5555555555555556,
              "#d8576b"
             ],
             [
              0.6666666666666666,
              "#ed7953"
             ],
             [
              0.7777777777777778,
              "#fb9f3a"
             ],
             [
              0.8888888888888888,
              "#fdca26"
             ],
             [
              1,
              "#f0f921"
             ]
            ],
            "type": "heatmapgl"
           }
          ],
          "histogram": [
           {
            "marker": {
             "pattern": {
              "fillmode": "overlay",
              "size": 10,
              "solidity": 0.2
             }
            },
            "type": "histogram"
           }
          ],
          "histogram2d": [
           {
            "colorbar": {
             "outlinewidth": 0,
             "ticks": ""
            },
            "colorscale": [
             [
              0,
              "#0d0887"
             ],
             [
              0.1111111111111111,
              "#46039f"
             ],
             [
              0.2222222222222222,
              "#7201a8"
             ],
             [
              0.3333333333333333,
              "#9c179e"
             ],
             [
              0.4444444444444444,
              "#bd3786"
             ],
             [
              0.5555555555555556,
              "#d8576b"
             ],
             [
              0.6666666666666666,
              "#ed7953"
             ],
             [
              0.7777777777777778,
              "#fb9f3a"
             ],
             [
              0.8888888888888888,
              "#fdca26"
             ],
             [
              1,
              "#f0f921"
             ]
            ],
            "type": "histogram2d"
           }
          ],
          "histogram2dcontour": [
           {
            "colorbar": {
             "outlinewidth": 0,
             "ticks": ""
            },
            "colorscale": [
             [
              0,
              "#0d0887"
             ],
             [
              0.1111111111111111,
              "#46039f"
             ],
             [
              0.2222222222222222,
              "#7201a8"
             ],
             [
              0.3333333333333333,
              "#9c179e"
             ],
             [
              0.4444444444444444,
              "#bd3786"
             ],
             [
              0.5555555555555556,
              "#d8576b"
             ],
             [
              0.6666666666666666,
              "#ed7953"
             ],
             [
              0.7777777777777778,
              "#fb9f3a"
             ],
             [
              0.8888888888888888,
              "#fdca26"
             ],
             [
              1,
              "#f0f921"
             ]
            ],
            "type": "histogram2dcontour"
           }
          ],
          "mesh3d": [
           {
            "colorbar": {
             "outlinewidth": 0,
             "ticks": ""
            },
            "type": "mesh3d"
           }
          ],
          "parcoords": [
           {
            "line": {
             "colorbar": {
              "outlinewidth": 0,
              "ticks": ""
             }
            },
            "type": "parcoords"
           }
          ],
          "pie": [
           {
            "automargin": true,
            "type": "pie"
           }
          ],
          "scatter": [
           {
            "fillpattern": {
             "fillmode": "overlay",
             "size": 10,
             "solidity": 0.2
            },
            "type": "scatter"
           }
          ],
          "scatter3d": [
           {
            "line": {
             "colorbar": {
              "outlinewidth": 0,
              "ticks": ""
             }
            },
            "marker": {
             "colorbar": {
              "outlinewidth": 0,
              "ticks": ""
             }
            },
            "type": "scatter3d"
           }
          ],
          "scattercarpet": [
           {
            "marker": {
             "colorbar": {
              "outlinewidth": 0,
              "ticks": ""
             }
            },
            "type": "scattercarpet"
           }
          ],
          "scattergeo": [
           {
            "marker": {
             "colorbar": {
              "outlinewidth": 0,
              "ticks": ""
             }
            },
            "type": "scattergeo"
           }
          ],
          "scattergl": [
           {
            "marker": {
             "colorbar": {
              "outlinewidth": 0,
              "ticks": ""
             }
            },
            "type": "scattergl"
           }
          ],
          "scattermapbox": [
           {
            "marker": {
             "colorbar": {
              "outlinewidth": 0,
              "ticks": ""
             }
            },
            "type": "scattermapbox"
           }
          ],
          "scatterpolar": [
           {
            "marker": {
             "colorbar": {
              "outlinewidth": 0,
              "ticks": ""
             }
            },
            "type": "scatterpolar"
           }
          ],
          "scatterpolargl": [
           {
            "marker": {
             "colorbar": {
              "outlinewidth": 0,
              "ticks": ""
             }
            },
            "type": "scatterpolargl"
           }
          ],
          "scatterternary": [
           {
            "marker": {
             "colorbar": {
              "outlinewidth": 0,
              "ticks": ""
             }
            },
            "type": "scatterternary"
           }
          ],
          "surface": [
           {
            "colorbar": {
             "outlinewidth": 0,
             "ticks": ""
            },
            "colorscale": [
             [
              0,
              "#0d0887"
             ],
             [
              0.1111111111111111,
              "#46039f"
             ],
             [
              0.2222222222222222,
              "#7201a8"
             ],
             [
              0.3333333333333333,
              "#9c179e"
             ],
             [
              0.4444444444444444,
              "#bd3786"
             ],
             [
              0.5555555555555556,
              "#d8576b"
             ],
             [
              0.6666666666666666,
              "#ed7953"
             ],
             [
              0.7777777777777778,
              "#fb9f3a"
             ],
             [
              0.8888888888888888,
              "#fdca26"
             ],
             [
              1,
              "#f0f921"
             ]
            ],
            "type": "surface"
           }
          ],
          "table": [
           {
            "cells": {
             "fill": {
              "color": "#EBF0F8"
             },
             "line": {
              "color": "white"
             }
            },
            "header": {
             "fill": {
              "color": "#C8D4E3"
             },
             "line": {
              "color": "white"
             }
            },
            "type": "table"
           }
          ]
         },
         "layout": {
          "annotationdefaults": {
           "arrowcolor": "#2a3f5f",
           "arrowhead": 0,
           "arrowwidth": 1
          },
          "autotypenumbers": "strict",
          "coloraxis": {
           "colorbar": {
            "outlinewidth": 0,
            "ticks": ""
           }
          },
          "colorscale": {
           "diverging": [
            [
             0,
             "#8e0152"
            ],
            [
             0.1,
             "#c51b7d"
            ],
            [
             0.2,
             "#de77ae"
            ],
            [
             0.3,
             "#f1b6da"
            ],
            [
             0.4,
             "#fde0ef"
            ],
            [
             0.5,
             "#f7f7f7"
            ],
            [
             0.6,
             "#e6f5d0"
            ],
            [
             0.7,
             "#b8e186"
            ],
            [
             0.8,
             "#7fbc41"
            ],
            [
             0.9,
             "#4d9221"
            ],
            [
             1,
             "#276419"
            ]
           ],
           "sequential": [
            [
             0,
             "#0d0887"
            ],
            [
             0.1111111111111111,
             "#46039f"
            ],
            [
             0.2222222222222222,
             "#7201a8"
            ],
            [
             0.3333333333333333,
             "#9c179e"
            ],
            [
             0.4444444444444444,
             "#bd3786"
            ],
            [
             0.5555555555555556,
             "#d8576b"
            ],
            [
             0.6666666666666666,
             "#ed7953"
            ],
            [
             0.7777777777777778,
             "#fb9f3a"
            ],
            [
             0.8888888888888888,
             "#fdca26"
            ],
            [
             1,
             "#f0f921"
            ]
           ],
           "sequentialminus": [
            [
             0,
             "#0d0887"
            ],
            [
             0.1111111111111111,
             "#46039f"
            ],
            [
             0.2222222222222222,
             "#7201a8"
            ],
            [
             0.3333333333333333,
             "#9c179e"
            ],
            [
             0.4444444444444444,
             "#bd3786"
            ],
            [
             0.5555555555555556,
             "#d8576b"
            ],
            [
             0.6666666666666666,
             "#ed7953"
            ],
            [
             0.7777777777777778,
             "#fb9f3a"
            ],
            [
             0.8888888888888888,
             "#fdca26"
            ],
            [
             1,
             "#f0f921"
            ]
           ]
          },
          "colorway": [
           "#636efa",
           "#EF553B",
           "#00cc96",
           "#ab63fa",
           "#FFA15A",
           "#19d3f3",
           "#FF6692",
           "#B6E880",
           "#FF97FF",
           "#FECB52"
          ],
          "font": {
           "color": "#2a3f5f"
          },
          "geo": {
           "bgcolor": "white",
           "lakecolor": "white",
           "landcolor": "#E5ECF6",
           "showlakes": true,
           "showland": true,
           "subunitcolor": "white"
          },
          "hoverlabel": {
           "align": "left"
          },
          "hovermode": "closest",
          "mapbox": {
           "style": "light"
          },
          "paper_bgcolor": "white",
          "plot_bgcolor": "#E5ECF6",
          "polar": {
           "angularaxis": {
            "gridcolor": "white",
            "linecolor": "white",
            "ticks": ""
           },
           "bgcolor": "#E5ECF6",
           "radialaxis": {
            "gridcolor": "white",
            "linecolor": "white",
            "ticks": ""
           }
          },
          "scene": {
           "xaxis": {
            "backgroundcolor": "#E5ECF6",
            "gridcolor": "white",
            "gridwidth": 2,
            "linecolor": "white",
            "showbackground": true,
            "ticks": "",
            "zerolinecolor": "white"
           },
           "yaxis": {
            "backgroundcolor": "#E5ECF6",
            "gridcolor": "white",
            "gridwidth": 2,
            "linecolor": "white",
            "showbackground": true,
            "ticks": "",
            "zerolinecolor": "white"
           },
           "zaxis": {
            "backgroundcolor": "#E5ECF6",
            "gridcolor": "white",
            "gridwidth": 2,
            "linecolor": "white",
            "showbackground": true,
            "ticks": "",
            "zerolinecolor": "white"
           }
          },
          "shapedefaults": {
           "line": {
            "color": "#2a3f5f"
           }
          },
          "ternary": {
           "aaxis": {
            "gridcolor": "white",
            "linecolor": "white",
            "ticks": ""
           },
           "baxis": {
            "gridcolor": "white",
            "linecolor": "white",
            "ticks": ""
           },
           "bgcolor": "#E5ECF6",
           "caxis": {
            "gridcolor": "white",
            "linecolor": "white",
            "ticks": ""
           }
          },
          "title": {
           "x": 0.05
          },
          "xaxis": {
           "automargin": true,
           "gridcolor": "white",
           "linecolor": "white",
           "ticks": "",
           "title": {
            "standoff": 15
           },
           "zerolinecolor": "white",
           "zerolinewidth": 2
          },
          "yaxis": {
           "automargin": true,
           "gridcolor": "white",
           "linecolor": "white",
           "ticks": "",
           "title": {
            "standoff": 15
           },
           "zerolinecolor": "white",
           "zerolinewidth": 2
          }
         }
        },
        "title": {
         "text": "#Passengers vs Month",
         "x": 0.5
        },
        "xaxis": {
         "title": {
          "text": "Month"
         }
        },
        "yaxis": {
         "title": {
          "text": "#Passengers"
         }
        }
       }
      }
     },
     "metadata": {},
     "output_type": "display_data"
    }
   ],
   "source": [
    "fig = Month.plot()\n",
    "iplot(fig)"
   ]
  },
  {
   "cell_type": "markdown",
   "metadata": {},
   "source": [
    "# Normal Code"
   ]
  },
  {
   "cell_type": "code",
   "execution_count": 6,
   "metadata": {},
   "outputs": [],
   "source": [
    "forecast_horizon = 36\n",
    "meta_data_params = MetadataParam(\n",
    "     time_col=\"Month\",\n",
    "     value_col=\"#Passengers\",\n",
    "     freq=\"MS\",\n",
    " )"
   ]
  },
  {
   "cell_type": "code",
   "execution_count": 7,
   "metadata": {},
   "outputs": [],
   "source": [
    "cv_min_train_periods = 115\n",
    "# Let CV use most recent splits for cross-validation.\n",
    "cv_use_most_recent_splits = True\n",
    "# Determine the maximum number of validations.\n",
    "cv_max_splits = 92\n",
    "evaluation_period_param = EvaluationPeriodParam(\n",
    "     test_horizon=forecast_horizon,\n",
    "     cv_horizon=forecast_horizon,\n",
    "     periods_between_train_test=0,\n",
    "     cv_min_train_periods=cv_min_train_periods,\n",
    "     cv_expanding_window=False,\n",
    "     cv_use_most_recent_splits=cv_use_most_recent_splits,\n",
    "     cv_periods_between_splits=None,\n",
    "     cv_periods_between_train_test=0,\n",
    "     cv_max_splits=cv_max_splits,\n",
    ")"
   ]
  },
  {
   "cell_type": "code",
   "execution_count": 8,
   "metadata": {},
   "outputs": [],
   "source": [
    "extra_pred_cols = [\"ct1\"]\n",
    "autoregression = None\n",
    "\n",
    "# Specify the model parameters\n",
    "model_components = ModelComponentsParam(\n",
    "     growth=dict(growth_term=[\"linear\"]),\n",
    "     seasonality=dict(\n",
    "         yearly_seasonality=['auto'],\n",
    "         quarterly_seasonality=['auto'],\n",
    "         monthly_seasonality=['auto'],\n",
    "         weekly_seasonality=[False],\n",
    "         daily_seasonality=[False]\n",
    "     ),\n",
    "     custom=dict(\n",
    "         fit_algorithm_dict=dict(fit_algorithm=\"lasso\"),\n",
    "         extra_pred_cols=extra_pred_cols\n",
    "     ),\n",
    "     regressors=dict(regressor_cols=None),\n",
    "     autoregression=autoregression,\n",
    "     uncertainty=dict(uncertainty_dict={\n",
    "        \"uncertainty_method\": \"simple_conditional_residuals\",\n",
    "        \"params\": {\n",
    "        \"conditional_cols\": None,\n",
    "        \"quantile_estimation_method\": \"normal_fit\",\n",
    "        \"sample_size_thresh\": 5,\n",
    "        \"small_sample_size_method\": \"std_quantiles\",\n",
    "        \"small_sample_size_quantile\": 0.98}}\n",
    "    ),\n",
    "     events=dict(holiday_lookup_countries=[\"US\"]),\n",
    ")"
   ]
  },
  {
   "cell_type": "code",
   "execution_count": 9,
   "metadata": {},
   "outputs": [
    {
     "name": "stdout",
     "output_type": "stream",
     "text": [
      "Fitting 1 folds for each of 1 candidates, totalling 1 fits\n"
     ]
    }
   ],
   "source": [
    "# Run the forecast model\n",
    "forecaster = Forecaster()\n",
    "result = forecaster.run_forecast_config(\n",
    "     df=df,\n",
    "     config=ForecastConfig(\n",
    "         model_template=ModelTemplateEnum.SILVERKITE_MONTHLY.name,\n",
    "         coverage=0.95,\n",
    "         forecast_horizon=forecast_horizon,\n",
    "         metadata_param=meta_data_params,\n",
    "         evaluation_period_param=evaluation_period_param,\n",
    "         model_components_param=model_components\n",
    "     )\n",
    ")"
   ]
  },
  {
   "cell_type": "code",
   "execution_count": 10,
   "metadata": {},
   "outputs": [
    {
     "name": "stdout",
     "output_type": "stream",
     "text": [
      "================================ Model Summary =================================\n",
      "\n",
      "Number of observations: 144,   Number of features: 7\n",
      "Method: Lasso regression\n",
      "Number of nonzero features: 5\n",
      "Regularization parameter: 0.5727\n",
      "\n",
      "Residuals:\n",
      "         Min           1Q       Median           3Q          Max\n",
      "      -104.8       -22.46       -3.335         15.5        146.9\n",
      "\n",
      "         Pred_col Estimate Pr(>)_split sig. code             95%CI  Prob_nonzero\n",
      "        Intercept    131.8      <2e-16       ***    (12.88, 239.1)          1.00\n",
      "     events_Other   -8.946       1.000             (-90.61, 66.45)          0.83\n",
      "              ct1       0.       1.000           (-1310.0, 1330.0)          0.24\n",
      "cp0_1950_05_20_00    199.8       0.001        ** (-1039.0, 1263.0)          0.98\n",
      "cp1_1954_09_04_00    31.72       1.000             (-181.9, 263.7)          0.77\n",
      "cp2_1958_12_20_00       0.       1.000             (-180.1, 229.0)          0.27\n",
      "   y_avglag_1_2_3    153.7       0.011         *   (-137.5, 569.6)          0.97\n",
      "Signif. Code: 0 '***' 0.001 '**' 0.01 '*' 0.05 '.' 0.1 ' ' 1\n",
      "\n",
      "Multiple R-squared: 0.8765,   Adjusted R-squared: 0.873\n",
      "F-statistic: 237.82 on 3 and 139 DF,   p-value: 1.110e-16\n",
      "Model AIC: 1802.1,   model BIC: 1817.0\n",
      "\n",
      "WARNING: the F-ratio and its p-value on regularized methods might be misleading, they are provided only for reference purposes.\n",
      "\n"
     ]
    }
   ],
   "source": [
    "# Get the useful fields from the forecast result\n",
    "model = result.model[-1]\n",
    "backtest = result.backtest\n",
    "forecast = result.forecast\n",
    "grid_search = result.grid_search\\\n",
    "\n",
    "# Check model coefficients / variables\n",
    "# Get model summary with p-values\n",
    "print(model.summary())"
   ]
  },
  {
   "cell_type": "code",
   "execution_count": 11,
   "metadata": {},
   "outputs": [
    {
     "data": {
      "application/vnd.plotly.v1+json": {
       "config": {
        "linkText": "Export to plot.ly",
        "plotlyServerURL": "https://plot.ly",
        "showLink": false
       },
       "data": [
        {
         "legendgroup": "interval",
         "line": {
          "color": "rgba(0, 90, 181, 0.5)",
          "width": 0
         },
         "mode": "lines",
         "name": "Lower Bound",
         "type": "scatter",
         "x": [
          "1949-01-01T00:00:00",
          "1949-02-01T00:00:00",
          "1949-03-01T00:00:00",
          "1949-04-01T00:00:00",
          "1949-05-01T00:00:00",
          "1949-06-01T00:00:00",
          "1949-07-01T00:00:00",
          "1949-08-01T00:00:00",
          "1949-09-01T00:00:00",
          "1949-10-01T00:00:00",
          "1949-11-01T00:00:00",
          "1949-12-01T00:00:00",
          "1950-01-01T00:00:00",
          "1950-02-01T00:00:00",
          "1950-03-01T00:00:00",
          "1950-04-01T00:00:00",
          "1950-05-01T00:00:00",
          "1950-06-01T00:00:00",
          "1950-07-01T00:00:00",
          "1950-08-01T00:00:00",
          "1950-09-01T00:00:00",
          "1950-10-01T00:00:00",
          "1950-11-01T00:00:00",
          "1950-12-01T00:00:00",
          "1951-01-01T00:00:00",
          "1951-02-01T00:00:00",
          "1951-03-01T00:00:00",
          "1951-04-01T00:00:00",
          "1951-05-01T00:00:00",
          "1951-06-01T00:00:00",
          "1951-07-01T00:00:00",
          "1951-08-01T00:00:00",
          "1951-09-01T00:00:00",
          "1951-10-01T00:00:00",
          "1951-11-01T00:00:00",
          "1951-12-01T00:00:00",
          "1952-01-01T00:00:00",
          "1952-02-01T00:00:00",
          "1952-03-01T00:00:00",
          "1952-04-01T00:00:00",
          "1952-05-01T00:00:00",
          "1952-06-01T00:00:00",
          "1952-07-01T00:00:00",
          "1952-08-01T00:00:00",
          "1952-09-01T00:00:00",
          "1952-10-01T00:00:00",
          "1952-11-01T00:00:00",
          "1952-12-01T00:00:00",
          "1953-01-01T00:00:00",
          "1953-02-01T00:00:00",
          "1953-03-01T00:00:00",
          "1953-04-01T00:00:00",
          "1953-05-01T00:00:00",
          "1953-06-01T00:00:00",
          "1953-07-01T00:00:00",
          "1953-08-01T00:00:00",
          "1953-09-01T00:00:00",
          "1953-10-01T00:00:00",
          "1953-11-01T00:00:00",
          "1953-12-01T00:00:00",
          "1954-01-01T00:00:00",
          "1954-02-01T00:00:00",
          "1954-03-01T00:00:00",
          "1954-04-01T00:00:00",
          "1954-05-01T00:00:00",
          "1954-06-01T00:00:00",
          "1954-07-01T00:00:00",
          "1954-08-01T00:00:00",
          "1954-09-01T00:00:00",
          "1954-10-01T00:00:00",
          "1954-11-01T00:00:00",
          "1954-12-01T00:00:00",
          "1955-01-01T00:00:00",
          "1955-02-01T00:00:00",
          "1955-03-01T00:00:00",
          "1955-04-01T00:00:00",
          "1955-05-01T00:00:00",
          "1955-06-01T00:00:00",
          "1955-07-01T00:00:00",
          "1955-08-01T00:00:00",
          "1955-09-01T00:00:00",
          "1955-10-01T00:00:00",
          "1955-11-01T00:00:00",
          "1955-12-01T00:00:00",
          "1956-01-01T00:00:00",
          "1956-02-01T00:00:00",
          "1956-03-01T00:00:00",
          "1956-04-01T00:00:00",
          "1956-05-01T00:00:00",
          "1956-06-01T00:00:00",
          "1956-07-01T00:00:00",
          "1956-08-01T00:00:00",
          "1956-09-01T00:00:00",
          "1956-10-01T00:00:00",
          "1956-11-01T00:00:00",
          "1956-12-01T00:00:00",
          "1957-01-01T00:00:00",
          "1957-02-01T00:00:00",
          "1957-03-01T00:00:00",
          "1957-04-01T00:00:00",
          "1957-05-01T00:00:00",
          "1957-06-01T00:00:00",
          "1957-07-01T00:00:00",
          "1957-08-01T00:00:00",
          "1957-09-01T00:00:00",
          "1957-10-01T00:00:00",
          "1957-11-01T00:00:00",
          "1957-12-01T00:00:00",
          "1958-01-01T00:00:00",
          "1958-02-01T00:00:00",
          "1958-03-01T00:00:00",
          "1958-04-01T00:00:00",
          "1958-05-01T00:00:00",
          "1958-06-01T00:00:00",
          "1958-07-01T00:00:00",
          "1958-08-01T00:00:00",
          "1958-09-01T00:00:00",
          "1958-10-01T00:00:00",
          "1958-11-01T00:00:00",
          "1958-12-01T00:00:00",
          "1959-01-01T00:00:00",
          "1959-02-01T00:00:00",
          "1959-03-01T00:00:00",
          "1959-04-01T00:00:00",
          "1959-05-01T00:00:00",
          "1959-06-01T00:00:00",
          "1959-07-01T00:00:00",
          "1959-08-01T00:00:00",
          "1959-09-01T00:00:00",
          "1959-10-01T00:00:00",
          "1959-11-01T00:00:00",
          "1959-12-01T00:00:00",
          "1960-01-01T00:00:00",
          "1960-02-01T00:00:00",
          "1960-03-01T00:00:00",
          "1960-04-01T00:00:00",
          "1960-05-01T00:00:00",
          "1960-06-01T00:00:00",
          "1960-07-01T00:00:00",
          "1960-08-01T00:00:00",
          "1960-09-01T00:00:00",
          "1960-10-01T00:00:00",
          "1960-11-01T00:00:00",
          "1960-12-01T00:00:00",
          "1961-01-01T00:00:00",
          "1961-02-01T00:00:00",
          "1961-03-01T00:00:00",
          "1961-04-01T00:00:00",
          "1961-05-01T00:00:00",
          "1961-06-01T00:00:00",
          "1961-07-01T00:00:00",
          "1961-08-01T00:00:00",
          "1961-09-01T00:00:00",
          "1961-10-01T00:00:00",
          "1961-11-01T00:00:00",
          "1961-12-01T00:00:00",
          "1962-01-01T00:00:00",
          "1962-02-01T00:00:00",
          "1962-03-01T00:00:00",
          "1962-04-01T00:00:00",
          "1962-05-01T00:00:00",
          "1962-06-01T00:00:00",
          "1962-07-01T00:00:00",
          "1962-08-01T00:00:00",
          "1962-09-01T00:00:00",
          "1962-10-01T00:00:00",
          "1962-11-01T00:00:00",
          "1962-12-01T00:00:00",
          "1963-01-01T00:00:00",
          "1963-02-01T00:00:00",
          "1963-03-01T00:00:00",
          "1963-04-01T00:00:00",
          "1963-05-01T00:00:00",
          "1963-06-01T00:00:00",
          "1963-07-01T00:00:00",
          "1963-08-01T00:00:00",
          "1963-09-01T00:00:00",
          "1963-10-01T00:00:00",
          "1963-11-01T00:00:00",
          "1963-12-01T00:00:00"
         ],
         "y": [
          40.2636632389827,
          49.209256889169055,
          49.8555334341264,
          52.00978858398419,
          53.840905461363306,
          54.16404373384198,
          54.48718200632065,
          56.53372439868555,
          59.441968850993575,
          59.549681608486466,
          56.42601164119266,
          51.68665031150552,
          40.80222702644714,
          49.316969646661946,
          51.68665031150552,
          54.16404373384198,
          56.31829888369977,
          56.21058612620688,
          58.63570006148085,
          64.02117217823532,
          70.48377186992302,
          73.01659856268556,
          70.64675213995197,
          66.17824959568101,
          56.90935191512598,
          68.76302425973036,
          74.09986794644725,
          79.80847833568474,
          83.31071984588327,
          87.29592611523019,
          88.859337990561,
          94.35252286480839,
          98.87629292162408,
          101.08598134190792,
          98.71613491917437,
          94.57077064738205,
          85.30187296682702,
          96.82799303456899,
          101.9973957055736,
          106.51675175800118,
          109.15301959111089,
          111.08726946371347,
          115.33922865921652,
          122.2282653764877,
          121.24883601850574,
          130.78415510943688,
          128.1944691673338,
          122.21371640101664,
          113.26354298855652,
          124.36322603071069,
          128.4075166275129,
          134.54697804672196,
          140.31118746427114,
          145.48123406603986,
          147.7986352438209,
          152.53783081561807,
          158.78500499232,
          159.70214032268916,
          155.60888978006938,
          147.2627279660544,
          136.05500065062733,
          145.86213060286678,
          148.18301707978281,
          153.46077643904874,
          157.50158173671167,
          164.07189418588797,
          168.75897602851256,
          178.4529584449827,
          186.42353674157079,
          187.44838482943288,
          181.63776205902957,
          173.92981568458976,
          163.80524783619433,
          176.20351586036588,
          181.28868693174144,
          187.4341802430544,
          192.32862649527715,
          198.36640704909172,
          205.52282120867062,
          217.80794169707275,
          228.15423255060836,
          229.81729607804442,
          222.17555643026202,
          212.31335490596433,
          201.7579360275974,
          213.82745810572055,
          220.05071759051498,
          226.2983159857456,
          231.40276097208,
          237.86578488230185,
          245.98618707843724,
          258.8042636807341,
          270.2220744356289,
          270.1563070623046,
          260.67784286357335,
          248.22510837857226,
          236.04839046424223,
          248.01580745844217,
          253.10097852981778,
          260.5390249310454,
          266.07974772822547,
          273.9486451594192,
          283.04388895387007,
          297.6986901071158,
          311.8149274729026,
          311.8622996379452,
          301.20460278036194,
          285.741337866434,
          271.5236852333088,
          281.76769810762255,
          285.0217523016191,
          289.87469252301736,
          292.7225963828751,
          299.6220789966328,
          309.471312093534,
          326.9266449415948,
          335.3286713819819,
          342.9213713498034,
          330.7556958873196,
          311.7379099761264,
          297.62797010049405,
          308.7336850347509,
          314.03428162111226,
          323.5188704147048,
          329.3827314843635,
          339.83673509538653,
          348.93197888983747,
          367.3567265553344,
          384.3812083734291,
          385.3979953559078,
          372.26290507598804,
          353.029693649809,
          339.8891685916127,
          351.95869066973586,
          356.9971098221085,
          360.55188928001684,
          367.2720256287446,
          378.0435598386821,
          392.51901472689786,
          411.907569536261,
          428.3878798933216,
          427.4604104600542,
          412.16545735670695,
          390.88027675728887,
          375.79531439065084,
          386.5145999351901,
          396.89188123590543,
          404.0616124860931,
          409.09245519798395,
          413.57678677319234,
          417.3601657570422,
          420.8449981270998,
          424.1633054601316,
          427.2898103800665,
          430.4117683099145,
          433.42843330652653,
          427.5332206517771,
          438.5574412201092,
          441.28862245749013,
          444.1876736319393,
          447.9677724868831,
          451.0337937431264,
          454.0696748144631,
          457.1865009379582,
          460.23188412658493,
          463.2088376053708,
          466.2456505573336,
          469.2076383432972,
          463.28125645694917,
          474.287059067911,
          477.007009699301,
          479.8995100213503,
          483.6757097374029,
          486.7393957167289,
          489.7738996515715,
          492.8899059137795,
          495.9348009186005,
          498.9114651690733,
          501.948106074313,
          504.90999159144684
         ]
        },
        {
         "fill": "tonexty",
         "fillcolor": "rgba(0, 90, 181, 0.15)",
         "legendgroup": "interval",
         "line": {
          "color": "rgba(0, 90, 181, 0.5)",
          "width": 0
         },
         "mode": "lines",
         "name": "Upper Bound",
         "type": "scatter",
         "x": [
          "1949-01-01T00:00:00",
          "1949-02-01T00:00:00",
          "1949-03-01T00:00:00",
          "1949-04-01T00:00:00",
          "1949-05-01T00:00:00",
          "1949-06-01T00:00:00",
          "1949-07-01T00:00:00",
          "1949-08-01T00:00:00",
          "1949-09-01T00:00:00",
          "1949-10-01T00:00:00",
          "1949-11-01T00:00:00",
          "1949-12-01T00:00:00",
          "1950-01-01T00:00:00",
          "1950-02-01T00:00:00",
          "1950-03-01T00:00:00",
          "1950-04-01T00:00:00",
          "1950-05-01T00:00:00",
          "1950-06-01T00:00:00",
          "1950-07-01T00:00:00",
          "1950-08-01T00:00:00",
          "1950-09-01T00:00:00",
          "1950-10-01T00:00:00",
          "1950-11-01T00:00:00",
          "1950-12-01T00:00:00",
          "1951-01-01T00:00:00",
          "1951-02-01T00:00:00",
          "1951-03-01T00:00:00",
          "1951-04-01T00:00:00",
          "1951-05-01T00:00:00",
          "1951-06-01T00:00:00",
          "1951-07-01T00:00:00",
          "1951-08-01T00:00:00",
          "1951-09-01T00:00:00",
          "1951-10-01T00:00:00",
          "1951-11-01T00:00:00",
          "1951-12-01T00:00:00",
          "1952-01-01T00:00:00",
          "1952-02-01T00:00:00",
          "1952-03-01T00:00:00",
          "1952-04-01T00:00:00",
          "1952-05-01T00:00:00",
          "1952-06-01T00:00:00",
          "1952-07-01T00:00:00",
          "1952-08-01T00:00:00",
          "1952-09-01T00:00:00",
          "1952-10-01T00:00:00",
          "1952-11-01T00:00:00",
          "1952-12-01T00:00:00",
          "1953-01-01T00:00:00",
          "1953-02-01T00:00:00",
          "1953-03-01T00:00:00",
          "1953-04-01T00:00:00",
          "1953-05-01T00:00:00",
          "1953-06-01T00:00:00",
          "1953-07-01T00:00:00",
          "1953-08-01T00:00:00",
          "1953-09-01T00:00:00",
          "1953-10-01T00:00:00",
          "1953-11-01T00:00:00",
          "1953-12-01T00:00:00",
          "1954-01-01T00:00:00",
          "1954-02-01T00:00:00",
          "1954-03-01T00:00:00",
          "1954-04-01T00:00:00",
          "1954-05-01T00:00:00",
          "1954-06-01T00:00:00",
          "1954-07-01T00:00:00",
          "1954-08-01T00:00:00",
          "1954-09-01T00:00:00",
          "1954-10-01T00:00:00",
          "1954-11-01T00:00:00",
          "1954-12-01T00:00:00",
          "1955-01-01T00:00:00",
          "1955-02-01T00:00:00",
          "1955-03-01T00:00:00",
          "1955-04-01T00:00:00",
          "1955-05-01T00:00:00",
          "1955-06-01T00:00:00",
          "1955-07-01T00:00:00",
          "1955-08-01T00:00:00",
          "1955-09-01T00:00:00",
          "1955-10-01T00:00:00",
          "1955-11-01T00:00:00",
          "1955-12-01T00:00:00",
          "1956-01-01T00:00:00",
          "1956-02-01T00:00:00",
          "1956-03-01T00:00:00",
          "1956-04-01T00:00:00",
          "1956-05-01T00:00:00",
          "1956-06-01T00:00:00",
          "1956-07-01T00:00:00",
          "1956-08-01T00:00:00",
          "1956-09-01T00:00:00",
          "1956-10-01T00:00:00",
          "1956-11-01T00:00:00",
          "1956-12-01T00:00:00",
          "1957-01-01T00:00:00",
          "1957-02-01T00:00:00",
          "1957-03-01T00:00:00",
          "1957-04-01T00:00:00",
          "1957-05-01T00:00:00",
          "1957-06-01T00:00:00",
          "1957-07-01T00:00:00",
          "1957-08-01T00:00:00",
          "1957-09-01T00:00:00",
          "1957-10-01T00:00:00",
          "1957-11-01T00:00:00",
          "1957-12-01T00:00:00",
          "1958-01-01T00:00:00",
          "1958-02-01T00:00:00",
          "1958-03-01T00:00:00",
          "1958-04-01T00:00:00",
          "1958-05-01T00:00:00",
          "1958-06-01T00:00:00",
          "1958-07-01T00:00:00",
          "1958-08-01T00:00:00",
          "1958-09-01T00:00:00",
          "1958-10-01T00:00:00",
          "1958-11-01T00:00:00",
          "1958-12-01T00:00:00",
          "1959-01-01T00:00:00",
          "1959-02-01T00:00:00",
          "1959-03-01T00:00:00",
          "1959-04-01T00:00:00",
          "1959-05-01T00:00:00",
          "1959-06-01T00:00:00",
          "1959-07-01T00:00:00",
          "1959-08-01T00:00:00",
          "1959-09-01T00:00:00",
          "1959-10-01T00:00:00",
          "1959-11-01T00:00:00",
          "1959-12-01T00:00:00",
          "1960-01-01T00:00:00",
          "1960-02-01T00:00:00",
          "1960-03-01T00:00:00",
          "1960-04-01T00:00:00",
          "1960-05-01T00:00:00",
          "1960-06-01T00:00:00",
          "1960-07-01T00:00:00",
          "1960-08-01T00:00:00",
          "1960-09-01T00:00:00",
          "1960-10-01T00:00:00",
          "1960-11-01T00:00:00",
          "1960-12-01T00:00:00",
          "1961-01-01T00:00:00",
          "1961-02-01T00:00:00",
          "1961-03-01T00:00:00",
          "1961-04-01T00:00:00",
          "1961-05-01T00:00:00",
          "1961-06-01T00:00:00",
          "1961-07-01T00:00:00",
          "1961-08-01T00:00:00",
          "1961-09-01T00:00:00",
          "1961-10-01T00:00:00",
          "1961-11-01T00:00:00",
          "1961-12-01T00:00:00",
          "1962-01-01T00:00:00",
          "1962-02-01T00:00:00",
          "1962-03-01T00:00:00",
          "1962-04-01T00:00:00",
          "1962-05-01T00:00:00",
          "1962-06-01T00:00:00",
          "1962-07-01T00:00:00",
          "1962-08-01T00:00:00",
          "1962-09-01T00:00:00",
          "1962-10-01T00:00:00",
          "1962-11-01T00:00:00",
          "1962-12-01T00:00:00",
          "1963-01-01T00:00:00",
          "1963-02-01T00:00:00",
          "1963-03-01T00:00:00",
          "1963-04-01T00:00:00",
          "1963-05-01T00:00:00",
          "1963-06-01T00:00:00",
          "1963-07-01T00:00:00",
          "1963-08-01T00:00:00",
          "1963-09-01T00:00:00",
          "1963-10-01T00:00:00",
          "1963-11-01T00:00:00",
          "1963-12-01T00:00:00"
         ],
         "y": [
          205.4978511514116,
          214.44344480159793,
          215.08972134655528,
          217.2439764964131,
          219.07509337379219,
          219.39823164627086,
          219.72136991874953,
          221.76791231111446,
          224.67615676342245,
          224.78386952091535,
          221.66019955362157,
          216.92083822393442,
          206.03641493887602,
          214.55115755909083,
          216.92083822393442,
          219.39823164627086,
          221.55248679612868,
          221.44477403863579,
          223.86988797390973,
          229.25536009066423,
          235.7179597823519,
          238.25078647511447,
          235.88094005238088,
          231.41243750810992,
          222.1435398275549,
          233.99721217215927,
          239.33405585887613,
          245.04266624811362,
          248.54490775831215,
          252.53011402765907,
          254.09352590298988,
          259.5867107772373,
          264.11048083405296,
          266.3201692543368,
          263.9503228316033,
          259.8049585598109,
          250.5360608792559,
          262.0621809469979,
          267.2315836180025,
          271.75093967043006,
          274.3872075035398,
          276.32145737614235,
          280.5734165716454,
          287.4624532889166,
          286.4830239309346,
          296.0183430218658,
          293.4286570797627,
          287.4479043134455,
          278.4977309009854,
          289.5974139431396,
          293.64170453994177,
          299.7811659591508,
          305.54537537670006,
          310.7154219784687,
          313.03282315624983,
          317.77201872804693,
          324.0191929047489,
          324.9363282351181,
          320.84307769249824,
          312.49691587848326,
          301.2891885630562,
          311.0963185152957,
          313.4172049922117,
          318.6949643514776,
          322.73576964914054,
          329.30608209831684,
          333.9931639409415,
          343.68714635741156,
          351.65772465399965,
          352.68257274186175,
          346.87194997145843,
          339.1640035970186,
          329.0394357486232,
          341.43770377279475,
          346.5228748441703,
          352.6683681554833,
          357.562814407706,
          363.6005949615206,
          370.7570091210995,
          383.0421296095016,
          393.3884204630372,
          395.0514839904733,
          387.4097443426909,
          377.5475428183932,
          366.99212394002626,
          379.0616460181494,
          385.28490550294384,
          391.53250389817447,
          396.63694888450885,
          403.0999727947307,
          411.2203749908661,
          424.03845159316296,
          435.45626234805775,
          435.3904949747335,
          425.9120307760022,
          413.4592962910011,
          401.2825783766711,
          413.24999537087103,
          418.33516644224665,
          425.77321284347425,
          431.31393564065434,
          439.18283307184805,
          448.27807686629893,
          462.93287801954466,
          477.04911538533145,
          477.0964875503741,
          466.4387906927908,
          450.97552577886285,
          436.7578731457377,
          447.0018860200514,
          450.25594021404794,
          455.1088804354462,
          457.956784295304,
          464.8562669090617,
          474.70550000596285,
          492.1608328540237,
          500.56285929441077,
          508.15555926223226,
          495.98988379974844,
          476.97209788855525,
          462.8621580129229,
          473.9678729471798,
          479.2684695335411,
          488.75305832713366,
          494.61691939679235,
          505.0709230078154,
          514.1661668022664,
          532.5909144677632,
          549.615396285858,
          550.6321832683367,
          537.497092988417,
          518.2638815622379,
          505.12335650404157,
          517.1928785821648,
          522.2312977345374,
          525.7860771924458,
          532.5062135411735,
          543.277747751111,
          557.7532026393268,
          577.1417574486899,
          593.6220678057505,
          592.6945983724831,
          577.3996452691358,
          556.1144646697178,
          541.0295023030798,
          551.748787847619,
          562.1260691483343,
          569.295800398522,
          574.3266431104129,
          578.8109746856212,
          582.594353669471,
          586.0791860395287,
          589.3974933725605,
          592.5239982924954,
          595.6459562223434,
          598.6626212189555,
          592.767408564206,
          603.7916291325381,
          606.5228103699191,
          609.4218615443682,
          613.201960399312,
          616.2679816555553,
          619.303862726892,
          622.4206888503871,
          625.4660720390139,
          628.4430255177997,
          631.4798384697625,
          634.4418262557261,
          628.5154443693781,
          639.5212469803399,
          642.24119761173,
          645.1336979337792,
          648.9098976498318,
          651.9735836291578,
          655.0080875640004,
          658.1240938262084,
          661.1689888310294,
          664.1456530815022,
          667.1822939867419,
          670.1441795038758
         ]
        },
        {
         "line": {
          "color": "rgba(250, 43, 20, 0.7)"
         },
         "marker": {
          "color": "rgba(250, 43, 20, 0.7)",
          "size": 2
         },
         "mode": "lines+markers",
         "name": "Actual",
         "opacity": 1,
         "type": "scatter",
         "x": [
          "1949-01-01T00:00:00",
          "1949-02-01T00:00:00",
          "1949-03-01T00:00:00",
          "1949-04-01T00:00:00",
          "1949-05-01T00:00:00",
          "1949-06-01T00:00:00",
          "1949-07-01T00:00:00",
          "1949-08-01T00:00:00",
          "1949-09-01T00:00:00",
          "1949-10-01T00:00:00",
          "1949-11-01T00:00:00",
          "1949-12-01T00:00:00",
          "1950-01-01T00:00:00",
          "1950-02-01T00:00:00",
          "1950-03-01T00:00:00",
          "1950-04-01T00:00:00",
          "1950-05-01T00:00:00",
          "1950-06-01T00:00:00",
          "1950-07-01T00:00:00",
          "1950-08-01T00:00:00",
          "1950-09-01T00:00:00",
          "1950-10-01T00:00:00",
          "1950-11-01T00:00:00",
          "1950-12-01T00:00:00",
          "1951-01-01T00:00:00",
          "1951-02-01T00:00:00",
          "1951-03-01T00:00:00",
          "1951-04-01T00:00:00",
          "1951-05-01T00:00:00",
          "1951-06-01T00:00:00",
          "1951-07-01T00:00:00",
          "1951-08-01T00:00:00",
          "1951-09-01T00:00:00",
          "1951-10-01T00:00:00",
          "1951-11-01T00:00:00",
          "1951-12-01T00:00:00",
          "1952-01-01T00:00:00",
          "1952-02-01T00:00:00",
          "1952-03-01T00:00:00",
          "1952-04-01T00:00:00",
          "1952-05-01T00:00:00",
          "1952-06-01T00:00:00",
          "1952-07-01T00:00:00",
          "1952-08-01T00:00:00",
          "1952-09-01T00:00:00",
          "1952-10-01T00:00:00",
          "1952-11-01T00:00:00",
          "1952-12-01T00:00:00",
          "1953-01-01T00:00:00",
          "1953-02-01T00:00:00",
          "1953-03-01T00:00:00",
          "1953-04-01T00:00:00",
          "1953-05-01T00:00:00",
          "1953-06-01T00:00:00",
          "1953-07-01T00:00:00",
          "1953-08-01T00:00:00",
          "1953-09-01T00:00:00",
          "1953-10-01T00:00:00",
          "1953-11-01T00:00:00",
          "1953-12-01T00:00:00",
          "1954-01-01T00:00:00",
          "1954-02-01T00:00:00",
          "1954-03-01T00:00:00",
          "1954-04-01T00:00:00",
          "1954-05-01T00:00:00",
          "1954-06-01T00:00:00",
          "1954-07-01T00:00:00",
          "1954-08-01T00:00:00",
          "1954-09-01T00:00:00",
          "1954-10-01T00:00:00",
          "1954-11-01T00:00:00",
          "1954-12-01T00:00:00",
          "1955-01-01T00:00:00",
          "1955-02-01T00:00:00",
          "1955-03-01T00:00:00",
          "1955-04-01T00:00:00",
          "1955-05-01T00:00:00",
          "1955-06-01T00:00:00",
          "1955-07-01T00:00:00",
          "1955-08-01T00:00:00",
          "1955-09-01T00:00:00",
          "1955-10-01T00:00:00",
          "1955-11-01T00:00:00",
          "1955-12-01T00:00:00",
          "1956-01-01T00:00:00",
          "1956-02-01T00:00:00",
          "1956-03-01T00:00:00",
          "1956-04-01T00:00:00",
          "1956-05-01T00:00:00",
          "1956-06-01T00:00:00",
          "1956-07-01T00:00:00",
          "1956-08-01T00:00:00",
          "1956-09-01T00:00:00",
          "1956-10-01T00:00:00",
          "1956-11-01T00:00:00",
          "1956-12-01T00:00:00",
          "1957-01-01T00:00:00",
          "1957-02-01T00:00:00",
          "1957-03-01T00:00:00",
          "1957-04-01T00:00:00",
          "1957-05-01T00:00:00",
          "1957-06-01T00:00:00",
          "1957-07-01T00:00:00",
          "1957-08-01T00:00:00",
          "1957-09-01T00:00:00",
          "1957-10-01T00:00:00",
          "1957-11-01T00:00:00",
          "1957-12-01T00:00:00",
          "1958-01-01T00:00:00",
          "1958-02-01T00:00:00",
          "1958-03-01T00:00:00",
          "1958-04-01T00:00:00",
          "1958-05-01T00:00:00",
          "1958-06-01T00:00:00",
          "1958-07-01T00:00:00",
          "1958-08-01T00:00:00",
          "1958-09-01T00:00:00",
          "1958-10-01T00:00:00",
          "1958-11-01T00:00:00",
          "1958-12-01T00:00:00",
          "1959-01-01T00:00:00",
          "1959-02-01T00:00:00",
          "1959-03-01T00:00:00",
          "1959-04-01T00:00:00",
          "1959-05-01T00:00:00",
          "1959-06-01T00:00:00",
          "1959-07-01T00:00:00",
          "1959-08-01T00:00:00",
          "1959-09-01T00:00:00",
          "1959-10-01T00:00:00",
          "1959-11-01T00:00:00",
          "1959-12-01T00:00:00",
          "1960-01-01T00:00:00",
          "1960-02-01T00:00:00",
          "1960-03-01T00:00:00",
          "1960-04-01T00:00:00",
          "1960-05-01T00:00:00",
          "1960-06-01T00:00:00",
          "1960-07-01T00:00:00",
          "1960-08-01T00:00:00",
          "1960-09-01T00:00:00",
          "1960-10-01T00:00:00",
          "1960-11-01T00:00:00",
          "1960-12-01T00:00:00",
          "1961-01-01T00:00:00",
          "1961-02-01T00:00:00",
          "1961-03-01T00:00:00",
          "1961-04-01T00:00:00",
          "1961-05-01T00:00:00",
          "1961-06-01T00:00:00",
          "1961-07-01T00:00:00",
          "1961-08-01T00:00:00",
          "1961-09-01T00:00:00",
          "1961-10-01T00:00:00",
          "1961-11-01T00:00:00",
          "1961-12-01T00:00:00",
          "1962-01-01T00:00:00",
          "1962-02-01T00:00:00",
          "1962-03-01T00:00:00",
          "1962-04-01T00:00:00",
          "1962-05-01T00:00:00",
          "1962-06-01T00:00:00",
          "1962-07-01T00:00:00",
          "1962-08-01T00:00:00",
          "1962-09-01T00:00:00",
          "1962-10-01T00:00:00",
          "1962-11-01T00:00:00",
          "1962-12-01T00:00:00",
          "1963-01-01T00:00:00",
          "1963-02-01T00:00:00",
          "1963-03-01T00:00:00",
          "1963-04-01T00:00:00",
          "1963-05-01T00:00:00",
          "1963-06-01T00:00:00",
          "1963-07-01T00:00:00",
          "1963-08-01T00:00:00",
          "1963-09-01T00:00:00",
          "1963-10-01T00:00:00",
          "1963-11-01T00:00:00",
          "1963-12-01T00:00:00"
         ],
         "y": [
          112,
          118,
          132,
          129,
          121,
          135,
          148,
          148,
          136,
          119,
          104,
          118,
          115,
          126,
          141,
          135,
          125,
          149,
          170,
          170,
          158,
          133,
          114,
          140,
          145,
          150,
          178,
          163,
          172,
          178,
          199,
          199,
          184,
          162,
          146,
          166,
          171,
          180,
          193,
          181,
          183,
          218,
          230,
          242,
          209,
          191,
          172,
          194,
          196,
          196,
          236,
          235,
          229,
          243,
          264,
          272,
          237,
          211,
          180,
          201,
          204,
          188,
          235,
          227,
          234,
          264,
          302,
          293,
          259,
          229,
          203,
          229,
          242,
          233,
          267,
          269,
          270,
          315,
          364,
          347,
          312,
          274,
          237,
          278,
          284,
          277,
          317,
          313,
          318,
          374,
          413,
          405,
          355,
          306,
          271,
          306,
          315,
          301,
          356,
          348,
          355,
          422,
          465,
          467,
          404,
          347,
          305,
          336,
          340,
          318,
          362,
          348,
          363,
          435,
          491,
          505,
          404,
          359,
          310,
          337,
          360,
          342,
          406,
          396,
          420,
          472,
          548,
          559,
          463,
          407,
          362,
          405,
          417,
          391,
          419,
          461,
          472,
          535,
          622,
          606,
          508,
          461,
          390,
          432,
          null,
          null,
          null,
          null,
          null,
          null,
          null,
          null,
          null,
          null,
          null,
          null,
          null,
          null,
          null,
          null,
          null,
          null,
          null,
          null,
          null,
          null,
          null,
          null,
          null,
          null,
          null,
          null,
          null,
          null,
          null,
          null,
          null,
          null,
          null,
          null
         ]
        },
        {
         "line": {
          "color": "rgba(0, 90, 181, 0.7)",
          "dash": "solid"
         },
         "name": "Forecast",
         "type": "scatter",
         "x": [
          "1949-01-01T00:00:00",
          "1949-02-01T00:00:00",
          "1949-03-01T00:00:00",
          "1949-04-01T00:00:00",
          "1949-05-01T00:00:00",
          "1949-06-01T00:00:00",
          "1949-07-01T00:00:00",
          "1949-08-01T00:00:00",
          "1949-09-01T00:00:00",
          "1949-10-01T00:00:00",
          "1949-11-01T00:00:00",
          "1949-12-01T00:00:00",
          "1950-01-01T00:00:00",
          "1950-02-01T00:00:00",
          "1950-03-01T00:00:00",
          "1950-04-01T00:00:00",
          "1950-05-01T00:00:00",
          "1950-06-01T00:00:00",
          "1950-07-01T00:00:00",
          "1950-08-01T00:00:00",
          "1950-09-01T00:00:00",
          "1950-10-01T00:00:00",
          "1950-11-01T00:00:00",
          "1950-12-01T00:00:00",
          "1951-01-01T00:00:00",
          "1951-02-01T00:00:00",
          "1951-03-01T00:00:00",
          "1951-04-01T00:00:00",
          "1951-05-01T00:00:00",
          "1951-06-01T00:00:00",
          "1951-07-01T00:00:00",
          "1951-08-01T00:00:00",
          "1951-09-01T00:00:00",
          "1951-10-01T00:00:00",
          "1951-11-01T00:00:00",
          "1951-12-01T00:00:00",
          "1952-01-01T00:00:00",
          "1952-02-01T00:00:00",
          "1952-03-01T00:00:00",
          "1952-04-01T00:00:00",
          "1952-05-01T00:00:00",
          "1952-06-01T00:00:00",
          "1952-07-01T00:00:00",
          "1952-08-01T00:00:00",
          "1952-09-01T00:00:00",
          "1952-10-01T00:00:00",
          "1952-11-01T00:00:00",
          "1952-12-01T00:00:00",
          "1953-01-01T00:00:00",
          "1953-02-01T00:00:00",
          "1953-03-01T00:00:00",
          "1953-04-01T00:00:00",
          "1953-05-01T00:00:00",
          "1953-06-01T00:00:00",
          "1953-07-01T00:00:00",
          "1953-08-01T00:00:00",
          "1953-09-01T00:00:00",
          "1953-10-01T00:00:00",
          "1953-11-01T00:00:00",
          "1953-12-01T00:00:00",
          "1954-01-01T00:00:00",
          "1954-02-01T00:00:00",
          "1954-03-01T00:00:00",
          "1954-04-01T00:00:00",
          "1954-05-01T00:00:00",
          "1954-06-01T00:00:00",
          "1954-07-01T00:00:00",
          "1954-08-01T00:00:00",
          "1954-09-01T00:00:00",
          "1954-10-01T00:00:00",
          "1954-11-01T00:00:00",
          "1954-12-01T00:00:00",
          "1955-01-01T00:00:00",
          "1955-02-01T00:00:00",
          "1955-03-01T00:00:00",
          "1955-04-01T00:00:00",
          "1955-05-01T00:00:00",
          "1955-06-01T00:00:00",
          "1955-07-01T00:00:00",
          "1955-08-01T00:00:00",
          "1955-09-01T00:00:00",
          "1955-10-01T00:00:00",
          "1955-11-01T00:00:00",
          "1955-12-01T00:00:00",
          "1956-01-01T00:00:00",
          "1956-02-01T00:00:00",
          "1956-03-01T00:00:00",
          "1956-04-01T00:00:00",
          "1956-05-01T00:00:00",
          "1956-06-01T00:00:00",
          "1956-07-01T00:00:00",
          "1956-08-01T00:00:00",
          "1956-09-01T00:00:00",
          "1956-10-01T00:00:00",
          "1956-11-01T00:00:00",
          "1956-12-01T00:00:00",
          "1957-01-01T00:00:00",
          "1957-02-01T00:00:00",
          "1957-03-01T00:00:00",
          "1957-04-01T00:00:00",
          "1957-05-01T00:00:00",
          "1957-06-01T00:00:00",
          "1957-07-01T00:00:00",
          "1957-08-01T00:00:00",
          "1957-09-01T00:00:00",
          "1957-10-01T00:00:00",
          "1957-11-01T00:00:00",
          "1957-12-01T00:00:00",
          "1958-01-01T00:00:00",
          "1958-02-01T00:00:00",
          "1958-03-01T00:00:00",
          "1958-04-01T00:00:00",
          "1958-05-01T00:00:00",
          "1958-06-01T00:00:00",
          "1958-07-01T00:00:00",
          "1958-08-01T00:00:00",
          "1958-09-01T00:00:00",
          "1958-10-01T00:00:00",
          "1958-11-01T00:00:00",
          "1958-12-01T00:00:00",
          "1959-01-01T00:00:00",
          "1959-02-01T00:00:00",
          "1959-03-01T00:00:00",
          "1959-04-01T00:00:00",
          "1959-05-01T00:00:00",
          "1959-06-01T00:00:00",
          "1959-07-01T00:00:00",
          "1959-08-01T00:00:00",
          "1959-09-01T00:00:00",
          "1959-10-01T00:00:00",
          "1959-11-01T00:00:00",
          "1959-12-01T00:00:00",
          "1960-01-01T00:00:00",
          "1960-02-01T00:00:00",
          "1960-03-01T00:00:00",
          "1960-04-01T00:00:00",
          "1960-05-01T00:00:00",
          "1960-06-01T00:00:00",
          "1960-07-01T00:00:00",
          "1960-08-01T00:00:00",
          "1960-09-01T00:00:00",
          "1960-10-01T00:00:00",
          "1960-11-01T00:00:00",
          "1960-12-01T00:00:00",
          "1961-01-01T00:00:00",
          "1961-02-01T00:00:00",
          "1961-03-01T00:00:00",
          "1961-04-01T00:00:00",
          "1961-05-01T00:00:00",
          "1961-06-01T00:00:00",
          "1961-07-01T00:00:00",
          "1961-08-01T00:00:00",
          "1961-09-01T00:00:00",
          "1961-10-01T00:00:00",
          "1961-11-01T00:00:00",
          "1961-12-01T00:00:00",
          "1962-01-01T00:00:00",
          "1962-02-01T00:00:00",
          "1962-03-01T00:00:00",
          "1962-04-01T00:00:00",
          "1962-05-01T00:00:00",
          "1962-06-01T00:00:00",
          "1962-07-01T00:00:00",
          "1962-08-01T00:00:00",
          "1962-09-01T00:00:00",
          "1962-10-01T00:00:00",
          "1962-11-01T00:00:00",
          "1962-12-01T00:00:00",
          "1963-01-01T00:00:00",
          "1963-02-01T00:00:00",
          "1963-03-01T00:00:00",
          "1963-04-01T00:00:00",
          "1963-05-01T00:00:00",
          "1963-06-01T00:00:00",
          "1963-07-01T00:00:00",
          "1963-08-01T00:00:00",
          "1963-09-01T00:00:00",
          "1963-10-01T00:00:00",
          "1963-11-01T00:00:00",
          "1963-12-01T00:00:00"
         ],
         "y": [
          122.88075719519715,
          131.8263508453835,
          132.47262739034085,
          134.62688254019864,
          136.45799941757775,
          136.78113769005643,
          137.1042759625351,
          139.1508183549,
          142.05906280720802,
          142.1667755647009,
          139.0431055974071,
          134.30374426771996,
          123.41932098266159,
          131.9340636028764,
          134.30374426771996,
          136.78113769005643,
          138.93539283991421,
          138.82768008242132,
          141.2527940176953,
          146.63826613444976,
          153.10086582613746,
          155.6336925189,
          153.26384609616642,
          148.79534355189546,
          139.52644587134043,
          151.3801182159448,
          156.7169619026617,
          162.4255722918992,
          165.92781380209772,
          169.91302007144463,
          171.47643194677545,
          176.96961682102284,
          181.49338687783853,
          183.70307529812237,
          181.3332288753888,
          177.1878646035965,
          167.91896692304147,
          179.44508699078344,
          184.61448966178804,
          189.13384571421562,
          191.77011354732534,
          193.70436341992792,
          197.95632261543096,
          204.84535933270215,
          203.8659299747202,
          213.40124906565134,
          210.81156312354824,
          204.8308103572311,
          195.88063694477097,
          206.98031998692514,
          211.02461058372734,
          217.1640720029364,
          222.9282814204856,
          228.0983280222543,
          230.41572920003537,
          235.1549247718325,
          241.40209894853444,
          242.31923427890362,
          238.2259837362838,
          229.87982192226883,
          218.67209460684177,
          228.47922455908125,
          230.80011103599725,
          236.07787039526318,
          240.1186756929261,
          246.6889881421024,
          251.37606998472702,
          261.07005240119713,
          269.0406306977852,
          270.0654787856473,
          264.254856015244,
          256.5469096408042,
          246.42234179240876,
          258.8206098165803,
          263.90578088795587,
          270.05127419926885,
          274.9457204514916,
          280.98350100530615,
          288.13991516488505,
          300.4250356532872,
          310.7713265068228,
          312.43439003425885,
          304.79265038647645,
          294.93044886217876,
          284.3750299838118,
          296.444552061935,
          302.6678115467294,
          308.91540994196004,
          314.0198549282944,
          320.4828788385163,
          328.6032810346517,
          341.4213576369485,
          352.8391683918433,
          352.77340101851905,
          343.2949368197878,
          330.8422023347867,
          318.66548442045666,
          330.6329014146566,
          335.7180724860322,
          343.1561188872598,
          348.6968416844399,
          356.5657391156336,
          365.6609829100845,
          380.3157840633302,
          394.432021429117,
          394.47939359415966,
          383.82169673657637,
          368.3584318226484,
          354.14077918952324,
          364.384792063837,
          367.6388462578335,
          372.4917864792318,
          375.33969033908954,
          382.23917295284724,
          392.0884060497484,
          409.54373889780925,
          417.94576533819634,
          425.5384653060178,
          413.372789843534,
          394.3550039323408,
          380.2450640567085,
          391.35077899096535,
          396.6513755773267,
          406.1359643709192,
          411.9998254405779,
          422.45382905160096,
          431.5490728460519,
          449.9738205115488,
          466.99830232964354,
          468.01508931212226,
          454.8799990322025,
          435.64678760602345,
          422.50626254782713,
          434.5757846259503,
          439.6142037783229,
          443.16898323623127,
          449.889119584959,
          460.6606537948965,
          475.1361086831123,
          494.52466349247544,
          511.00497384953604,
          510.07750441626865,
          494.7825513129214,
          473.4973707135033,
          458.4124083468653,
          469.13169389140455,
          479.50897519211986,
          486.67870644230754,
          491.7095491541984,
          496.19388072940677,
          499.9772597132566,
          503.46209208331425,
          506.78039941634603,
          509.90690433628095,
          513.028862266129,
          516.045527262741,
          510.15031460799156,
          521.1745351763236,
          523.9057164137046,
          526.8047675881537,
          530.5848664430976,
          533.6508876993408,
          536.6867687706775,
          539.8035948941726,
          542.8489780827994,
          545.8259315615852,
          548.862744513548,
          551.8247322995117,
          545.8983504131636,
          556.9041530241254,
          559.6241036555155,
          562.5166039775647,
          566.2928036936173,
          569.3564896729433,
          572.390993607786,
          575.5069998699939,
          578.5518948748149,
          581.5285591252878,
          584.5652000305274,
          587.5270855476613
         ]
        }
       ],
       "layout": {
        "annotations": [
         {
          "arrowhead": 0,
          "ax": -60,
          "ay": 0,
          "showarrow": true,
          "text": "Train End Date",
          "x": "1960-12-01T00:00:00",
          "xref": "x",
          "y": 0.97,
          "yref": "paper"
         }
        ],
        "legend": {
         "traceorder": "reversed"
        },
        "shapes": [
         {
          "line": {
           "color": "rgba(100, 100, 100, 0.9)",
           "width": 1
          },
          "type": "line",
          "x0": "1960-12-01T00:00:00",
          "x1": "1960-12-01T00:00:00",
          "xref": "x",
          "y0": 0,
          "y1": 1,
          "yref": "paper"
         }
        ],
        "showlegend": true,
        "template": {
         "data": {
          "bar": [
           {
            "error_x": {
             "color": "#2a3f5f"
            },
            "error_y": {
             "color": "#2a3f5f"
            },
            "marker": {
             "line": {
              "color": "#E5ECF6",
              "width": 0.5
             },
             "pattern": {
              "fillmode": "overlay",
              "size": 10,
              "solidity": 0.2
             }
            },
            "type": "bar"
           }
          ],
          "barpolar": [
           {
            "marker": {
             "line": {
              "color": "#E5ECF6",
              "width": 0.5
             },
             "pattern": {
              "fillmode": "overlay",
              "size": 10,
              "solidity": 0.2
             }
            },
            "type": "barpolar"
           }
          ],
          "carpet": [
           {
            "aaxis": {
             "endlinecolor": "#2a3f5f",
             "gridcolor": "white",
             "linecolor": "white",
             "minorgridcolor": "white",
             "startlinecolor": "#2a3f5f"
            },
            "baxis": {
             "endlinecolor": "#2a3f5f",
             "gridcolor": "white",
             "linecolor": "white",
             "minorgridcolor": "white",
             "startlinecolor": "#2a3f5f"
            },
            "type": "carpet"
           }
          ],
          "choropleth": [
           {
            "colorbar": {
             "outlinewidth": 0,
             "ticks": ""
            },
            "type": "choropleth"
           }
          ],
          "contour": [
           {
            "colorbar": {
             "outlinewidth": 0,
             "ticks": ""
            },
            "colorscale": [
             [
              0,
              "#0d0887"
             ],
             [
              0.1111111111111111,
              "#46039f"
             ],
             [
              0.2222222222222222,
              "#7201a8"
             ],
             [
              0.3333333333333333,
              "#9c179e"
             ],
             [
              0.4444444444444444,
              "#bd3786"
             ],
             [
              0.5555555555555556,
              "#d8576b"
             ],
             [
              0.6666666666666666,
              "#ed7953"
             ],
             [
              0.7777777777777778,
              "#fb9f3a"
             ],
             [
              0.8888888888888888,
              "#fdca26"
             ],
             [
              1,
              "#f0f921"
             ]
            ],
            "type": "contour"
           }
          ],
          "contourcarpet": [
           {
            "colorbar": {
             "outlinewidth": 0,
             "ticks": ""
            },
            "type": "contourcarpet"
           }
          ],
          "heatmap": [
           {
            "colorbar": {
             "outlinewidth": 0,
             "ticks": ""
            },
            "colorscale": [
             [
              0,
              "#0d0887"
             ],
             [
              0.1111111111111111,
              "#46039f"
             ],
             [
              0.2222222222222222,
              "#7201a8"
             ],
             [
              0.3333333333333333,
              "#9c179e"
             ],
             [
              0.4444444444444444,
              "#bd3786"
             ],
             [
              0.5555555555555556,
              "#d8576b"
             ],
             [
              0.6666666666666666,
              "#ed7953"
             ],
             [
              0.7777777777777778,
              "#fb9f3a"
             ],
             [
              0.8888888888888888,
              "#fdca26"
             ],
             [
              1,
              "#f0f921"
             ]
            ],
            "type": "heatmap"
           }
          ],
          "heatmapgl": [
           {
            "colorbar": {
             "outlinewidth": 0,
             "ticks": ""
            },
            "colorscale": [
             [
              0,
              "#0d0887"
             ],
             [
              0.1111111111111111,
              "#46039f"
             ],
             [
              0.2222222222222222,
              "#7201a8"
             ],
             [
              0.3333333333333333,
              "#9c179e"
             ],
             [
              0.4444444444444444,
              "#bd3786"
             ],
             [
              0.5555555555555556,
              "#d8576b"
             ],
             [
              0.6666666666666666,
              "#ed7953"
             ],
             [
              0.7777777777777778,
              "#fb9f3a"
             ],
             [
              0.8888888888888888,
              "#fdca26"
             ],
             [
              1,
              "#f0f921"
             ]
            ],
            "type": "heatmapgl"
           }
          ],
          "histogram": [
           {
            "marker": {
             "pattern": {
              "fillmode": "overlay",
              "size": 10,
              "solidity": 0.2
             }
            },
            "type": "histogram"
           }
          ],
          "histogram2d": [
           {
            "colorbar": {
             "outlinewidth": 0,
             "ticks": ""
            },
            "colorscale": [
             [
              0,
              "#0d0887"
             ],
             [
              0.1111111111111111,
              "#46039f"
             ],
             [
              0.2222222222222222,
              "#7201a8"
             ],
             [
              0.3333333333333333,
              "#9c179e"
             ],
             [
              0.4444444444444444,
              "#bd3786"
             ],
             [
              0.5555555555555556,
              "#d8576b"
             ],
             [
              0.6666666666666666,
              "#ed7953"
             ],
             [
              0.7777777777777778,
              "#fb9f3a"
             ],
             [
              0.8888888888888888,
              "#fdca26"
             ],
             [
              1,
              "#f0f921"
             ]
            ],
            "type": "histogram2d"
           }
          ],
          "histogram2dcontour": [
           {
            "colorbar": {
             "outlinewidth": 0,
             "ticks": ""
            },
            "colorscale": [
             [
              0,
              "#0d0887"
             ],
             [
              0.1111111111111111,
              "#46039f"
             ],
             [
              0.2222222222222222,
              "#7201a8"
             ],
             [
              0.3333333333333333,
              "#9c179e"
             ],
             [
              0.4444444444444444,
              "#bd3786"
             ],
             [
              0.5555555555555556,
              "#d8576b"
             ],
             [
              0.6666666666666666,
              "#ed7953"
             ],
             [
              0.7777777777777778,
              "#fb9f3a"
             ],
             [
              0.8888888888888888,
              "#fdca26"
             ],
             [
              1,
              "#f0f921"
             ]
            ],
            "type": "histogram2dcontour"
           }
          ],
          "mesh3d": [
           {
            "colorbar": {
             "outlinewidth": 0,
             "ticks": ""
            },
            "type": "mesh3d"
           }
          ],
          "parcoords": [
           {
            "line": {
             "colorbar": {
              "outlinewidth": 0,
              "ticks": ""
             }
            },
            "type": "parcoords"
           }
          ],
          "pie": [
           {
            "automargin": true,
            "type": "pie"
           }
          ],
          "scatter": [
           {
            "fillpattern": {
             "fillmode": "overlay",
             "size": 10,
             "solidity": 0.2
            },
            "type": "scatter"
           }
          ],
          "scatter3d": [
           {
            "line": {
             "colorbar": {
              "outlinewidth": 0,
              "ticks": ""
             }
            },
            "marker": {
             "colorbar": {
              "outlinewidth": 0,
              "ticks": ""
             }
            },
            "type": "scatter3d"
           }
          ],
          "scattercarpet": [
           {
            "marker": {
             "colorbar": {
              "outlinewidth": 0,
              "ticks": ""
             }
            },
            "type": "scattercarpet"
           }
          ],
          "scattergeo": [
           {
            "marker": {
             "colorbar": {
              "outlinewidth": 0,
              "ticks": ""
             }
            },
            "type": "scattergeo"
           }
          ],
          "scattergl": [
           {
            "marker": {
             "colorbar": {
              "outlinewidth": 0,
              "ticks": ""
             }
            },
            "type": "scattergl"
           }
          ],
          "scattermapbox": [
           {
            "marker": {
             "colorbar": {
              "outlinewidth": 0,
              "ticks": ""
             }
            },
            "type": "scattermapbox"
           }
          ],
          "scatterpolar": [
           {
            "marker": {
             "colorbar": {
              "outlinewidth": 0,
              "ticks": ""
             }
            },
            "type": "scatterpolar"
           }
          ],
          "scatterpolargl": [
           {
            "marker": {
             "colorbar": {
              "outlinewidth": 0,
              "ticks": ""
             }
            },
            "type": "scatterpolargl"
           }
          ],
          "scatterternary": [
           {
            "marker": {
             "colorbar": {
              "outlinewidth": 0,
              "ticks": ""
             }
            },
            "type": "scatterternary"
           }
          ],
          "surface": [
           {
            "colorbar": {
             "outlinewidth": 0,
             "ticks": ""
            },
            "colorscale": [
             [
              0,
              "#0d0887"
             ],
             [
              0.1111111111111111,
              "#46039f"
             ],
             [
              0.2222222222222222,
              "#7201a8"
             ],
             [
              0.3333333333333333,
              "#9c179e"
             ],
             [
              0.4444444444444444,
              "#bd3786"
             ],
             [
              0.5555555555555556,
              "#d8576b"
             ],
             [
              0.6666666666666666,
              "#ed7953"
             ],
             [
              0.7777777777777778,
              "#fb9f3a"
             ],
             [
              0.8888888888888888,
              "#fdca26"
             ],
             [
              1,
              "#f0f921"
             ]
            ],
            "type": "surface"
           }
          ],
          "table": [
           {
            "cells": {
             "fill": {
              "color": "#EBF0F8"
             },
             "line": {
              "color": "white"
             }
            },
            "header": {
             "fill": {
              "color": "#C8D4E3"
             },
             "line": {
              "color": "white"
             }
            },
            "type": "table"
           }
          ]
         },
         "layout": {
          "annotationdefaults": {
           "arrowcolor": "#2a3f5f",
           "arrowhead": 0,
           "arrowwidth": 1
          },
          "autotypenumbers": "strict",
          "coloraxis": {
           "colorbar": {
            "outlinewidth": 0,
            "ticks": ""
           }
          },
          "colorscale": {
           "diverging": [
            [
             0,
             "#8e0152"
            ],
            [
             0.1,
             "#c51b7d"
            ],
            [
             0.2,
             "#de77ae"
            ],
            [
             0.3,
             "#f1b6da"
            ],
            [
             0.4,
             "#fde0ef"
            ],
            [
             0.5,
             "#f7f7f7"
            ],
            [
             0.6,
             "#e6f5d0"
            ],
            [
             0.7,
             "#b8e186"
            ],
            [
             0.8,
             "#7fbc41"
            ],
            [
             0.9,
             "#4d9221"
            ],
            [
             1,
             "#276419"
            ]
           ],
           "sequential": [
            [
             0,
             "#0d0887"
            ],
            [
             0.1111111111111111,
             "#46039f"
            ],
            [
             0.2222222222222222,
             "#7201a8"
            ],
            [
             0.3333333333333333,
             "#9c179e"
            ],
            [
             0.4444444444444444,
             "#bd3786"
            ],
            [
             0.5555555555555556,
             "#d8576b"
            ],
            [
             0.6666666666666666,
             "#ed7953"
            ],
            [
             0.7777777777777778,
             "#fb9f3a"
            ],
            [
             0.8888888888888888,
             "#fdca26"
            ],
            [
             1,
             "#f0f921"
            ]
           ],
           "sequentialminus": [
            [
             0,
             "#0d0887"
            ],
            [
             0.1111111111111111,
             "#46039f"
            ],
            [
             0.2222222222222222,
             "#7201a8"
            ],
            [
             0.3333333333333333,
             "#9c179e"
            ],
            [
             0.4444444444444444,
             "#bd3786"
            ],
            [
             0.5555555555555556,
             "#d8576b"
            ],
            [
             0.6666666666666666,
             "#ed7953"
            ],
            [
             0.7777777777777778,
             "#fb9f3a"
            ],
            [
             0.8888888888888888,
             "#fdca26"
            ],
            [
             1,
             "#f0f921"
            ]
           ]
          },
          "colorway": [
           "#636efa",
           "#EF553B",
           "#00cc96",
           "#ab63fa",
           "#FFA15A",
           "#19d3f3",
           "#FF6692",
           "#B6E880",
           "#FF97FF",
           "#FECB52"
          ],
          "font": {
           "color": "#2a3f5f"
          },
          "geo": {
           "bgcolor": "white",
           "lakecolor": "white",
           "landcolor": "#E5ECF6",
           "showlakes": true,
           "showland": true,
           "subunitcolor": "white"
          },
          "hoverlabel": {
           "align": "left"
          },
          "hovermode": "closest",
          "mapbox": {
           "style": "light"
          },
          "paper_bgcolor": "white",
          "plot_bgcolor": "#E5ECF6",
          "polar": {
           "angularaxis": {
            "gridcolor": "white",
            "linecolor": "white",
            "ticks": ""
           },
           "bgcolor": "#E5ECF6",
           "radialaxis": {
            "gridcolor": "white",
            "linecolor": "white",
            "ticks": ""
           }
          },
          "scene": {
           "xaxis": {
            "backgroundcolor": "#E5ECF6",
            "gridcolor": "white",
            "gridwidth": 2,
            "linecolor": "white",
            "showbackground": true,
            "ticks": "",
            "zerolinecolor": "white"
           },
           "yaxis": {
            "backgroundcolor": "#E5ECF6",
            "gridcolor": "white",
            "gridwidth": 2,
            "linecolor": "white",
            "showbackground": true,
            "ticks": "",
            "zerolinecolor": "white"
           },
           "zaxis": {
            "backgroundcolor": "#E5ECF6",
            "gridcolor": "white",
            "gridwidth": 2,
            "linecolor": "white",
            "showbackground": true,
            "ticks": "",
            "zerolinecolor": "white"
           }
          },
          "shapedefaults": {
           "line": {
            "color": "#2a3f5f"
           }
          },
          "ternary": {
           "aaxis": {
            "gridcolor": "white",
            "linecolor": "white",
            "ticks": ""
           },
           "baxis": {
            "gridcolor": "white",
            "linecolor": "white",
            "ticks": ""
           },
           "bgcolor": "#E5ECF6",
           "caxis": {
            "gridcolor": "white",
            "linecolor": "white",
            "ticks": ""
           }
          },
          "title": {
           "x": 0.05
          },
          "xaxis": {
           "automargin": true,
           "gridcolor": "white",
           "linecolor": "white",
           "ticks": "",
           "title": {
            "standoff": 15
           },
           "zerolinecolor": "white",
           "zerolinewidth": 2
          },
          "yaxis": {
           "automargin": true,
           "gridcolor": "white",
           "linecolor": "white",
           "ticks": "",
           "title": {
            "standoff": 15
           },
           "zerolinecolor": "white",
           "zerolinewidth": 2
          }
         }
        },
        "title": {
         "text": "Forecast vs Actual",
         "x": 0.5
        },
        "xaxis": {
         "title": {
          "text": "ts"
         }
        },
        "yaxis": {
         "title": {
          "text": "#Passengers"
         }
        }
       }
      }
     },
     "metadata": {},
     "output_type": "display_data"
    }
   ],
   "source": [
    "fig = forecast.plot()\n",
    "iplot(fig)"
   ]
  },
  {
   "cell_type": "code",
   "execution_count": 12,
   "metadata": {},
   "outputs": [
    {
     "data": {
      "application/vnd.plotly.v1+json": {
       "config": {
        "linkText": "Export to plot.ly",
        "plotlyServerURL": "https://plot.ly",
        "showLink": false
       },
       "data": [
        {
         "line": {
          "color": "rgb(127, 60, 141)"
         },
         "name": "Intercept",
         "opacity": 0.8,
         "type": "scatter",
         "x": [
          "1949-01-01T00:00:00",
          "1949-02-01T00:00:00",
          "1949-03-01T00:00:00",
          "1949-04-01T00:00:00",
          "1949-05-01T00:00:00",
          "1949-06-01T00:00:00",
          "1949-07-01T00:00:00",
          "1949-08-01T00:00:00",
          "1949-09-01T00:00:00",
          "1949-10-01T00:00:00",
          "1949-11-01T00:00:00",
          "1949-12-01T00:00:00",
          "1950-01-01T00:00:00",
          "1950-02-01T00:00:00",
          "1950-03-01T00:00:00",
          "1950-04-01T00:00:00",
          "1950-05-01T00:00:00",
          "1950-06-01T00:00:00",
          "1950-07-01T00:00:00",
          "1950-08-01T00:00:00",
          "1950-09-01T00:00:00",
          "1950-10-01T00:00:00",
          "1950-11-01T00:00:00",
          "1950-12-01T00:00:00",
          "1951-01-01T00:00:00",
          "1951-02-01T00:00:00",
          "1951-03-01T00:00:00",
          "1951-04-01T00:00:00",
          "1951-05-01T00:00:00",
          "1951-06-01T00:00:00",
          "1951-07-01T00:00:00",
          "1951-08-01T00:00:00",
          "1951-09-01T00:00:00",
          "1951-10-01T00:00:00",
          "1951-11-01T00:00:00",
          "1951-12-01T00:00:00",
          "1952-01-01T00:00:00",
          "1952-02-01T00:00:00",
          "1952-03-01T00:00:00",
          "1952-04-01T00:00:00",
          "1952-05-01T00:00:00",
          "1952-06-01T00:00:00",
          "1952-07-01T00:00:00",
          "1952-08-01T00:00:00",
          "1952-09-01T00:00:00",
          "1952-10-01T00:00:00",
          "1952-11-01T00:00:00",
          "1952-12-01T00:00:00",
          "1953-01-01T00:00:00",
          "1953-02-01T00:00:00",
          "1953-03-01T00:00:00",
          "1953-04-01T00:00:00",
          "1953-05-01T00:00:00",
          "1953-06-01T00:00:00",
          "1953-07-01T00:00:00",
          "1953-08-01T00:00:00",
          "1953-09-01T00:00:00",
          "1953-10-01T00:00:00",
          "1953-11-01T00:00:00",
          "1953-12-01T00:00:00",
          "1954-01-01T00:00:00",
          "1954-02-01T00:00:00",
          "1954-03-01T00:00:00",
          "1954-04-01T00:00:00",
          "1954-05-01T00:00:00",
          "1954-06-01T00:00:00",
          "1954-07-01T00:00:00",
          "1954-08-01T00:00:00",
          "1954-09-01T00:00:00",
          "1954-10-01T00:00:00",
          "1954-11-01T00:00:00",
          "1954-12-01T00:00:00",
          "1955-01-01T00:00:00",
          "1955-02-01T00:00:00",
          "1955-03-01T00:00:00",
          "1955-04-01T00:00:00",
          "1955-05-01T00:00:00",
          "1955-06-01T00:00:00",
          "1955-07-01T00:00:00",
          "1955-08-01T00:00:00",
          "1955-09-01T00:00:00",
          "1955-10-01T00:00:00",
          "1955-11-01T00:00:00",
          "1955-12-01T00:00:00",
          "1956-01-01T00:00:00",
          "1956-02-01T00:00:00",
          "1956-03-01T00:00:00",
          "1956-04-01T00:00:00",
          "1956-05-01T00:00:00",
          "1956-06-01T00:00:00",
          "1956-07-01T00:00:00",
          "1956-08-01T00:00:00",
          "1956-09-01T00:00:00",
          "1956-10-01T00:00:00",
          "1956-11-01T00:00:00",
          "1956-12-01T00:00:00",
          "1957-01-01T00:00:00",
          "1957-02-01T00:00:00",
          "1957-03-01T00:00:00",
          "1957-04-01T00:00:00",
          "1957-05-01T00:00:00",
          "1957-06-01T00:00:00",
          "1957-07-01T00:00:00",
          "1957-08-01T00:00:00",
          "1957-09-01T00:00:00",
          "1957-10-01T00:00:00",
          "1957-11-01T00:00:00",
          "1957-12-01T00:00:00",
          "1958-01-01T00:00:00",
          "1958-02-01T00:00:00",
          "1958-03-01T00:00:00",
          "1958-04-01T00:00:00",
          "1958-05-01T00:00:00",
          "1958-06-01T00:00:00",
          "1958-07-01T00:00:00",
          "1958-08-01T00:00:00",
          "1958-09-01T00:00:00",
          "1958-10-01T00:00:00",
          "1958-11-01T00:00:00",
          "1958-12-01T00:00:00",
          "1959-01-01T00:00:00",
          "1959-02-01T00:00:00",
          "1959-03-01T00:00:00",
          "1959-04-01T00:00:00",
          "1959-05-01T00:00:00",
          "1959-06-01T00:00:00",
          "1959-07-01T00:00:00",
          "1959-08-01T00:00:00",
          "1959-09-01T00:00:00",
          "1959-10-01T00:00:00",
          "1959-11-01T00:00:00",
          "1959-12-01T00:00:00",
          "1960-01-01T00:00:00",
          "1960-02-01T00:00:00",
          "1960-03-01T00:00:00",
          "1960-04-01T00:00:00",
          "1960-05-01T00:00:00",
          "1960-06-01T00:00:00",
          "1960-07-01T00:00:00",
          "1960-08-01T00:00:00",
          "1960-09-01T00:00:00",
          "1960-10-01T00:00:00",
          "1960-11-01T00:00:00",
          "1960-12-01T00:00:00"
         ],
         "xaxis": "x",
         "y": [
          280.2986111111111,
          280.2986111111111,
          280.2986111111111,
          280.2986111111111,
          280.2986111111111,
          280.2986111111111,
          280.2986111111111,
          280.2986111111111,
          280.2986111111111,
          280.2986111111111,
          280.2986111111111,
          280.2986111111111,
          280.2986111111111,
          280.2986111111111,
          280.2986111111111,
          280.2986111111111,
          280.2986111111111,
          280.2986111111111,
          280.2986111111111,
          280.2986111111111,
          280.2986111111111,
          280.2986111111111,
          280.2986111111111,
          280.2986111111111,
          280.2986111111111,
          280.2986111111111,
          280.2986111111111,
          280.2986111111111,
          280.2986111111111,
          280.2986111111111,
          280.2986111111111,
          280.2986111111111,
          280.2986111111111,
          280.2986111111111,
          280.2986111111111,
          280.2986111111111,
          280.2986111111111,
          280.2986111111111,
          280.2986111111111,
          280.2986111111111,
          280.2986111111111,
          280.2986111111111,
          280.2986111111111,
          280.2986111111111,
          280.2986111111111,
          280.2986111111111,
          280.2986111111111,
          280.2986111111111,
          280.2986111111111,
          280.2986111111111,
          280.2986111111111,
          280.2986111111111,
          280.2986111111111,
          280.2986111111111,
          280.2986111111111,
          280.2986111111111,
          280.2986111111111,
          280.2986111111111,
          280.2986111111111,
          280.2986111111111,
          280.2986111111111,
          280.2986111111111,
          280.2986111111111,
          280.2986111111111,
          280.2986111111111,
          280.2986111111111,
          280.2986111111111,
          280.2986111111111,
          280.2986111111111,
          280.2986111111111,
          280.2986111111111,
          280.2986111111111,
          280.2986111111111,
          280.2986111111111,
          280.2986111111111,
          280.2986111111111,
          280.2986111111111,
          280.2986111111111,
          280.2986111111111,
          280.2986111111111,
          280.2986111111111,
          280.2986111111111,
          280.2986111111111,
          280.2986111111111,
          280.2986111111111,
          280.2986111111111,
          280.2986111111111,
          280.2986111111111,
          280.2986111111111,
          280.2986111111111,
          280.2986111111111,
          280.2986111111111,
          280.2986111111111,
          280.2986111111111,
          280.2986111111111,
          280.2986111111111,
          280.2986111111111,
          280.2986111111111,
          280.2986111111111,
          280.2986111111111,
          280.2986111111111,
          280.2986111111111,
          280.2986111111111,
          280.2986111111111,
          280.2986111111111,
          280.2986111111111,
          280.2986111111111,
          280.2986111111111,
          280.2986111111111,
          280.2986111111111,
          280.2986111111111,
          280.2986111111111,
          280.2986111111111,
          280.2986111111111,
          280.2986111111111,
          280.2986111111111,
          280.2986111111111,
          280.2986111111111,
          280.2986111111111,
          280.2986111111111,
          280.2986111111111,
          280.2986111111111,
          280.2986111111111,
          280.2986111111111,
          280.2986111111111,
          280.2986111111111,
          280.2986111111111,
          280.2986111111111,
          280.2986111111111,
          280.2986111111111,
          280.2986111111111,
          280.2986111111111,
          280.2986111111111,
          280.2986111111111,
          280.2986111111111,
          280.2986111111111,
          280.2986111111111,
          280.2986111111111,
          280.2986111111111,
          280.2986111111111,
          280.2986111111111,
          280.2986111111111,
          280.2986111111111,
          280.2986111111111
         ],
         "yaxis": "y"
        },
        {
         "line": {
          "color": "rgb(17, 165, 121)"
         },
         "name": "Regressors",
         "opacity": 0.8,
         "type": "scatter",
         "x": [
          "1949-01-01T00:00:00",
          "1949-02-01T00:00:00",
          "1949-03-01T00:00:00",
          "1949-04-01T00:00:00",
          "1949-05-01T00:00:00",
          "1949-06-01T00:00:00",
          "1949-07-01T00:00:00",
          "1949-08-01T00:00:00",
          "1949-09-01T00:00:00",
          "1949-10-01T00:00:00",
          "1949-11-01T00:00:00",
          "1949-12-01T00:00:00",
          "1950-01-01T00:00:00",
          "1950-02-01T00:00:00",
          "1950-03-01T00:00:00",
          "1950-04-01T00:00:00",
          "1950-05-01T00:00:00",
          "1950-06-01T00:00:00",
          "1950-07-01T00:00:00",
          "1950-08-01T00:00:00",
          "1950-09-01T00:00:00",
          "1950-10-01T00:00:00",
          "1950-11-01T00:00:00",
          "1950-12-01T00:00:00",
          "1951-01-01T00:00:00",
          "1951-02-01T00:00:00",
          "1951-03-01T00:00:00",
          "1951-04-01T00:00:00",
          "1951-05-01T00:00:00",
          "1951-06-01T00:00:00",
          "1951-07-01T00:00:00",
          "1951-08-01T00:00:00",
          "1951-09-01T00:00:00",
          "1951-10-01T00:00:00",
          "1951-11-01T00:00:00",
          "1951-12-01T00:00:00",
          "1952-01-01T00:00:00",
          "1952-02-01T00:00:00",
          "1952-03-01T00:00:00",
          "1952-04-01T00:00:00",
          "1952-05-01T00:00:00",
          "1952-06-01T00:00:00",
          "1952-07-01T00:00:00",
          "1952-08-01T00:00:00",
          "1952-09-01T00:00:00",
          "1952-10-01T00:00:00",
          "1952-11-01T00:00:00",
          "1952-12-01T00:00:00",
          "1953-01-01T00:00:00",
          "1953-02-01T00:00:00",
          "1953-03-01T00:00:00",
          "1953-04-01T00:00:00",
          "1953-05-01T00:00:00",
          "1953-06-01T00:00:00",
          "1953-07-01T00:00:00",
          "1953-08-01T00:00:00",
          "1953-09-01T00:00:00",
          "1953-10-01T00:00:00",
          "1953-11-01T00:00:00",
          "1953-12-01T00:00:00",
          "1954-01-01T00:00:00",
          "1954-02-01T00:00:00",
          "1954-03-01T00:00:00",
          "1954-04-01T00:00:00",
          "1954-05-01T00:00:00",
          "1954-06-01T00:00:00",
          "1954-07-01T00:00:00",
          "1954-08-01T00:00:00",
          "1954-09-01T00:00:00",
          "1954-10-01T00:00:00",
          "1954-11-01T00:00:00",
          "1954-12-01T00:00:00",
          "1955-01-01T00:00:00",
          "1955-02-01T00:00:00",
          "1955-03-01T00:00:00",
          "1955-04-01T00:00:00",
          "1955-05-01T00:00:00",
          "1955-06-01T00:00:00",
          "1955-07-01T00:00:00",
          "1955-08-01T00:00:00",
          "1955-09-01T00:00:00",
          "1955-10-01T00:00:00",
          "1955-11-01T00:00:00",
          "1955-12-01T00:00:00",
          "1956-01-01T00:00:00",
          "1956-02-01T00:00:00",
          "1956-03-01T00:00:00",
          "1956-04-01T00:00:00",
          "1956-05-01T00:00:00",
          "1956-06-01T00:00:00",
          "1956-07-01T00:00:00",
          "1956-08-01T00:00:00",
          "1956-09-01T00:00:00",
          "1956-10-01T00:00:00",
          "1956-11-01T00:00:00",
          "1956-12-01T00:00:00",
          "1957-01-01T00:00:00",
          "1957-02-01T00:00:00",
          "1957-03-01T00:00:00",
          "1957-04-01T00:00:00",
          "1957-05-01T00:00:00",
          "1957-06-01T00:00:00",
          "1957-07-01T00:00:00",
          "1957-08-01T00:00:00",
          "1957-09-01T00:00:00",
          "1957-10-01T00:00:00",
          "1957-11-01T00:00:00",
          "1957-12-01T00:00:00",
          "1958-01-01T00:00:00",
          "1958-02-01T00:00:00",
          "1958-03-01T00:00:00",
          "1958-04-01T00:00:00",
          "1958-05-01T00:00:00",
          "1958-06-01T00:00:00",
          "1958-07-01T00:00:00",
          "1958-08-01T00:00:00",
          "1958-09-01T00:00:00",
          "1958-10-01T00:00:00",
          "1958-11-01T00:00:00",
          "1958-12-01T00:00:00",
          "1959-01-01T00:00:00",
          "1959-02-01T00:00:00",
          "1959-03-01T00:00:00",
          "1959-04-01T00:00:00",
          "1959-05-01T00:00:00",
          "1959-06-01T00:00:00",
          "1959-07-01T00:00:00",
          "1959-08-01T00:00:00",
          "1959-09-01T00:00:00",
          "1959-10-01T00:00:00",
          "1959-11-01T00:00:00",
          "1959-12-01T00:00:00",
          "1960-01-01T00:00:00",
          "1960-02-01T00:00:00",
          "1960-03-01T00:00:00",
          "1960-04-01T00:00:00",
          "1960-05-01T00:00:00",
          "1960-06-01T00:00:00",
          "1960-07-01T00:00:00",
          "1960-08-01T00:00:00",
          "1960-09-01T00:00:00",
          "1960-10-01T00:00:00",
          "1960-11-01T00:00:00",
          "1960-12-01T00:00:00"
         ],
         "xaxis": "x",
         "y": [
          0,
          0,
          0,
          0,
          0,
          0,
          0,
          0,
          0,
          0,
          0,
          0,
          0,
          0,
          0,
          0,
          0,
          0,
          0,
          0,
          0,
          0,
          0,
          0,
          0,
          0,
          0,
          0,
          0,
          0,
          0,
          0,
          0,
          0,
          0,
          0,
          0,
          0,
          0,
          0,
          0,
          0,
          0,
          0,
          0,
          0,
          0,
          0,
          0,
          0,
          0,
          0,
          0,
          0,
          0,
          0,
          0,
          0,
          0,
          0,
          0,
          0,
          0,
          0,
          0,
          0,
          0,
          0,
          0,
          0,
          0,
          0,
          0,
          0,
          0,
          0,
          0,
          0,
          0,
          0,
          0,
          0,
          0,
          0,
          0,
          0,
          0,
          0,
          0,
          0,
          0,
          0,
          0,
          0,
          0,
          0,
          0,
          0,
          0,
          0,
          0,
          0,
          0,
          0,
          0,
          0,
          0,
          0,
          0,
          0,
          0,
          0,
          0,
          0,
          0,
          0,
          0,
          0,
          0,
          0,
          0,
          0,
          0,
          0,
          0,
          0,
          0,
          0,
          0,
          0,
          0,
          0,
          0,
          0,
          0,
          0,
          0,
          0,
          0,
          0,
          0,
          0,
          0,
          0
         ],
         "yaxis": "y"
        },
        {
         "line": {
          "color": "rgb(57, 105, 172)"
         },
         "name": "Autoregressive",
         "opacity": 0.8,
         "type": "scatter",
         "x": [
          "1949-01-01T00:00:00",
          "1949-02-01T00:00:00",
          "1949-03-01T00:00:00",
          "1949-04-01T00:00:00",
          "1949-05-01T00:00:00",
          "1949-06-01T00:00:00",
          "1949-07-01T00:00:00",
          "1949-08-01T00:00:00",
          "1949-09-01T00:00:00",
          "1949-10-01T00:00:00",
          "1949-11-01T00:00:00",
          "1949-12-01T00:00:00",
          "1950-01-01T00:00:00",
          "1950-02-01T00:00:00",
          "1950-03-01T00:00:00",
          "1950-04-01T00:00:00",
          "1950-05-01T00:00:00",
          "1950-06-01T00:00:00",
          "1950-07-01T00:00:00",
          "1950-08-01T00:00:00",
          "1950-09-01T00:00:00",
          "1950-10-01T00:00:00",
          "1950-11-01T00:00:00",
          "1950-12-01T00:00:00",
          "1951-01-01T00:00:00",
          "1951-02-01T00:00:00",
          "1951-03-01T00:00:00",
          "1951-04-01T00:00:00",
          "1951-05-01T00:00:00",
          "1951-06-01T00:00:00",
          "1951-07-01T00:00:00",
          "1951-08-01T00:00:00",
          "1951-09-01T00:00:00",
          "1951-10-01T00:00:00",
          "1951-11-01T00:00:00",
          "1951-12-01T00:00:00",
          "1952-01-01T00:00:00",
          "1952-02-01T00:00:00",
          "1952-03-01T00:00:00",
          "1952-04-01T00:00:00",
          "1952-05-01T00:00:00",
          "1952-06-01T00:00:00",
          "1952-07-01T00:00:00",
          "1952-08-01T00:00:00",
          "1952-09-01T00:00:00",
          "1952-10-01T00:00:00",
          "1952-11-01T00:00:00",
          "1952-12-01T00:00:00",
          "1953-01-01T00:00:00",
          "1953-02-01T00:00:00",
          "1953-03-01T00:00:00",
          "1953-04-01T00:00:00",
          "1953-05-01T00:00:00",
          "1953-06-01T00:00:00",
          "1953-07-01T00:00:00",
          "1953-08-01T00:00:00",
          "1953-09-01T00:00:00",
          "1953-10-01T00:00:00",
          "1953-11-01T00:00:00",
          "1953-12-01T00:00:00",
          "1954-01-01T00:00:00",
          "1954-02-01T00:00:00",
          "1954-03-01T00:00:00",
          "1954-04-01T00:00:00",
          "1954-05-01T00:00:00",
          "1954-06-01T00:00:00",
          "1954-07-01T00:00:00",
          "1954-08-01T00:00:00",
          "1954-09-01T00:00:00",
          "1954-10-01T00:00:00",
          "1954-11-01T00:00:00",
          "1954-12-01T00:00:00",
          "1955-01-01T00:00:00",
          "1955-02-01T00:00:00",
          "1955-03-01T00:00:00",
          "1955-04-01T00:00:00",
          "1955-05-01T00:00:00",
          "1955-06-01T00:00:00",
          "1955-07-01T00:00:00",
          "1955-08-01T00:00:00",
          "1955-09-01T00:00:00",
          "1955-10-01T00:00:00",
          "1955-11-01T00:00:00",
          "1955-12-01T00:00:00",
          "1956-01-01T00:00:00",
          "1956-02-01T00:00:00",
          "1956-03-01T00:00:00",
          "1956-04-01T00:00:00",
          "1956-05-01T00:00:00",
          "1956-06-01T00:00:00",
          "1956-07-01T00:00:00",
          "1956-08-01T00:00:00",
          "1956-09-01T00:00:00",
          "1956-10-01T00:00:00",
          "1956-11-01T00:00:00",
          "1956-12-01T00:00:00",
          "1957-01-01T00:00:00",
          "1957-02-01T00:00:00",
          "1957-03-01T00:00:00",
          "1957-04-01T00:00:00",
          "1957-05-01T00:00:00",
          "1957-06-01T00:00:00",
          "1957-07-01T00:00:00",
          "1957-08-01T00:00:00",
          "1957-09-01T00:00:00",
          "1957-10-01T00:00:00",
          "1957-11-01T00:00:00",
          "1957-12-01T00:00:00",
          "1958-01-01T00:00:00",
          "1958-02-01T00:00:00",
          "1958-03-01T00:00:00",
          "1958-04-01T00:00:00",
          "1958-05-01T00:00:00",
          "1958-06-01T00:00:00",
          "1958-07-01T00:00:00",
          "1958-08-01T00:00:00",
          "1958-09-01T00:00:00",
          "1958-10-01T00:00:00",
          "1958-11-01T00:00:00",
          "1958-12-01T00:00:00",
          "1959-01-01T00:00:00",
          "1959-02-01T00:00:00",
          "1959-03-01T00:00:00",
          "1959-04-01T00:00:00",
          "1959-05-01T00:00:00",
          "1959-06-01T00:00:00",
          "1959-07-01T00:00:00",
          "1959-08-01T00:00:00",
          "1959-09-01T00:00:00",
          "1959-10-01T00:00:00",
          "1959-11-01T00:00:00",
          "1959-12-01T00:00:00",
          "1960-01-01T00:00:00",
          "1960-02-01T00:00:00",
          "1960-03-01T00:00:00",
          "1960-04-01T00:00:00",
          "1960-05-01T00:00:00",
          "1960-06-01T00:00:00",
          "1960-07-01T00:00:00",
          "1960-08-01T00:00:00",
          "1960-09-01T00:00:00",
          "1960-10-01T00:00:00",
          "1960-11-01T00:00:00",
          "1960-12-01T00:00:00"
         ],
         "xaxis": "x",
         "y": [
          -52.98869264441875,
          -52.98869264441875,
          -52.34241609946141,
          -50.18816094960361,
          -48.3570440722245,
          -48.033905799745824,
          -47.71076752726715,
          -45.66422513490226,
          -42.75598068259424,
          -42.648267925101344,
          -45.771937892395144,
          -50.511299222082286,
          -52.4501288569543,
          -52.88097988692586,
          -50.511299222082286,
          -48.033905799745824,
          -45.879650649888035,
          -45.987363407380926,
          -45.125661347437806,
          -41.355714835186674,
          -36.50864074800664,
          -35.53922593057063,
          -39.52459795780755,
          -45.55651237740936,
          -47.49534201228138,
          -46.2027889223667,
          -42.32512965262268,
          -38.232044867892874,
          -36.29321523302086,
          -33.92353456817729,
          -33.92353456817729,
          -30.045875298433266,
          -27.13763084612524,
          -26.491354301167906,
          -30.476726328404823,
          -36.18550247552797,
          -38.12433211039998,
          -37.15491729296398,
          -33.492683538205725,
          -30.584439085897706,
          -29.50731151096882,
          -29.18417323849015,
          -26.491354301167906,
          -21.213429184016313,
          -14.858376491935829,
          -15.82779130937184,
          -20.028588851594535,
          -27.568481876096804,
          -29.18417323849015,
          -28.645609451025695,
          -26.060503271196342,
          -21.536567456494982,
          -17.335769914272284,
          -13.781248917006927,
          -13.027259614556712,
          -9.903589647262905,
          -5.2719410750686535,
          -5.918217620025985,
          -11.626993767149138,
          -21.536567456494982,
          -25.414226726239004,
          -26.168216028689237,
          -25.30651396874612,
          -21.644280213987873,
          -19.16688679165142,
          -14.212099946978498,
          -11.088429979684697,
          -3.009973167717966,
          3.3450795243625038,
          2.8065157368980707,
          -5.056515560082886,
          -14.750663734442938,
          -17.982046459229622,
          -16.58178061182207,
          -13.350397887035378,
          -9.257313102305567,
          -6.349068649997555,
          -2.363696622760628,
          2.8065157368980707,
          13.03922769872257,
          21.33311002567507,
          21.00997175319641,
          11.315823578836344,
          -0.5325797453815184,
          -4.194813500139759,
          -3.117685925210864,
          1.1908243745047287,
          5.391621916727416,
          8.51529188402121,
          12.931514941229679,
          19.071142118324403,
          29.842417867613335,
          39.21342776949474,
          37.166885377129844,
          25.64162032539066,
          11.208110821343467,
          5.930185704191864,
          6.89960052162786,
          10.130983246414552,
          15.516621121059032,
          19.071142118324403,
          24.88763102294044,
          31.996673017471153,
          44.59906564413923,
          56.66289448334285,
          54.724064848470846,
          42.01395946430988,
          24.564492750461753,
          17.240025240945272,
          16.486035938495036,
          17.886301785902603,
          20.686833480717738,
          21.548535540660865,
          26.395609627840898,
          34.25864092482183,
          49.661565246305045,
          64.95677681029537,
          61.61768132801579,
          47.399597338954365,
          26.395609627840898,
          19.17885487581728,
          19.286567633310185,
          22.733375873082636,
          30.165556140092022,
          34.04321540983604,
          42.44481049428143,
          49.55385248881214,
          65.92619162773137,
          80.89826491924303,
          79.92885010180704,
          64.74135129530958,
          43.52193806921035,
          37.274598134622735,
          38.35172570955163,
          41.47539567684544,
          42.98337428174588,
          47.72273561143302,
          56.447468968357086,
          68.94214883753227,
          86.28390279388749,
          100.7174122979347,
          97.80916784562667,
          80.46741388927147,
          57.20145827080731
         ],
         "yaxis": "y"
        },
        {
         "line": {
          "color": "rgb(242, 183, 1)"
         },
         "name": "Event",
         "opacity": 0.8,
         "type": "scatter",
         "x": [
          "1949-01-01T00:00:00",
          "1949-02-01T00:00:00",
          "1949-03-01T00:00:00",
          "1949-04-01T00:00:00",
          "1949-05-01T00:00:00",
          "1949-06-01T00:00:00",
          "1949-07-01T00:00:00",
          "1949-08-01T00:00:00",
          "1949-09-01T00:00:00",
          "1949-10-01T00:00:00",
          "1949-11-01T00:00:00",
          "1949-12-01T00:00:00",
          "1950-01-01T00:00:00",
          "1950-02-01T00:00:00",
          "1950-03-01T00:00:00",
          "1950-04-01T00:00:00",
          "1950-05-01T00:00:00",
          "1950-06-01T00:00:00",
          "1950-07-01T00:00:00",
          "1950-08-01T00:00:00",
          "1950-09-01T00:00:00",
          "1950-10-01T00:00:00",
          "1950-11-01T00:00:00",
          "1950-12-01T00:00:00",
          "1951-01-01T00:00:00",
          "1951-02-01T00:00:00",
          "1951-03-01T00:00:00",
          "1951-04-01T00:00:00",
          "1951-05-01T00:00:00",
          "1951-06-01T00:00:00",
          "1951-07-01T00:00:00",
          "1951-08-01T00:00:00",
          "1951-09-01T00:00:00",
          "1951-10-01T00:00:00",
          "1951-11-01T00:00:00",
          "1951-12-01T00:00:00",
          "1952-01-01T00:00:00",
          "1952-02-01T00:00:00",
          "1952-03-01T00:00:00",
          "1952-04-01T00:00:00",
          "1952-05-01T00:00:00",
          "1952-06-01T00:00:00",
          "1952-07-01T00:00:00",
          "1952-08-01T00:00:00",
          "1952-09-01T00:00:00",
          "1952-10-01T00:00:00",
          "1952-11-01T00:00:00",
          "1952-12-01T00:00:00",
          "1953-01-01T00:00:00",
          "1953-02-01T00:00:00",
          "1953-03-01T00:00:00",
          "1953-04-01T00:00:00",
          "1953-05-01T00:00:00",
          "1953-06-01T00:00:00",
          "1953-07-01T00:00:00",
          "1953-08-01T00:00:00",
          "1953-09-01T00:00:00",
          "1953-10-01T00:00:00",
          "1953-11-01T00:00:00",
          "1953-12-01T00:00:00",
          "1954-01-01T00:00:00",
          "1954-02-01T00:00:00",
          "1954-03-01T00:00:00",
          "1954-04-01T00:00:00",
          "1954-05-01T00:00:00",
          "1954-06-01T00:00:00",
          "1954-07-01T00:00:00",
          "1954-08-01T00:00:00",
          "1954-09-01T00:00:00",
          "1954-10-01T00:00:00",
          "1954-11-01T00:00:00",
          "1954-12-01T00:00:00",
          "1955-01-01T00:00:00",
          "1955-02-01T00:00:00",
          "1955-03-01T00:00:00",
          "1955-04-01T00:00:00",
          "1955-05-01T00:00:00",
          "1955-06-01T00:00:00",
          "1955-07-01T00:00:00",
          "1955-08-01T00:00:00",
          "1955-09-01T00:00:00",
          "1955-10-01T00:00:00",
          "1955-11-01T00:00:00",
          "1955-12-01T00:00:00",
          "1956-01-01T00:00:00",
          "1956-02-01T00:00:00",
          "1956-03-01T00:00:00",
          "1956-04-01T00:00:00",
          "1956-05-01T00:00:00",
          "1956-06-01T00:00:00",
          "1956-07-01T00:00:00",
          "1956-08-01T00:00:00",
          "1956-09-01T00:00:00",
          "1956-10-01T00:00:00",
          "1956-11-01T00:00:00",
          "1956-12-01T00:00:00",
          "1957-01-01T00:00:00",
          "1957-02-01T00:00:00",
          "1957-03-01T00:00:00",
          "1957-04-01T00:00:00",
          "1957-05-01T00:00:00",
          "1957-06-01T00:00:00",
          "1957-07-01T00:00:00",
          "1957-08-01T00:00:00",
          "1957-09-01T00:00:00",
          "1957-10-01T00:00:00",
          "1957-11-01T00:00:00",
          "1957-12-01T00:00:00",
          "1958-01-01T00:00:00",
          "1958-02-01T00:00:00",
          "1958-03-01T00:00:00",
          "1958-04-01T00:00:00",
          "1958-05-01T00:00:00",
          "1958-06-01T00:00:00",
          "1958-07-01T00:00:00",
          "1958-08-01T00:00:00",
          "1958-09-01T00:00:00",
          "1958-10-01T00:00:00",
          "1958-11-01T00:00:00",
          "1958-12-01T00:00:00",
          "1959-01-01T00:00:00",
          "1959-02-01T00:00:00",
          "1959-03-01T00:00:00",
          "1959-04-01T00:00:00",
          "1959-05-01T00:00:00",
          "1959-06-01T00:00:00",
          "1959-07-01T00:00:00",
          "1959-08-01T00:00:00",
          "1959-09-01T00:00:00",
          "1959-10-01T00:00:00",
          "1959-11-01T00:00:00",
          "1959-12-01T00:00:00",
          "1960-01-01T00:00:00",
          "1960-02-01T00:00:00",
          "1960-03-01T00:00:00",
          "1960-04-01T00:00:00",
          "1960-05-01T00:00:00",
          "1960-06-01T00:00:00",
          "1960-07-01T00:00:00",
          "1960-08-01T00:00:00",
          "1960-09-01T00:00:00",
          "1960-10-01T00:00:00",
          "1960-11-01T00:00:00",
          "1960-12-01T00:00:00"
         ],
         "xaxis": "x",
         "y": [
          -8.075883156418238,
          0.8697104937681179,
          0.8697104937681179,
          0.8697104937681179,
          0.8697104937681179,
          0.8697104937681179,
          0.8697104937681179,
          0.8697104937681179,
          0.8697104937681179,
          0.8697104937681179,
          0.8697104937681179,
          0.8697104937681179,
          -8.075883156418238,
          0.8697104937681179,
          0.8697104937681179,
          0.8697104937681179,
          0.8697104937681179,
          0.8697104937681179,
          0.8697104937681179,
          0.8697104937681179,
          0.8697104937681179,
          0.8697104937681179,
          0.8697104937681179,
          0.8697104937681179,
          -8.075883156418238,
          0.8697104937681179,
          0.8697104937681179,
          0.8697104937681179,
          0.8697104937681179,
          0.8697104937681179,
          0.8697104937681179,
          0.8697104937681179,
          0.8697104937681179,
          0.8697104937681179,
          0.8697104937681179,
          0.8697104937681179,
          -8.075883156418238,
          0.8697104937681179,
          0.8697104937681179,
          0.8697104937681179,
          0.8697104937681179,
          0.8697104937681179,
          0.8697104937681179,
          0.8697104937681179,
          -8.075883156418238,
          0.8697104937681179,
          0.8697104937681179,
          0.8697104937681179,
          -8.075883156418238,
          0.8697104937681179,
          0.8697104937681179,
          0.8697104937681179,
          0.8697104937681179,
          0.8697104937681179,
          0.8697104937681179,
          0.8697104937681179,
          0.8697104937681179,
          0.8697104937681179,
          0.8697104937681179,
          0.8697104937681179,
          -8.075883156418238,
          0.8697104937681179,
          0.8697104937681179,
          0.8697104937681179,
          0.8697104937681179,
          0.8697104937681179,
          0.8697104937681179,
          0.8697104937681179,
          0.8697104937681179,
          0.8697104937681179,
          0.8697104937681179,
          0.8697104937681179,
          -8.075883156418238,
          0.8697104937681179,
          0.8697104937681179,
          0.8697104937681179,
          0.8697104937681179,
          0.8697104937681179,
          0.8697104937681179,
          0.8697104937681179,
          0.8697104937681179,
          0.8697104937681179,
          0.8697104937681179,
          0.8697104937681179,
          -8.075883156418238,
          0.8697104937681179,
          0.8697104937681179,
          0.8697104937681179,
          0.8697104937681179,
          0.8697104937681179,
          0.8697104937681179,
          0.8697104937681179,
          0.8697104937681179,
          0.8697104937681179,
          0.8697104937681179,
          0.8697104937681179,
          -8.075883156418238,
          0.8697104937681179,
          0.8697104937681179,
          0.8697104937681179,
          0.8697104937681179,
          0.8697104937681179,
          0.8697104937681179,
          0.8697104937681179,
          0.8697104937681179,
          0.8697104937681179,
          0.8697104937681179,
          0.8697104937681179,
          -8.075883156418238,
          0.8697104937681179,
          0.8697104937681179,
          0.8697104937681179,
          0.8697104937681179,
          0.8697104937681179,
          0.8697104937681179,
          0.8697104937681179,
          -8.075883156418238,
          0.8697104937681179,
          0.8697104937681179,
          0.8697104937681179,
          -8.075883156418238,
          0.8697104937681179,
          0.8697104937681179,
          0.8697104937681179,
          0.8697104937681179,
          0.8697104937681179,
          0.8697104937681179,
          0.8697104937681179,
          0.8697104937681179,
          0.8697104937681179,
          0.8697104937681179,
          0.8697104937681179,
          -8.075883156418238,
          0.8697104937681179,
          0.8697104937681179,
          0.8697104937681179,
          0.8697104937681179,
          0.8697104937681179,
          0.8697104937681179,
          0.8697104937681179,
          0.8697104937681179,
          0.8697104937681179,
          0.8697104937681179,
          0.8697104937681179
         ],
         "yaxis": "y"
        },
        {
         "line": {
          "color": "rgb(231, 63, 116)"
         },
         "name": "Seasonality",
         "opacity": 0.8,
         "type": "scatter",
         "x": [
          "1949-01-01T00:00:00",
          "1949-02-01T00:00:00",
          "1949-03-01T00:00:00",
          "1949-04-01T00:00:00",
          "1949-05-01T00:00:00",
          "1949-06-01T00:00:00",
          "1949-07-01T00:00:00",
          "1949-08-01T00:00:00",
          "1949-09-01T00:00:00",
          "1949-10-01T00:00:00",
          "1949-11-01T00:00:00",
          "1949-12-01T00:00:00",
          "1950-01-01T00:00:00",
          "1950-02-01T00:00:00",
          "1950-03-01T00:00:00",
          "1950-04-01T00:00:00",
          "1950-05-01T00:00:00",
          "1950-06-01T00:00:00",
          "1950-07-01T00:00:00",
          "1950-08-01T00:00:00",
          "1950-09-01T00:00:00",
          "1950-10-01T00:00:00",
          "1950-11-01T00:00:00",
          "1950-12-01T00:00:00",
          "1951-01-01T00:00:00",
          "1951-02-01T00:00:00",
          "1951-03-01T00:00:00",
          "1951-04-01T00:00:00",
          "1951-05-01T00:00:00",
          "1951-06-01T00:00:00",
          "1951-07-01T00:00:00",
          "1951-08-01T00:00:00",
          "1951-09-01T00:00:00",
          "1951-10-01T00:00:00",
          "1951-11-01T00:00:00",
          "1951-12-01T00:00:00",
          "1952-01-01T00:00:00",
          "1952-02-01T00:00:00",
          "1952-03-01T00:00:00",
          "1952-04-01T00:00:00",
          "1952-05-01T00:00:00",
          "1952-06-01T00:00:00",
          "1952-07-01T00:00:00",
          "1952-08-01T00:00:00",
          "1952-09-01T00:00:00",
          "1952-10-01T00:00:00",
          "1952-11-01T00:00:00",
          "1952-12-01T00:00:00",
          "1953-01-01T00:00:00",
          "1953-02-01T00:00:00",
          "1953-03-01T00:00:00",
          "1953-04-01T00:00:00",
          "1953-05-01T00:00:00",
          "1953-06-01T00:00:00",
          "1953-07-01T00:00:00",
          "1953-08-01T00:00:00",
          "1953-09-01T00:00:00",
          "1953-10-01T00:00:00",
          "1953-11-01T00:00:00",
          "1953-12-01T00:00:00",
          "1954-01-01T00:00:00",
          "1954-02-01T00:00:00",
          "1954-03-01T00:00:00",
          "1954-04-01T00:00:00",
          "1954-05-01T00:00:00",
          "1954-06-01T00:00:00",
          "1954-07-01T00:00:00",
          "1954-08-01T00:00:00",
          "1954-09-01T00:00:00",
          "1954-10-01T00:00:00",
          "1954-11-01T00:00:00",
          "1954-12-01T00:00:00",
          "1955-01-01T00:00:00",
          "1955-02-01T00:00:00",
          "1955-03-01T00:00:00",
          "1955-04-01T00:00:00",
          "1955-05-01T00:00:00",
          "1955-06-01T00:00:00",
          "1955-07-01T00:00:00",
          "1955-08-01T00:00:00",
          "1955-09-01T00:00:00",
          "1955-10-01T00:00:00",
          "1955-11-01T00:00:00",
          "1955-12-01T00:00:00",
          "1956-01-01T00:00:00",
          "1956-02-01T00:00:00",
          "1956-03-01T00:00:00",
          "1956-04-01T00:00:00",
          "1956-05-01T00:00:00",
          "1956-06-01T00:00:00",
          "1956-07-01T00:00:00",
          "1956-08-01T00:00:00",
          "1956-09-01T00:00:00",
          "1956-10-01T00:00:00",
          "1956-11-01T00:00:00",
          "1956-12-01T00:00:00",
          "1957-01-01T00:00:00",
          "1957-02-01T00:00:00",
          "1957-03-01T00:00:00",
          "1957-04-01T00:00:00",
          "1957-05-01T00:00:00",
          "1957-06-01T00:00:00",
          "1957-07-01T00:00:00",
          "1957-08-01T00:00:00",
          "1957-09-01T00:00:00",
          "1957-10-01T00:00:00",
          "1957-11-01T00:00:00",
          "1957-12-01T00:00:00",
          "1958-01-01T00:00:00",
          "1958-02-01T00:00:00",
          "1958-03-01T00:00:00",
          "1958-04-01T00:00:00",
          "1958-05-01T00:00:00",
          "1958-06-01T00:00:00",
          "1958-07-01T00:00:00",
          "1958-08-01T00:00:00",
          "1958-09-01T00:00:00",
          "1958-10-01T00:00:00",
          "1958-11-01T00:00:00",
          "1958-12-01T00:00:00",
          "1959-01-01T00:00:00",
          "1959-02-01T00:00:00",
          "1959-03-01T00:00:00",
          "1959-04-01T00:00:00",
          "1959-05-01T00:00:00",
          "1959-06-01T00:00:00",
          "1959-07-01T00:00:00",
          "1959-08-01T00:00:00",
          "1959-09-01T00:00:00",
          "1959-10-01T00:00:00",
          "1959-11-01T00:00:00",
          "1959-12-01T00:00:00",
          "1960-01-01T00:00:00",
          "1960-02-01T00:00:00",
          "1960-03-01T00:00:00",
          "1960-04-01T00:00:00",
          "1960-05-01T00:00:00",
          "1960-06-01T00:00:00",
          "1960-07-01T00:00:00",
          "1960-08-01T00:00:00",
          "1960-09-01T00:00:00",
          "1960-10-01T00:00:00",
          "1960-11-01T00:00:00",
          "1960-12-01T00:00:00"
         ],
         "xaxis": "x",
         "y": [
          0,
          0,
          0,
          0,
          0,
          0,
          0,
          0,
          0,
          0,
          0,
          0,
          0,
          0,
          0,
          0,
          0,
          0,
          0,
          0,
          0,
          0,
          0,
          0,
          0,
          0,
          0,
          0,
          0,
          0,
          0,
          0,
          0,
          0,
          0,
          0,
          0,
          0,
          0,
          0,
          0,
          0,
          0,
          0,
          0,
          0,
          0,
          0,
          0,
          0,
          0,
          0,
          0,
          0,
          0,
          0,
          0,
          0,
          0,
          0,
          0,
          0,
          0,
          0,
          0,
          0,
          0,
          0,
          0,
          0,
          0,
          0,
          0,
          0,
          0,
          0,
          0,
          0,
          0,
          0,
          0,
          0,
          0,
          0,
          0,
          0,
          0,
          0,
          0,
          0,
          0,
          0,
          0,
          0,
          0,
          0,
          0,
          0,
          0,
          0,
          0,
          0,
          0,
          0,
          0,
          0,
          0,
          0,
          0,
          0,
          0,
          0,
          0,
          0,
          0,
          0,
          0,
          0,
          0,
          0,
          0,
          0,
          0,
          0,
          0,
          0,
          0,
          0,
          0,
          0,
          0,
          0,
          0,
          0,
          0,
          0,
          0,
          0,
          0,
          0,
          0,
          0,
          0,
          0
         ],
         "yaxis": "y"
        },
        {
         "legendgroup": "TrendGroup",
         "line": {
          "color": "rgb(128, 186, 90)"
         },
         "name": "Trend",
         "opacity": 0.8,
         "type": "scatter",
         "x": [
          "1949-01-01T00:00:00",
          "1949-02-01T00:00:00",
          "1949-03-01T00:00:00",
          "1949-04-01T00:00:00",
          "1949-05-01T00:00:00",
          "1949-06-01T00:00:00",
          "1949-07-01T00:00:00",
          "1949-08-01T00:00:00",
          "1949-09-01T00:00:00",
          "1949-10-01T00:00:00",
          "1949-11-01T00:00:00",
          "1949-12-01T00:00:00",
          "1950-01-01T00:00:00",
          "1950-02-01T00:00:00",
          "1950-03-01T00:00:00",
          "1950-04-01T00:00:00",
          "1950-05-01T00:00:00",
          "1950-06-01T00:00:00",
          "1950-07-01T00:00:00",
          "1950-08-01T00:00:00",
          "1950-09-01T00:00:00",
          "1950-10-01T00:00:00",
          "1950-11-01T00:00:00",
          "1950-12-01T00:00:00",
          "1951-01-01T00:00:00",
          "1951-02-01T00:00:00",
          "1951-03-01T00:00:00",
          "1951-04-01T00:00:00",
          "1951-05-01T00:00:00",
          "1951-06-01T00:00:00",
          "1951-07-01T00:00:00",
          "1951-08-01T00:00:00",
          "1951-09-01T00:00:00",
          "1951-10-01T00:00:00",
          "1951-11-01T00:00:00",
          "1951-12-01T00:00:00",
          "1952-01-01T00:00:00",
          "1952-02-01T00:00:00",
          "1952-03-01T00:00:00",
          "1952-04-01T00:00:00",
          "1952-05-01T00:00:00",
          "1952-06-01T00:00:00",
          "1952-07-01T00:00:00",
          "1952-08-01T00:00:00",
          "1952-09-01T00:00:00",
          "1952-10-01T00:00:00",
          "1952-11-01T00:00:00",
          "1952-12-01T00:00:00",
          "1953-01-01T00:00:00",
          "1953-02-01T00:00:00",
          "1953-03-01T00:00:00",
          "1953-04-01T00:00:00",
          "1953-05-01T00:00:00",
          "1953-06-01T00:00:00",
          "1953-07-01T00:00:00",
          "1953-08-01T00:00:00",
          "1953-09-01T00:00:00",
          "1953-10-01T00:00:00",
          "1953-11-01T00:00:00",
          "1953-12-01T00:00:00",
          "1954-01-01T00:00:00",
          "1954-02-01T00:00:00",
          "1954-03-01T00:00:00",
          "1954-04-01T00:00:00",
          "1954-05-01T00:00:00",
          "1954-06-01T00:00:00",
          "1954-07-01T00:00:00",
          "1954-08-01T00:00:00",
          "1954-09-01T00:00:00",
          "1954-10-01T00:00:00",
          "1954-11-01T00:00:00",
          "1954-12-01T00:00:00",
          "1955-01-01T00:00:00",
          "1955-02-01T00:00:00",
          "1955-03-01T00:00:00",
          "1955-04-01T00:00:00",
          "1955-05-01T00:00:00",
          "1955-06-01T00:00:00",
          "1955-07-01T00:00:00",
          "1955-08-01T00:00:00",
          "1955-09-01T00:00:00",
          "1955-10-01T00:00:00",
          "1955-11-01T00:00:00",
          "1955-12-01T00:00:00",
          "1956-01-01T00:00:00",
          "1956-02-01T00:00:00",
          "1956-03-01T00:00:00",
          "1956-04-01T00:00:00",
          "1956-05-01T00:00:00",
          "1956-06-01T00:00:00",
          "1956-07-01T00:00:00",
          "1956-08-01T00:00:00",
          "1956-09-01T00:00:00",
          "1956-10-01T00:00:00",
          "1956-11-01T00:00:00",
          "1956-12-01T00:00:00",
          "1957-01-01T00:00:00",
          "1957-02-01T00:00:00",
          "1957-03-01T00:00:00",
          "1957-04-01T00:00:00",
          "1957-05-01T00:00:00",
          "1957-06-01T00:00:00",
          "1957-07-01T00:00:00",
          "1957-08-01T00:00:00",
          "1957-09-01T00:00:00",
          "1957-10-01T00:00:00",
          "1957-11-01T00:00:00",
          "1957-12-01T00:00:00",
          "1958-01-01T00:00:00",
          "1958-02-01T00:00:00",
          "1958-03-01T00:00:00",
          "1958-04-01T00:00:00",
          "1958-05-01T00:00:00",
          "1958-06-01T00:00:00",
          "1958-07-01T00:00:00",
          "1958-08-01T00:00:00",
          "1958-09-01T00:00:00",
          "1958-10-01T00:00:00",
          "1958-11-01T00:00:00",
          "1958-12-01T00:00:00",
          "1959-01-01T00:00:00",
          "1959-02-01T00:00:00",
          "1959-03-01T00:00:00",
          "1959-04-01T00:00:00",
          "1959-05-01T00:00:00",
          "1959-06-01T00:00:00",
          "1959-07-01T00:00:00",
          "1959-08-01T00:00:00",
          "1959-09-01T00:00:00",
          "1959-10-01T00:00:00",
          "1959-11-01T00:00:00",
          "1959-12-01T00:00:00",
          "1960-01-01T00:00:00",
          "1960-02-01T00:00:00",
          "1960-03-01T00:00:00",
          "1960-04-01T00:00:00",
          "1960-05-01T00:00:00",
          "1960-06-01T00:00:00",
          "1960-07-01T00:00:00",
          "1960-08-01T00:00:00",
          "1960-09-01T00:00:00",
          "1960-10-01T00:00:00",
          "1960-11-01T00:00:00",
          "1960-12-01T00:00:00"
         ],
         "xaxis": "x",
         "y": [
          -96.35327811507696,
          -96.35327811507696,
          -96.35327811507696,
          -96.35327811507696,
          -96.35327811507696,
          -96.35327811507696,
          -96.35327811507696,
          -96.35327811507696,
          -96.35327811507696,
          -96.35327811507696,
          -96.35327811507696,
          -96.35327811507696,
          -96.35327811507696,
          -96.35327811507696,
          -96.35327811507696,
          -96.35327811507696,
          -96.35327811507696,
          -96.35327811507696,
          -94.78986623974612,
          -93.17434063524277,
          -91.5588150307351,
          -89.99540315540858,
          -88.37987755090523,
          -86.81646567557439,
          -85.20094007107105,
          -83.5854144665677,
          -82.12623004959484,
          -80.51070444508717,
          -78.94729256976065,
          -77.3317669652573,
          -75.76835508992646,
          -74.15282948542311,
          -72.53730388091545,
          -70.97389200558892,
          -69.35836640108558,
          -67.79495452575473,
          -66.17942892125139,
          -64.5683173211318,
          -63.06114840488545,
          -61.450036804765865,
          -59.89089654658506,
          -58.27978494646114,
          -56.72064468828034,
          -55.109533088160745,
          -53.49842148803683,
          -51.93928122985603,
          -50.32816962973644,
          -48.76902937155131,
          -47.15791777143173,
          -45.54239216692837,
          -44.08320774995552,
          -42.467682145447846,
          -40.90427027012133,
          -39.28874466561799,
          -37.72533279028713,
          -36.1098071857838,
          -34.49428158127612,
          -32.930869705949604,
          -31.315344101446257,
          -29.751932226115414,
          -28.136406621612068,
          -26.52088101710872,
          -25.06169660013586,
          -23.44617099562818,
          -21.88275912030167,
          -20.267233515798324,
          -18.70382164046748,
          -17.088296035964134,
          -15.472770431456468,
          -13.909358556129945,
          -11.856950029552308,
          -9.870748229632099,
          -7.818339703054463,
          -5.76593117647684,
          -3.9121428298879266,
          -1.8597343033047906,
          0.1264674966099193,
          2.1788760231875557,
          4.165077823107765,
          6.217486349685402,
          8.269894876268538,
          10.256096676183247,
          12.308505202760898,
          14.294707002681093,
          16.347115529258744,
          18.393916382266653,
          20.308665567345486,
          22.355466420353395,
          24.336241439394016,
          26.383042292407424,
          28.363817311448045,
          30.410618164455954,
          32.45741901746936,
          34.43819403651,
          36.48499488951791,
          38.465769908564,
          40.512570761571936,
          42.564979288149544,
          44.41876763473846,
          46.47117616132161,
          48.45737796123629,
          50.509786487813955,
          52.49598828773415,
          54.548396814311786,
          56.60080534089494,
          58.58700714080962,
          60.63941566738728,
          62.62561746730748,
          64.67802599388514,
          66.73043452046272,
          68.58422286705166,
          70.63663139363481,
          72.6228331935495,
          74.67524172012713,
          76.66144352004736,
          78.713852046625,
          80.76626057320811,
          82.75246237312282,
          84.80487089970046,
          86.79107269962068,
          88.84348122619832,
          90.89588975277593,
          92.74967809936484,
          94.802086625948,
          96.78828842586267,
          98.84069695244034,
          100.82689875236053,
          102.8793072789382,
          104.93171580552132,
          106.91791760543603,
          108.97032613201367,
          110.95652793193389,
          113.00893645851153,
          115.05573731151944,
          116.97048649659826,
          119.01728734960616,
          120.99806236864677,
          123.0448632216602,
          125.0256382407008,
          127.07243909370871,
          129.11923994672213,
          131.10001496576277,
          133.14681581877068,
          135.1275908378168
         ],
         "yaxis": "y"
        },
        {
         "legendgroup": "TrendGroup",
         "line": {
          "color": "rgb(128, 186, 90)"
         },
         "name": "Trend",
         "opacity": 0.8,
         "showlegend": false,
         "type": "scatter",
         "x": [
          "1949-01-01T00:00:00",
          "1949-02-01T00:00:00",
          "1949-03-01T00:00:00",
          "1949-04-01T00:00:00",
          "1949-05-01T00:00:00",
          "1949-06-01T00:00:00",
          "1949-07-01T00:00:00",
          "1949-08-01T00:00:00",
          "1949-09-01T00:00:00",
          "1949-10-01T00:00:00",
          "1949-11-01T00:00:00",
          "1949-12-01T00:00:00",
          "1950-01-01T00:00:00",
          "1950-02-01T00:00:00",
          "1950-03-01T00:00:00",
          "1950-04-01T00:00:00",
          "1950-05-01T00:00:00",
          "1950-06-01T00:00:00",
          "1950-07-01T00:00:00",
          "1950-08-01T00:00:00",
          "1950-09-01T00:00:00",
          "1950-10-01T00:00:00",
          "1950-11-01T00:00:00",
          "1950-12-01T00:00:00",
          "1951-01-01T00:00:00",
          "1951-02-01T00:00:00",
          "1951-03-01T00:00:00",
          "1951-04-01T00:00:00",
          "1951-05-01T00:00:00",
          "1951-06-01T00:00:00",
          "1951-07-01T00:00:00",
          "1951-08-01T00:00:00",
          "1951-09-01T00:00:00",
          "1951-10-01T00:00:00",
          "1951-11-01T00:00:00",
          "1951-12-01T00:00:00",
          "1952-01-01T00:00:00",
          "1952-02-01T00:00:00",
          "1952-03-01T00:00:00",
          "1952-04-01T00:00:00",
          "1952-05-01T00:00:00",
          "1952-06-01T00:00:00",
          "1952-07-01T00:00:00",
          "1952-08-01T00:00:00",
          "1952-09-01T00:00:00",
          "1952-10-01T00:00:00",
          "1952-11-01T00:00:00",
          "1952-12-01T00:00:00",
          "1953-01-01T00:00:00",
          "1953-02-01T00:00:00",
          "1953-03-01T00:00:00",
          "1953-04-01T00:00:00",
          "1953-05-01T00:00:00",
          "1953-06-01T00:00:00",
          "1953-07-01T00:00:00",
          "1953-08-01T00:00:00",
          "1953-09-01T00:00:00",
          "1953-10-01T00:00:00",
          "1953-11-01T00:00:00",
          "1953-12-01T00:00:00",
          "1954-01-01T00:00:00",
          "1954-02-01T00:00:00",
          "1954-03-01T00:00:00",
          "1954-04-01T00:00:00",
          "1954-05-01T00:00:00",
          "1954-06-01T00:00:00",
          "1954-07-01T00:00:00",
          "1954-08-01T00:00:00",
          "1954-09-01T00:00:00",
          "1954-10-01T00:00:00",
          "1954-11-01T00:00:00",
          "1954-12-01T00:00:00",
          "1955-01-01T00:00:00",
          "1955-02-01T00:00:00",
          "1955-03-01T00:00:00",
          "1955-04-01T00:00:00",
          "1955-05-01T00:00:00",
          "1955-06-01T00:00:00",
          "1955-07-01T00:00:00",
          "1955-08-01T00:00:00",
          "1955-09-01T00:00:00",
          "1955-10-01T00:00:00",
          "1955-11-01T00:00:00",
          "1955-12-01T00:00:00",
          "1956-01-01T00:00:00",
          "1956-02-01T00:00:00",
          "1956-03-01T00:00:00",
          "1956-04-01T00:00:00",
          "1956-05-01T00:00:00",
          "1956-06-01T00:00:00",
          "1956-07-01T00:00:00",
          "1956-08-01T00:00:00",
          "1956-09-01T00:00:00",
          "1956-10-01T00:00:00",
          "1956-11-01T00:00:00",
          "1956-12-01T00:00:00",
          "1957-01-01T00:00:00",
          "1957-02-01T00:00:00",
          "1957-03-01T00:00:00",
          "1957-04-01T00:00:00",
          "1957-05-01T00:00:00",
          "1957-06-01T00:00:00",
          "1957-07-01T00:00:00",
          "1957-08-01T00:00:00",
          "1957-09-01T00:00:00",
          "1957-10-01T00:00:00",
          "1957-11-01T00:00:00",
          "1957-12-01T00:00:00",
          "1958-01-01T00:00:00",
          "1958-02-01T00:00:00",
          "1958-03-01T00:00:00",
          "1958-04-01T00:00:00",
          "1958-05-01T00:00:00",
          "1958-06-01T00:00:00",
          "1958-07-01T00:00:00",
          "1958-08-01T00:00:00",
          "1958-09-01T00:00:00",
          "1958-10-01T00:00:00",
          "1958-11-01T00:00:00",
          "1958-12-01T00:00:00",
          "1959-01-01T00:00:00",
          "1959-02-01T00:00:00",
          "1959-03-01T00:00:00",
          "1959-04-01T00:00:00",
          "1959-05-01T00:00:00",
          "1959-06-01T00:00:00",
          "1959-07-01T00:00:00",
          "1959-08-01T00:00:00",
          "1959-09-01T00:00:00",
          "1959-10-01T00:00:00",
          "1959-11-01T00:00:00",
          "1959-12-01T00:00:00",
          "1960-01-01T00:00:00",
          "1960-02-01T00:00:00",
          "1960-03-01T00:00:00",
          "1960-04-01T00:00:00",
          "1960-05-01T00:00:00",
          "1960-06-01T00:00:00",
          "1960-07-01T00:00:00",
          "1960-08-01T00:00:00",
          "1960-09-01T00:00:00",
          "1960-10-01T00:00:00",
          "1960-11-01T00:00:00",
          "1960-12-01T00:00:00"
         ],
         "xaxis": "x2",
         "y": [
          -96.35327811507696,
          -96.35327811507696,
          -96.35327811507696,
          -96.35327811507696,
          -96.35327811507696,
          -96.35327811507696,
          -96.35327811507696,
          -96.35327811507696,
          -96.35327811507696,
          -96.35327811507696,
          -96.35327811507696,
          -96.35327811507696,
          -96.35327811507696,
          -96.35327811507696,
          -96.35327811507696,
          -96.35327811507696,
          -96.35327811507696,
          -96.35327811507696,
          -94.78986623974612,
          -93.17434063524277,
          -91.5588150307351,
          -89.99540315540858,
          -88.37987755090523,
          -86.81646567557439,
          -85.20094007107105,
          -83.5854144665677,
          -82.12623004959484,
          -80.51070444508717,
          -78.94729256976065,
          -77.3317669652573,
          -75.76835508992646,
          -74.15282948542311,
          -72.53730388091545,
          -70.97389200558892,
          -69.35836640108558,
          -67.79495452575473,
          -66.17942892125139,
          -64.5683173211318,
          -63.06114840488545,
          -61.450036804765865,
          -59.89089654658506,
          -58.27978494646114,
          -56.72064468828034,
          -55.109533088160745,
          -53.49842148803683,
          -51.93928122985603,
          -50.32816962973644,
          -48.76902937155131,
          -47.15791777143173,
          -45.54239216692837,
          -44.08320774995552,
          -42.467682145447846,
          -40.90427027012133,
          -39.28874466561799,
          -37.72533279028713,
          -36.1098071857838,
          -34.49428158127612,
          -32.930869705949604,
          -31.315344101446257,
          -29.751932226115414,
          -28.136406621612068,
          -26.52088101710872,
          -25.06169660013586,
          -23.44617099562818,
          -21.88275912030167,
          -20.267233515798324,
          -18.70382164046748,
          -17.088296035964134,
          -15.472770431456468,
          -13.909358556129945,
          -11.856950029552308,
          -9.870748229632099,
          -7.818339703054463,
          -5.76593117647684,
          -3.9121428298879266,
          -1.8597343033047906,
          0.1264674966099193,
          2.1788760231875557,
          4.165077823107765,
          6.217486349685402,
          8.269894876268538,
          10.256096676183247,
          12.308505202760898,
          14.294707002681093,
          16.347115529258744,
          18.393916382266653,
          20.308665567345486,
          22.355466420353395,
          24.336241439394016,
          26.383042292407424,
          28.363817311448045,
          30.410618164455954,
          32.45741901746936,
          34.43819403651,
          36.48499488951791,
          38.465769908564,
          40.512570761571936,
          42.564979288149544,
          44.41876763473846,
          46.47117616132161,
          48.45737796123629,
          50.509786487813955,
          52.49598828773415,
          54.548396814311786,
          56.60080534089494,
          58.58700714080962,
          60.63941566738728,
          62.62561746730748,
          64.67802599388514,
          66.73043452046272,
          68.58422286705166,
          70.63663139363481,
          72.6228331935495,
          74.67524172012713,
          76.66144352004736,
          78.713852046625,
          80.76626057320811,
          82.75246237312282,
          84.80487089970046,
          86.79107269962068,
          88.84348122619832,
          90.89588975277593,
          92.74967809936484,
          94.802086625948,
          96.78828842586267,
          98.84069695244034,
          100.82689875236053,
          102.8793072789382,
          104.93171580552132,
          106.91791760543603,
          108.97032613201367,
          110.95652793193389,
          113.00893645851153,
          115.05573731151944,
          116.97048649659826,
          119.01728734960616,
          120.99806236864677,
          123.0448632216602,
          125.0256382407008,
          127.07243909370871,
          129.11923994672213,
          131.10001496576277,
          133.14681581877068,
          135.1275908378168
         ],
         "yaxis": "y2"
        },
        {
         "legendgroup": "Changepoints",
         "line": {
          "color": "#000000",
          "dash": "dot",
          "width": 2
         },
         "mode": "lines",
         "name": "Changepoints",
         "opacity": 0.75,
         "showlegend": true,
         "type": "scatter",
         "x": [
          "1954-09-04T00:00:00",
          "1954-09-04T00:00:00"
         ],
         "xaxis": "x2",
         "y": [
          -96.35327811507696,
          135.1275908378168
         ],
         "yaxis": "y2"
        },
        {
         "legendgroup": "Changepoints",
         "line": {
          "color": "#000000",
          "dash": "dot",
          "width": 2
         },
         "mode": "lines",
         "name": "Changepoints",
         "opacity": 0.75,
         "showlegend": false,
         "type": "scatter",
         "x": [
          "1950-05-20T00:00:00",
          "1950-05-20T00:00:00"
         ],
         "xaxis": "x2",
         "y": [
          -96.35327811507696,
          135.1275908378168
         ],
         "yaxis": "y2"
        },
        {
         "legendgroup": "Changepoints",
         "line": {
          "color": "#000000",
          "dash": "dot",
          "width": 2
         },
         "mode": "lines",
         "name": "Changepoints",
         "opacity": 0.75,
         "showlegend": false,
         "type": "scatter",
         "x": [
          "1958-12-20T00:00:00",
          "1958-12-20T00:00:00"
         ],
         "xaxis": "x2",
         "y": [
          -96.35327811507696,
          135.1275908378168
         ],
         "yaxis": "y2"
        },
        {
         "line": {
          "color": "rgb(0,0,0)"
         },
         "name": "Residuals",
         "opacity": 0.75,
         "type": "scatter",
         "x": [
          "1949-01-01T00:00:00",
          "1949-02-01T00:00:00",
          "1949-03-01T00:00:00",
          "1949-04-01T00:00:00",
          "1949-05-01T00:00:00",
          "1949-06-01T00:00:00",
          "1949-07-01T00:00:00",
          "1949-08-01T00:00:00",
          "1949-09-01T00:00:00",
          "1949-10-01T00:00:00",
          "1949-11-01T00:00:00",
          "1949-12-01T00:00:00",
          "1950-01-01T00:00:00",
          "1950-02-01T00:00:00",
          "1950-03-01T00:00:00",
          "1950-04-01T00:00:00",
          "1950-05-01T00:00:00",
          "1950-06-01T00:00:00",
          "1950-07-01T00:00:00",
          "1950-08-01T00:00:00",
          "1950-09-01T00:00:00",
          "1950-10-01T00:00:00",
          "1950-11-01T00:00:00",
          "1950-12-01T00:00:00",
          "1951-01-01T00:00:00",
          "1951-02-01T00:00:00",
          "1951-03-01T00:00:00",
          "1951-04-01T00:00:00",
          "1951-05-01T00:00:00",
          "1951-06-01T00:00:00",
          "1951-07-01T00:00:00",
          "1951-08-01T00:00:00",
          "1951-09-01T00:00:00",
          "1951-10-01T00:00:00",
          "1951-11-01T00:00:00",
          "1951-12-01T00:00:00",
          "1952-01-01T00:00:00",
          "1952-02-01T00:00:00",
          "1952-03-01T00:00:00",
          "1952-04-01T00:00:00",
          "1952-05-01T00:00:00",
          "1952-06-01T00:00:00",
          "1952-07-01T00:00:00",
          "1952-08-01T00:00:00",
          "1952-09-01T00:00:00",
          "1952-10-01T00:00:00",
          "1952-11-01T00:00:00",
          "1952-12-01T00:00:00",
          "1953-01-01T00:00:00",
          "1953-02-01T00:00:00",
          "1953-03-01T00:00:00",
          "1953-04-01T00:00:00",
          "1953-05-01T00:00:00",
          "1953-06-01T00:00:00",
          "1953-07-01T00:00:00",
          "1953-08-01T00:00:00",
          "1953-09-01T00:00:00",
          "1953-10-01T00:00:00",
          "1953-11-01T00:00:00",
          "1953-12-01T00:00:00",
          "1954-01-01T00:00:00",
          "1954-02-01T00:00:00",
          "1954-03-01T00:00:00",
          "1954-04-01T00:00:00",
          "1954-05-01T00:00:00",
          "1954-06-01T00:00:00",
          "1954-07-01T00:00:00",
          "1954-08-01T00:00:00",
          "1954-09-01T00:00:00",
          "1954-10-01T00:00:00",
          "1954-11-01T00:00:00",
          "1954-12-01T00:00:00",
          "1955-01-01T00:00:00",
          "1955-02-01T00:00:00",
          "1955-03-01T00:00:00",
          "1955-04-01T00:00:00",
          "1955-05-01T00:00:00",
          "1955-06-01T00:00:00",
          "1955-07-01T00:00:00",
          "1955-08-01T00:00:00",
          "1955-09-01T00:00:00",
          "1955-10-01T00:00:00",
          "1955-11-01T00:00:00",
          "1955-12-01T00:00:00",
          "1956-01-01T00:00:00",
          "1956-02-01T00:00:00",
          "1956-03-01T00:00:00",
          "1956-04-01T00:00:00",
          "1956-05-01T00:00:00",
          "1956-06-01T00:00:00",
          "1956-07-01T00:00:00",
          "1956-08-01T00:00:00",
          "1956-09-01T00:00:00",
          "1956-10-01T00:00:00",
          "1956-11-01T00:00:00",
          "1956-12-01T00:00:00",
          "1957-01-01T00:00:00",
          "1957-02-01T00:00:00",
          "1957-03-01T00:00:00",
          "1957-04-01T00:00:00",
          "1957-05-01T00:00:00",
          "1957-06-01T00:00:00",
          "1957-07-01T00:00:00",
          "1957-08-01T00:00:00",
          "1957-09-01T00:00:00",
          "1957-10-01T00:00:00",
          "1957-11-01T00:00:00",
          "1957-12-01T00:00:00",
          "1958-01-01T00:00:00",
          "1958-02-01T00:00:00",
          "1958-03-01T00:00:00",
          "1958-04-01T00:00:00",
          "1958-05-01T00:00:00",
          "1958-06-01T00:00:00",
          "1958-07-01T00:00:00",
          "1958-08-01T00:00:00",
          "1958-09-01T00:00:00",
          "1958-10-01T00:00:00",
          "1958-11-01T00:00:00",
          "1958-12-01T00:00:00",
          "1959-01-01T00:00:00",
          "1959-02-01T00:00:00",
          "1959-03-01T00:00:00",
          "1959-04-01T00:00:00",
          "1959-05-01T00:00:00",
          "1959-06-01T00:00:00",
          "1959-07-01T00:00:00",
          "1959-08-01T00:00:00",
          "1959-09-01T00:00:00",
          "1959-10-01T00:00:00",
          "1959-11-01T00:00:00",
          "1959-12-01T00:00:00",
          "1960-01-01T00:00:00",
          "1960-02-01T00:00:00",
          "1960-03-01T00:00:00",
          "1960-04-01T00:00:00",
          "1960-05-01T00:00:00",
          "1960-06-01T00:00:00",
          "1960-07-01T00:00:00",
          "1960-08-01T00:00:00",
          "1960-09-01T00:00:00",
          "1960-10-01T00:00:00",
          "1960-11-01T00:00:00",
          "1960-12-01T00:00:00"
         ],
         "xaxis": "x3",
         "y": [
          -10.880757195197148,
          -13.826350845383502,
          -0.4726273903408469,
          -5.626882540198636,
          -15.457999417577753,
          -1.7811376900564255,
          10.895724037464902,
          8.849181645100003,
          -6.059062807208022,
          -23.166775564700913,
          -35.043105597407106,
          -16.303744267719964,
          -8.419320982661588,
          -5.9340636028763925,
          6.6962557322800365,
          -1.7811376900564255,
          -13.935392839914215,
          10.172319917578676,
          28.747205982304706,
          23.361733865550235,
          4.899134173862535,
          -22.633692518900006,
          -39.26384609616642,
          -8.795343551895456,
          5.473554128659572,
          -1.3801182159448047,
          21.283038097338306,
          0.5744277081008136,
          6.072186197902283,
          8.086979928555365,
          27.52356805322455,
          22.03038317897716,
          2.5066131221614683,
          -21.70307529812237,
          -35.33322887538881,
          -11.187864603596495,
          3.0810330769585335,
          0.5549130092165626,
          8.385510338211958,
          -8.133845714215624,
          -8.770113547325337,
          24.295636580072085,
          32.04367738456904,
          37.154640667297855,
          5.1340700252798115,
          -22.401249065651342,
          -38.81156312354824,
          -10.830810357231087,
          0.11936305522903012,
          -10.980319986925139,
          24.975389416272662,
          17.835927997063607,
          6.071718579514396,
          14.901671977745707,
          33.58427079996463,
          36.8450752281675,
          -4.402098948534444,
          -31.31923427890362,
          -58.22598373628381,
          -28.87982192226883,
          -14.672094606841767,
          -40.479224559081246,
          4.199888964002753,
          -9.077870395263176,
          -6.118675692926104,
          17.311011857897597,
          50.623930015272975,
          31.92994759880287,
          -10.040630697785218,
          -41.065478785647315,
          -61.254856015244,
          -27.546909640804188,
          -4.4223417924087585,
          -25.820609816580316,
          3.0942191120441294,
          -1.0512741992688461,
          -4.945720451491582,
          34.01649899469385,
          75.86008483511495,
          46.57496434671282,
          1.2286734931772116,
          -38.434390034258854,
          -67.79265038647645,
          -16.930448862178764,
          -0.37502998381182806,
          -19.444552061934985,
          14.33218845327059,
          4.084590058039964,
          3.9801450717055786,
          53.517121161483715,
          84.39671896534833,
          63.57864236305147,
          2.160831608156684,
          -46.77340101851905,
          -72.29493681978778,
          -24.84220233478669,
          -3.6654844204566643,
          -29.6329014146566,
          20.281927513967787,
          4.843881112740178,
          6.303158315560097,
          65.43426088436638,
          99.3390170899155,
          86.68421593666977,
          9.567978570882985,
          -47.47939359415966,
          -78.82169673657637,
          -32.35843182264841,
          -14.140779189523244,
          -46.38479206383698,
          -5.638846257833507,
          -24.49178647923179,
          -12.339690339089543,
          52.76082704715276,
          98.91159395025159,
          95.45626110219075,
          -13.945765338196338,
          -66.53846530601783,
          -103.37278984353401,
          -57.35500393234082,
          -20.245064056708486,
          -49.35077899096535,
          9.34862442267331,
          -10.135964370919226,
          8.000174559422078,
          49.54617094839904,
          116.4509271539481,
          109.02617948845119,
          -3.9983023296435363,
          -61.01508931212226,
          -92.87999903220248,
          -30.64678760602345,
          -5.506262547827134,
          -43.57578462595029,
          -20.614203778322917,
          17.83101676376873,
          22.11088041504098,
          74.33934620510348,
          146.8638913168877,
          111.47533650752456,
          -3.004973849536043,
          -49.07750441626865,
          -104.78255131292138,
          -41.4973707135033
         ],
         "yaxis": "y3"
        },
        {
         "line": {
          "color": "rgb(250,237,9)"
         },
         "name": "Smoothed Residuals",
         "opacity": 0.75,
         "type": "scatter",
         "x": [
          "1949-01-01T00:00:00",
          "1949-02-01T00:00:00",
          "1949-03-01T00:00:00",
          "1949-04-01T00:00:00",
          "1949-05-01T00:00:00",
          "1949-06-01T00:00:00",
          "1949-07-01T00:00:00",
          "1949-08-01T00:00:00",
          "1949-09-01T00:00:00",
          "1949-10-01T00:00:00",
          "1949-11-01T00:00:00",
          "1949-12-01T00:00:00",
          "1950-01-01T00:00:00",
          "1950-02-01T00:00:00",
          "1950-03-01T00:00:00",
          "1950-04-01T00:00:00",
          "1950-05-01T00:00:00",
          "1950-06-01T00:00:00",
          "1950-07-01T00:00:00",
          "1950-08-01T00:00:00",
          "1950-09-01T00:00:00",
          "1950-10-01T00:00:00",
          "1950-11-01T00:00:00",
          "1950-12-01T00:00:00",
          "1951-01-01T00:00:00",
          "1951-02-01T00:00:00",
          "1951-03-01T00:00:00",
          "1951-04-01T00:00:00",
          "1951-05-01T00:00:00",
          "1951-06-01T00:00:00",
          "1951-07-01T00:00:00",
          "1951-08-01T00:00:00",
          "1951-09-01T00:00:00",
          "1951-10-01T00:00:00",
          "1951-11-01T00:00:00",
          "1951-12-01T00:00:00",
          "1952-01-01T00:00:00",
          "1952-02-01T00:00:00",
          "1952-03-01T00:00:00",
          "1952-04-01T00:00:00",
          "1952-05-01T00:00:00",
          "1952-06-01T00:00:00",
          "1952-07-01T00:00:00",
          "1952-08-01T00:00:00",
          "1952-09-01T00:00:00",
          "1952-10-01T00:00:00",
          "1952-11-01T00:00:00",
          "1952-12-01T00:00:00",
          "1953-01-01T00:00:00",
          "1953-02-01T00:00:00",
          "1953-03-01T00:00:00",
          "1953-04-01T00:00:00",
          "1953-05-01T00:00:00",
          "1953-06-01T00:00:00",
          "1953-07-01T00:00:00",
          "1953-08-01T00:00:00",
          "1953-09-01T00:00:00",
          "1953-10-01T00:00:00",
          "1953-11-01T00:00:00",
          "1953-12-01T00:00:00",
          "1954-01-01T00:00:00",
          "1954-02-01T00:00:00",
          "1954-03-01T00:00:00",
          "1954-04-01T00:00:00",
          "1954-05-01T00:00:00",
          "1954-06-01T00:00:00",
          "1954-07-01T00:00:00",
          "1954-08-01T00:00:00",
          "1954-09-01T00:00:00",
          "1954-10-01T00:00:00",
          "1954-11-01T00:00:00",
          "1954-12-01T00:00:00",
          "1955-01-01T00:00:00",
          "1955-02-01T00:00:00",
          "1955-03-01T00:00:00",
          "1955-04-01T00:00:00",
          "1955-05-01T00:00:00",
          "1955-06-01T00:00:00",
          "1955-07-01T00:00:00",
          "1955-08-01T00:00:00",
          "1955-09-01T00:00:00",
          "1955-10-01T00:00:00",
          "1955-11-01T00:00:00",
          "1955-12-01T00:00:00",
          "1956-01-01T00:00:00",
          "1956-02-01T00:00:00",
          "1956-03-01T00:00:00",
          "1956-04-01T00:00:00",
          "1956-05-01T00:00:00",
          "1956-06-01T00:00:00",
          "1956-07-01T00:00:00",
          "1956-08-01T00:00:00",
          "1956-09-01T00:00:00",
          "1956-10-01T00:00:00",
          "1956-11-01T00:00:00",
          "1956-12-01T00:00:00",
          "1957-01-01T00:00:00",
          "1957-02-01T00:00:00",
          "1957-03-01T00:00:00",
          "1957-04-01T00:00:00",
          "1957-05-01T00:00:00",
          "1957-06-01T00:00:00",
          "1957-07-01T00:00:00",
          "1957-08-01T00:00:00",
          "1957-09-01T00:00:00",
          "1957-10-01T00:00:00",
          "1957-11-01T00:00:00",
          "1957-12-01T00:00:00",
          "1958-01-01T00:00:00",
          "1958-02-01T00:00:00",
          "1958-03-01T00:00:00",
          "1958-04-01T00:00:00",
          "1958-05-01T00:00:00",
          "1958-06-01T00:00:00",
          "1958-07-01T00:00:00",
          "1958-08-01T00:00:00",
          "1958-09-01T00:00:00",
          "1958-10-01T00:00:00",
          "1958-11-01T00:00:00",
          "1958-12-01T00:00:00",
          "1959-01-01T00:00:00",
          "1959-02-01T00:00:00",
          "1959-03-01T00:00:00",
          "1959-04-01T00:00:00",
          "1959-05-01T00:00:00",
          "1959-06-01T00:00:00",
          "1959-07-01T00:00:00",
          "1959-08-01T00:00:00",
          "1959-09-01T00:00:00",
          "1959-10-01T00:00:00",
          "1959-11-01T00:00:00",
          "1959-12-01T00:00:00",
          "1960-01-01T00:00:00",
          "1960-02-01T00:00:00",
          "1960-03-01T00:00:00",
          "1960-04-01T00:00:00",
          "1960-05-01T00:00:00",
          "1960-06-01T00:00:00",
          "1960-07-01T00:00:00",
          "1960-08-01T00:00:00",
          "1960-09-01T00:00:00",
          "1960-10-01T00:00:00",
          "1960-11-01T00:00:00",
          "1960-12-01T00:00:00"
         ],
         "xaxis": "x3",
         "y": [
          -10.880757195197148,
          -12.64811338530896,
          -6.880777914008275,
          -6.35992906642581,
          -9.852553229664235,
          -6.90314875428875,
          -0.6013623214629076,
          2.676724856153759,
          -0.3129732743202193,
          -8.065345363619024,
          -17.163111564710704,
          -16.87443083661047,
          -14.041504655927758,
          -11.32973517273927,
          -5.307318395912132,
          -4.130132633967275,
          -7.401873386080632,
          -1.539842469949737,
          8.560396494459878,
          13.495659793274383,
          10.629576644574271,
          -0.4596618996264157,
          -13.395542614049635,
          -11.862051832417478,
          -6.083287660699808,
          -4.515523121240119,
          4.084148647309355,
          2.914227939765868,
          3.966888927068664,
          5.340259756490313,
          12.734721563949174,
          15.833282617532022,
          11.391052588215368,
          0.3596652622048255,
          -11.537974287833693,
          -11.421271006323082,
          -6.587168169728919,
          -4.206473958978471,
          -0.009145290519699797,
          -2.7173790100115087,
          -4.734957310759582,
          4.941907708474828,
          13.975831175915859,
          21.702101144400483,
          16.179424038921297,
          3.319199568624569,
          -10.72438806976727,
          -10.759862165713722,
          -7.133453750201706,
          -8.415742497787233,
          2.7146348185367892,
          7.755065881559084,
          7.19395011395011,
          9.763190736011241,
          17.703550758968948,
          24.084058916246974,
          14.58867296044825,
          -0.7139627869387971,
          -19.884636437502547,
          -22.883031599172853,
          -20.146052601679532,
          -26.92377658756203,
          -16.549221403623502,
          -14.058771067490014,
          -11.412072609292567,
          -1.8377111202063197,
          15.649502591647947,
          21.07631759403868,
          10.704001496756712,
          -6.552491930719434,
          -24.78661329223335,
          -25.706712075090493,
          -18.61192198086226,
          -21.014817926101834,
          -12.978472246719349,
          -9.002739564235684,
          -7.650399859987613,
          6.23856642490646,
          29.44573922830957,
          35.155480934444036,
          23.84654512068837,
          3.0862334023725557,
          -20.540061193910503,
          -19.336857083333253,
          -13.01624805015944,
          -15.159016054084624,
          -5.328614551632883,
          -2.190879681741934,
          -0.133871430592763,
          17.749792766766063,
          39.96543483296015,
          47.836504009657254,
          32.61127987582373,
          6.1497195777094715,
          -19.998499221456278,
          -21.613066925899748,
          -15.630539424085386,
          -20.297993420942458,
          -6.77135310930571,
          -2.8996083686237473,
          0.1679805261042008,
          21.923407312191596,
          47.7286105714329,
          60.7138123598452,
          43.6652010968578,
          13.283669533185313,
          -17.418119223401916,
          -22.39822342315075,
          -19.645742011941582,
          -28.558758695906715,
          -20.918787883215646,
          -22.109787415221025,
          -18.853088389843865,
          5.018216755821676,
          36.31600915396498,
          56.02942647004024,
          32.70436253396138,
          -0.3765800793650224,
          -34.70865000075468,
          -42.25743464461673,
          -34.91997778198065,
          -39.73024485164222,
          -23.370621760203708,
          -18.95906929710888,
          -9.972654678265227,
          9.866953863956194,
          45.394944960620165,
          66.60535646989717,
          43.07080353671694,
          8.375505920437206,
          -25.376329063776023,
          -27.133148577858503,
          -19.924186567848047,
          -27.80805258721546,
          -25.410102984251278,
          -10.996396401577941,
          0.03936253729503273,
          24.80602375989785,
          65.49197961222781,
          80.81976524399339,
          52.87818554615024,
          18.892955558677276,
          -22.33221339852228,
          -28.720599170182624
         ],
         "yaxis": "y3"
        }
       ],
       "layout": {
        "annotations": [
         {
          "font": {
           "size": 16
          },
          "showarrow": false,
          "text": "Component plot",
          "x": 0.5,
          "xanchor": "center",
          "xref": "paper",
          "y": 1,
          "yanchor": "bottom",
          "yref": "paper"
         },
         {
          "font": {
           "size": 16
          },
          "showarrow": false,
          "text": "Trend and change points",
          "x": 0.5,
          "xanchor": "center",
          "xref": "paper",
          "y": 0.6111111111111112,
          "yanchor": "bottom",
          "yref": "paper"
         },
         {
          "font": {
           "size": 16
          },
          "showarrow": false,
          "text": "Residuals",
          "x": 0.5,
          "xanchor": "center",
          "xref": "paper",
          "y": 0.22222222222222224,
          "yanchor": "bottom",
          "yref": "paper"
         }
        ],
        "height": 1050,
        "template": {
         "data": {
          "bar": [
           {
            "error_x": {
             "color": "#2a3f5f"
            },
            "error_y": {
             "color": "#2a3f5f"
            },
            "marker": {
             "line": {
              "color": "#E5ECF6",
              "width": 0.5
             },
             "pattern": {
              "fillmode": "overlay",
              "size": 10,
              "solidity": 0.2
             }
            },
            "type": "bar"
           }
          ],
          "barpolar": [
           {
            "marker": {
             "line": {
              "color": "#E5ECF6",
              "width": 0.5
             },
             "pattern": {
              "fillmode": "overlay",
              "size": 10,
              "solidity": 0.2
             }
            },
            "type": "barpolar"
           }
          ],
          "carpet": [
           {
            "aaxis": {
             "endlinecolor": "#2a3f5f",
             "gridcolor": "white",
             "linecolor": "white",
             "minorgridcolor": "white",
             "startlinecolor": "#2a3f5f"
            },
            "baxis": {
             "endlinecolor": "#2a3f5f",
             "gridcolor": "white",
             "linecolor": "white",
             "minorgridcolor": "white",
             "startlinecolor": "#2a3f5f"
            },
            "type": "carpet"
           }
          ],
          "choropleth": [
           {
            "colorbar": {
             "outlinewidth": 0,
             "ticks": ""
            },
            "type": "choropleth"
           }
          ],
          "contour": [
           {
            "colorbar": {
             "outlinewidth": 0,
             "ticks": ""
            },
            "colorscale": [
             [
              0,
              "#0d0887"
             ],
             [
              0.1111111111111111,
              "#46039f"
             ],
             [
              0.2222222222222222,
              "#7201a8"
             ],
             [
              0.3333333333333333,
              "#9c179e"
             ],
             [
              0.4444444444444444,
              "#bd3786"
             ],
             [
              0.5555555555555556,
              "#d8576b"
             ],
             [
              0.6666666666666666,
              "#ed7953"
             ],
             [
              0.7777777777777778,
              "#fb9f3a"
             ],
             [
              0.8888888888888888,
              "#fdca26"
             ],
             [
              1,
              "#f0f921"
             ]
            ],
            "type": "contour"
           }
          ],
          "contourcarpet": [
           {
            "colorbar": {
             "outlinewidth": 0,
             "ticks": ""
            },
            "type": "contourcarpet"
           }
          ],
          "heatmap": [
           {
            "colorbar": {
             "outlinewidth": 0,
             "ticks": ""
            },
            "colorscale": [
             [
              0,
              "#0d0887"
             ],
             [
              0.1111111111111111,
              "#46039f"
             ],
             [
              0.2222222222222222,
              "#7201a8"
             ],
             [
              0.3333333333333333,
              "#9c179e"
             ],
             [
              0.4444444444444444,
              "#bd3786"
             ],
             [
              0.5555555555555556,
              "#d8576b"
             ],
             [
              0.6666666666666666,
              "#ed7953"
             ],
             [
              0.7777777777777778,
              "#fb9f3a"
             ],
             [
              0.8888888888888888,
              "#fdca26"
             ],
             [
              1,
              "#f0f921"
             ]
            ],
            "type": "heatmap"
           }
          ],
          "heatmapgl": [
           {
            "colorbar": {
             "outlinewidth": 0,
             "ticks": ""
            },
            "colorscale": [
             [
              0,
              "#0d0887"
             ],
             [
              0.1111111111111111,
              "#46039f"
             ],
             [
              0.2222222222222222,
              "#7201a8"
             ],
             [
              0.3333333333333333,
              "#9c179e"
             ],
             [
              0.4444444444444444,
              "#bd3786"
             ],
             [
              0.5555555555555556,
              "#d8576b"
             ],
             [
              0.6666666666666666,
              "#ed7953"
             ],
             [
              0.7777777777777778,
              "#fb9f3a"
             ],
             [
              0.8888888888888888,
              "#fdca26"
             ],
             [
              1,
              "#f0f921"
             ]
            ],
            "type": "heatmapgl"
           }
          ],
          "histogram": [
           {
            "marker": {
             "pattern": {
              "fillmode": "overlay",
              "size": 10,
              "solidity": 0.2
             }
            },
            "type": "histogram"
           }
          ],
          "histogram2d": [
           {
            "colorbar": {
             "outlinewidth": 0,
             "ticks": ""
            },
            "colorscale": [
             [
              0,
              "#0d0887"
             ],
             [
              0.1111111111111111,
              "#46039f"
             ],
             [
              0.2222222222222222,
              "#7201a8"
             ],
             [
              0.3333333333333333,
              "#9c179e"
             ],
             [
              0.4444444444444444,
              "#bd3786"
             ],
             [
              0.5555555555555556,
              "#d8576b"
             ],
             [
              0.6666666666666666,
              "#ed7953"
             ],
             [
              0.7777777777777778,
              "#fb9f3a"
             ],
             [
              0.8888888888888888,
              "#fdca26"
             ],
             [
              1,
              "#f0f921"
             ]
            ],
            "type": "histogram2d"
           }
          ],
          "histogram2dcontour": [
           {
            "colorbar": {
             "outlinewidth": 0,
             "ticks": ""
            },
            "colorscale": [
             [
              0,
              "#0d0887"
             ],
             [
              0.1111111111111111,
              "#46039f"
             ],
             [
              0.2222222222222222,
              "#7201a8"
             ],
             [
              0.3333333333333333,
              "#9c179e"
             ],
             [
              0.4444444444444444,
              "#bd3786"
             ],
             [
              0.5555555555555556,
              "#d8576b"
             ],
             [
              0.6666666666666666,
              "#ed7953"
             ],
             [
              0.7777777777777778,
              "#fb9f3a"
             ],
             [
              0.8888888888888888,
              "#fdca26"
             ],
             [
              1,
              "#f0f921"
             ]
            ],
            "type": "histogram2dcontour"
           }
          ],
          "mesh3d": [
           {
            "colorbar": {
             "outlinewidth": 0,
             "ticks": ""
            },
            "type": "mesh3d"
           }
          ],
          "parcoords": [
           {
            "line": {
             "colorbar": {
              "outlinewidth": 0,
              "ticks": ""
             }
            },
            "type": "parcoords"
           }
          ],
          "pie": [
           {
            "automargin": true,
            "type": "pie"
           }
          ],
          "scatter": [
           {
            "fillpattern": {
             "fillmode": "overlay",
             "size": 10,
             "solidity": 0.2
            },
            "type": "scatter"
           }
          ],
          "scatter3d": [
           {
            "line": {
             "colorbar": {
              "outlinewidth": 0,
              "ticks": ""
             }
            },
            "marker": {
             "colorbar": {
              "outlinewidth": 0,
              "ticks": ""
             }
            },
            "type": "scatter3d"
           }
          ],
          "scattercarpet": [
           {
            "marker": {
             "colorbar": {
              "outlinewidth": 0,
              "ticks": ""
             }
            },
            "type": "scattercarpet"
           }
          ],
          "scattergeo": [
           {
            "marker": {
             "colorbar": {
              "outlinewidth": 0,
              "ticks": ""
             }
            },
            "type": "scattergeo"
           }
          ],
          "scattergl": [
           {
            "marker": {
             "colorbar": {
              "outlinewidth": 0,
              "ticks": ""
             }
            },
            "type": "scattergl"
           }
          ],
          "scattermapbox": [
           {
            "marker": {
             "colorbar": {
              "outlinewidth": 0,
              "ticks": ""
             }
            },
            "type": "scattermapbox"
           }
          ],
          "scatterpolar": [
           {
            "marker": {
             "colorbar": {
              "outlinewidth": 0,
              "ticks": ""
             }
            },
            "type": "scatterpolar"
           }
          ],
          "scatterpolargl": [
           {
            "marker": {
             "colorbar": {
              "outlinewidth": 0,
              "ticks": ""
             }
            },
            "type": "scatterpolargl"
           }
          ],
          "scatterternary": [
           {
            "marker": {
             "colorbar": {
              "outlinewidth": 0,
              "ticks": ""
             }
            },
            "type": "scatterternary"
           }
          ],
          "surface": [
           {
            "colorbar": {
             "outlinewidth": 0,
             "ticks": ""
            },
            "colorscale": [
             [
              0,
              "#0d0887"
             ],
             [
              0.1111111111111111,
              "#46039f"
             ],
             [
              0.2222222222222222,
              "#7201a8"
             ],
             [
              0.3333333333333333,
              "#9c179e"
             ],
             [
              0.4444444444444444,
              "#bd3786"
             ],
             [
              0.5555555555555556,
              "#d8576b"
             ],
             [
              0.6666666666666666,
              "#ed7953"
             ],
             [
              0.7777777777777778,
              "#fb9f3a"
             ],
             [
              0.8888888888888888,
              "#fdca26"
             ],
             [
              1,
              "#f0f921"
             ]
            ],
            "type": "surface"
           }
          ],
          "table": [
           {
            "cells": {
             "fill": {
              "color": "#EBF0F8"
             },
             "line": {
              "color": "white"
             }
            },
            "header": {
             "fill": {
              "color": "#C8D4E3"
             },
             "line": {
              "color": "white"
             }
            },
            "type": "table"
           }
          ]
         },
         "layout": {
          "annotationdefaults": {
           "arrowcolor": "#2a3f5f",
           "arrowhead": 0,
           "arrowwidth": 1
          },
          "autotypenumbers": "strict",
          "coloraxis": {
           "colorbar": {
            "outlinewidth": 0,
            "ticks": ""
           }
          },
          "colorscale": {
           "diverging": [
            [
             0,
             "#8e0152"
            ],
            [
             0.1,
             "#c51b7d"
            ],
            [
             0.2,
             "#de77ae"
            ],
            [
             0.3,
             "#f1b6da"
            ],
            [
             0.4,
             "#fde0ef"
            ],
            [
             0.5,
             "#f7f7f7"
            ],
            [
             0.6,
             "#e6f5d0"
            ],
            [
             0.7,
             "#b8e186"
            ],
            [
             0.8,
             "#7fbc41"
            ],
            [
             0.9,
             "#4d9221"
            ],
            [
             1,
             "#276419"
            ]
           ],
           "sequential": [
            [
             0,
             "#0d0887"
            ],
            [
             0.1111111111111111,
             "#46039f"
            ],
            [
             0.2222222222222222,
             "#7201a8"
            ],
            [
             0.3333333333333333,
             "#9c179e"
            ],
            [
             0.4444444444444444,
             "#bd3786"
            ],
            [
             0.5555555555555556,
             "#d8576b"
            ],
            [
             0.6666666666666666,
             "#ed7953"
            ],
            [
             0.7777777777777778,
             "#fb9f3a"
            ],
            [
             0.8888888888888888,
             "#fdca26"
            ],
            [
             1,
             "#f0f921"
            ]
           ],
           "sequentialminus": [
            [
             0,
             "#0d0887"
            ],
            [
             0.1111111111111111,
             "#46039f"
            ],
            [
             0.2222222222222222,
             "#7201a8"
            ],
            [
             0.3333333333333333,
             "#9c179e"
            ],
            [
             0.4444444444444444,
             "#bd3786"
            ],
            [
             0.5555555555555556,
             "#d8576b"
            ],
            [
             0.6666666666666666,
             "#ed7953"
            ],
            [
             0.7777777777777778,
             "#fb9f3a"
            ],
            [
             0.8888888888888888,
             "#fdca26"
            ],
            [
             1,
             "#f0f921"
            ]
           ]
          },
          "colorway": [
           "#636efa",
           "#EF553B",
           "#00cc96",
           "#ab63fa",
           "#FFA15A",
           "#19d3f3",
           "#FF6692",
           "#B6E880",
           "#FF97FF",
           "#FECB52"
          ],
          "font": {
           "color": "#2a3f5f"
          },
          "geo": {
           "bgcolor": "white",
           "lakecolor": "white",
           "landcolor": "#E5ECF6",
           "showlakes": true,
           "showland": true,
           "subunitcolor": "white"
          },
          "hoverlabel": {
           "align": "left"
          },
          "hovermode": "closest",
          "mapbox": {
           "style": "light"
          },
          "paper_bgcolor": "white",
          "plot_bgcolor": "#E5ECF6",
          "polar": {
           "angularaxis": {
            "gridcolor": "white",
            "linecolor": "white",
            "ticks": ""
           },
           "bgcolor": "#E5ECF6",
           "radialaxis": {
            "gridcolor": "white",
            "linecolor": "white",
            "ticks": ""
           }
          },
          "scene": {
           "xaxis": {
            "backgroundcolor": "#E5ECF6",
            "gridcolor": "white",
            "gridwidth": 2,
            "linecolor": "white",
            "showbackground": true,
            "ticks": "",
            "zerolinecolor": "white"
           },
           "yaxis": {
            "backgroundcolor": "#E5ECF6",
            "gridcolor": "white",
            "gridwidth": 2,
            "linecolor": "white",
            "showbackground": true,
            "ticks": "",
            "zerolinecolor": "white"
           },
           "zaxis": {
            "backgroundcolor": "#E5ECF6",
            "gridcolor": "white",
            "gridwidth": 2,
            "linecolor": "white",
            "showbackground": true,
            "ticks": "",
            "zerolinecolor": "white"
           }
          },
          "shapedefaults": {
           "line": {
            "color": "#2a3f5f"
           }
          },
          "ternary": {
           "aaxis": {
            "gridcolor": "white",
            "linecolor": "white",
            "ticks": ""
           },
           "baxis": {
            "gridcolor": "white",
            "linecolor": "white",
            "ticks": ""
           },
           "bgcolor": "#E5ECF6",
           "caxis": {
            "gridcolor": "white",
            "linecolor": "white",
            "ticks": ""
           }
          },
          "title": {
           "x": 0.05
          },
          "xaxis": {
           "automargin": true,
           "gridcolor": "white",
           "linecolor": "white",
           "ticks": "",
           "title": {
            "standoff": 15
           },
           "zerolinecolor": "white",
           "zerolinewidth": 2
          },
          "yaxis": {
           "automargin": true,
           "gridcolor": "white",
           "linecolor": "white",
           "ticks": "",
           "title": {
            "standoff": 15
           },
           "zerolinecolor": "white",
           "zerolinewidth": 2
          }
         }
        },
        "title": {
         "text": "Component Plot - Training",
         "x": 0.5
        },
        "xaxis": {
         "anchor": "y",
         "domain": [
          0,
          1
         ],
         "matches": "x3",
         "rangeslider": {
          "thickness": 0.05,
          "visible": true
         },
         "showticklabels": true,
         "title": {
          "text": "Date"
         }
        },
        "xaxis2": {
         "anchor": "y2",
         "domain": [
          0,
          1
         ],
         "matches": "x3",
         "showticklabels": true
        },
        "xaxis3": {
         "anchor": "y3",
         "domain": [
          0,
          1
         ]
        },
        "yaxis": {
         "anchor": "x",
         "domain": [
          0.7777777777777778,
          1
         ],
         "fixedrange": false
        },
        "yaxis2": {
         "anchor": "x2",
         "domain": [
          0.3888888888888889,
          0.6111111111111112
         ],
         "fixedrange": false
        },
        "yaxis3": {
         "anchor": "x3",
         "domain": [
          0,
          0.22222222222222224
         ],
         "fixedrange": false
        }
       }
      }
     },
     "metadata": {},
     "output_type": "display_data"
    }
   ],
   "source": [
    "fig=forecast.plot_components()\n",
    "iplot(fig)"
   ]
  },
  {
   "cell_type": "code",
   "execution_count": 13,
   "metadata": {},
   "outputs": [
    {
     "name": "stdout",
     "output_type": "stream",
     "text": [
      "                         0\n",
      "rank_test_MAPE           1\n",
      "mean_test_MAPE       11.55\n",
      "split_test_MAPE   (11.55,)\n",
      "mean_train_MAPE       9.28\n",
      "split_train_MAPE   (9.28,)\n",
      "mean_fit_time         0.63\n",
      "mean_score_time       0.74\n",
      "params                  []\n"
     ]
    }
   ],
   "source": [
    "# Get cross-validation results\n",
    "cv_results = summarize_grid_search_results(\n",
    "     grid_search=grid_search,\n",
    "     decimals=2,\n",
    "     cv_report_metrics=None,\n",
    "     column_order=[\n",
    "         \"rank\", \"mean_test\", \"split_test\", \"mean_train\", \"split_train\",\n",
    "         \"mean_fit_time\", \"mean_score_time\", \"params\"])\n",
    "# Transposes to save space in the printed output\n",
    "print(cv_results.transpose())"
   ]
  },
  {
   "cell_type": "code",
   "execution_count": 14,
   "metadata": {},
   "outputs": [
    {
     "name": "stdout",
     "output_type": "stream",
     "text": [
      "                                                         train         test\n",
      "CORR                                                  0.929092     0.542434\n",
      "R2                                                    0.863211     0.270862\n",
      "MSE                                                 992.394718  4461.086853\n",
      "RMSE                                                 31.502297    66.791368\n",
      "MAE                                                  22.349179    56.135816\n",
      "MedAE                                                17.290882    51.990903\n",
      "MAPE                                                  9.521339    13.233279\n",
      "MedAPE                                                8.310619    11.860122\n",
      "sMAPE                                                 4.656115     6.428517\n",
      "Q80                                                  11.174589    24.827746\n",
      "Q95                                                  11.174589    23.207665\n",
      "Q99                                                  11.174589    22.775643\n",
      "OutsideTolerance1p                                    0.842593     0.944444\n",
      "OutsideTolerance2p                                    0.787037     0.944444\n",
      "OutsideTolerance3p                                    0.740741     0.888889\n",
      "OutsideTolerance4p                                    0.666667     0.861111\n",
      "OutsideTolerance5p                                    0.555556     0.833333\n",
      "Outside Tolerance (fraction)                              None         None\n",
      "R2_null_model_score                                       None         None\n",
      "Prediction Band Width (%)                            61.448948     29.86866\n",
      "Prediction Band Coverage (fraction)                   0.935185     0.638889\n",
      "Coverage: Lower Band                                  0.472222     0.472222\n",
      "Coverage: Upper Band                                  0.462963     0.166667\n",
      "Coverage Diff: Actual_Coverage - Intended_Coverage   -0.014815    -0.311111\n",
      "MIS                                                 171.298173    647.37505\n"
     ]
    }
   ],
   "source": [
    "# Check historical evaluation metrics (on the historical training/test set).\n",
    "backtest_eval = defaultdict(list)\n",
    "for metric, value in backtest.train_evaluation.items():\n",
    "    backtest_eval[metric].append(value)\n",
    "    backtest_eval[metric].append(backtest.test_evaluation[metric])\n",
    "metrics = pd.DataFrame(backtest_eval, index=[\"train\", \"test\"]).T\n",
    "print(metrics)"
   ]
  },
  {
   "cell_type": "code",
   "execution_count": 15,
   "metadata": {},
   "outputs": [
    {
     "data": {
      "application/vnd.plotly.v1+json": {
       "config": {
        "linkText": "Export to plot.ly",
        "plotlyServerURL": "https://plot.ly",
        "showLink": false
       },
       "data": [
        {
         "legendgroup": "interval",
         "line": {
          "color": "rgba(0, 90, 181, 0.5)",
          "width": 0
         },
         "mode": "lines",
         "name": "Lower Bound",
         "type": "scatter",
         "x": [
          "1949-01-01T00:00:00",
          "1949-02-01T00:00:00",
          "1949-03-01T00:00:00",
          "1949-04-01T00:00:00",
          "1949-05-01T00:00:00",
          "1949-06-01T00:00:00",
          "1949-07-01T00:00:00",
          "1949-08-01T00:00:00",
          "1949-09-01T00:00:00",
          "1949-10-01T00:00:00",
          "1949-11-01T00:00:00",
          "1949-12-01T00:00:00",
          "1950-01-01T00:00:00",
          "1950-02-01T00:00:00",
          "1950-03-01T00:00:00",
          "1950-04-01T00:00:00",
          "1950-05-01T00:00:00",
          "1950-06-01T00:00:00",
          "1950-07-01T00:00:00",
          "1950-08-01T00:00:00",
          "1950-09-01T00:00:00",
          "1950-10-01T00:00:00",
          "1950-11-01T00:00:00",
          "1950-12-01T00:00:00",
          "1951-01-01T00:00:00",
          "1951-02-01T00:00:00",
          "1951-03-01T00:00:00",
          "1951-04-01T00:00:00",
          "1951-05-01T00:00:00",
          "1951-06-01T00:00:00",
          "1951-07-01T00:00:00",
          "1951-08-01T00:00:00",
          "1951-09-01T00:00:00",
          "1951-10-01T00:00:00",
          "1951-11-01T00:00:00",
          "1951-12-01T00:00:00",
          "1952-01-01T00:00:00",
          "1952-02-01T00:00:00",
          "1952-03-01T00:00:00",
          "1952-04-01T00:00:00",
          "1952-05-01T00:00:00",
          "1952-06-01T00:00:00",
          "1952-07-01T00:00:00",
          "1952-08-01T00:00:00",
          "1952-09-01T00:00:00",
          "1952-10-01T00:00:00",
          "1952-11-01T00:00:00",
          "1952-12-01T00:00:00",
          "1953-01-01T00:00:00",
          "1953-02-01T00:00:00",
          "1953-03-01T00:00:00",
          "1953-04-01T00:00:00",
          "1953-05-01T00:00:00",
          "1953-06-01T00:00:00",
          "1953-07-01T00:00:00",
          "1953-08-01T00:00:00",
          "1953-09-01T00:00:00",
          "1953-10-01T00:00:00",
          "1953-11-01T00:00:00",
          "1953-12-01T00:00:00",
          "1954-01-01T00:00:00",
          "1954-02-01T00:00:00",
          "1954-03-01T00:00:00",
          "1954-04-01T00:00:00",
          "1954-05-01T00:00:00",
          "1954-06-01T00:00:00",
          "1954-07-01T00:00:00",
          "1954-08-01T00:00:00",
          "1954-09-01T00:00:00",
          "1954-10-01T00:00:00",
          "1954-11-01T00:00:00",
          "1954-12-01T00:00:00",
          "1955-01-01T00:00:00",
          "1955-02-01T00:00:00",
          "1955-03-01T00:00:00",
          "1955-04-01T00:00:00",
          "1955-05-01T00:00:00",
          "1955-06-01T00:00:00",
          "1955-07-01T00:00:00",
          "1955-08-01T00:00:00",
          "1955-09-01T00:00:00",
          "1955-10-01T00:00:00",
          "1955-11-01T00:00:00",
          "1955-12-01T00:00:00",
          "1956-01-01T00:00:00",
          "1956-02-01T00:00:00",
          "1956-03-01T00:00:00",
          "1956-04-01T00:00:00",
          "1956-05-01T00:00:00",
          "1956-06-01T00:00:00",
          "1956-07-01T00:00:00",
          "1956-08-01T00:00:00",
          "1956-09-01T00:00:00",
          "1956-10-01T00:00:00",
          "1956-11-01T00:00:00",
          "1956-12-01T00:00:00",
          "1957-01-01T00:00:00",
          "1957-02-01T00:00:00",
          "1957-03-01T00:00:00",
          "1957-04-01T00:00:00",
          "1957-05-01T00:00:00",
          "1957-06-01T00:00:00",
          "1957-07-01T00:00:00",
          "1957-08-01T00:00:00",
          "1957-09-01T00:00:00",
          "1957-10-01T00:00:00",
          "1957-11-01T00:00:00",
          "1957-12-01T00:00:00",
          "1958-01-01T00:00:00",
          "1958-02-01T00:00:00",
          "1958-03-01T00:00:00",
          "1958-04-01T00:00:00",
          "1958-05-01T00:00:00",
          "1958-06-01T00:00:00",
          "1958-07-01T00:00:00",
          "1958-08-01T00:00:00",
          "1958-09-01T00:00:00",
          "1958-10-01T00:00:00",
          "1958-11-01T00:00:00",
          "1958-12-01T00:00:00",
          "1959-01-01T00:00:00",
          "1959-02-01T00:00:00",
          "1959-03-01T00:00:00",
          "1959-04-01T00:00:00",
          "1959-05-01T00:00:00",
          "1959-06-01T00:00:00",
          "1959-07-01T00:00:00",
          "1959-08-01T00:00:00",
          "1959-09-01T00:00:00",
          "1959-10-01T00:00:00",
          "1959-11-01T00:00:00",
          "1959-12-01T00:00:00",
          "1960-01-01T00:00:00",
          "1960-02-01T00:00:00",
          "1960-03-01T00:00:00",
          "1960-04-01T00:00:00",
          "1960-05-01T00:00:00",
          "1960-06-01T00:00:00",
          "1960-07-01T00:00:00",
          "1960-08-01T00:00:00",
          "1960-09-01T00:00:00",
          "1960-10-01T00:00:00",
          "1960-11-01T00:00:00",
          "1960-12-01T00:00:00"
         ],
         "y": [
          46.46505438375644,
          56.78853663685081,
          57.893686900168206,
          60.640468997683556,
          63.030103944438565,
          63.83823874342659,
          65.47813765099642,
          68.98590526998473,
          73.40597750004775,
          74.81780025484622,
          72.85174020740794,
          69.13184952493509,
          58.56274663446159,
          69.30510017987851,
          73.02520356017882,
          76.98912348470628,
          80.5676696907986,
          81.79467578210918,
          84.00476507159846,
          89.33714191272898,
          95.80989951770195,
          98.13402688357152,
          95.25566222506217,
          90.16731462598267,
          79.59821173550915,
          92.16517450306827,
          97.48181095274299,
          103.15630202302876,
          106.50677207635331,
          110.35665392449329,
          111.65443860291145,
          117.10085352042586,
          121.52092575048889,
          123.5029388872068,
          120.62457422869744,
          115.87834085876958,
          105.30923796829609,
          117.53042245160066,
          122.65881457333978,
          127.07522274829631,
          129.50984233077264,
          131.18933667251952,
          135.33452740075415,
          142.25977325615622,
          140.46793819214273,
          150.59329600658322,
          147.48319114020322,
          140.7947646119722,
          130.56411189554746,
          142.33280812841937,
          146.28098766148747,
          152.41163103730878,
          158.15690069469497,
          163.2612013830577,
          165.35725259616308,
          170.00540097899028,
          176.2500824311955,
          176.86363865130676,
          172.16066477065516,
          162.96694642175572,
          150.34515815637226,
          160.74539747263753,
          162.86896778356342,
          168.92865188729573,
          173.6635174892948,
          181.0916585096279,
          186.51075256993613,
          197.245997805402,
          206.15663381873145,
          207.69843328198175,
          201.55604321263223,
          193.40460618325793,
          182.3083917151576,
          195.83073789808049,
          201.22307071175732,
          207.73890712102525,
          212.9299250285598,
          219.33172336143798,
          226.91754087304008,
          239.93354763618362,
          250.8968690244231,
          252.6667446404411,
          244.58570727256557,
          234.1535087155135,
          222.60114194187764,
          235.77541108278928,
          242.3729462065594,
          248.99685787934567,
          254.41018147559026,
          261.2621693011502,
          269.86855903614355,
          283.448793368347,
          295.54653270756575,
          295.48602863738364,
          285.4603811581225,
          272.2854983037992,
          259.01659757154545,
          272.0827914489328,
          277.47512426260965,
          285.3594175884842,
          291.2346639543221,
          299.57510958572635,
          309.21361247223837,
          324.7384569158275,
          339.69311097750295,
          339.75241544776264,
          328.4783119411383,
          312.1161334121241,
          296.6864720414361,
          310.0625859540741,
          319.6850247071523,
          327.0808064823728,
          332.6589077601554,
          337.41813833894645,
          341.5523783509886,
          345.3850780758111,
          339.1612738817643,
          351.3295092343713,
          354.6268639395401,
          357.792769266967,
          352.24239698426715,
          364.38635213715196,
          367.47049591985916,
          370.75651475780427,
          374.9798189798128,
          378.3702670674607,
          381.72524584733316,
          385.1584883478295,
          388.501633729386,
          391.7689851398214,
          395.0967433551123,
          398.3420726839309,
          391.7891852364965,
          403.82537719373687,
          406.8567858745676,
          410.00421408160304,
          414.18764031348786,
          417.5457595604685,
          420.87092893923835,
          424.28657489203005,
          427.6146646587143,
          430.869122608522,
          434.1857240756953,
          437.42082338755534
         ]
        },
        {
         "fill": "tonexty",
         "fillcolor": "rgba(0, 90, 181, 0.15)",
         "legendgroup": "interval",
         "line": {
          "color": "rgba(0, 90, 181, 0.5)",
          "width": 0
         },
         "mode": "lines",
         "name": "Upper Bound",
         "type": "scatter",
         "x": [
          "1949-01-01T00:00:00",
          "1949-02-01T00:00:00",
          "1949-03-01T00:00:00",
          "1949-04-01T00:00:00",
          "1949-05-01T00:00:00",
          "1949-06-01T00:00:00",
          "1949-07-01T00:00:00",
          "1949-08-01T00:00:00",
          "1949-09-01T00:00:00",
          "1949-10-01T00:00:00",
          "1949-11-01T00:00:00",
          "1949-12-01T00:00:00",
          "1950-01-01T00:00:00",
          "1950-02-01T00:00:00",
          "1950-03-01T00:00:00",
          "1950-04-01T00:00:00",
          "1950-05-01T00:00:00",
          "1950-06-01T00:00:00",
          "1950-07-01T00:00:00",
          "1950-08-01T00:00:00",
          "1950-09-01T00:00:00",
          "1950-10-01T00:00:00",
          "1950-11-01T00:00:00",
          "1950-12-01T00:00:00",
          "1951-01-01T00:00:00",
          "1951-02-01T00:00:00",
          "1951-03-01T00:00:00",
          "1951-04-01T00:00:00",
          "1951-05-01T00:00:00",
          "1951-06-01T00:00:00",
          "1951-07-01T00:00:00",
          "1951-08-01T00:00:00",
          "1951-09-01T00:00:00",
          "1951-10-01T00:00:00",
          "1951-11-01T00:00:00",
          "1951-12-01T00:00:00",
          "1952-01-01T00:00:00",
          "1952-02-01T00:00:00",
          "1952-03-01T00:00:00",
          "1952-04-01T00:00:00",
          "1952-05-01T00:00:00",
          "1952-06-01T00:00:00",
          "1952-07-01T00:00:00",
          "1952-08-01T00:00:00",
          "1952-09-01T00:00:00",
          "1952-10-01T00:00:00",
          "1952-11-01T00:00:00",
          "1952-12-01T00:00:00",
          "1953-01-01T00:00:00",
          "1953-02-01T00:00:00",
          "1953-03-01T00:00:00",
          "1953-04-01T00:00:00",
          "1953-05-01T00:00:00",
          "1953-06-01T00:00:00",
          "1953-07-01T00:00:00",
          "1953-08-01T00:00:00",
          "1953-09-01T00:00:00",
          "1953-10-01T00:00:00",
          "1953-11-01T00:00:00",
          "1953-12-01T00:00:00",
          "1954-01-01T00:00:00",
          "1954-02-01T00:00:00",
          "1954-03-01T00:00:00",
          "1954-04-01T00:00:00",
          "1954-05-01T00:00:00",
          "1954-06-01T00:00:00",
          "1954-07-01T00:00:00",
          "1954-08-01T00:00:00",
          "1954-09-01T00:00:00",
          "1954-10-01T00:00:00",
          "1954-11-01T00:00:00",
          "1954-12-01T00:00:00",
          "1955-01-01T00:00:00",
          "1955-02-01T00:00:00",
          "1955-03-01T00:00:00",
          "1955-04-01T00:00:00",
          "1955-05-01T00:00:00",
          "1955-06-01T00:00:00",
          "1955-07-01T00:00:00",
          "1955-08-01T00:00:00",
          "1955-09-01T00:00:00",
          "1955-10-01T00:00:00",
          "1955-11-01T00:00:00",
          "1955-12-01T00:00:00",
          "1956-01-01T00:00:00",
          "1956-02-01T00:00:00",
          "1956-03-01T00:00:00",
          "1956-04-01T00:00:00",
          "1956-05-01T00:00:00",
          "1956-06-01T00:00:00",
          "1956-07-01T00:00:00",
          "1956-08-01T00:00:00",
          "1956-09-01T00:00:00",
          "1956-10-01T00:00:00",
          "1956-11-01T00:00:00",
          "1956-12-01T00:00:00",
          "1957-01-01T00:00:00",
          "1957-02-01T00:00:00",
          "1957-03-01T00:00:00",
          "1957-04-01T00:00:00",
          "1957-05-01T00:00:00",
          "1957-06-01T00:00:00",
          "1957-07-01T00:00:00",
          "1957-08-01T00:00:00",
          "1957-09-01T00:00:00",
          "1957-10-01T00:00:00",
          "1957-11-01T00:00:00",
          "1957-12-01T00:00:00",
          "1958-01-01T00:00:00",
          "1958-02-01T00:00:00",
          "1958-03-01T00:00:00",
          "1958-04-01T00:00:00",
          "1958-05-01T00:00:00",
          "1958-06-01T00:00:00",
          "1958-07-01T00:00:00",
          "1958-08-01T00:00:00",
          "1958-09-01T00:00:00",
          "1958-10-01T00:00:00",
          "1958-11-01T00:00:00",
          "1958-12-01T00:00:00",
          "1959-01-01T00:00:00",
          "1959-02-01T00:00:00",
          "1959-03-01T00:00:00",
          "1959-04-01T00:00:00",
          "1959-05-01T00:00:00",
          "1959-06-01T00:00:00",
          "1959-07-01T00:00:00",
          "1959-08-01T00:00:00",
          "1959-09-01T00:00:00",
          "1959-10-01T00:00:00",
          "1959-11-01T00:00:00",
          "1959-12-01T00:00:00",
          "1960-01-01T00:00:00",
          "1960-02-01T00:00:00",
          "1960-03-01T00:00:00",
          "1960-04-01T00:00:00",
          "1960-05-01T00:00:00",
          "1960-06-01T00:00:00",
          "1960-07-01T00:00:00",
          "1960-08-01T00:00:00",
          "1960-09-01T00:00:00",
          "1960-10-01T00:00:00",
          "1960-11-01T00:00:00",
          "1960-12-01T00:00:00"
         ],
         "y": [
          170.52748846716307,
          180.85097072025744,
          181.95612098357483,
          184.7029030810902,
          187.0925380278452,
          187.90067282683322,
          189.54057173440304,
          193.04833935339136,
          197.46841158345438,
          198.88023433825285,
          196.91417429081457,
          193.19428360834172,
          182.6251807178682,
          193.36753426328514,
          197.08763764358545,
          201.0515575681129,
          204.63010377420522,
          205.8571098655158,
          208.06719915500508,
          213.3995759961356,
          219.87233360110858,
          222.19646096697815,
          219.3180963084688,
          214.2297487093893,
          203.66064581891578,
          216.2276085864749,
          221.54424503614962,
          227.2187361064354,
          230.56920615975994,
          234.41908800789992,
          235.71687268631808,
          241.1632876038325,
          245.5833598338955,
          247.56537297061342,
          244.68700831210407,
          239.9407749421762,
          229.37167205170272,
          241.5928565350073,
          246.7212486567464,
          251.13765683170294,
          253.57227641417927,
          255.25177075592615,
          259.3969614841608,
          266.32220733956285,
          264.5303722755493,
          274.65573008998985,
          271.5456252236098,
          264.8571986953788,
          254.62654597895408,
          266.39524221182603,
          270.3434217448941,
          276.4740651207154,
          282.2193347781016,
          287.32363546646434,
          289.41968667956974,
          294.0678350623969,
          300.3125165146021,
          300.9260727347134,
          296.2230988540618,
          287.02938050516235,
          274.40759223977886,
          284.80783155604416,
          286.9314018669701,
          292.99108597070233,
          297.72595157270143,
          305.15409259303453,
          310.57318665334276,
          321.3084318888086,
          330.2190679021381,
          331.7608673653884,
          325.61847729603886,
          317.4670402666645,
          306.3708257985642,
          319.8931719814871,
          325.28550479516394,
          331.8013412044319,
          336.99235911196644,
          343.3941574448446,
          350.9799749564467,
          363.99598171959025,
          374.9593031078297,
          376.7291787238477,
          368.6481413559722,
          358.21594279892014,
          346.66357602528427,
          359.8378451661959,
          366.435380289966,
          373.0592919627523,
          378.4726155589969,
          385.32460338455684,
          393.9309931195502,
          407.51122745175365,
          419.6089667909724,
          419.54846272079027,
          409.52281524152914,
          396.34793238720584,
          383.0790316549521,
          396.14522553233945,
          401.5375583460163,
          409.4218516718908,
          415.29709803772874,
          423.637543669133,
          433.276046555645,
          448.8008909992341,
          463.7555450609096,
          463.8148495311693,
          452.54074602454494,
          436.17856749553073,
          420.74890612484273,
          434.12502003748074,
          443.74745879055894,
          451.1432405657794,
          456.721341843562,
          461.4805724223531,
          465.6148124343952,
          469.44751215921775,
          463.22370796517095,
          475.39194331777793,
          478.68929802294673,
          481.85520335037364,
          476.3048310676738,
          488.4487862205586,
          491.5329300032658,
          494.8189488412109,
          499.04225306321945,
          502.43270115086733,
          505.7876799307398,
          509.22092243123615,
          512.5640678127927,
          515.8314192232281,
          519.159177438519,
          522.4045067673376,
          515.8516193199032,
          527.8878112771436,
          530.9192199579743,
          534.0666481650096,
          538.2500743968944,
          541.6081936438752,
          544.9333630226449,
          548.3490089754366,
          551.677098742121,
          554.9315566919286,
          558.2481581591019,
          561.4832574709619
         ]
        },
        {
         "line": {
          "color": "rgba(250, 43, 20, 0.7)"
         },
         "marker": {
          "color": "rgba(250, 43, 20, 0.7)",
          "size": 2
         },
         "mode": "lines+markers",
         "name": "Actual",
         "opacity": 1,
         "type": "scatter",
         "x": [
          "1949-01-01T00:00:00",
          "1949-02-01T00:00:00",
          "1949-03-01T00:00:00",
          "1949-04-01T00:00:00",
          "1949-05-01T00:00:00",
          "1949-06-01T00:00:00",
          "1949-07-01T00:00:00",
          "1949-08-01T00:00:00",
          "1949-09-01T00:00:00",
          "1949-10-01T00:00:00",
          "1949-11-01T00:00:00",
          "1949-12-01T00:00:00",
          "1950-01-01T00:00:00",
          "1950-02-01T00:00:00",
          "1950-03-01T00:00:00",
          "1950-04-01T00:00:00",
          "1950-05-01T00:00:00",
          "1950-06-01T00:00:00",
          "1950-07-01T00:00:00",
          "1950-08-01T00:00:00",
          "1950-09-01T00:00:00",
          "1950-10-01T00:00:00",
          "1950-11-01T00:00:00",
          "1950-12-01T00:00:00",
          "1951-01-01T00:00:00",
          "1951-02-01T00:00:00",
          "1951-03-01T00:00:00",
          "1951-04-01T00:00:00",
          "1951-05-01T00:00:00",
          "1951-06-01T00:00:00",
          "1951-07-01T00:00:00",
          "1951-08-01T00:00:00",
          "1951-09-01T00:00:00",
          "1951-10-01T00:00:00",
          "1951-11-01T00:00:00",
          "1951-12-01T00:00:00",
          "1952-01-01T00:00:00",
          "1952-02-01T00:00:00",
          "1952-03-01T00:00:00",
          "1952-04-01T00:00:00",
          "1952-05-01T00:00:00",
          "1952-06-01T00:00:00",
          "1952-07-01T00:00:00",
          "1952-08-01T00:00:00",
          "1952-09-01T00:00:00",
          "1952-10-01T00:00:00",
          "1952-11-01T00:00:00",
          "1952-12-01T00:00:00",
          "1953-01-01T00:00:00",
          "1953-02-01T00:00:00",
          "1953-03-01T00:00:00",
          "1953-04-01T00:00:00",
          "1953-05-01T00:00:00",
          "1953-06-01T00:00:00",
          "1953-07-01T00:00:00",
          "1953-08-01T00:00:00",
          "1953-09-01T00:00:00",
          "1953-10-01T00:00:00",
          "1953-11-01T00:00:00",
          "1953-12-01T00:00:00",
          "1954-01-01T00:00:00",
          "1954-02-01T00:00:00",
          "1954-03-01T00:00:00",
          "1954-04-01T00:00:00",
          "1954-05-01T00:00:00",
          "1954-06-01T00:00:00",
          "1954-07-01T00:00:00",
          "1954-08-01T00:00:00",
          "1954-09-01T00:00:00",
          "1954-10-01T00:00:00",
          "1954-11-01T00:00:00",
          "1954-12-01T00:00:00",
          "1955-01-01T00:00:00",
          "1955-02-01T00:00:00",
          "1955-03-01T00:00:00",
          "1955-04-01T00:00:00",
          "1955-05-01T00:00:00",
          "1955-06-01T00:00:00",
          "1955-07-01T00:00:00",
          "1955-08-01T00:00:00",
          "1955-09-01T00:00:00",
          "1955-10-01T00:00:00",
          "1955-11-01T00:00:00",
          "1955-12-01T00:00:00",
          "1956-01-01T00:00:00",
          "1956-02-01T00:00:00",
          "1956-03-01T00:00:00",
          "1956-04-01T00:00:00",
          "1956-05-01T00:00:00",
          "1956-06-01T00:00:00",
          "1956-07-01T00:00:00",
          "1956-08-01T00:00:00",
          "1956-09-01T00:00:00",
          "1956-10-01T00:00:00",
          "1956-11-01T00:00:00",
          "1956-12-01T00:00:00",
          "1957-01-01T00:00:00",
          "1957-02-01T00:00:00",
          "1957-03-01T00:00:00",
          "1957-04-01T00:00:00",
          "1957-05-01T00:00:00",
          "1957-06-01T00:00:00",
          "1957-07-01T00:00:00",
          "1957-08-01T00:00:00",
          "1957-09-01T00:00:00",
          "1957-10-01T00:00:00",
          "1957-11-01T00:00:00",
          "1957-12-01T00:00:00",
          "1958-01-01T00:00:00",
          "1958-02-01T00:00:00",
          "1958-03-01T00:00:00",
          "1958-04-01T00:00:00",
          "1958-05-01T00:00:00",
          "1958-06-01T00:00:00",
          "1958-07-01T00:00:00",
          "1958-08-01T00:00:00",
          "1958-09-01T00:00:00",
          "1958-10-01T00:00:00",
          "1958-11-01T00:00:00",
          "1958-12-01T00:00:00",
          "1959-01-01T00:00:00",
          "1959-02-01T00:00:00",
          "1959-03-01T00:00:00",
          "1959-04-01T00:00:00",
          "1959-05-01T00:00:00",
          "1959-06-01T00:00:00",
          "1959-07-01T00:00:00",
          "1959-08-01T00:00:00",
          "1959-09-01T00:00:00",
          "1959-10-01T00:00:00",
          "1959-11-01T00:00:00",
          "1959-12-01T00:00:00",
          "1960-01-01T00:00:00",
          "1960-02-01T00:00:00",
          "1960-03-01T00:00:00",
          "1960-04-01T00:00:00",
          "1960-05-01T00:00:00",
          "1960-06-01T00:00:00",
          "1960-07-01T00:00:00",
          "1960-08-01T00:00:00",
          "1960-09-01T00:00:00",
          "1960-10-01T00:00:00",
          "1960-11-01T00:00:00",
          "1960-12-01T00:00:00"
         ],
         "y": [
          112,
          118,
          132,
          129,
          121,
          135,
          148,
          148,
          136,
          119,
          104,
          118,
          115,
          126,
          141,
          135,
          125,
          149,
          170,
          170,
          158,
          133,
          114,
          140,
          145,
          150,
          178,
          163,
          172,
          178,
          199,
          199,
          184,
          162,
          146,
          166,
          171,
          180,
          193,
          181,
          183,
          218,
          230,
          242,
          209,
          191,
          172,
          194,
          196,
          196,
          236,
          235,
          229,
          243,
          264,
          272,
          237,
          211,
          180,
          201,
          204,
          188,
          235,
          227,
          234,
          264,
          302,
          293,
          259,
          229,
          203,
          229,
          242,
          233,
          267,
          269,
          270,
          315,
          364,
          347,
          312,
          274,
          237,
          278,
          284,
          277,
          317,
          313,
          318,
          374,
          413,
          405,
          355,
          306,
          271,
          306,
          315,
          301,
          356,
          348,
          355,
          422,
          465,
          467,
          404,
          347,
          305,
          336,
          340,
          318,
          362,
          348,
          363,
          435,
          491,
          505,
          404,
          359,
          310,
          337,
          360,
          342,
          406,
          396,
          420,
          472,
          548,
          559,
          463,
          407,
          362,
          405,
          417,
          391,
          419,
          461,
          472,
          535,
          622,
          606,
          508,
          461,
          390,
          432
         ]
        },
        {
         "line": {
          "color": "rgba(0, 90, 181, 0.7)",
          "dash": "solid"
         },
         "name": "Forecast",
         "type": "scatter",
         "x": [
          "1949-01-01T00:00:00",
          "1949-02-01T00:00:00",
          "1949-03-01T00:00:00",
          "1949-04-01T00:00:00",
          "1949-05-01T00:00:00",
          "1949-06-01T00:00:00",
          "1949-07-01T00:00:00",
          "1949-08-01T00:00:00",
          "1949-09-01T00:00:00",
          "1949-10-01T00:00:00",
          "1949-11-01T00:00:00",
          "1949-12-01T00:00:00",
          "1950-01-01T00:00:00",
          "1950-02-01T00:00:00",
          "1950-03-01T00:00:00",
          "1950-04-01T00:00:00",
          "1950-05-01T00:00:00",
          "1950-06-01T00:00:00",
          "1950-07-01T00:00:00",
          "1950-08-01T00:00:00",
          "1950-09-01T00:00:00",
          "1950-10-01T00:00:00",
          "1950-11-01T00:00:00",
          "1950-12-01T00:00:00",
          "1951-01-01T00:00:00",
          "1951-02-01T00:00:00",
          "1951-03-01T00:00:00",
          "1951-04-01T00:00:00",
          "1951-05-01T00:00:00",
          "1951-06-01T00:00:00",
          "1951-07-01T00:00:00",
          "1951-08-01T00:00:00",
          "1951-09-01T00:00:00",
          "1951-10-01T00:00:00",
          "1951-11-01T00:00:00",
          "1951-12-01T00:00:00",
          "1952-01-01T00:00:00",
          "1952-02-01T00:00:00",
          "1952-03-01T00:00:00",
          "1952-04-01T00:00:00",
          "1952-05-01T00:00:00",
          "1952-06-01T00:00:00",
          "1952-07-01T00:00:00",
          "1952-08-01T00:00:00",
          "1952-09-01T00:00:00",
          "1952-10-01T00:00:00",
          "1952-11-01T00:00:00",
          "1952-12-01T00:00:00",
          "1953-01-01T00:00:00",
          "1953-02-01T00:00:00",
          "1953-03-01T00:00:00",
          "1953-04-01T00:00:00",
          "1953-05-01T00:00:00",
          "1953-06-01T00:00:00",
          "1953-07-01T00:00:00",
          "1953-08-01T00:00:00",
          "1953-09-01T00:00:00",
          "1953-10-01T00:00:00",
          "1953-11-01T00:00:00",
          "1953-12-01T00:00:00",
          "1954-01-01T00:00:00",
          "1954-02-01T00:00:00",
          "1954-03-01T00:00:00",
          "1954-04-01T00:00:00",
          "1954-05-01T00:00:00",
          "1954-06-01T00:00:00",
          "1954-07-01T00:00:00",
          "1954-08-01T00:00:00",
          "1954-09-01T00:00:00",
          "1954-10-01T00:00:00",
          "1954-11-01T00:00:00",
          "1954-12-01T00:00:00",
          "1955-01-01T00:00:00",
          "1955-02-01T00:00:00",
          "1955-03-01T00:00:00",
          "1955-04-01T00:00:00",
          "1955-05-01T00:00:00",
          "1955-06-01T00:00:00",
          "1955-07-01T00:00:00",
          "1955-08-01T00:00:00",
          "1955-09-01T00:00:00",
          "1955-10-01T00:00:00",
          "1955-11-01T00:00:00",
          "1955-12-01T00:00:00",
          "1956-01-01T00:00:00",
          "1956-02-01T00:00:00",
          "1956-03-01T00:00:00",
          "1956-04-01T00:00:00",
          "1956-05-01T00:00:00",
          "1956-06-01T00:00:00",
          "1956-07-01T00:00:00",
          "1956-08-01T00:00:00",
          "1956-09-01T00:00:00",
          "1956-10-01T00:00:00",
          "1956-11-01T00:00:00",
          "1956-12-01T00:00:00",
          "1957-01-01T00:00:00",
          "1957-02-01T00:00:00",
          "1957-03-01T00:00:00",
          "1957-04-01T00:00:00",
          "1957-05-01T00:00:00",
          "1957-06-01T00:00:00",
          "1957-07-01T00:00:00",
          "1957-08-01T00:00:00",
          "1957-09-01T00:00:00",
          "1957-10-01T00:00:00",
          "1957-11-01T00:00:00",
          "1957-12-01T00:00:00",
          "1958-01-01T00:00:00",
          "1958-02-01T00:00:00",
          "1958-03-01T00:00:00",
          "1958-04-01T00:00:00",
          "1958-05-01T00:00:00",
          "1958-06-01T00:00:00",
          "1958-07-01T00:00:00",
          "1958-08-01T00:00:00",
          "1958-09-01T00:00:00",
          "1958-10-01T00:00:00",
          "1958-11-01T00:00:00",
          "1958-12-01T00:00:00",
          "1959-01-01T00:00:00",
          "1959-02-01T00:00:00",
          "1959-03-01T00:00:00",
          "1959-04-01T00:00:00",
          "1959-05-01T00:00:00",
          "1959-06-01T00:00:00",
          "1959-07-01T00:00:00",
          "1959-08-01T00:00:00",
          "1959-09-01T00:00:00",
          "1959-10-01T00:00:00",
          "1959-11-01T00:00:00",
          "1959-12-01T00:00:00",
          "1960-01-01T00:00:00",
          "1960-02-01T00:00:00",
          "1960-03-01T00:00:00",
          "1960-04-01T00:00:00",
          "1960-05-01T00:00:00",
          "1960-06-01T00:00:00",
          "1960-07-01T00:00:00",
          "1960-08-01T00:00:00",
          "1960-09-01T00:00:00",
          "1960-10-01T00:00:00",
          "1960-11-01T00:00:00",
          "1960-12-01T00:00:00"
         ],
         "y": [
          108.49627142545975,
          118.81975367855412,
          119.92490394187152,
          122.67168603938687,
          125.06132098614188,
          125.8694557851299,
          127.50935469269973,
          131.01712231168804,
          135.43719454175107,
          136.84901729654953,
          134.88295724911126,
          131.1630665666384,
          120.5939636761649,
          131.33631722158182,
          135.05642060188214,
          139.0203405264096,
          142.5988867325019,
          143.8258928238125,
          146.03598211330177,
          151.3683589544323,
          157.84111655940526,
          160.16524392527484,
          157.28687926676548,
          152.19853166768598,
          141.62942877721247,
          154.1963915447716,
          159.5130279944463,
          165.18751906473207,
          168.53798911805663,
          172.3878709661966,
          173.68565564461477,
          179.13207056212917,
          183.5521427921922,
          185.5341559289101,
          182.65579127040075,
          177.9095579004729,
          167.3404550099994,
          179.56163949330397,
          184.6900316150431,
          189.10643978999963,
          191.54105937247596,
          193.22055371422283,
          197.36574444245747,
          204.29099029785954,
          202.49915523384604,
          212.62451304828653,
          209.51440818190653,
          202.8259816536755,
          192.59532893725077,
          204.3640251701227,
          208.3122047031908,
          214.4428480790121,
          220.18811773639828,
          225.29241842476102,
          227.3884696378664,
          232.0366180206936,
          238.2812994728988,
          238.89485569301007,
          234.19188181235847,
          224.99816346345904,
          212.37637519807558,
          222.77661451434085,
          224.90018482526673,
          230.95986892899904,
          235.69473453099812,
          243.12287555133122,
          248.54196961163944,
          259.2772148471053,
          268.18785086043476,
          269.72965032368506,
          263.58726025433555,
          255.43582322496124,
          244.3396087568609,
          257.8619549397838,
          263.25428775346063,
          269.77012416272856,
          274.9611420702631,
          281.3629404031413,
          288.9487579147434,
          301.96476467788693,
          312.9280860661264,
          314.6979616821444,
          306.6169243142689,
          296.1847257572168,
          284.63235898358096,
          297.8066281244926,
          304.4041632482627,
          311.028074921049,
          316.4413985172936,
          323.2933863428535,
          331.89977607784687,
          345.48001041005034,
          357.57774974926906,
          357.51724567908695,
          347.49159819982583,
          334.31671534550253,
          321.04781461324876,
          334.11400849063614,
          339.50634130431297,
          347.3906346301875,
          353.26588099602543,
          361.60632662742967,
          371.2448295139417,
          386.7696739575308,
          401.72432801920627,
          401.78363248946596,
          390.50952898284163,
          374.1473504538274,
          358.7176890831394,
          372.0938029957774,
          381.7162417488556,
          389.1120235240761,
          394.6901248018587,
          399.44935538064976,
          403.5835953926919,
          407.41629511751444,
          401.19249092346763,
          413.3607262760746,
          416.6580809812434,
          419.8239863086703,
          414.27361402597046,
          426.4175691788553,
          429.5017129615625,
          432.7877317995076,
          437.01103602151613,
          440.401484109164,
          443.75646288903647,
          447.18970538953283,
          450.53285077108933,
          453.8002021815247,
          457.12796039681564,
          460.3732897256342,
          453.8204022781998,
          465.8565942354402,
          468.8880029162709,
          472.03543112330635,
          476.2188573551912,
          479.57697660217184,
          482.90214598094167,
          486.31779193373336,
          489.6458817004176,
          492.9003396502253,
          496.2169411173986,
          499.45204042925866
         ]
        }
       ],
       "layout": {
        "annotations": [
         {
          "arrowhead": 0,
          "ax": -60,
          "ay": 0,
          "showarrow": true,
          "text": "Train End Date",
          "x": "1957-12-01T00:00:00",
          "xref": "x",
          "y": 0.97,
          "yref": "paper"
         }
        ],
        "legend": {
         "traceorder": "reversed"
        },
        "shapes": [
         {
          "line": {
           "color": "rgba(100, 100, 100, 0.9)",
           "width": 1
          },
          "type": "line",
          "x0": "1957-12-01T00:00:00",
          "x1": "1957-12-01T00:00:00",
          "xref": "x",
          "y0": 0,
          "y1": 1,
          "yref": "paper"
         }
        ],
        "showlegend": true,
        "template": {
         "data": {
          "bar": [
           {
            "error_x": {
             "color": "#2a3f5f"
            },
            "error_y": {
             "color": "#2a3f5f"
            },
            "marker": {
             "line": {
              "color": "#E5ECF6",
              "width": 0.5
             },
             "pattern": {
              "fillmode": "overlay",
              "size": 10,
              "solidity": 0.2
             }
            },
            "type": "bar"
           }
          ],
          "barpolar": [
           {
            "marker": {
             "line": {
              "color": "#E5ECF6",
              "width": 0.5
             },
             "pattern": {
              "fillmode": "overlay",
              "size": 10,
              "solidity": 0.2
             }
            },
            "type": "barpolar"
           }
          ],
          "carpet": [
           {
            "aaxis": {
             "endlinecolor": "#2a3f5f",
             "gridcolor": "white",
             "linecolor": "white",
             "minorgridcolor": "white",
             "startlinecolor": "#2a3f5f"
            },
            "baxis": {
             "endlinecolor": "#2a3f5f",
             "gridcolor": "white",
             "linecolor": "white",
             "minorgridcolor": "white",
             "startlinecolor": "#2a3f5f"
            },
            "type": "carpet"
           }
          ],
          "choropleth": [
           {
            "colorbar": {
             "outlinewidth": 0,
             "ticks": ""
            },
            "type": "choropleth"
           }
          ],
          "contour": [
           {
            "colorbar": {
             "outlinewidth": 0,
             "ticks": ""
            },
            "colorscale": [
             [
              0,
              "#0d0887"
             ],
             [
              0.1111111111111111,
              "#46039f"
             ],
             [
              0.2222222222222222,
              "#7201a8"
             ],
             [
              0.3333333333333333,
              "#9c179e"
             ],
             [
              0.4444444444444444,
              "#bd3786"
             ],
             [
              0.5555555555555556,
              "#d8576b"
             ],
             [
              0.6666666666666666,
              "#ed7953"
             ],
             [
              0.7777777777777778,
              "#fb9f3a"
             ],
             [
              0.8888888888888888,
              "#fdca26"
             ],
             [
              1,
              "#f0f921"
             ]
            ],
            "type": "contour"
           }
          ],
          "contourcarpet": [
           {
            "colorbar": {
             "outlinewidth": 0,
             "ticks": ""
            },
            "type": "contourcarpet"
           }
          ],
          "heatmap": [
           {
            "colorbar": {
             "outlinewidth": 0,
             "ticks": ""
            },
            "colorscale": [
             [
              0,
              "#0d0887"
             ],
             [
              0.1111111111111111,
              "#46039f"
             ],
             [
              0.2222222222222222,
              "#7201a8"
             ],
             [
              0.3333333333333333,
              "#9c179e"
             ],
             [
              0.4444444444444444,
              "#bd3786"
             ],
             [
              0.5555555555555556,
              "#d8576b"
             ],
             [
              0.6666666666666666,
              "#ed7953"
             ],
             [
              0.7777777777777778,
              "#fb9f3a"
             ],
             [
              0.8888888888888888,
              "#fdca26"
             ],
             [
              1,
              "#f0f921"
             ]
            ],
            "type": "heatmap"
           }
          ],
          "heatmapgl": [
           {
            "colorbar": {
             "outlinewidth": 0,
             "ticks": ""
            },
            "colorscale": [
             [
              0,
              "#0d0887"
             ],
             [
              0.1111111111111111,
              "#46039f"
             ],
             [
              0.2222222222222222,
              "#7201a8"
             ],
             [
              0.3333333333333333,
              "#9c179e"
             ],
             [
              0.4444444444444444,
              "#bd3786"
             ],
             [
              0.5555555555555556,
              "#d8576b"
             ],
             [
              0.6666666666666666,
              "#ed7953"
             ],
             [
              0.7777777777777778,
              "#fb9f3a"
             ],
             [
              0.8888888888888888,
              "#fdca26"
             ],
             [
              1,
              "#f0f921"
             ]
            ],
            "type": "heatmapgl"
           }
          ],
          "histogram": [
           {
            "marker": {
             "pattern": {
              "fillmode": "overlay",
              "size": 10,
              "solidity": 0.2
             }
            },
            "type": "histogram"
           }
          ],
          "histogram2d": [
           {
            "colorbar": {
             "outlinewidth": 0,
             "ticks": ""
            },
            "colorscale": [
             [
              0,
              "#0d0887"
             ],
             [
              0.1111111111111111,
              "#46039f"
             ],
             [
              0.2222222222222222,
              "#7201a8"
             ],
             [
              0.3333333333333333,
              "#9c179e"
             ],
             [
              0.4444444444444444,
              "#bd3786"
             ],
             [
              0.5555555555555556,
              "#d8576b"
             ],
             [
              0.6666666666666666,
              "#ed7953"
             ],
             [
              0.7777777777777778,
              "#fb9f3a"
             ],
             [
              0.8888888888888888,
              "#fdca26"
             ],
             [
              1,
              "#f0f921"
             ]
            ],
            "type": "histogram2d"
           }
          ],
          "histogram2dcontour": [
           {
            "colorbar": {
             "outlinewidth": 0,
             "ticks": ""
            },
            "colorscale": [
             [
              0,
              "#0d0887"
             ],
             [
              0.1111111111111111,
              "#46039f"
             ],
             [
              0.2222222222222222,
              "#7201a8"
             ],
             [
              0.3333333333333333,
              "#9c179e"
             ],
             [
              0.4444444444444444,
              "#bd3786"
             ],
             [
              0.5555555555555556,
              "#d8576b"
             ],
             [
              0.6666666666666666,
              "#ed7953"
             ],
             [
              0.7777777777777778,
              "#fb9f3a"
             ],
             [
              0.8888888888888888,
              "#fdca26"
             ],
             [
              1,
              "#f0f921"
             ]
            ],
            "type": "histogram2dcontour"
           }
          ],
          "mesh3d": [
           {
            "colorbar": {
             "outlinewidth": 0,
             "ticks": ""
            },
            "type": "mesh3d"
           }
          ],
          "parcoords": [
           {
            "line": {
             "colorbar": {
              "outlinewidth": 0,
              "ticks": ""
             }
            },
            "type": "parcoords"
           }
          ],
          "pie": [
           {
            "automargin": true,
            "type": "pie"
           }
          ],
          "scatter": [
           {
            "fillpattern": {
             "fillmode": "overlay",
             "size": 10,
             "solidity": 0.2
            },
            "type": "scatter"
           }
          ],
          "scatter3d": [
           {
            "line": {
             "colorbar": {
              "outlinewidth": 0,
              "ticks": ""
             }
            },
            "marker": {
             "colorbar": {
              "outlinewidth": 0,
              "ticks": ""
             }
            },
            "type": "scatter3d"
           }
          ],
          "scattercarpet": [
           {
            "marker": {
             "colorbar": {
              "outlinewidth": 0,
              "ticks": ""
             }
            },
            "type": "scattercarpet"
           }
          ],
          "scattergeo": [
           {
            "marker": {
             "colorbar": {
              "outlinewidth": 0,
              "ticks": ""
             }
            },
            "type": "scattergeo"
           }
          ],
          "scattergl": [
           {
            "marker": {
             "colorbar": {
              "outlinewidth": 0,
              "ticks": ""
             }
            },
            "type": "scattergl"
           }
          ],
          "scattermapbox": [
           {
            "marker": {
             "colorbar": {
              "outlinewidth": 0,
              "ticks": ""
             }
            },
            "type": "scattermapbox"
           }
          ],
          "scatterpolar": [
           {
            "marker": {
             "colorbar": {
              "outlinewidth": 0,
              "ticks": ""
             }
            },
            "type": "scatterpolar"
           }
          ],
          "scatterpolargl": [
           {
            "marker": {
             "colorbar": {
              "outlinewidth": 0,
              "ticks": ""
             }
            },
            "type": "scatterpolargl"
           }
          ],
          "scatterternary": [
           {
            "marker": {
             "colorbar": {
              "outlinewidth": 0,
              "ticks": ""
             }
            },
            "type": "scatterternary"
           }
          ],
          "surface": [
           {
            "colorbar": {
             "outlinewidth": 0,
             "ticks": ""
            },
            "colorscale": [
             [
              0,
              "#0d0887"
             ],
             [
              0.1111111111111111,
              "#46039f"
             ],
             [
              0.2222222222222222,
              "#7201a8"
             ],
             [
              0.3333333333333333,
              "#9c179e"
             ],
             [
              0.4444444444444444,
              "#bd3786"
             ],
             [
              0.5555555555555556,
              "#d8576b"
             ],
             [
              0.6666666666666666,
              "#ed7953"
             ],
             [
              0.7777777777777778,
              "#fb9f3a"
             ],
             [
              0.8888888888888888,
              "#fdca26"
             ],
             [
              1,
              "#f0f921"
             ]
            ],
            "type": "surface"
           }
          ],
          "table": [
           {
            "cells": {
             "fill": {
              "color": "#EBF0F8"
             },
             "line": {
              "color": "white"
             }
            },
            "header": {
             "fill": {
              "color": "#C8D4E3"
             },
             "line": {
              "color": "white"
             }
            },
            "type": "table"
           }
          ]
         },
         "layout": {
          "annotationdefaults": {
           "arrowcolor": "#2a3f5f",
           "arrowhead": 0,
           "arrowwidth": 1
          },
          "autotypenumbers": "strict",
          "coloraxis": {
           "colorbar": {
            "outlinewidth": 0,
            "ticks": ""
           }
          },
          "colorscale": {
           "diverging": [
            [
             0,
             "#8e0152"
            ],
            [
             0.1,
             "#c51b7d"
            ],
            [
             0.2,
             "#de77ae"
            ],
            [
             0.3,
             "#f1b6da"
            ],
            [
             0.4,
             "#fde0ef"
            ],
            [
             0.5,
             "#f7f7f7"
            ],
            [
             0.6,
             "#e6f5d0"
            ],
            [
             0.7,
             "#b8e186"
            ],
            [
             0.8,
             "#7fbc41"
            ],
            [
             0.9,
             "#4d9221"
            ],
            [
             1,
             "#276419"
            ]
           ],
           "sequential": [
            [
             0,
             "#0d0887"
            ],
            [
             0.1111111111111111,
             "#46039f"
            ],
            [
             0.2222222222222222,
             "#7201a8"
            ],
            [
             0.3333333333333333,
             "#9c179e"
            ],
            [
             0.4444444444444444,
             "#bd3786"
            ],
            [
             0.5555555555555556,
             "#d8576b"
            ],
            [
             0.6666666666666666,
             "#ed7953"
            ],
            [
             0.7777777777777778,
             "#fb9f3a"
            ],
            [
             0.8888888888888888,
             "#fdca26"
            ],
            [
             1,
             "#f0f921"
            ]
           ],
           "sequentialminus": [
            [
             0,
             "#0d0887"
            ],
            [
             0.1111111111111111,
             "#46039f"
            ],
            [
             0.2222222222222222,
             "#7201a8"
            ],
            [
             0.3333333333333333,
             "#9c179e"
            ],
            [
             0.4444444444444444,
             "#bd3786"
            ],
            [
             0.5555555555555556,
             "#d8576b"
            ],
            [
             0.6666666666666666,
             "#ed7953"
            ],
            [
             0.7777777777777778,
             "#fb9f3a"
            ],
            [
             0.8888888888888888,
             "#fdca26"
            ],
            [
             1,
             "#f0f921"
            ]
           ]
          },
          "colorway": [
           "#636efa",
           "#EF553B",
           "#00cc96",
           "#ab63fa",
           "#FFA15A",
           "#19d3f3",
           "#FF6692",
           "#B6E880",
           "#FF97FF",
           "#FECB52"
          ],
          "font": {
           "color": "#2a3f5f"
          },
          "geo": {
           "bgcolor": "white",
           "lakecolor": "white",
           "landcolor": "#E5ECF6",
           "showlakes": true,
           "showland": true,
           "subunitcolor": "white"
          },
          "hoverlabel": {
           "align": "left"
          },
          "hovermode": "closest",
          "mapbox": {
           "style": "light"
          },
          "paper_bgcolor": "white",
          "plot_bgcolor": "#E5ECF6",
          "polar": {
           "angularaxis": {
            "gridcolor": "white",
            "linecolor": "white",
            "ticks": ""
           },
           "bgcolor": "#E5ECF6",
           "radialaxis": {
            "gridcolor": "white",
            "linecolor": "white",
            "ticks": ""
           }
          },
          "scene": {
           "xaxis": {
            "backgroundcolor": "#E5ECF6",
            "gridcolor": "white",
            "gridwidth": 2,
            "linecolor": "white",
            "showbackground": true,
            "ticks": "",
            "zerolinecolor": "white"
           },
           "yaxis": {
            "backgroundcolor": "#E5ECF6",
            "gridcolor": "white",
            "gridwidth": 2,
            "linecolor": "white",
            "showbackground": true,
            "ticks": "",
            "zerolinecolor": "white"
           },
           "zaxis": {
            "backgroundcolor": "#E5ECF6",
            "gridcolor": "white",
            "gridwidth": 2,
            "linecolor": "white",
            "showbackground": true,
            "ticks": "",
            "zerolinecolor": "white"
           }
          },
          "shapedefaults": {
           "line": {
            "color": "#2a3f5f"
           }
          },
          "ternary": {
           "aaxis": {
            "gridcolor": "white",
            "linecolor": "white",
            "ticks": ""
           },
           "baxis": {
            "gridcolor": "white",
            "linecolor": "white",
            "ticks": ""
           },
           "bgcolor": "#E5ECF6",
           "caxis": {
            "gridcolor": "white",
            "linecolor": "white",
            "ticks": ""
           }
          },
          "title": {
           "x": 0.05
          },
          "xaxis": {
           "automargin": true,
           "gridcolor": "white",
           "linecolor": "white",
           "ticks": "",
           "title": {
            "standoff": 15
           },
           "zerolinecolor": "white",
           "zerolinewidth": 2
          },
          "yaxis": {
           "automargin": true,
           "gridcolor": "white",
           "linecolor": "white",
           "ticks": "",
           "title": {
            "standoff": 15
           },
           "zerolinecolor": "white",
           "zerolinewidth": 2
          }
         }
        },
        "title": {
         "text": "Forecast vs Actual",
         "x": 0.5
        },
        "xaxis": {
         "title": {
          "text": "ts"
         }
        },
        "yaxis": {
         "title": {
          "text": "#Passengers"
         }
        }
       }
      }
     },
     "metadata": {},
     "output_type": "display_data"
    }
   ],
   "source": [
    "fig = backtest.plot()\n",
    "iplot(fig)"
   ]
  },
  {
   "cell_type": "code",
   "execution_count": 16,
   "metadata": {},
   "outputs": [
    {
     "data": {
      "text/html": [
       "<div>\n",
       "<style scoped>\n",
       "    .dataframe tbody tr th:only-of-type {\n",
       "        vertical-align: middle;\n",
       "    }\n",
       "\n",
       "    .dataframe tbody tr th {\n",
       "        vertical-align: top;\n",
       "    }\n",
       "\n",
       "    .dataframe thead th {\n",
       "        text-align: right;\n",
       "    }\n",
       "</style>\n",
       "<table border=\"1\" class=\"dataframe\">\n",
       "  <thead>\n",
       "    <tr style=\"text-align: right;\">\n",
       "      <th></th>\n",
       "      <th>Value</th>\n",
       "    </tr>\n",
       "  </thead>\n",
       "  <tbody>\n",
       "    <tr>\n",
       "      <th>CORR</th>\n",
       "      <td>0.542434</td>\n",
       "    </tr>\n",
       "    <tr>\n",
       "      <th>R2</th>\n",
       "      <td>0.270862</td>\n",
       "    </tr>\n",
       "    <tr>\n",
       "      <th>MSE</th>\n",
       "      <td>4461.086853</td>\n",
       "    </tr>\n",
       "    <tr>\n",
       "      <th>RMSE</th>\n",
       "      <td>66.791368</td>\n",
       "    </tr>\n",
       "    <tr>\n",
       "      <th>MAE</th>\n",
       "      <td>56.135816</td>\n",
       "    </tr>\n",
       "    <tr>\n",
       "      <th>MedAE</th>\n",
       "      <td>51.990903</td>\n",
       "    </tr>\n",
       "    <tr>\n",
       "      <th>MAPE</th>\n",
       "      <td>13.233279</td>\n",
       "    </tr>\n",
       "    <tr>\n",
       "      <th>MedAPE</th>\n",
       "      <td>11.860122</td>\n",
       "    </tr>\n",
       "    <tr>\n",
       "      <th>sMAPE</th>\n",
       "      <td>6.428517</td>\n",
       "    </tr>\n",
       "    <tr>\n",
       "      <th>Q80</th>\n",
       "      <td>24.827746</td>\n",
       "    </tr>\n",
       "    <tr>\n",
       "      <th>Q95</th>\n",
       "      <td>23.207665</td>\n",
       "    </tr>\n",
       "    <tr>\n",
       "      <th>Q99</th>\n",
       "      <td>22.775643</td>\n",
       "    </tr>\n",
       "    <tr>\n",
       "      <th>OutsideTolerance1p</th>\n",
       "      <td>0.944444</td>\n",
       "    </tr>\n",
       "    <tr>\n",
       "      <th>OutsideTolerance2p</th>\n",
       "      <td>0.944444</td>\n",
       "    </tr>\n",
       "    <tr>\n",
       "      <th>OutsideTolerance3p</th>\n",
       "      <td>0.888889</td>\n",
       "    </tr>\n",
       "    <tr>\n",
       "      <th>OutsideTolerance4p</th>\n",
       "      <td>0.861111</td>\n",
       "    </tr>\n",
       "    <tr>\n",
       "      <th>OutsideTolerance5p</th>\n",
       "      <td>0.833333</td>\n",
       "    </tr>\n",
       "    <tr>\n",
       "      <th>Outside Tolerance (fraction)</th>\n",
       "      <td>None</td>\n",
       "    </tr>\n",
       "    <tr>\n",
       "      <th>R2_null_model_score</th>\n",
       "      <td>None</td>\n",
       "    </tr>\n",
       "    <tr>\n",
       "      <th>Prediction Band Width (%)</th>\n",
       "      <td>29.86866</td>\n",
       "    </tr>\n",
       "    <tr>\n",
       "      <th>Prediction Band Coverage (fraction)</th>\n",
       "      <td>0.638889</td>\n",
       "    </tr>\n",
       "    <tr>\n",
       "      <th>Coverage: Lower Band</th>\n",
       "      <td>0.472222</td>\n",
       "    </tr>\n",
       "    <tr>\n",
       "      <th>Coverage: Upper Band</th>\n",
       "      <td>0.166667</td>\n",
       "    </tr>\n",
       "    <tr>\n",
       "      <th>Coverage Diff: Actual_Coverage - Intended_Coverage</th>\n",
       "      <td>-0.311111</td>\n",
       "    </tr>\n",
       "    <tr>\n",
       "      <th>MIS</th>\n",
       "      <td>647.37505</td>\n",
       "    </tr>\n",
       "  </tbody>\n",
       "</table>\n",
       "</div>"
      ],
      "text/plain": [
       "                                                          Value\n",
       "CORR                                                   0.542434\n",
       "R2                                                     0.270862\n",
       "MSE                                                 4461.086853\n",
       "RMSE                                                  66.791368\n",
       "MAE                                                   56.135816\n",
       "MedAE                                                 51.990903\n",
       "MAPE                                                  13.233279\n",
       "MedAPE                                                11.860122\n",
       "sMAPE                                                  6.428517\n",
       "Q80                                                   24.827746\n",
       "Q95                                                   23.207665\n",
       "Q99                                                   22.775643\n",
       "OutsideTolerance1p                                     0.944444\n",
       "OutsideTolerance2p                                     0.944444\n",
       "OutsideTolerance3p                                     0.888889\n",
       "OutsideTolerance4p                                     0.861111\n",
       "OutsideTolerance5p                                     0.833333\n",
       "Outside Tolerance (fraction)                               None\n",
       "R2_null_model_score                                        None\n",
       "Prediction Band Width (%)                              29.86866\n",
       "Prediction Band Coverage (fraction)                    0.638889\n",
       "Coverage: Lower Band                                   0.472222\n",
       "Coverage: Upper Band                                   0.166667\n",
       "Coverage Diff: Actual_Coverage - Intended_Coverage    -0.311111\n",
       "MIS                                                   647.37505"
      ]
     },
     "execution_count": 16,
     "metadata": {},
     "output_type": "execute_result"
    }
   ],
   "source": [
    "pd.DataFrame(result.backtest.test_evaluation, index=[\"Value\"]).transpose()"
   ]
  },
  {
   "cell_type": "code",
   "execution_count": 17,
   "metadata": {},
   "outputs": [],
   "source": [
    "model = result.model\n",
    "future_df = result.timeseries.make_future_dataframe(\n",
    "    periods=36,\n",
    "    include_history=False\n",
    ")"
   ]
  },
  {
   "cell_type": "code",
   "execution_count": 18,
   "metadata": {},
   "outputs": [
    {
     "data": {
      "text/html": [
       "<div>\n",
       "<style scoped>\n",
       "    .dataframe tbody tr th:only-of-type {\n",
       "        vertical-align: middle;\n",
       "    }\n",
       "\n",
       "    .dataframe tbody tr th {\n",
       "        vertical-align: top;\n",
       "    }\n",
       "\n",
       "    .dataframe thead th {\n",
       "        text-align: right;\n",
       "    }\n",
       "</style>\n",
       "<table border=\"1\" class=\"dataframe\">\n",
       "  <thead>\n",
       "    <tr style=\"text-align: right;\">\n",
       "      <th></th>\n",
       "      <th>ts</th>\n",
       "      <th>forecast</th>\n",
       "      <th>quantile_summary</th>\n",
       "      <th>err_std</th>\n",
       "      <th>forecast_lower</th>\n",
       "      <th>forecast_upper</th>\n",
       "    </tr>\n",
       "  </thead>\n",
       "  <tbody>\n",
       "    <tr>\n",
       "      <th>0</th>\n",
       "      <td>1961-01-01</td>\n",
       "      <td>458.412408</td>\n",
       "      <td>(375.79531439065084, 541.0295023030798)</td>\n",
       "      <td>42.152353</td>\n",
       "      <td>375.795314</td>\n",
       "      <td>541.029502</td>\n",
       "    </tr>\n",
       "    <tr>\n",
       "      <th>1</th>\n",
       "      <td>1961-02-01</td>\n",
       "      <td>469.131694</td>\n",
       "      <td>(386.5145999351901, 551.748787847619)</td>\n",
       "      <td>42.152353</td>\n",
       "      <td>386.514600</td>\n",
       "      <td>551.748788</td>\n",
       "    </tr>\n",
       "    <tr>\n",
       "      <th>2</th>\n",
       "      <td>1961-03-01</td>\n",
       "      <td>479.508975</td>\n",
       "      <td>(396.89188123590543, 562.1260691483343)</td>\n",
       "      <td>42.152353</td>\n",
       "      <td>396.891881</td>\n",
       "      <td>562.126069</td>\n",
       "    </tr>\n",
       "    <tr>\n",
       "      <th>3</th>\n",
       "      <td>1961-04-01</td>\n",
       "      <td>486.678706</td>\n",
       "      <td>(404.0616124860931, 569.295800398522)</td>\n",
       "      <td>42.152353</td>\n",
       "      <td>404.061612</td>\n",
       "      <td>569.295800</td>\n",
       "    </tr>\n",
       "    <tr>\n",
       "      <th>4</th>\n",
       "      <td>1961-05-01</td>\n",
       "      <td>491.709549</td>\n",
       "      <td>(409.09245519798395, 574.3266431104129)</td>\n",
       "      <td>42.152353</td>\n",
       "      <td>409.092455</td>\n",
       "      <td>574.326643</td>\n",
       "    </tr>\n",
       "    <tr>\n",
       "      <th>5</th>\n",
       "      <td>1961-06-01</td>\n",
       "      <td>496.193881</td>\n",
       "      <td>(413.57678677319234, 578.8109746856212)</td>\n",
       "      <td>42.152353</td>\n",
       "      <td>413.576787</td>\n",
       "      <td>578.810975</td>\n",
       "    </tr>\n",
       "    <tr>\n",
       "      <th>6</th>\n",
       "      <td>1961-07-01</td>\n",
       "      <td>499.977260</td>\n",
       "      <td>(417.3601657570422, 582.594353669471)</td>\n",
       "      <td>42.152353</td>\n",
       "      <td>417.360166</td>\n",
       "      <td>582.594354</td>\n",
       "    </tr>\n",
       "    <tr>\n",
       "      <th>7</th>\n",
       "      <td>1961-08-01</td>\n",
       "      <td>503.462092</td>\n",
       "      <td>(420.8449981270998, 586.0791860395287)</td>\n",
       "      <td>42.152353</td>\n",
       "      <td>420.844998</td>\n",
       "      <td>586.079186</td>\n",
       "    </tr>\n",
       "    <tr>\n",
       "      <th>8</th>\n",
       "      <td>1961-09-01</td>\n",
       "      <td>506.780399</td>\n",
       "      <td>(424.1633054601316, 589.3974933725605)</td>\n",
       "      <td>42.152353</td>\n",
       "      <td>424.163305</td>\n",
       "      <td>589.397493</td>\n",
       "    </tr>\n",
       "    <tr>\n",
       "      <th>9</th>\n",
       "      <td>1961-10-01</td>\n",
       "      <td>509.906904</td>\n",
       "      <td>(427.2898103800665, 592.5239982924954)</td>\n",
       "      <td>42.152353</td>\n",
       "      <td>427.289810</td>\n",
       "      <td>592.523998</td>\n",
       "    </tr>\n",
       "    <tr>\n",
       "      <th>10</th>\n",
       "      <td>1961-11-01</td>\n",
       "      <td>513.028862</td>\n",
       "      <td>(430.4117683099145, 595.6459562223434)</td>\n",
       "      <td>42.152353</td>\n",
       "      <td>430.411768</td>\n",
       "      <td>595.645956</td>\n",
       "    </tr>\n",
       "    <tr>\n",
       "      <th>11</th>\n",
       "      <td>1961-12-01</td>\n",
       "      <td>516.045527</td>\n",
       "      <td>(433.42843330652653, 598.6626212189555)</td>\n",
       "      <td>42.152353</td>\n",
       "      <td>433.428433</td>\n",
       "      <td>598.662621</td>\n",
       "    </tr>\n",
       "    <tr>\n",
       "      <th>12</th>\n",
       "      <td>1962-01-01</td>\n",
       "      <td>510.150315</td>\n",
       "      <td>(427.5332206517771, 592.767408564206)</td>\n",
       "      <td>42.152353</td>\n",
       "      <td>427.533221</td>\n",
       "      <td>592.767409</td>\n",
       "    </tr>\n",
       "    <tr>\n",
       "      <th>13</th>\n",
       "      <td>1962-02-01</td>\n",
       "      <td>521.174535</td>\n",
       "      <td>(438.5574412201092, 603.7916291325381)</td>\n",
       "      <td>42.152353</td>\n",
       "      <td>438.557441</td>\n",
       "      <td>603.791629</td>\n",
       "    </tr>\n",
       "    <tr>\n",
       "      <th>14</th>\n",
       "      <td>1962-03-01</td>\n",
       "      <td>523.905716</td>\n",
       "      <td>(441.28862245749013, 606.5228103699191)</td>\n",
       "      <td>42.152353</td>\n",
       "      <td>441.288622</td>\n",
       "      <td>606.522810</td>\n",
       "    </tr>\n",
       "    <tr>\n",
       "      <th>15</th>\n",
       "      <td>1962-04-01</td>\n",
       "      <td>526.804768</td>\n",
       "      <td>(444.1876736319393, 609.4218615443682)</td>\n",
       "      <td>42.152353</td>\n",
       "      <td>444.187674</td>\n",
       "      <td>609.421862</td>\n",
       "    </tr>\n",
       "    <tr>\n",
       "      <th>16</th>\n",
       "      <td>1962-05-01</td>\n",
       "      <td>530.584866</td>\n",
       "      <td>(447.9677724868831, 613.201960399312)</td>\n",
       "      <td>42.152353</td>\n",
       "      <td>447.967772</td>\n",
       "      <td>613.201960</td>\n",
       "    </tr>\n",
       "    <tr>\n",
       "      <th>17</th>\n",
       "      <td>1962-06-01</td>\n",
       "      <td>533.650888</td>\n",
       "      <td>(451.0337937431264, 616.2679816555553)</td>\n",
       "      <td>42.152353</td>\n",
       "      <td>451.033794</td>\n",
       "      <td>616.267982</td>\n",
       "    </tr>\n",
       "    <tr>\n",
       "      <th>18</th>\n",
       "      <td>1962-07-01</td>\n",
       "      <td>536.686769</td>\n",
       "      <td>(454.0696748144631, 619.303862726892)</td>\n",
       "      <td>42.152353</td>\n",
       "      <td>454.069675</td>\n",
       "      <td>619.303863</td>\n",
       "    </tr>\n",
       "    <tr>\n",
       "      <th>19</th>\n",
       "      <td>1962-08-01</td>\n",
       "      <td>539.803595</td>\n",
       "      <td>(457.1865009379582, 622.4206888503871)</td>\n",
       "      <td>42.152353</td>\n",
       "      <td>457.186501</td>\n",
       "      <td>622.420689</td>\n",
       "    </tr>\n",
       "    <tr>\n",
       "      <th>20</th>\n",
       "      <td>1962-09-01</td>\n",
       "      <td>542.848978</td>\n",
       "      <td>(460.23188412658493, 625.4660720390139)</td>\n",
       "      <td>42.152353</td>\n",
       "      <td>460.231884</td>\n",
       "      <td>625.466072</td>\n",
       "    </tr>\n",
       "    <tr>\n",
       "      <th>21</th>\n",
       "      <td>1962-10-01</td>\n",
       "      <td>545.825932</td>\n",
       "      <td>(463.2088376053708, 628.4430255177997)</td>\n",
       "      <td>42.152353</td>\n",
       "      <td>463.208838</td>\n",
       "      <td>628.443026</td>\n",
       "    </tr>\n",
       "    <tr>\n",
       "      <th>22</th>\n",
       "      <td>1962-11-01</td>\n",
       "      <td>548.862745</td>\n",
       "      <td>(466.2456505573336, 631.4798384697625)</td>\n",
       "      <td>42.152353</td>\n",
       "      <td>466.245651</td>\n",
       "      <td>631.479838</td>\n",
       "    </tr>\n",
       "    <tr>\n",
       "      <th>23</th>\n",
       "      <td>1962-12-01</td>\n",
       "      <td>551.824732</td>\n",
       "      <td>(469.2076383432972, 634.4418262557261)</td>\n",
       "      <td>42.152353</td>\n",
       "      <td>469.207638</td>\n",
       "      <td>634.441826</td>\n",
       "    </tr>\n",
       "    <tr>\n",
       "      <th>24</th>\n",
       "      <td>1963-01-01</td>\n",
       "      <td>545.898350</td>\n",
       "      <td>(463.28125645694917, 628.5154443693781)</td>\n",
       "      <td>42.152353</td>\n",
       "      <td>463.281256</td>\n",
       "      <td>628.515444</td>\n",
       "    </tr>\n",
       "    <tr>\n",
       "      <th>25</th>\n",
       "      <td>1963-02-01</td>\n",
       "      <td>556.904153</td>\n",
       "      <td>(474.287059067911, 639.5212469803399)</td>\n",
       "      <td>42.152353</td>\n",
       "      <td>474.287059</td>\n",
       "      <td>639.521247</td>\n",
       "    </tr>\n",
       "    <tr>\n",
       "      <th>26</th>\n",
       "      <td>1963-03-01</td>\n",
       "      <td>559.624104</td>\n",
       "      <td>(477.007009699301, 642.24119761173)</td>\n",
       "      <td>42.152353</td>\n",
       "      <td>477.007010</td>\n",
       "      <td>642.241198</td>\n",
       "    </tr>\n",
       "    <tr>\n",
       "      <th>27</th>\n",
       "      <td>1963-04-01</td>\n",
       "      <td>562.516604</td>\n",
       "      <td>(479.8995100213503, 645.1336979337792)</td>\n",
       "      <td>42.152353</td>\n",
       "      <td>479.899510</td>\n",
       "      <td>645.133698</td>\n",
       "    </tr>\n",
       "    <tr>\n",
       "      <th>28</th>\n",
       "      <td>1963-05-01</td>\n",
       "      <td>566.292804</td>\n",
       "      <td>(483.6757097374029, 648.9098976498318)</td>\n",
       "      <td>42.152353</td>\n",
       "      <td>483.675710</td>\n",
       "      <td>648.909898</td>\n",
       "    </tr>\n",
       "    <tr>\n",
       "      <th>29</th>\n",
       "      <td>1963-06-01</td>\n",
       "      <td>569.356490</td>\n",
       "      <td>(486.7393957167289, 651.9735836291578)</td>\n",
       "      <td>42.152353</td>\n",
       "      <td>486.739396</td>\n",
       "      <td>651.973584</td>\n",
       "    </tr>\n",
       "    <tr>\n",
       "      <th>30</th>\n",
       "      <td>1963-07-01</td>\n",
       "      <td>572.390994</td>\n",
       "      <td>(489.7738996515715, 655.0080875640004)</td>\n",
       "      <td>42.152353</td>\n",
       "      <td>489.773900</td>\n",
       "      <td>655.008088</td>\n",
       "    </tr>\n",
       "    <tr>\n",
       "      <th>31</th>\n",
       "      <td>1963-08-01</td>\n",
       "      <td>575.507000</td>\n",
       "      <td>(492.8899059137795, 658.1240938262084)</td>\n",
       "      <td>42.152353</td>\n",
       "      <td>492.889906</td>\n",
       "      <td>658.124094</td>\n",
       "    </tr>\n",
       "    <tr>\n",
       "      <th>32</th>\n",
       "      <td>1963-09-01</td>\n",
       "      <td>578.551895</td>\n",
       "      <td>(495.9348009186005, 661.1689888310294)</td>\n",
       "      <td>42.152353</td>\n",
       "      <td>495.934801</td>\n",
       "      <td>661.168989</td>\n",
       "    </tr>\n",
       "    <tr>\n",
       "      <th>33</th>\n",
       "      <td>1963-10-01</td>\n",
       "      <td>581.528559</td>\n",
       "      <td>(498.9114651690733, 664.1456530815022)</td>\n",
       "      <td>42.152353</td>\n",
       "      <td>498.911465</td>\n",
       "      <td>664.145653</td>\n",
       "    </tr>\n",
       "    <tr>\n",
       "      <th>34</th>\n",
       "      <td>1963-11-01</td>\n",
       "      <td>584.565200</td>\n",
       "      <td>(501.948106074313, 667.1822939867419)</td>\n",
       "      <td>42.152353</td>\n",
       "      <td>501.948106</td>\n",
       "      <td>667.182294</td>\n",
       "    </tr>\n",
       "    <tr>\n",
       "      <th>35</th>\n",
       "      <td>1963-12-01</td>\n",
       "      <td>587.527086</td>\n",
       "      <td>(504.90999159144684, 670.1441795038758)</td>\n",
       "      <td>42.152353</td>\n",
       "      <td>504.909992</td>\n",
       "      <td>670.144180</td>\n",
       "    </tr>\n",
       "  </tbody>\n",
       "</table>\n",
       "</div>"
      ],
      "text/plain": [
       "           ts    forecast                         quantile_summary    err_std  \\\n",
       "0  1961-01-01  458.412408  (375.79531439065084, 541.0295023030798)  42.152353   \n",
       "1  1961-02-01  469.131694    (386.5145999351901, 551.748787847619)  42.152353   \n",
       "2  1961-03-01  479.508975  (396.89188123590543, 562.1260691483343)  42.152353   \n",
       "3  1961-04-01  486.678706    (404.0616124860931, 569.295800398522)  42.152353   \n",
       "4  1961-05-01  491.709549  (409.09245519798395, 574.3266431104129)  42.152353   \n",
       "5  1961-06-01  496.193881  (413.57678677319234, 578.8109746856212)  42.152353   \n",
       "6  1961-07-01  499.977260    (417.3601657570422, 582.594353669471)  42.152353   \n",
       "7  1961-08-01  503.462092   (420.8449981270998, 586.0791860395287)  42.152353   \n",
       "8  1961-09-01  506.780399   (424.1633054601316, 589.3974933725605)  42.152353   \n",
       "9  1961-10-01  509.906904   (427.2898103800665, 592.5239982924954)  42.152353   \n",
       "10 1961-11-01  513.028862   (430.4117683099145, 595.6459562223434)  42.152353   \n",
       "11 1961-12-01  516.045527  (433.42843330652653, 598.6626212189555)  42.152353   \n",
       "12 1962-01-01  510.150315    (427.5332206517771, 592.767408564206)  42.152353   \n",
       "13 1962-02-01  521.174535   (438.5574412201092, 603.7916291325381)  42.152353   \n",
       "14 1962-03-01  523.905716  (441.28862245749013, 606.5228103699191)  42.152353   \n",
       "15 1962-04-01  526.804768   (444.1876736319393, 609.4218615443682)  42.152353   \n",
       "16 1962-05-01  530.584866    (447.9677724868831, 613.201960399312)  42.152353   \n",
       "17 1962-06-01  533.650888   (451.0337937431264, 616.2679816555553)  42.152353   \n",
       "18 1962-07-01  536.686769    (454.0696748144631, 619.303862726892)  42.152353   \n",
       "19 1962-08-01  539.803595   (457.1865009379582, 622.4206888503871)  42.152353   \n",
       "20 1962-09-01  542.848978  (460.23188412658493, 625.4660720390139)  42.152353   \n",
       "21 1962-10-01  545.825932   (463.2088376053708, 628.4430255177997)  42.152353   \n",
       "22 1962-11-01  548.862745   (466.2456505573336, 631.4798384697625)  42.152353   \n",
       "23 1962-12-01  551.824732   (469.2076383432972, 634.4418262557261)  42.152353   \n",
       "24 1963-01-01  545.898350  (463.28125645694917, 628.5154443693781)  42.152353   \n",
       "25 1963-02-01  556.904153    (474.287059067911, 639.5212469803399)  42.152353   \n",
       "26 1963-03-01  559.624104      (477.007009699301, 642.24119761173)  42.152353   \n",
       "27 1963-04-01  562.516604   (479.8995100213503, 645.1336979337792)  42.152353   \n",
       "28 1963-05-01  566.292804   (483.6757097374029, 648.9098976498318)  42.152353   \n",
       "29 1963-06-01  569.356490   (486.7393957167289, 651.9735836291578)  42.152353   \n",
       "30 1963-07-01  572.390994   (489.7738996515715, 655.0080875640004)  42.152353   \n",
       "31 1963-08-01  575.507000   (492.8899059137795, 658.1240938262084)  42.152353   \n",
       "32 1963-09-01  578.551895   (495.9348009186005, 661.1689888310294)  42.152353   \n",
       "33 1963-10-01  581.528559   (498.9114651690733, 664.1456530815022)  42.152353   \n",
       "34 1963-11-01  584.565200    (501.948106074313, 667.1822939867419)  42.152353   \n",
       "35 1963-12-01  587.527086  (504.90999159144684, 670.1441795038758)  42.152353   \n",
       "\n",
       "    forecast_lower  forecast_upper  \n",
       "0       375.795314      541.029502  \n",
       "1       386.514600      551.748788  \n",
       "2       396.891881      562.126069  \n",
       "3       404.061612      569.295800  \n",
       "4       409.092455      574.326643  \n",
       "5       413.576787      578.810975  \n",
       "6       417.360166      582.594354  \n",
       "7       420.844998      586.079186  \n",
       "8       424.163305      589.397493  \n",
       "9       427.289810      592.523998  \n",
       "10      430.411768      595.645956  \n",
       "11      433.428433      598.662621  \n",
       "12      427.533221      592.767409  \n",
       "13      438.557441      603.791629  \n",
       "14      441.288622      606.522810  \n",
       "15      444.187674      609.421862  \n",
       "16      447.967772      613.201960  \n",
       "17      451.033794      616.267982  \n",
       "18      454.069675      619.303863  \n",
       "19      457.186501      622.420689  \n",
       "20      460.231884      625.466072  \n",
       "21      463.208838      628.443026  \n",
       "22      466.245651      631.479838  \n",
       "23      469.207638      634.441826  \n",
       "24      463.281256      628.515444  \n",
       "25      474.287059      639.521247  \n",
       "26      477.007010      642.241198  \n",
       "27      479.899510      645.133698  \n",
       "28      483.675710      648.909898  \n",
       "29      486.739396      651.973584  \n",
       "30      489.773900      655.008088  \n",
       "31      492.889906      658.124094  \n",
       "32      495.934801      661.168989  \n",
       "33      498.911465      664.145653  \n",
       "34      501.948106      667.182294  \n",
       "35      504.909992      670.144180  "
      ]
     },
     "execution_count": 18,
     "metadata": {},
     "output_type": "execute_result"
    }
   ],
   "source": [
    "model.predict(future_df)"
   ]
  },
  {
   "cell_type": "markdown",
   "metadata": {},
   "source": [
    "# Changepoints"
   ]
  },
  {
   "cell_type": "code",
   "execution_count": 19,
   "metadata": {},
   "outputs": [
    {
     "data": {
      "text/html": [
       "<div>\n",
       "<style scoped>\n",
       "    .dataframe tbody tr th:only-of-type {\n",
       "        vertical-align: middle;\n",
       "    }\n",
       "\n",
       "    .dataframe tbody tr th {\n",
       "        vertical-align: top;\n",
       "    }\n",
       "\n",
       "    .dataframe thead th {\n",
       "        text-align: right;\n",
       "    }\n",
       "</style>\n",
       "<table border=\"1\" class=\"dataframe\">\n",
       "  <thead>\n",
       "    <tr style=\"text-align: right;\">\n",
       "      <th></th>\n",
       "      <th>trend_changepoints</th>\n",
       "    </tr>\n",
       "  </thead>\n",
       "  <tbody>\n",
       "    <tr>\n",
       "      <th>0</th>\n",
       "      <td>1949-06-01</td>\n",
       "    </tr>\n",
       "    <tr>\n",
       "      <th>1</th>\n",
       "      <td>1949-08-01</td>\n",
       "    </tr>\n",
       "    <tr>\n",
       "      <th>2</th>\n",
       "      <td>1950-07-01</td>\n",
       "    </tr>\n",
       "    <tr>\n",
       "      <th>3</th>\n",
       "      <td>1953-07-01</td>\n",
       "    </tr>\n",
       "    <tr>\n",
       "      <th>4</th>\n",
       "      <td>1953-08-01</td>\n",
       "    </tr>\n",
       "    <tr>\n",
       "      <th>5</th>\n",
       "      <td>1954-08-01</td>\n",
       "    </tr>\n",
       "    <tr>\n",
       "      <th>6</th>\n",
       "      <td>1958-12-01</td>\n",
       "    </tr>\n",
       "  </tbody>\n",
       "</table>\n",
       "</div>"
      ],
      "text/plain": [
       "  trend_changepoints\n",
       "0         1949-06-01\n",
       "1         1949-08-01\n",
       "2         1950-07-01\n",
       "3         1953-07-01\n",
       "4         1953-08-01\n",
       "5         1954-08-01\n",
       "6         1958-12-01"
      ]
     },
     "execution_count": 19,
     "metadata": {},
     "output_type": "execute_result"
    }
   ],
   "source": [
    "from greykite.algo.changepoint.adalasso.changepoint_detector import ChangepointDetector\n",
    "\n",
    "model1 = ChangepointDetector()\n",
    "res = model1.find_trend_changepoints(\n",
    "     df=df,            # data df\n",
    "     time_col=\"Month\",    # time column name\n",
    "     value_col=\"#Passengers\")    # value column name\n",
    "pd.DataFrame({\"trend_changepoints\": res[\"trend_changepoints\"]})  # prints a dataframe showing the result"
   ]
  },
  {
   "cell_type": "code",
   "execution_count": 20,
   "metadata": {},
   "outputs": [],
   "source": [
    "# specify dataset information\n",
    "metadata1 = dict(\n",
    "     time_col=\"Month\",  # name of the time column (\"datepartition\" in example above)\n",
    "     value_col=\"#Passengers\",  # name of the value column (\"macrosessions\" in example above)\n",
    "     freq=\"MS\"        # \"H\" for hourly, \"D\" for daily, \"W\" for weekly, etc.\n",
    "     # Any format accepted by ``pd.date_range``\n",
    " )\n",
    " # specify changepoint parameters in model_components\n",
    "model_components1 = dict(\n",
    "     changepoints={\n",
    "         # it's ok to provide one of ``changepoints_dict`` or ``seasonality_changepoints_dict`` by itself\n",
    "         \"changepoints_dict\": {\n",
    "             \"method\": \"auto\",\n",
    "             \"continuous_time_col\":\"ct1\",\n",
    "             \"growth_function\":\"linear\",\n",
    "             \"yearly_seasonality_order\": 12,\n",
    "             \"regularization_strength\": 0.46,\n",
    "             \"resample_freq\": \"1M\",\n",
    "             \"potential_changepoint_n\": 30,\n",
    "             \"no_changepoint_proportion_from_end\": 0.3\n",
    "         },\n",
    "     },\n",
    "     custom={\n",
    "         \"fit_algorithm_dict\": {\n",
    "             \"fit_algorithm\": \"lasso\"}})  "
   ]
  },
  {
   "cell_type": "code",
   "execution_count": 21,
   "metadata": {},
   "outputs": [
    {
     "name": "stdout",
     "output_type": "stream",
     "text": [
      "Fitting 1 folds for each of 1 candidates, totalling 1 fits\n"
     ]
    }
   ],
   "source": [
    "# Generates model config\n",
    "config1 = ForecastConfig.from_dict(\n",
    "     dict(\n",
    "         model_template=ModelTemplateEnum.SILVERKITE_MONTHLY.name,\n",
    "         forecast_horizon=36,  # forecast 3 years\n",
    "         coverage=0.95,  # 95% prediction intervals\n",
    "         metadata_param=metadata1,\n",
    "         model_components_param=model_components1))\n",
    "\n",
    " # Then run with changepoint parameters\n",
    "forecaster1 = Forecaster()\n",
    "result1 = forecaster1.run_forecast_config(\n",
    "     df=df,\n",
    "     config=config1)"
   ]
  },
  {
   "cell_type": "code",
   "execution_count": 22,
   "metadata": {},
   "outputs": [
    {
     "data": {
      "application/vnd.plotly.v1+json": {
       "config": {
        "linkText": "Export to plot.ly",
        "plotlyServerURL": "https://plot.ly",
        "showLink": false
       },
       "data": [
        {
         "legendgroup": "interval",
         "line": {
          "color": "rgba(0, 90, 181, 0.5)",
          "width": 0
         },
         "mode": "lines",
         "name": "Lower Bound",
         "type": "scatter",
         "x": [
          "1949-01-01T00:00:00",
          "1949-02-01T00:00:00",
          "1949-03-01T00:00:00",
          "1949-04-01T00:00:00",
          "1949-05-01T00:00:00",
          "1949-06-01T00:00:00",
          "1949-07-01T00:00:00",
          "1949-08-01T00:00:00",
          "1949-09-01T00:00:00",
          "1949-10-01T00:00:00",
          "1949-11-01T00:00:00",
          "1949-12-01T00:00:00",
          "1950-01-01T00:00:00",
          "1950-02-01T00:00:00",
          "1950-03-01T00:00:00",
          "1950-04-01T00:00:00",
          "1950-05-01T00:00:00",
          "1950-06-01T00:00:00",
          "1950-07-01T00:00:00",
          "1950-08-01T00:00:00",
          "1950-09-01T00:00:00",
          "1950-10-01T00:00:00",
          "1950-11-01T00:00:00",
          "1950-12-01T00:00:00",
          "1951-01-01T00:00:00",
          "1951-02-01T00:00:00",
          "1951-03-01T00:00:00",
          "1951-04-01T00:00:00",
          "1951-05-01T00:00:00",
          "1951-06-01T00:00:00",
          "1951-07-01T00:00:00",
          "1951-08-01T00:00:00",
          "1951-09-01T00:00:00",
          "1951-10-01T00:00:00",
          "1951-11-01T00:00:00",
          "1951-12-01T00:00:00",
          "1952-01-01T00:00:00",
          "1952-02-01T00:00:00",
          "1952-03-01T00:00:00",
          "1952-04-01T00:00:00",
          "1952-05-01T00:00:00",
          "1952-06-01T00:00:00",
          "1952-07-01T00:00:00",
          "1952-08-01T00:00:00",
          "1952-09-01T00:00:00",
          "1952-10-01T00:00:00",
          "1952-11-01T00:00:00",
          "1952-12-01T00:00:00",
          "1953-01-01T00:00:00",
          "1953-02-01T00:00:00",
          "1953-03-01T00:00:00",
          "1953-04-01T00:00:00",
          "1953-05-01T00:00:00",
          "1953-06-01T00:00:00",
          "1953-07-01T00:00:00",
          "1953-08-01T00:00:00",
          "1953-09-01T00:00:00",
          "1953-10-01T00:00:00",
          "1953-11-01T00:00:00",
          "1953-12-01T00:00:00",
          "1954-01-01T00:00:00",
          "1954-02-01T00:00:00",
          "1954-03-01T00:00:00",
          "1954-04-01T00:00:00",
          "1954-05-01T00:00:00",
          "1954-06-01T00:00:00",
          "1954-07-01T00:00:00",
          "1954-08-01T00:00:00",
          "1954-09-01T00:00:00",
          "1954-10-01T00:00:00",
          "1954-11-01T00:00:00",
          "1954-12-01T00:00:00",
          "1955-01-01T00:00:00",
          "1955-02-01T00:00:00",
          "1955-03-01T00:00:00",
          "1955-04-01T00:00:00",
          "1955-05-01T00:00:00",
          "1955-06-01T00:00:00",
          "1955-07-01T00:00:00",
          "1955-08-01T00:00:00",
          "1955-09-01T00:00:00",
          "1955-10-01T00:00:00",
          "1955-11-01T00:00:00",
          "1955-12-01T00:00:00",
          "1956-01-01T00:00:00",
          "1956-02-01T00:00:00",
          "1956-03-01T00:00:00",
          "1956-04-01T00:00:00",
          "1956-05-01T00:00:00",
          "1956-06-01T00:00:00",
          "1956-07-01T00:00:00",
          "1956-08-01T00:00:00",
          "1956-09-01T00:00:00",
          "1956-10-01T00:00:00",
          "1956-11-01T00:00:00",
          "1956-12-01T00:00:00",
          "1957-01-01T00:00:00",
          "1957-02-01T00:00:00",
          "1957-03-01T00:00:00",
          "1957-04-01T00:00:00",
          "1957-05-01T00:00:00",
          "1957-06-01T00:00:00",
          "1957-07-01T00:00:00",
          "1957-08-01T00:00:00",
          "1957-09-01T00:00:00",
          "1957-10-01T00:00:00",
          "1957-11-01T00:00:00",
          "1957-12-01T00:00:00",
          "1958-01-01T00:00:00",
          "1958-02-01T00:00:00",
          "1958-03-01T00:00:00",
          "1958-04-01T00:00:00",
          "1958-05-01T00:00:00",
          "1958-06-01T00:00:00",
          "1958-07-01T00:00:00",
          "1958-08-01T00:00:00",
          "1958-09-01T00:00:00",
          "1958-10-01T00:00:00",
          "1958-11-01T00:00:00",
          "1958-12-01T00:00:00",
          "1959-01-01T00:00:00",
          "1959-02-01T00:00:00",
          "1959-03-01T00:00:00",
          "1959-04-01T00:00:00",
          "1959-05-01T00:00:00",
          "1959-06-01T00:00:00",
          "1959-07-01T00:00:00",
          "1959-08-01T00:00:00",
          "1959-09-01T00:00:00",
          "1959-10-01T00:00:00",
          "1959-11-01T00:00:00",
          "1959-12-01T00:00:00",
          "1960-01-01T00:00:00",
          "1960-02-01T00:00:00",
          "1960-03-01T00:00:00",
          "1960-04-01T00:00:00",
          "1960-05-01T00:00:00",
          "1960-06-01T00:00:00",
          "1960-07-01T00:00:00",
          "1960-08-01T00:00:00",
          "1960-09-01T00:00:00",
          "1960-10-01T00:00:00",
          "1960-11-01T00:00:00",
          "1960-12-01T00:00:00",
          "1961-01-01T00:00:00",
          "1961-02-01T00:00:00",
          "1961-03-01T00:00:00",
          "1961-04-01T00:00:00",
          "1961-05-01T00:00:00",
          "1961-06-01T00:00:00",
          "1961-07-01T00:00:00",
          "1961-08-01T00:00:00",
          "1961-09-01T00:00:00",
          "1961-10-01T00:00:00",
          "1961-11-01T00:00:00",
          "1961-12-01T00:00:00",
          "1962-01-01T00:00:00",
          "1962-02-01T00:00:00",
          "1962-03-01T00:00:00",
          "1962-04-01T00:00:00",
          "1962-05-01T00:00:00",
          "1962-06-01T00:00:00",
          "1962-07-01T00:00:00",
          "1962-08-01T00:00:00",
          "1962-09-01T00:00:00",
          "1962-10-01T00:00:00",
          "1962-11-01T00:00:00",
          "1962-12-01T00:00:00",
          "1963-01-01T00:00:00",
          "1963-02-01T00:00:00",
          "1963-03-01T00:00:00",
          "1963-04-01T00:00:00",
          "1963-05-01T00:00:00",
          "1963-06-01T00:00:00",
          "1963-07-01T00:00:00",
          "1963-08-01T00:00:00",
          "1963-09-01T00:00:00",
          "1963-10-01T00:00:00",
          "1963-11-01T00:00:00",
          "1963-12-01T00:00:00"
         ],
         "y": [
          96.01063143866261,
          98.10626289381864,
          120.19072232995299,
          108.55288832924988,
          106.94764850078857,
          120.9298846952951,
          132.0501278099387,
          132.93204678260034,
          117.62858052772006,
          101.87384611823184,
          87.9622892915566,
          103.41109026464545,
          106.86093276380467,
          108.50780735675339,
          133.16665720284334,
          122.45100565634652,
          121.81761660534843,
          136.12258847576865,
          149.3656799571431,
          153.0632288248079,
          137.43838240748246,
          120.97310684576303,
          104.7716247352649,
          121.32893718434883,
          125.63859687537888,
          128.15599601392415,
          156.7887977847513,
          149.8633753068584,
          150.284529508383,
          173.92173664613887,
          189.94226508230545,
          190.36712043298846,
          163.65395047984205,
          144.07947234070826,
          125.64442342959359,
          146.28301895154297,
          151.85416494773844,
          151.60357317416873,
          182.28842431866858,
          174.77823985491645,
          174.7298016119179,
          196.9746757576117,
          221.4621146040444,
          222.41302343503546,
          193.9113407530841,
          168.95843399828416,
          147.70594571581867,
          170.29692267200892,
          177.47273461560735,
          174.44896975040677,
          205.787193103649,
          201.77297118339564,
          208.00761863023052,
          242.03723157164555,
          267.7739707851302,
          259.70176180963193,
          220.41332505711867,
          192.99621276590747,
          168.0268496448878,
          191.0706916616179,
          195.927323429588,
          190.4780996312503,
          220.06279308619483,
          214.83964402048815,
          218.21890594621286,
          254.37709419924963,
          285.77111223384884,
          288.1017826766969,
          246.57630143316547,
          217.22211213705398,
          188.77551928082127,
          215.23916298634563,
          222.40086019987484,
          217.97760743845026,
          253.74896109042695,
          251.33587687925635,
          257.4514794400574,
          297.47101628271656,
          339.00128268394764,
          341.334339402813,
          290.572753106858,
          256.16247149139866,
          221.6755706597124,
          252.09789939911437,
          260.5765774297832,
          252.25297780878864,
          293.0131111416086,
          292.7753766250205,
          301.06999143446063,
          348.2034861670741,
          398.0831855423968,
          396.1936081912005,
          334.43737231941503,
          292.88221815763455,
          252.8557952220115,
          285.86181703230613,
          293.6778082215207,
          282.64394440834536,
          324.42891070758213,
          327.240799098427,
          337.5136894391956,
          391.96967965813195,
          448.90394318205665,
          446.6531176724979,
          377.6701588475071,
          331.10404950953495,
          285.74713803090896,
          321.63812971008036,
          328.42078462560755,
          312.5438284531569,
          354.24665027462083,
          354.1932043891741,
          360.6707521695321,
          414.159913459129,
          473.5363815879665,
          476.500436674649,
          408.23414642015916,
          357.700017963557,
          309.36768365023534,
          343.00064389137435,
          350.1790457320221,
          334.77886651154,
          380.03465061134744,
          387.7128071837053,
          400.3466141739594,
          466.4210647241788,
          530.2088716359768,
          530.191527473784,
          449.394855672521,
          396.75794294552384,
          343.08651494908804,
          383.4976237845763,
          394.3247470068373,
          375.380776426232,
          425.11953510631326,
          426.36124799036133,
          442.01128969508306,
          514.4805641672873,
          596.9697951359213,
          592.6166084669838,
          495.9459677052861,
          435.35873965371366,
          375.4494216179983,
          419.68703707139025,
          429.66472181541485,
          404.59568889121795,
          456.77386268153975,
          463.62444931394054,
          478.9879690067688,
          554.547575454454,
          636.1837529397925,
          631.7792034845876,
          530.8979667702795,
          467.33402469725615,
          403.79361116409336,
          450.88620490577455,
          461.5750150476381,
          435.3384481251627,
          490.3539075307675,
          498.4957615119236,
          515.6787447770531,
          597.0394948365816,
          685.456316973893,
          680.3015283685405,
          570.9074852380605,
          502.60685462687246,
          434.12857728143047,
          484.1898808199104,
          495.4092810704933,
          466.26918193653927,
          524.0623865550464,
          533.7348994118435,
          552.4910552958212,
          639.6690264497632,
          734.8948994963622,
          728.9213296793463,
          610.9768687874308,
          537.9177005774619,
          464.4813161568005,
          517.5091410638352
         ]
        },
        {
         "fill": "tonexty",
         "fillcolor": "rgba(0, 90, 181, 0.15)",
         "legendgroup": "interval",
         "line": {
          "color": "rgba(0, 90, 181, 0.5)",
          "width": 0
         },
         "mode": "lines",
         "name": "Upper Bound",
         "type": "scatter",
         "x": [
          "1949-01-01T00:00:00",
          "1949-02-01T00:00:00",
          "1949-03-01T00:00:00",
          "1949-04-01T00:00:00",
          "1949-05-01T00:00:00",
          "1949-06-01T00:00:00",
          "1949-07-01T00:00:00",
          "1949-08-01T00:00:00",
          "1949-09-01T00:00:00",
          "1949-10-01T00:00:00",
          "1949-11-01T00:00:00",
          "1949-12-01T00:00:00",
          "1950-01-01T00:00:00",
          "1950-02-01T00:00:00",
          "1950-03-01T00:00:00",
          "1950-04-01T00:00:00",
          "1950-05-01T00:00:00",
          "1950-06-01T00:00:00",
          "1950-07-01T00:00:00",
          "1950-08-01T00:00:00",
          "1950-09-01T00:00:00",
          "1950-10-01T00:00:00",
          "1950-11-01T00:00:00",
          "1950-12-01T00:00:00",
          "1951-01-01T00:00:00",
          "1951-02-01T00:00:00",
          "1951-03-01T00:00:00",
          "1951-04-01T00:00:00",
          "1951-05-01T00:00:00",
          "1951-06-01T00:00:00",
          "1951-07-01T00:00:00",
          "1951-08-01T00:00:00",
          "1951-09-01T00:00:00",
          "1951-10-01T00:00:00",
          "1951-11-01T00:00:00",
          "1951-12-01T00:00:00",
          "1952-01-01T00:00:00",
          "1952-02-01T00:00:00",
          "1952-03-01T00:00:00",
          "1952-04-01T00:00:00",
          "1952-05-01T00:00:00",
          "1952-06-01T00:00:00",
          "1952-07-01T00:00:00",
          "1952-08-01T00:00:00",
          "1952-09-01T00:00:00",
          "1952-10-01T00:00:00",
          "1952-11-01T00:00:00",
          "1952-12-01T00:00:00",
          "1953-01-01T00:00:00",
          "1953-02-01T00:00:00",
          "1953-03-01T00:00:00",
          "1953-04-01T00:00:00",
          "1953-05-01T00:00:00",
          "1953-06-01T00:00:00",
          "1953-07-01T00:00:00",
          "1953-08-01T00:00:00",
          "1953-09-01T00:00:00",
          "1953-10-01T00:00:00",
          "1953-11-01T00:00:00",
          "1953-12-01T00:00:00",
          "1954-01-01T00:00:00",
          "1954-02-01T00:00:00",
          "1954-03-01T00:00:00",
          "1954-04-01T00:00:00",
          "1954-05-01T00:00:00",
          "1954-06-01T00:00:00",
          "1954-07-01T00:00:00",
          "1954-08-01T00:00:00",
          "1954-09-01T00:00:00",
          "1954-10-01T00:00:00",
          "1954-11-01T00:00:00",
          "1954-12-01T00:00:00",
          "1955-01-01T00:00:00",
          "1955-02-01T00:00:00",
          "1955-03-01T00:00:00",
          "1955-04-01T00:00:00",
          "1955-05-01T00:00:00",
          "1955-06-01T00:00:00",
          "1955-07-01T00:00:00",
          "1955-08-01T00:00:00",
          "1955-09-01T00:00:00",
          "1955-10-01T00:00:00",
          "1955-11-01T00:00:00",
          "1955-12-01T00:00:00",
          "1956-01-01T00:00:00",
          "1956-02-01T00:00:00",
          "1956-03-01T00:00:00",
          "1956-04-01T00:00:00",
          "1956-05-01T00:00:00",
          "1956-06-01T00:00:00",
          "1956-07-01T00:00:00",
          "1956-08-01T00:00:00",
          "1956-09-01T00:00:00",
          "1956-10-01T00:00:00",
          "1956-11-01T00:00:00",
          "1956-12-01T00:00:00",
          "1957-01-01T00:00:00",
          "1957-02-01T00:00:00",
          "1957-03-01T00:00:00",
          "1957-04-01T00:00:00",
          "1957-05-01T00:00:00",
          "1957-06-01T00:00:00",
          "1957-07-01T00:00:00",
          "1957-08-01T00:00:00",
          "1957-09-01T00:00:00",
          "1957-10-01T00:00:00",
          "1957-11-01T00:00:00",
          "1957-12-01T00:00:00",
          "1958-01-01T00:00:00",
          "1958-02-01T00:00:00",
          "1958-03-01T00:00:00",
          "1958-04-01T00:00:00",
          "1958-05-01T00:00:00",
          "1958-06-01T00:00:00",
          "1958-07-01T00:00:00",
          "1958-08-01T00:00:00",
          "1958-09-01T00:00:00",
          "1958-10-01T00:00:00",
          "1958-11-01T00:00:00",
          "1958-12-01T00:00:00",
          "1959-01-01T00:00:00",
          "1959-02-01T00:00:00",
          "1959-03-01T00:00:00",
          "1959-04-01T00:00:00",
          "1959-05-01T00:00:00",
          "1959-06-01T00:00:00",
          "1959-07-01T00:00:00",
          "1959-08-01T00:00:00",
          "1959-09-01T00:00:00",
          "1959-10-01T00:00:00",
          "1959-11-01T00:00:00",
          "1959-12-01T00:00:00",
          "1960-01-01T00:00:00",
          "1960-02-01T00:00:00",
          "1960-03-01T00:00:00",
          "1960-04-01T00:00:00",
          "1960-05-01T00:00:00",
          "1960-06-01T00:00:00",
          "1960-07-01T00:00:00",
          "1960-08-01T00:00:00",
          "1960-09-01T00:00:00",
          "1960-10-01T00:00:00",
          "1960-11-01T00:00:00",
          "1960-12-01T00:00:00",
          "1961-01-01T00:00:00",
          "1961-02-01T00:00:00",
          "1961-03-01T00:00:00",
          "1961-04-01T00:00:00",
          "1961-05-01T00:00:00",
          "1961-06-01T00:00:00",
          "1961-07-01T00:00:00",
          "1961-08-01T00:00:00",
          "1961-09-01T00:00:00",
          "1961-10-01T00:00:00",
          "1961-11-01T00:00:00",
          "1961-12-01T00:00:00",
          "1962-01-01T00:00:00",
          "1962-02-01T00:00:00",
          "1962-03-01T00:00:00",
          "1962-04-01T00:00:00",
          "1962-05-01T00:00:00",
          "1962-06-01T00:00:00",
          "1962-07-01T00:00:00",
          "1962-08-01T00:00:00",
          "1962-09-01T00:00:00",
          "1962-10-01T00:00:00",
          "1962-11-01T00:00:00",
          "1962-12-01T00:00:00",
          "1963-01-01T00:00:00",
          "1963-02-01T00:00:00",
          "1963-03-01T00:00:00",
          "1963-04-01T00:00:00",
          "1963-05-01T00:00:00",
          "1963-06-01T00:00:00",
          "1963-07-01T00:00:00",
          "1963-08-01T00:00:00",
          "1963-09-01T00:00:00",
          "1963-10-01T00:00:00",
          "1963-11-01T00:00:00",
          "1963-12-01T00:00:00"
         ],
         "y": [
          127.34840261967778,
          129.4440340748338,
          151.52849351096816,
          139.89065951026507,
          138.28541968180375,
          152.26765587631027,
          163.38789899095386,
          164.2698179636155,
          148.96635170873523,
          133.21161729924702,
          119.30006047257177,
          134.74886144566062,
          138.19870394481984,
          139.84557853776857,
          164.5044283838585,
          153.7887768373617,
          153.1553877863636,
          167.46035965678382,
          180.70345113815827,
          184.40100000582308,
          168.77615358849764,
          152.3108780267782,
          136.10939591628008,
          152.666708365364,
          156.97636805639405,
          159.49376719493932,
          188.12656896576647,
          181.20114648787356,
          181.62230068939817,
          205.25950782715404,
          221.28003626332062,
          221.70489161400363,
          194.99172166085722,
          175.41724352172344,
          156.98219461060876,
          177.62079013255814,
          183.1919361287536,
          182.9413443551839,
          213.62619549968375,
          206.11601103593162,
          206.06757279293308,
          228.31244693862686,
          252.79988578505956,
          253.75079461605063,
          225.24911193409926,
          200.29620517929933,
          179.04371689683384,
          201.6346938530241,
          208.81050579662252,
          205.78674093142195,
          237.12496428466417,
          233.1107423644108,
          239.3453898112457,
          273.37500275266075,
          299.1117419661454,
          291.03953299064716,
          251.75109623813384,
          224.33398394692264,
          199.36462082590296,
          222.40846284263307,
          227.26509461060317,
          221.81587081226547,
          251.40056426721,
          246.17741520150332,
          249.55667712722803,
          285.7148653802648,
          317.10888341486407,
          319.43955385771216,
          277.91407261418067,
          248.55988331806915,
          220.11329046183644,
          246.5769341673608,
          253.73863138089,
          249.31537861946543,
          285.08673227144214,
          282.67364806027155,
          288.78925062107265,
          328.8087874637318,
          370.33905386496286,
          372.6721105838282,
          321.9105242878732,
          287.5002426724139,
          253.01334184072758,
          283.43567058012957,
          291.9143486107984,
          283.59074898980384,
          324.3508823226238,
          324.1131478060357,
          332.40776261547586,
          379.54125734808935,
          429.420956723412,
          427.5313793722157,
          365.77514350043026,
          324.2199893386498,
          284.1935664030267,
          317.19958821332136,
          325.01557940253593,
          313.9817155893606,
          355.76668188859736,
          358.5785702794422,
          368.85146062021084,
          423.3074508391472,
          480.2417143630719,
          477.9908888535131,
          409.0079300285223,
          362.4418206905502,
          317.0849092119242,
          352.9759008910956,
          359.7585558066228,
          343.8815996341721,
          385.58442145563606,
          385.53097557018936,
          392.0085233505473,
          445.4976846401442,
          504.87415276898173,
          507.8382078556642,
          439.5719176011744,
          389.03778914457223,
          340.70545483125056,
          374.3384150723896,
          381.5168169130373,
          366.11663769255523,
          411.3724217923627,
          419.05057836472054,
          431.6843853549746,
          497.758835905194,
          561.546642816992,
          561.5292986547992,
          480.7326268535362,
          428.09571412653906,
          374.42428613010327,
          414.83539496559155,
          425.6625181878525,
          406.7185476072472,
          456.4573062873285,
          457.69901917137656,
          473.3490608760983,
          545.8183353483024,
          628.3075663169365,
          623.954379647999,
          527.2837388863013,
          466.6965108347289,
          406.78719279901355,
          451.0248082524055,
          461.0024929964301,
          435.9334600722332,
          488.111633862555,
          494.9622204949558,
          510.32574018778405,
          585.8853466354691,
          667.5215241208076,
          663.1169746656027,
          562.2357379512946,
          498.6717958782714,
          435.1313823451086,
          482.2239760867898,
          492.9127862286533,
          466.6762193061779,
          521.6916787117827,
          529.8335326929388,
          547.0165159580682,
          628.3772660175968,
          716.7940881549081,
          711.6392995495556,
          602.2452564190756,
          533.9446258078876,
          465.4663484624457,
          515.5276520009256,
          526.7470522515085,
          497.6069531175545,
          555.4001577360615,
          565.0726705928586,
          583.8288264768363,
          671.0067976307784,
          766.2326706773773,
          760.2591008603614,
          642.3146399684459,
          569.255471758477,
          495.81908733781574,
          548.8469122448503
         ]
        },
        {
         "line": {
          "color": "rgba(250, 43, 20, 0.7)"
         },
         "marker": {
          "color": "rgba(250, 43, 20, 0.7)",
          "size": 2
         },
         "mode": "lines+markers",
         "name": "Actual",
         "opacity": 1,
         "type": "scatter",
         "x": [
          "1949-01-01T00:00:00",
          "1949-02-01T00:00:00",
          "1949-03-01T00:00:00",
          "1949-04-01T00:00:00",
          "1949-05-01T00:00:00",
          "1949-06-01T00:00:00",
          "1949-07-01T00:00:00",
          "1949-08-01T00:00:00",
          "1949-09-01T00:00:00",
          "1949-10-01T00:00:00",
          "1949-11-01T00:00:00",
          "1949-12-01T00:00:00",
          "1950-01-01T00:00:00",
          "1950-02-01T00:00:00",
          "1950-03-01T00:00:00",
          "1950-04-01T00:00:00",
          "1950-05-01T00:00:00",
          "1950-06-01T00:00:00",
          "1950-07-01T00:00:00",
          "1950-08-01T00:00:00",
          "1950-09-01T00:00:00",
          "1950-10-01T00:00:00",
          "1950-11-01T00:00:00",
          "1950-12-01T00:00:00",
          "1951-01-01T00:00:00",
          "1951-02-01T00:00:00",
          "1951-03-01T00:00:00",
          "1951-04-01T00:00:00",
          "1951-05-01T00:00:00",
          "1951-06-01T00:00:00",
          "1951-07-01T00:00:00",
          "1951-08-01T00:00:00",
          "1951-09-01T00:00:00",
          "1951-10-01T00:00:00",
          "1951-11-01T00:00:00",
          "1951-12-01T00:00:00",
          "1952-01-01T00:00:00",
          "1952-02-01T00:00:00",
          "1952-03-01T00:00:00",
          "1952-04-01T00:00:00",
          "1952-05-01T00:00:00",
          "1952-06-01T00:00:00",
          "1952-07-01T00:00:00",
          "1952-08-01T00:00:00",
          "1952-09-01T00:00:00",
          "1952-10-01T00:00:00",
          "1952-11-01T00:00:00",
          "1952-12-01T00:00:00",
          "1953-01-01T00:00:00",
          "1953-02-01T00:00:00",
          "1953-03-01T00:00:00",
          "1953-04-01T00:00:00",
          "1953-05-01T00:00:00",
          "1953-06-01T00:00:00",
          "1953-07-01T00:00:00",
          "1953-08-01T00:00:00",
          "1953-09-01T00:00:00",
          "1953-10-01T00:00:00",
          "1953-11-01T00:00:00",
          "1953-12-01T00:00:00",
          "1954-01-01T00:00:00",
          "1954-02-01T00:00:00",
          "1954-03-01T00:00:00",
          "1954-04-01T00:00:00",
          "1954-05-01T00:00:00",
          "1954-06-01T00:00:00",
          "1954-07-01T00:00:00",
          "1954-08-01T00:00:00",
          "1954-09-01T00:00:00",
          "1954-10-01T00:00:00",
          "1954-11-01T00:00:00",
          "1954-12-01T00:00:00",
          "1955-01-01T00:00:00",
          "1955-02-01T00:00:00",
          "1955-03-01T00:00:00",
          "1955-04-01T00:00:00",
          "1955-05-01T00:00:00",
          "1955-06-01T00:00:00",
          "1955-07-01T00:00:00",
          "1955-08-01T00:00:00",
          "1955-09-01T00:00:00",
          "1955-10-01T00:00:00",
          "1955-11-01T00:00:00",
          "1955-12-01T00:00:00",
          "1956-01-01T00:00:00",
          "1956-02-01T00:00:00",
          "1956-03-01T00:00:00",
          "1956-04-01T00:00:00",
          "1956-05-01T00:00:00",
          "1956-06-01T00:00:00",
          "1956-07-01T00:00:00",
          "1956-08-01T00:00:00",
          "1956-09-01T00:00:00",
          "1956-10-01T00:00:00",
          "1956-11-01T00:00:00",
          "1956-12-01T00:00:00",
          "1957-01-01T00:00:00",
          "1957-02-01T00:00:00",
          "1957-03-01T00:00:00",
          "1957-04-01T00:00:00",
          "1957-05-01T00:00:00",
          "1957-06-01T00:00:00",
          "1957-07-01T00:00:00",
          "1957-08-01T00:00:00",
          "1957-09-01T00:00:00",
          "1957-10-01T00:00:00",
          "1957-11-01T00:00:00",
          "1957-12-01T00:00:00",
          "1958-01-01T00:00:00",
          "1958-02-01T00:00:00",
          "1958-03-01T00:00:00",
          "1958-04-01T00:00:00",
          "1958-05-01T00:00:00",
          "1958-06-01T00:00:00",
          "1958-07-01T00:00:00",
          "1958-08-01T00:00:00",
          "1958-09-01T00:00:00",
          "1958-10-01T00:00:00",
          "1958-11-01T00:00:00",
          "1958-12-01T00:00:00",
          "1959-01-01T00:00:00",
          "1959-02-01T00:00:00",
          "1959-03-01T00:00:00",
          "1959-04-01T00:00:00",
          "1959-05-01T00:00:00",
          "1959-06-01T00:00:00",
          "1959-07-01T00:00:00",
          "1959-08-01T00:00:00",
          "1959-09-01T00:00:00",
          "1959-10-01T00:00:00",
          "1959-11-01T00:00:00",
          "1959-12-01T00:00:00",
          "1960-01-01T00:00:00",
          "1960-02-01T00:00:00",
          "1960-03-01T00:00:00",
          "1960-04-01T00:00:00",
          "1960-05-01T00:00:00",
          "1960-06-01T00:00:00",
          "1960-07-01T00:00:00",
          "1960-08-01T00:00:00",
          "1960-09-01T00:00:00",
          "1960-10-01T00:00:00",
          "1960-11-01T00:00:00",
          "1960-12-01T00:00:00",
          "1961-01-01T00:00:00",
          "1961-02-01T00:00:00",
          "1961-03-01T00:00:00",
          "1961-04-01T00:00:00",
          "1961-05-01T00:00:00",
          "1961-06-01T00:00:00",
          "1961-07-01T00:00:00",
          "1961-08-01T00:00:00",
          "1961-09-01T00:00:00",
          "1961-10-01T00:00:00",
          "1961-11-01T00:00:00",
          "1961-12-01T00:00:00",
          "1962-01-01T00:00:00",
          "1962-02-01T00:00:00",
          "1962-03-01T00:00:00",
          "1962-04-01T00:00:00",
          "1962-05-01T00:00:00",
          "1962-06-01T00:00:00",
          "1962-07-01T00:00:00",
          "1962-08-01T00:00:00",
          "1962-09-01T00:00:00",
          "1962-10-01T00:00:00",
          "1962-11-01T00:00:00",
          "1962-12-01T00:00:00",
          "1963-01-01T00:00:00",
          "1963-02-01T00:00:00",
          "1963-03-01T00:00:00",
          "1963-04-01T00:00:00",
          "1963-05-01T00:00:00",
          "1963-06-01T00:00:00",
          "1963-07-01T00:00:00",
          "1963-08-01T00:00:00",
          "1963-09-01T00:00:00",
          "1963-10-01T00:00:00",
          "1963-11-01T00:00:00",
          "1963-12-01T00:00:00"
         ],
         "y": [
          112,
          118,
          132,
          129,
          121,
          135,
          148,
          148,
          136,
          119,
          104,
          118,
          115,
          126,
          141,
          135,
          125,
          149,
          170,
          170,
          158,
          133,
          114,
          140,
          145,
          150,
          178,
          163,
          172,
          178,
          199,
          199,
          184,
          162,
          146,
          166,
          171,
          180,
          193,
          181,
          183,
          218,
          230,
          242,
          209,
          191,
          172,
          194,
          196,
          196,
          236,
          235,
          229,
          243,
          264,
          272,
          237,
          211,
          180,
          201,
          204,
          188,
          235,
          227,
          234,
          264,
          302,
          293,
          259,
          229,
          203,
          229,
          242,
          233,
          267,
          269,
          270,
          315,
          364,
          347,
          312,
          274,
          237,
          278,
          284,
          277,
          317,
          313,
          318,
          374,
          413,
          405,
          355,
          306,
          271,
          306,
          315,
          301,
          356,
          348,
          355,
          422,
          465,
          467,
          404,
          347,
          305,
          336,
          340,
          318,
          362,
          348,
          363,
          435,
          491,
          505,
          404,
          359,
          310,
          337,
          360,
          342,
          406,
          396,
          420,
          472,
          548,
          559,
          463,
          407,
          362,
          405,
          417,
          391,
          419,
          461,
          472,
          535,
          622,
          606,
          508,
          461,
          390,
          432,
          null,
          null,
          null,
          null,
          null,
          null,
          null,
          null,
          null,
          null,
          null,
          null,
          null,
          null,
          null,
          null,
          null,
          null,
          null,
          null,
          null,
          null,
          null,
          null,
          null,
          null,
          null,
          null,
          null,
          null,
          null,
          null,
          null,
          null,
          null,
          null
         ]
        },
        {
         "line": {
          "color": "rgba(0, 90, 181, 0.7)",
          "dash": "solid"
         },
         "name": "Forecast",
         "type": "scatter",
         "x": [
          "1949-01-01T00:00:00",
          "1949-02-01T00:00:00",
          "1949-03-01T00:00:00",
          "1949-04-01T00:00:00",
          "1949-05-01T00:00:00",
          "1949-06-01T00:00:00",
          "1949-07-01T00:00:00",
          "1949-08-01T00:00:00",
          "1949-09-01T00:00:00",
          "1949-10-01T00:00:00",
          "1949-11-01T00:00:00",
          "1949-12-01T00:00:00",
          "1950-01-01T00:00:00",
          "1950-02-01T00:00:00",
          "1950-03-01T00:00:00",
          "1950-04-01T00:00:00",
          "1950-05-01T00:00:00",
          "1950-06-01T00:00:00",
          "1950-07-01T00:00:00",
          "1950-08-01T00:00:00",
          "1950-09-01T00:00:00",
          "1950-10-01T00:00:00",
          "1950-11-01T00:00:00",
          "1950-12-01T00:00:00",
          "1951-01-01T00:00:00",
          "1951-02-01T00:00:00",
          "1951-03-01T00:00:00",
          "1951-04-01T00:00:00",
          "1951-05-01T00:00:00",
          "1951-06-01T00:00:00",
          "1951-07-01T00:00:00",
          "1951-08-01T00:00:00",
          "1951-09-01T00:00:00",
          "1951-10-01T00:00:00",
          "1951-11-01T00:00:00",
          "1951-12-01T00:00:00",
          "1952-01-01T00:00:00",
          "1952-02-01T00:00:00",
          "1952-03-01T00:00:00",
          "1952-04-01T00:00:00",
          "1952-05-01T00:00:00",
          "1952-06-01T00:00:00",
          "1952-07-01T00:00:00",
          "1952-08-01T00:00:00",
          "1952-09-01T00:00:00",
          "1952-10-01T00:00:00",
          "1952-11-01T00:00:00",
          "1952-12-01T00:00:00",
          "1953-01-01T00:00:00",
          "1953-02-01T00:00:00",
          "1953-03-01T00:00:00",
          "1953-04-01T00:00:00",
          "1953-05-01T00:00:00",
          "1953-06-01T00:00:00",
          "1953-07-01T00:00:00",
          "1953-08-01T00:00:00",
          "1953-09-01T00:00:00",
          "1953-10-01T00:00:00",
          "1953-11-01T00:00:00",
          "1953-12-01T00:00:00",
          "1954-01-01T00:00:00",
          "1954-02-01T00:00:00",
          "1954-03-01T00:00:00",
          "1954-04-01T00:00:00",
          "1954-05-01T00:00:00",
          "1954-06-01T00:00:00",
          "1954-07-01T00:00:00",
          "1954-08-01T00:00:00",
          "1954-09-01T00:00:00",
          "1954-10-01T00:00:00",
          "1954-11-01T00:00:00",
          "1954-12-01T00:00:00",
          "1955-01-01T00:00:00",
          "1955-02-01T00:00:00",
          "1955-03-01T00:00:00",
          "1955-04-01T00:00:00",
          "1955-05-01T00:00:00",
          "1955-06-01T00:00:00",
          "1955-07-01T00:00:00",
          "1955-08-01T00:00:00",
          "1955-09-01T00:00:00",
          "1955-10-01T00:00:00",
          "1955-11-01T00:00:00",
          "1955-12-01T00:00:00",
          "1956-01-01T00:00:00",
          "1956-02-01T00:00:00",
          "1956-03-01T00:00:00",
          "1956-04-01T00:00:00",
          "1956-05-01T00:00:00",
          "1956-06-01T00:00:00",
          "1956-07-01T00:00:00",
          "1956-08-01T00:00:00",
          "1956-09-01T00:00:00",
          "1956-10-01T00:00:00",
          "1956-11-01T00:00:00",
          "1956-12-01T00:00:00",
          "1957-01-01T00:00:00",
          "1957-02-01T00:00:00",
          "1957-03-01T00:00:00",
          "1957-04-01T00:00:00",
          "1957-05-01T00:00:00",
          "1957-06-01T00:00:00",
          "1957-07-01T00:00:00",
          "1957-08-01T00:00:00",
          "1957-09-01T00:00:00",
          "1957-10-01T00:00:00",
          "1957-11-01T00:00:00",
          "1957-12-01T00:00:00",
          "1958-01-01T00:00:00",
          "1958-02-01T00:00:00",
          "1958-03-01T00:00:00",
          "1958-04-01T00:00:00",
          "1958-05-01T00:00:00",
          "1958-06-01T00:00:00",
          "1958-07-01T00:00:00",
          "1958-08-01T00:00:00",
          "1958-09-01T00:00:00",
          "1958-10-01T00:00:00",
          "1958-11-01T00:00:00",
          "1958-12-01T00:00:00",
          "1959-01-01T00:00:00",
          "1959-02-01T00:00:00",
          "1959-03-01T00:00:00",
          "1959-04-01T00:00:00",
          "1959-05-01T00:00:00",
          "1959-06-01T00:00:00",
          "1959-07-01T00:00:00",
          "1959-08-01T00:00:00",
          "1959-09-01T00:00:00",
          "1959-10-01T00:00:00",
          "1959-11-01T00:00:00",
          "1959-12-01T00:00:00",
          "1960-01-01T00:00:00",
          "1960-02-01T00:00:00",
          "1960-03-01T00:00:00",
          "1960-04-01T00:00:00",
          "1960-05-01T00:00:00",
          "1960-06-01T00:00:00",
          "1960-07-01T00:00:00",
          "1960-08-01T00:00:00",
          "1960-09-01T00:00:00",
          "1960-10-01T00:00:00",
          "1960-11-01T00:00:00",
          "1960-12-01T00:00:00",
          "1961-01-01T00:00:00",
          "1961-02-01T00:00:00",
          "1961-03-01T00:00:00",
          "1961-04-01T00:00:00",
          "1961-05-01T00:00:00",
          "1961-06-01T00:00:00",
          "1961-07-01T00:00:00",
          "1961-08-01T00:00:00",
          "1961-09-01T00:00:00",
          "1961-10-01T00:00:00",
          "1961-11-01T00:00:00",
          "1961-12-01T00:00:00",
          "1962-01-01T00:00:00",
          "1962-02-01T00:00:00",
          "1962-03-01T00:00:00",
          "1962-04-01T00:00:00",
          "1962-05-01T00:00:00",
          "1962-06-01T00:00:00",
          "1962-07-01T00:00:00",
          "1962-08-01T00:00:00",
          "1962-09-01T00:00:00",
          "1962-10-01T00:00:00",
          "1962-11-01T00:00:00",
          "1962-12-01T00:00:00",
          "1963-01-01T00:00:00",
          "1963-02-01T00:00:00",
          "1963-03-01T00:00:00",
          "1963-04-01T00:00:00",
          "1963-05-01T00:00:00",
          "1963-06-01T00:00:00",
          "1963-07-01T00:00:00",
          "1963-08-01T00:00:00",
          "1963-09-01T00:00:00",
          "1963-10-01T00:00:00",
          "1963-11-01T00:00:00",
          "1963-12-01T00:00:00"
         ],
         "y": [
          111.6795170291702,
          113.77514848432622,
          135.85960792046058,
          124.22177391975747,
          122.61653409129616,
          136.5987702858027,
          147.71901340044627,
          148.60093237310792,
          133.29746611822765,
          117.54273170873942,
          103.63117488206419,
          119.07997585515304,
          122.52981835431225,
          124.17669294726097,
          148.83554279335092,
          138.1198912468541,
          137.48650219585602,
          151.79147406627624,
          165.0345655476507,
          168.7321144153155,
          153.10726799799005,
          136.6419924362706,
          120.44051032577248,
          136.99782277485642,
          141.30748246588647,
          143.82488160443174,
          172.45768337525888,
          165.53226089736597,
          165.9534150988906,
          189.59062223664645,
          205.61115067281304,
          206.03600602349604,
          179.32283607034964,
          159.74835793121585,
          141.31330902010117,
          161.95190454205056,
          167.52305053824603,
          167.27245876467632,
          197.95730990917616,
          190.44712544542404,
          190.3986872024255,
          212.64356134811928,
          237.13100019455197,
          238.08190902554304,
          209.58022634359168,
          184.62731958879175,
          163.37483130632626,
          185.9658082625165,
          193.14162020611494,
          190.11785534091436,
          221.4560786941566,
          217.44185677390323,
          223.6765042207381,
          257.70611716215313,
          283.4428563756378,
          275.37064740013955,
          236.08221064762625,
          208.66509835641506,
          183.69573523539538,
          206.73957725212549,
          211.59620902009559,
          206.1469852217579,
          235.73167867670242,
          230.50852961099574,
          233.88779153672044,
          270.0459797897572,
          301.43999782435645,
          303.77066826720454,
          262.24518702367305,
          232.89099772756157,
          204.44440487132886,
          230.90804857685322,
          238.06974579038243,
          233.64649302895785,
          269.41784668093453,
          267.00476246976393,
          273.12036503056504,
          313.1399018732242,
          354.67016827445525,
          357.0032249933206,
          306.2416386973656,
          271.8313570819063,
          237.34445625022,
          267.76678498962195,
          276.2454630202908,
          267.9218633992962,
          308.6819967321162,
          308.4442622155281,
          316.73887702496825,
          363.87237175758173,
          413.7520711329044,
          411.8624937817081,
          350.10625790992265,
          308.55110374814217,
          268.5246808125191,
          301.53070262281375,
          309.3466938120283,
          298.312829998853,
          340.09779629808975,
          342.9096846889346,
          353.18257502970323,
          407.63856524863957,
          464.57282877256426,
          462.3220032630055,
          393.3390444380147,
          346.77293510004256,
          301.41602362141657,
          337.307015300588,
          344.08967021611517,
          328.2127140436645,
          369.91553586512845,
          369.86208997968174,
          376.3396377600397,
          429.8287990496366,
          489.2052671784741,
          492.1693222651566,
          423.9030320106668,
          373.3689035540646,
          325.03656924074295,
          358.66952948188197,
          365.8479313225297,
          350.4477521020476,
          395.70353620185506,
          403.3816927742129,
          416.015499764467,
          482.0899503146864,
          545.8777572264844,
          545.8604130642916,
          465.0637412630286,
          412.42682853603145,
          358.75540053959566,
          399.16650937508393,
          409.9936325973449,
          391.0496620167396,
          440.7884206968209,
          442.03013358086895,
          457.6801752855907,
          530.1494497577949,
          612.6386807264289,
          608.2854940574914,
          511.6148532957937,
          451.02762524422127,
          391.11830720850594,
          435.35592266189786,
          445.33360740592246,
          420.26457448172556,
          472.44274827204737,
          479.29333490444816,
          494.65685459727644,
          570.2164610449615,
          651.8526385303,
          647.4480890750951,
          546.566852360787,
          483.00291028776377,
          419.462496754601,
          466.55509049628216,
          477.2439006381457,
          451.0073337156703,
          506.02279312127513,
          514.1646471024312,
          531.3476303675607,
          612.7083804270892,
          701.1252025644005,
          695.9704139590481,
          586.5763708285681,
          518.2757402173801,
          449.7974628719381,
          499.858766410418,
          511.0781666610009,
          481.9380675270469,
          539.7312721455539,
          549.403785002351,
          568.1599408863287,
          655.3379120402708,
          750.5637850868698,
          744.5902152698538,
          626.6457543779384,
          553.5865861679695,
          480.15020174730813,
          533.1780266543427
         ]
        }
       ],
       "layout": {
        "annotations": [
         {
          "arrowhead": 0,
          "ax": -60,
          "ay": 0,
          "showarrow": true,
          "text": "Train End Date",
          "x": "1960-12-01T00:00:00",
          "xref": "x",
          "y": 0.97,
          "yref": "paper"
         }
        ],
        "legend": {
         "traceorder": "reversed"
        },
        "shapes": [
         {
          "line": {
           "color": "rgba(100, 100, 100, 0.9)",
           "width": 1
          },
          "type": "line",
          "x0": "1960-12-01T00:00:00",
          "x1": "1960-12-01T00:00:00",
          "xref": "x",
          "y0": 0,
          "y1": 1,
          "yref": "paper"
         }
        ],
        "showlegend": true,
        "template": {
         "data": {
          "bar": [
           {
            "error_x": {
             "color": "#2a3f5f"
            },
            "error_y": {
             "color": "#2a3f5f"
            },
            "marker": {
             "line": {
              "color": "#E5ECF6",
              "width": 0.5
             },
             "pattern": {
              "fillmode": "overlay",
              "size": 10,
              "solidity": 0.2
             }
            },
            "type": "bar"
           }
          ],
          "barpolar": [
           {
            "marker": {
             "line": {
              "color": "#E5ECF6",
              "width": 0.5
             },
             "pattern": {
              "fillmode": "overlay",
              "size": 10,
              "solidity": 0.2
             }
            },
            "type": "barpolar"
           }
          ],
          "carpet": [
           {
            "aaxis": {
             "endlinecolor": "#2a3f5f",
             "gridcolor": "white",
             "linecolor": "white",
             "minorgridcolor": "white",
             "startlinecolor": "#2a3f5f"
            },
            "baxis": {
             "endlinecolor": "#2a3f5f",
             "gridcolor": "white",
             "linecolor": "white",
             "minorgridcolor": "white",
             "startlinecolor": "#2a3f5f"
            },
            "type": "carpet"
           }
          ],
          "choropleth": [
           {
            "colorbar": {
             "outlinewidth": 0,
             "ticks": ""
            },
            "type": "choropleth"
           }
          ],
          "contour": [
           {
            "colorbar": {
             "outlinewidth": 0,
             "ticks": ""
            },
            "colorscale": [
             [
              0,
              "#0d0887"
             ],
             [
              0.1111111111111111,
              "#46039f"
             ],
             [
              0.2222222222222222,
              "#7201a8"
             ],
             [
              0.3333333333333333,
              "#9c179e"
             ],
             [
              0.4444444444444444,
              "#bd3786"
             ],
             [
              0.5555555555555556,
              "#d8576b"
             ],
             [
              0.6666666666666666,
              "#ed7953"
             ],
             [
              0.7777777777777778,
              "#fb9f3a"
             ],
             [
              0.8888888888888888,
              "#fdca26"
             ],
             [
              1,
              "#f0f921"
             ]
            ],
            "type": "contour"
           }
          ],
          "contourcarpet": [
           {
            "colorbar": {
             "outlinewidth": 0,
             "ticks": ""
            },
            "type": "contourcarpet"
           }
          ],
          "heatmap": [
           {
            "colorbar": {
             "outlinewidth": 0,
             "ticks": ""
            },
            "colorscale": [
             [
              0,
              "#0d0887"
             ],
             [
              0.1111111111111111,
              "#46039f"
             ],
             [
              0.2222222222222222,
              "#7201a8"
             ],
             [
              0.3333333333333333,
              "#9c179e"
             ],
             [
              0.4444444444444444,
              "#bd3786"
             ],
             [
              0.5555555555555556,
              "#d8576b"
             ],
             [
              0.6666666666666666,
              "#ed7953"
             ],
             [
              0.7777777777777778,
              "#fb9f3a"
             ],
             [
              0.8888888888888888,
              "#fdca26"
             ],
             [
              1,
              "#f0f921"
             ]
            ],
            "type": "heatmap"
           }
          ],
          "heatmapgl": [
           {
            "colorbar": {
             "outlinewidth": 0,
             "ticks": ""
            },
            "colorscale": [
             [
              0,
              "#0d0887"
             ],
             [
              0.1111111111111111,
              "#46039f"
             ],
             [
              0.2222222222222222,
              "#7201a8"
             ],
             [
              0.3333333333333333,
              "#9c179e"
             ],
             [
              0.4444444444444444,
              "#bd3786"
             ],
             [
              0.5555555555555556,
              "#d8576b"
             ],
             [
              0.6666666666666666,
              "#ed7953"
             ],
             [
              0.7777777777777778,
              "#fb9f3a"
             ],
             [
              0.8888888888888888,
              "#fdca26"
             ],
             [
              1,
              "#f0f921"
             ]
            ],
            "type": "heatmapgl"
           }
          ],
          "histogram": [
           {
            "marker": {
             "pattern": {
              "fillmode": "overlay",
              "size": 10,
              "solidity": 0.2
             }
            },
            "type": "histogram"
           }
          ],
          "histogram2d": [
           {
            "colorbar": {
             "outlinewidth": 0,
             "ticks": ""
            },
            "colorscale": [
             [
              0,
              "#0d0887"
             ],
             [
              0.1111111111111111,
              "#46039f"
             ],
             [
              0.2222222222222222,
              "#7201a8"
             ],
             [
              0.3333333333333333,
              "#9c179e"
             ],
             [
              0.4444444444444444,
              "#bd3786"
             ],
             [
              0.5555555555555556,
              "#d8576b"
             ],
             [
              0.6666666666666666,
              "#ed7953"
             ],
             [
              0.7777777777777778,
              "#fb9f3a"
             ],
             [
              0.8888888888888888,
              "#fdca26"
             ],
             [
              1,
              "#f0f921"
             ]
            ],
            "type": "histogram2d"
           }
          ],
          "histogram2dcontour": [
           {
            "colorbar": {
             "outlinewidth": 0,
             "ticks": ""
            },
            "colorscale": [
             [
              0,
              "#0d0887"
             ],
             [
              0.1111111111111111,
              "#46039f"
             ],
             [
              0.2222222222222222,
              "#7201a8"
             ],
             [
              0.3333333333333333,
              "#9c179e"
             ],
             [
              0.4444444444444444,
              "#bd3786"
             ],
             [
              0.5555555555555556,
              "#d8576b"
             ],
             [
              0.6666666666666666,
              "#ed7953"
             ],
             [
              0.7777777777777778,
              "#fb9f3a"
             ],
             [
              0.8888888888888888,
              "#fdca26"
             ],
             [
              1,
              "#f0f921"
             ]
            ],
            "type": "histogram2dcontour"
           }
          ],
          "mesh3d": [
           {
            "colorbar": {
             "outlinewidth": 0,
             "ticks": ""
            },
            "type": "mesh3d"
           }
          ],
          "parcoords": [
           {
            "line": {
             "colorbar": {
              "outlinewidth": 0,
              "ticks": ""
             }
            },
            "type": "parcoords"
           }
          ],
          "pie": [
           {
            "automargin": true,
            "type": "pie"
           }
          ],
          "scatter": [
           {
            "fillpattern": {
             "fillmode": "overlay",
             "size": 10,
             "solidity": 0.2
            },
            "type": "scatter"
           }
          ],
          "scatter3d": [
           {
            "line": {
             "colorbar": {
              "outlinewidth": 0,
              "ticks": ""
             }
            },
            "marker": {
             "colorbar": {
              "outlinewidth": 0,
              "ticks": ""
             }
            },
            "type": "scatter3d"
           }
          ],
          "scattercarpet": [
           {
            "marker": {
             "colorbar": {
              "outlinewidth": 0,
              "ticks": ""
             }
            },
            "type": "scattercarpet"
           }
          ],
          "scattergeo": [
           {
            "marker": {
             "colorbar": {
              "outlinewidth": 0,
              "ticks": ""
             }
            },
            "type": "scattergeo"
           }
          ],
          "scattergl": [
           {
            "marker": {
             "colorbar": {
              "outlinewidth": 0,
              "ticks": ""
             }
            },
            "type": "scattergl"
           }
          ],
          "scattermapbox": [
           {
            "marker": {
             "colorbar": {
              "outlinewidth": 0,
              "ticks": ""
             }
            },
            "type": "scattermapbox"
           }
          ],
          "scatterpolar": [
           {
            "marker": {
             "colorbar": {
              "outlinewidth": 0,
              "ticks": ""
             }
            },
            "type": "scatterpolar"
           }
          ],
          "scatterpolargl": [
           {
            "marker": {
             "colorbar": {
              "outlinewidth": 0,
              "ticks": ""
             }
            },
            "type": "scatterpolargl"
           }
          ],
          "scatterternary": [
           {
            "marker": {
             "colorbar": {
              "outlinewidth": 0,
              "ticks": ""
             }
            },
            "type": "scatterternary"
           }
          ],
          "surface": [
           {
            "colorbar": {
             "outlinewidth": 0,
             "ticks": ""
            },
            "colorscale": [
             [
              0,
              "#0d0887"
             ],
             [
              0.1111111111111111,
              "#46039f"
             ],
             [
              0.2222222222222222,
              "#7201a8"
             ],
             [
              0.3333333333333333,
              "#9c179e"
             ],
             [
              0.4444444444444444,
              "#bd3786"
             ],
             [
              0.5555555555555556,
              "#d8576b"
             ],
             [
              0.6666666666666666,
              "#ed7953"
             ],
             [
              0.7777777777777778,
              "#fb9f3a"
             ],
             [
              0.8888888888888888,
              "#fdca26"
             ],
             [
              1,
              "#f0f921"
             ]
            ],
            "type": "surface"
           }
          ],
          "table": [
           {
            "cells": {
             "fill": {
              "color": "#EBF0F8"
             },
             "line": {
              "color": "white"
             }
            },
            "header": {
             "fill": {
              "color": "#C8D4E3"
             },
             "line": {
              "color": "white"
             }
            },
            "type": "table"
           }
          ]
         },
         "layout": {
          "annotationdefaults": {
           "arrowcolor": "#2a3f5f",
           "arrowhead": 0,
           "arrowwidth": 1
          },
          "autotypenumbers": "strict",
          "coloraxis": {
           "colorbar": {
            "outlinewidth": 0,
            "ticks": ""
           }
          },
          "colorscale": {
           "diverging": [
            [
             0,
             "#8e0152"
            ],
            [
             0.1,
             "#c51b7d"
            ],
            [
             0.2,
             "#de77ae"
            ],
            [
             0.3,
             "#f1b6da"
            ],
            [
             0.4,
             "#fde0ef"
            ],
            [
             0.5,
             "#f7f7f7"
            ],
            [
             0.6,
             "#e6f5d0"
            ],
            [
             0.7,
             "#b8e186"
            ],
            [
             0.8,
             "#7fbc41"
            ],
            [
             0.9,
             "#4d9221"
            ],
            [
             1,
             "#276419"
            ]
           ],
           "sequential": [
            [
             0,
             "#0d0887"
            ],
            [
             0.1111111111111111,
             "#46039f"
            ],
            [
             0.2222222222222222,
             "#7201a8"
            ],
            [
             0.3333333333333333,
             "#9c179e"
            ],
            [
             0.4444444444444444,
             "#bd3786"
            ],
            [
             0.5555555555555556,
             "#d8576b"
            ],
            [
             0.6666666666666666,
             "#ed7953"
            ],
            [
             0.7777777777777778,
             "#fb9f3a"
            ],
            [
             0.8888888888888888,
             "#fdca26"
            ],
            [
             1,
             "#f0f921"
            ]
           ],
           "sequentialminus": [
            [
             0,
             "#0d0887"
            ],
            [
             0.1111111111111111,
             "#46039f"
            ],
            [
             0.2222222222222222,
             "#7201a8"
            ],
            [
             0.3333333333333333,
             "#9c179e"
            ],
            [
             0.4444444444444444,
             "#bd3786"
            ],
            [
             0.5555555555555556,
             "#d8576b"
            ],
            [
             0.6666666666666666,
             "#ed7953"
            ],
            [
             0.7777777777777778,
             "#fb9f3a"
            ],
            [
             0.8888888888888888,
             "#fdca26"
            ],
            [
             1,
             "#f0f921"
            ]
           ]
          },
          "colorway": [
           "#636efa",
           "#EF553B",
           "#00cc96",
           "#ab63fa",
           "#FFA15A",
           "#19d3f3",
           "#FF6692",
           "#B6E880",
           "#FF97FF",
           "#FECB52"
          ],
          "font": {
           "color": "#2a3f5f"
          },
          "geo": {
           "bgcolor": "white",
           "lakecolor": "white",
           "landcolor": "#E5ECF6",
           "showlakes": true,
           "showland": true,
           "subunitcolor": "white"
          },
          "hoverlabel": {
           "align": "left"
          },
          "hovermode": "closest",
          "mapbox": {
           "style": "light"
          },
          "paper_bgcolor": "white",
          "plot_bgcolor": "#E5ECF6",
          "polar": {
           "angularaxis": {
            "gridcolor": "white",
            "linecolor": "white",
            "ticks": ""
           },
           "bgcolor": "#E5ECF6",
           "radialaxis": {
            "gridcolor": "white",
            "linecolor": "white",
            "ticks": ""
           }
          },
          "scene": {
           "xaxis": {
            "backgroundcolor": "#E5ECF6",
            "gridcolor": "white",
            "gridwidth": 2,
            "linecolor": "white",
            "showbackground": true,
            "ticks": "",
            "zerolinecolor": "white"
           },
           "yaxis": {
            "backgroundcolor": "#E5ECF6",
            "gridcolor": "white",
            "gridwidth": 2,
            "linecolor": "white",
            "showbackground": true,
            "ticks": "",
            "zerolinecolor": "white"
           },
           "zaxis": {
            "backgroundcolor": "#E5ECF6",
            "gridcolor": "white",
            "gridwidth": 2,
            "linecolor": "white",
            "showbackground": true,
            "ticks": "",
            "zerolinecolor": "white"
           }
          },
          "shapedefaults": {
           "line": {
            "color": "#2a3f5f"
           }
          },
          "ternary": {
           "aaxis": {
            "gridcolor": "white",
            "linecolor": "white",
            "ticks": ""
           },
           "baxis": {
            "gridcolor": "white",
            "linecolor": "white",
            "ticks": ""
           },
           "bgcolor": "#E5ECF6",
           "caxis": {
            "gridcolor": "white",
            "linecolor": "white",
            "ticks": ""
           }
          },
          "title": {
           "x": 0.05
          },
          "xaxis": {
           "automargin": true,
           "gridcolor": "white",
           "linecolor": "white",
           "ticks": "",
           "title": {
            "standoff": 15
           },
           "zerolinecolor": "white",
           "zerolinewidth": 2
          },
          "yaxis": {
           "automargin": true,
           "gridcolor": "white",
           "linecolor": "white",
           "ticks": "",
           "title": {
            "standoff": 15
           },
           "zerolinecolor": "white",
           "zerolinewidth": 2
          }
         }
        },
        "title": {
         "text": "Forecast vs Actual",
         "x": 0.5
        },
        "xaxis": {
         "title": {
          "text": "ts"
         }
        },
        "yaxis": {
         "title": {
          "text": "#Passengers"
         }
        }
       }
      }
     },
     "metadata": {},
     "output_type": "display_data"
    }
   ],
   "source": [
    "forecast1 = result1.forecast\n",
    "fig = forecast1.plot()\n",
    "iplot(fig)"
   ]
  },
  {
   "cell_type": "code",
   "execution_count": 23,
   "metadata": {},
   "outputs": [
    {
     "data": {
      "application/vnd.plotly.v1+json": {
       "config": {
        "linkText": "Export to plot.ly",
        "plotlyServerURL": "https://plot.ly",
        "showLink": false
       },
       "data": [
        {
         "line": {
          "color": "rgb(127, 60, 141)"
         },
         "name": "Intercept",
         "opacity": 0.8,
         "type": "scatter",
         "x": [
          "1949-01-01T00:00:00",
          "1949-02-01T00:00:00",
          "1949-03-01T00:00:00",
          "1949-04-01T00:00:00",
          "1949-05-01T00:00:00",
          "1949-06-01T00:00:00",
          "1949-07-01T00:00:00",
          "1949-08-01T00:00:00",
          "1949-09-01T00:00:00",
          "1949-10-01T00:00:00",
          "1949-11-01T00:00:00",
          "1949-12-01T00:00:00",
          "1950-01-01T00:00:00",
          "1950-02-01T00:00:00",
          "1950-03-01T00:00:00",
          "1950-04-01T00:00:00",
          "1950-05-01T00:00:00",
          "1950-06-01T00:00:00",
          "1950-07-01T00:00:00",
          "1950-08-01T00:00:00",
          "1950-09-01T00:00:00",
          "1950-10-01T00:00:00",
          "1950-11-01T00:00:00",
          "1950-12-01T00:00:00",
          "1951-01-01T00:00:00",
          "1951-02-01T00:00:00",
          "1951-03-01T00:00:00",
          "1951-04-01T00:00:00",
          "1951-05-01T00:00:00",
          "1951-06-01T00:00:00",
          "1951-07-01T00:00:00",
          "1951-08-01T00:00:00",
          "1951-09-01T00:00:00",
          "1951-10-01T00:00:00",
          "1951-11-01T00:00:00",
          "1951-12-01T00:00:00",
          "1952-01-01T00:00:00",
          "1952-02-01T00:00:00",
          "1952-03-01T00:00:00",
          "1952-04-01T00:00:00",
          "1952-05-01T00:00:00",
          "1952-06-01T00:00:00",
          "1952-07-01T00:00:00",
          "1952-08-01T00:00:00",
          "1952-09-01T00:00:00",
          "1952-10-01T00:00:00",
          "1952-11-01T00:00:00",
          "1952-12-01T00:00:00",
          "1953-01-01T00:00:00",
          "1953-02-01T00:00:00",
          "1953-03-01T00:00:00",
          "1953-04-01T00:00:00",
          "1953-05-01T00:00:00",
          "1953-06-01T00:00:00",
          "1953-07-01T00:00:00",
          "1953-08-01T00:00:00",
          "1953-09-01T00:00:00",
          "1953-10-01T00:00:00",
          "1953-11-01T00:00:00",
          "1953-12-01T00:00:00",
          "1954-01-01T00:00:00",
          "1954-02-01T00:00:00",
          "1954-03-01T00:00:00",
          "1954-04-01T00:00:00",
          "1954-05-01T00:00:00",
          "1954-06-01T00:00:00",
          "1954-07-01T00:00:00",
          "1954-08-01T00:00:00",
          "1954-09-01T00:00:00",
          "1954-10-01T00:00:00",
          "1954-11-01T00:00:00",
          "1954-12-01T00:00:00",
          "1955-01-01T00:00:00",
          "1955-02-01T00:00:00",
          "1955-03-01T00:00:00",
          "1955-04-01T00:00:00",
          "1955-05-01T00:00:00",
          "1955-06-01T00:00:00",
          "1955-07-01T00:00:00",
          "1955-08-01T00:00:00",
          "1955-09-01T00:00:00",
          "1955-10-01T00:00:00",
          "1955-11-01T00:00:00",
          "1955-12-01T00:00:00",
          "1956-01-01T00:00:00",
          "1956-02-01T00:00:00",
          "1956-03-01T00:00:00",
          "1956-04-01T00:00:00",
          "1956-05-01T00:00:00",
          "1956-06-01T00:00:00",
          "1956-07-01T00:00:00",
          "1956-08-01T00:00:00",
          "1956-09-01T00:00:00",
          "1956-10-01T00:00:00",
          "1956-11-01T00:00:00",
          "1956-12-01T00:00:00",
          "1957-01-01T00:00:00",
          "1957-02-01T00:00:00",
          "1957-03-01T00:00:00",
          "1957-04-01T00:00:00",
          "1957-05-01T00:00:00",
          "1957-06-01T00:00:00",
          "1957-07-01T00:00:00",
          "1957-08-01T00:00:00",
          "1957-09-01T00:00:00",
          "1957-10-01T00:00:00",
          "1957-11-01T00:00:00",
          "1957-12-01T00:00:00",
          "1958-01-01T00:00:00",
          "1958-02-01T00:00:00",
          "1958-03-01T00:00:00",
          "1958-04-01T00:00:00",
          "1958-05-01T00:00:00",
          "1958-06-01T00:00:00",
          "1958-07-01T00:00:00",
          "1958-08-01T00:00:00",
          "1958-09-01T00:00:00",
          "1958-10-01T00:00:00",
          "1958-11-01T00:00:00",
          "1958-12-01T00:00:00",
          "1959-01-01T00:00:00",
          "1959-02-01T00:00:00",
          "1959-03-01T00:00:00",
          "1959-04-01T00:00:00",
          "1959-05-01T00:00:00",
          "1959-06-01T00:00:00",
          "1959-07-01T00:00:00",
          "1959-08-01T00:00:00",
          "1959-09-01T00:00:00",
          "1959-10-01T00:00:00",
          "1959-11-01T00:00:00",
          "1959-12-01T00:00:00",
          "1960-01-01T00:00:00",
          "1960-02-01T00:00:00",
          "1960-03-01T00:00:00",
          "1960-04-01T00:00:00",
          "1960-05-01T00:00:00",
          "1960-06-01T00:00:00",
          "1960-07-01T00:00:00",
          "1960-08-01T00:00:00",
          "1960-09-01T00:00:00",
          "1960-10-01T00:00:00",
          "1960-11-01T00:00:00",
          "1960-12-01T00:00:00"
         ],
         "xaxis": "x",
         "y": [
          280.2986111111111,
          280.2986111111111,
          280.2986111111111,
          280.2986111111111,
          280.2986111111111,
          280.2986111111111,
          280.2986111111111,
          280.2986111111111,
          280.2986111111111,
          280.2986111111111,
          280.2986111111111,
          280.2986111111111,
          280.2986111111111,
          280.2986111111111,
          280.2986111111111,
          280.2986111111111,
          280.2986111111111,
          280.2986111111111,
          280.2986111111111,
          280.2986111111111,
          280.2986111111111,
          280.2986111111111,
          280.2986111111111,
          280.2986111111111,
          280.2986111111111,
          280.2986111111111,
          280.2986111111111,
          280.2986111111111,
          280.2986111111111,
          280.2986111111111,
          280.2986111111111,
          280.2986111111111,
          280.2986111111111,
          280.2986111111111,
          280.2986111111111,
          280.2986111111111,
          280.2986111111111,
          280.2986111111111,
          280.2986111111111,
          280.2986111111111,
          280.2986111111111,
          280.2986111111111,
          280.2986111111111,
          280.2986111111111,
          280.2986111111111,
          280.2986111111111,
          280.2986111111111,
          280.2986111111111,
          280.2986111111111,
          280.2986111111111,
          280.2986111111111,
          280.2986111111111,
          280.2986111111111,
          280.2986111111111,
          280.2986111111111,
          280.2986111111111,
          280.2986111111111,
          280.2986111111111,
          280.2986111111111,
          280.2986111111111,
          280.2986111111111,
          280.2986111111111,
          280.2986111111111,
          280.2986111111111,
          280.2986111111111,
          280.2986111111111,
          280.2986111111111,
          280.2986111111111,
          280.2986111111111,
          280.2986111111111,
          280.2986111111111,
          280.2986111111111,
          280.2986111111111,
          280.2986111111111,
          280.2986111111111,
          280.2986111111111,
          280.2986111111111,
          280.2986111111111,
          280.2986111111111,
          280.2986111111111,
          280.2986111111111,
          280.2986111111111,
          280.2986111111111,
          280.2986111111111,
          280.2986111111111,
          280.2986111111111,
          280.2986111111111,
          280.2986111111111,
          280.2986111111111,
          280.2986111111111,
          280.2986111111111,
          280.2986111111111,
          280.2986111111111,
          280.2986111111111,
          280.2986111111111,
          280.2986111111111,
          280.2986111111111,
          280.2986111111111,
          280.2986111111111,
          280.2986111111111,
          280.2986111111111,
          280.2986111111111,
          280.2986111111111,
          280.2986111111111,
          280.2986111111111,
          280.2986111111111,
          280.2986111111111,
          280.2986111111111,
          280.2986111111111,
          280.2986111111111,
          280.2986111111111,
          280.2986111111111,
          280.2986111111111,
          280.2986111111111,
          280.2986111111111,
          280.2986111111111,
          280.2986111111111,
          280.2986111111111,
          280.2986111111111,
          280.2986111111111,
          280.2986111111111,
          280.2986111111111,
          280.2986111111111,
          280.2986111111111,
          280.2986111111111,
          280.2986111111111,
          280.2986111111111,
          280.2986111111111,
          280.2986111111111,
          280.2986111111111,
          280.2986111111111,
          280.2986111111111,
          280.2986111111111,
          280.2986111111111,
          280.2986111111111,
          280.2986111111111,
          280.2986111111111,
          280.2986111111111,
          280.2986111111111,
          280.2986111111111,
          280.2986111111111,
          280.2986111111111,
          280.2986111111111,
          280.2986111111111
         ],
         "yaxis": "y"
        },
        {
         "line": {
          "color": "rgb(17, 165, 121)"
         },
         "name": "Regressors",
         "opacity": 0.8,
         "type": "scatter",
         "x": [
          "1949-01-01T00:00:00",
          "1949-02-01T00:00:00",
          "1949-03-01T00:00:00",
          "1949-04-01T00:00:00",
          "1949-05-01T00:00:00",
          "1949-06-01T00:00:00",
          "1949-07-01T00:00:00",
          "1949-08-01T00:00:00",
          "1949-09-01T00:00:00",
          "1949-10-01T00:00:00",
          "1949-11-01T00:00:00",
          "1949-12-01T00:00:00",
          "1950-01-01T00:00:00",
          "1950-02-01T00:00:00",
          "1950-03-01T00:00:00",
          "1950-04-01T00:00:00",
          "1950-05-01T00:00:00",
          "1950-06-01T00:00:00",
          "1950-07-01T00:00:00",
          "1950-08-01T00:00:00",
          "1950-09-01T00:00:00",
          "1950-10-01T00:00:00",
          "1950-11-01T00:00:00",
          "1950-12-01T00:00:00",
          "1951-01-01T00:00:00",
          "1951-02-01T00:00:00",
          "1951-03-01T00:00:00",
          "1951-04-01T00:00:00",
          "1951-05-01T00:00:00",
          "1951-06-01T00:00:00",
          "1951-07-01T00:00:00",
          "1951-08-01T00:00:00",
          "1951-09-01T00:00:00",
          "1951-10-01T00:00:00",
          "1951-11-01T00:00:00",
          "1951-12-01T00:00:00",
          "1952-01-01T00:00:00",
          "1952-02-01T00:00:00",
          "1952-03-01T00:00:00",
          "1952-04-01T00:00:00",
          "1952-05-01T00:00:00",
          "1952-06-01T00:00:00",
          "1952-07-01T00:00:00",
          "1952-08-01T00:00:00",
          "1952-09-01T00:00:00",
          "1952-10-01T00:00:00",
          "1952-11-01T00:00:00",
          "1952-12-01T00:00:00",
          "1953-01-01T00:00:00",
          "1953-02-01T00:00:00",
          "1953-03-01T00:00:00",
          "1953-04-01T00:00:00",
          "1953-05-01T00:00:00",
          "1953-06-01T00:00:00",
          "1953-07-01T00:00:00",
          "1953-08-01T00:00:00",
          "1953-09-01T00:00:00",
          "1953-10-01T00:00:00",
          "1953-11-01T00:00:00",
          "1953-12-01T00:00:00",
          "1954-01-01T00:00:00",
          "1954-02-01T00:00:00",
          "1954-03-01T00:00:00",
          "1954-04-01T00:00:00",
          "1954-05-01T00:00:00",
          "1954-06-01T00:00:00",
          "1954-07-01T00:00:00",
          "1954-08-01T00:00:00",
          "1954-09-01T00:00:00",
          "1954-10-01T00:00:00",
          "1954-11-01T00:00:00",
          "1954-12-01T00:00:00",
          "1955-01-01T00:00:00",
          "1955-02-01T00:00:00",
          "1955-03-01T00:00:00",
          "1955-04-01T00:00:00",
          "1955-05-01T00:00:00",
          "1955-06-01T00:00:00",
          "1955-07-01T00:00:00",
          "1955-08-01T00:00:00",
          "1955-09-01T00:00:00",
          "1955-10-01T00:00:00",
          "1955-11-01T00:00:00",
          "1955-12-01T00:00:00",
          "1956-01-01T00:00:00",
          "1956-02-01T00:00:00",
          "1956-03-01T00:00:00",
          "1956-04-01T00:00:00",
          "1956-05-01T00:00:00",
          "1956-06-01T00:00:00",
          "1956-07-01T00:00:00",
          "1956-08-01T00:00:00",
          "1956-09-01T00:00:00",
          "1956-10-01T00:00:00",
          "1956-11-01T00:00:00",
          "1956-12-01T00:00:00",
          "1957-01-01T00:00:00",
          "1957-02-01T00:00:00",
          "1957-03-01T00:00:00",
          "1957-04-01T00:00:00",
          "1957-05-01T00:00:00",
          "1957-06-01T00:00:00",
          "1957-07-01T00:00:00",
          "1957-08-01T00:00:00",
          "1957-09-01T00:00:00",
          "1957-10-01T00:00:00",
          "1957-11-01T00:00:00",
          "1957-12-01T00:00:00",
          "1958-01-01T00:00:00",
          "1958-02-01T00:00:00",
          "1958-03-01T00:00:00",
          "1958-04-01T00:00:00",
          "1958-05-01T00:00:00",
          "1958-06-01T00:00:00",
          "1958-07-01T00:00:00",
          "1958-08-01T00:00:00",
          "1958-09-01T00:00:00",
          "1958-10-01T00:00:00",
          "1958-11-01T00:00:00",
          "1958-12-01T00:00:00",
          "1959-01-01T00:00:00",
          "1959-02-01T00:00:00",
          "1959-03-01T00:00:00",
          "1959-04-01T00:00:00",
          "1959-05-01T00:00:00",
          "1959-06-01T00:00:00",
          "1959-07-01T00:00:00",
          "1959-08-01T00:00:00",
          "1959-09-01T00:00:00",
          "1959-10-01T00:00:00",
          "1959-11-01T00:00:00",
          "1959-12-01T00:00:00",
          "1960-01-01T00:00:00",
          "1960-02-01T00:00:00",
          "1960-03-01T00:00:00",
          "1960-04-01T00:00:00",
          "1960-05-01T00:00:00",
          "1960-06-01T00:00:00",
          "1960-07-01T00:00:00",
          "1960-08-01T00:00:00",
          "1960-09-01T00:00:00",
          "1960-10-01T00:00:00",
          "1960-11-01T00:00:00",
          "1960-12-01T00:00:00"
         ],
         "xaxis": "x",
         "y": [
          0,
          0,
          0,
          0,
          0,
          0,
          0,
          0,
          0,
          0,
          0,
          0,
          0,
          0,
          0,
          0,
          0,
          0,
          0,
          0,
          0,
          0,
          0,
          0,
          0,
          0,
          0,
          0,
          0,
          0,
          0,
          0,
          0,
          0,
          0,
          0,
          0,
          0,
          0,
          0,
          0,
          0,
          0,
          0,
          0,
          0,
          0,
          0,
          0,
          0,
          0,
          0,
          0,
          0,
          0,
          0,
          0,
          0,
          0,
          0,
          0,
          0,
          0,
          0,
          0,
          0,
          0,
          0,
          0,
          0,
          0,
          0,
          0,
          0,
          0,
          0,
          0,
          0,
          0,
          0,
          0,
          0,
          0,
          0,
          0,
          0,
          0,
          0,
          0,
          0,
          0,
          0,
          0,
          0,
          0,
          0,
          0,
          0,
          0,
          0,
          0,
          0,
          0,
          0,
          0,
          0,
          0,
          0,
          0,
          0,
          0,
          0,
          0,
          0,
          0,
          0,
          0,
          0,
          0,
          0,
          0,
          0,
          0,
          0,
          0,
          0,
          0,
          0,
          0,
          0,
          0,
          0,
          0,
          0,
          0,
          0,
          0,
          0,
          0,
          0,
          0,
          0,
          0,
          0
         ],
         "yaxis": "y"
        },
        {
         "line": {
          "color": "rgb(57, 105, 172)"
         },
         "name": "Autoregressive",
         "opacity": 0.8,
         "type": "scatter",
         "x": [
          "1949-01-01T00:00:00",
          "1949-02-01T00:00:00",
          "1949-03-01T00:00:00",
          "1949-04-01T00:00:00",
          "1949-05-01T00:00:00",
          "1949-06-01T00:00:00",
          "1949-07-01T00:00:00",
          "1949-08-01T00:00:00",
          "1949-09-01T00:00:00",
          "1949-10-01T00:00:00",
          "1949-11-01T00:00:00",
          "1949-12-01T00:00:00",
          "1950-01-01T00:00:00",
          "1950-02-01T00:00:00",
          "1950-03-01T00:00:00",
          "1950-04-01T00:00:00",
          "1950-05-01T00:00:00",
          "1950-06-01T00:00:00",
          "1950-07-01T00:00:00",
          "1950-08-01T00:00:00",
          "1950-09-01T00:00:00",
          "1950-10-01T00:00:00",
          "1950-11-01T00:00:00",
          "1950-12-01T00:00:00",
          "1951-01-01T00:00:00",
          "1951-02-01T00:00:00",
          "1951-03-01T00:00:00",
          "1951-04-01T00:00:00",
          "1951-05-01T00:00:00",
          "1951-06-01T00:00:00",
          "1951-07-01T00:00:00",
          "1951-08-01T00:00:00",
          "1951-09-01T00:00:00",
          "1951-10-01T00:00:00",
          "1951-11-01T00:00:00",
          "1951-12-01T00:00:00",
          "1952-01-01T00:00:00",
          "1952-02-01T00:00:00",
          "1952-03-01T00:00:00",
          "1952-04-01T00:00:00",
          "1952-05-01T00:00:00",
          "1952-06-01T00:00:00",
          "1952-07-01T00:00:00",
          "1952-08-01T00:00:00",
          "1952-09-01T00:00:00",
          "1952-10-01T00:00:00",
          "1952-11-01T00:00:00",
          "1952-12-01T00:00:00",
          "1953-01-01T00:00:00",
          "1953-02-01T00:00:00",
          "1953-03-01T00:00:00",
          "1953-04-01T00:00:00",
          "1953-05-01T00:00:00",
          "1953-06-01T00:00:00",
          "1953-07-01T00:00:00",
          "1953-08-01T00:00:00",
          "1953-09-01T00:00:00",
          "1953-10-01T00:00:00",
          "1953-11-01T00:00:00",
          "1953-12-01T00:00:00",
          "1954-01-01T00:00:00",
          "1954-02-01T00:00:00",
          "1954-03-01T00:00:00",
          "1954-04-01T00:00:00",
          "1954-05-01T00:00:00",
          "1954-06-01T00:00:00",
          "1954-07-01T00:00:00",
          "1954-08-01T00:00:00",
          "1954-09-01T00:00:00",
          "1954-10-01T00:00:00",
          "1954-11-01T00:00:00",
          "1954-12-01T00:00:00",
          "1955-01-01T00:00:00",
          "1955-02-01T00:00:00",
          "1955-03-01T00:00:00",
          "1955-04-01T00:00:00",
          "1955-05-01T00:00:00",
          "1955-06-01T00:00:00",
          "1955-07-01T00:00:00",
          "1955-08-01T00:00:00",
          "1955-09-01T00:00:00",
          "1955-10-01T00:00:00",
          "1955-11-01T00:00:00",
          "1955-12-01T00:00:00",
          "1956-01-01T00:00:00",
          "1956-02-01T00:00:00",
          "1956-03-01T00:00:00",
          "1956-04-01T00:00:00",
          "1956-05-01T00:00:00",
          "1956-06-01T00:00:00",
          "1956-07-01T00:00:00",
          "1956-08-01T00:00:00",
          "1956-09-01T00:00:00",
          "1956-10-01T00:00:00",
          "1956-11-01T00:00:00",
          "1956-12-01T00:00:00",
          "1957-01-01T00:00:00",
          "1957-02-01T00:00:00",
          "1957-03-01T00:00:00",
          "1957-04-01T00:00:00",
          "1957-05-01T00:00:00",
          "1957-06-01T00:00:00",
          "1957-07-01T00:00:00",
          "1957-08-01T00:00:00",
          "1957-09-01T00:00:00",
          "1957-10-01T00:00:00",
          "1957-11-01T00:00:00",
          "1957-12-01T00:00:00",
          "1958-01-01T00:00:00",
          "1958-02-01T00:00:00",
          "1958-03-01T00:00:00",
          "1958-04-01T00:00:00",
          "1958-05-01T00:00:00",
          "1958-06-01T00:00:00",
          "1958-07-01T00:00:00",
          "1958-08-01T00:00:00",
          "1958-09-01T00:00:00",
          "1958-10-01T00:00:00",
          "1958-11-01T00:00:00",
          "1958-12-01T00:00:00",
          "1959-01-01T00:00:00",
          "1959-02-01T00:00:00",
          "1959-03-01T00:00:00",
          "1959-04-01T00:00:00",
          "1959-05-01T00:00:00",
          "1959-06-01T00:00:00",
          "1959-07-01T00:00:00",
          "1959-08-01T00:00:00",
          "1959-09-01T00:00:00",
          "1959-10-01T00:00:00",
          "1959-11-01T00:00:00",
          "1959-12-01T00:00:00",
          "1960-01-01T00:00:00",
          "1960-02-01T00:00:00",
          "1960-03-01T00:00:00",
          "1960-04-01T00:00:00",
          "1960-05-01T00:00:00",
          "1960-06-01T00:00:00",
          "1960-07-01T00:00:00",
          "1960-08-01T00:00:00",
          "1960-09-01T00:00:00",
          "1960-10-01T00:00:00",
          "1960-11-01T00:00:00",
          "1960-12-01T00:00:00"
         ],
         "xaxis": "x",
         "y": [
          -85.8883954356787,
          -95.1570828186117,
          -84.99289782894267,
          -76.60312400365129,
          -68.71771383353641,
          -50.94670236646557,
          -34.09064255166725,
          -43.41237866307405,
          -71.70968332902488,
          -85.24791028014054,
          -99.37311610794939,
          -87.6610980989881,
          -85.14214743006534,
          -95.0354185966049,
          -82.45565460985725,
          -73.3195252517593,
          -64.63241938940638,
          -46.71449916782111,
          -27.735590986291925,
          -34.24169720269559,
          -63.053206463909916,
          -77.48857885708061,
          -94.0965344015302,
          -81.46260920639818,
          -78.27666577842244,
          -87.49223683218331,
          -71.1126849245342,
          -58.37915093065071,
          -48.82410610559889,
          -21.766775049495834,
          -0.19703420299886432,
          -10.168658369202149,
          -50.068491166237465,
          -67.61306613682252,
          -86.45458848188863,
          -69.73938021389115,
          -65.29195048074999,
          -77.27244218361213,
          -58.874217632475094,
          -46.72237536143412,
          -37.633951758634026,
          -11.965883431582327,
          18.073739047455206,
          8.631238624573697,
          -33.05403663825288,
          -55.97406900223264,
          -77.62996045563585,
          -58.95939953112607,
          -52.904233587568235,
          -67.66096864507495,
          -48.575995155010744,
          -32.93126060348773,
          -17.562722533125623,
          19.88701432663656,
          51.17296595045168,
          32.704277458067125,
          -19.77082213833509,
          -45.158031260997575,
          -70.53386781596868,
          -51.413413053190496,
          -47.68049754827471,
          -64.86269153891855,
          -47.531247947152046,
          -33.09544054108233,
          -20.58228799183044,
          18.996024179553515,
          55.93925462448318,
          47.37736779467268,
          -7.830854048521346,
          -35.63521542360586,
          -64.98435946956232,
          -42.92417826551299,
          -37.38227507081036,
          -54.03457578031337,
          -30.964542222535478,
          -14.214747717703347,
          0.5546702191031869,
          43.49825322433726,
          90.09765678837557,
          81.53815623458239,
          17.093829338964852,
          -15.766624355467556,
          -51.156076376877564,
          -25.137210138950607,
          -18.27832612710837,
          -38.826548029463396,
          -10.815846070974771,
          8.11372379516223,
          25.066436883883355,
          75.12840344578537,
          130.08152288719532,
          117.30381393005833,
          41.86926312532836,
          1.8682197878504496,
          -39.05632867077841,
          -10.449486458683168,
          -4.248863621577229,
          -27.51177538283102,
          1.571870822206975,
          23.54663792905461,
          42.473343645828706,
          99.8533800273399,
          161.85678071407193,
          148.71339793185456,
          66.04769850720119,
          21.031417090256028,
          -25.228045578093656,
          6.259483599602703,
          11.42234449630331,
          -16.683659624225825,
          12.31784210303934,
          31.4272749335954,
          46.558638089958734,
          102.9718455421306,
          167.41745083377532,
          159.48894864779925,
          77.53991779364692,
          28.555617258071734,
          -20.679268244973656,
          8.550229494690313,
          14.108837316511412,
          -13.520389852049036,
          19.034074153559573,
          45.87510944192017,
          67.16273180817971,
          136.16122852097402,
          205.0181725955793,
          194.1082711607279,
          99.62885875980238,
          48.54177395383216,
          -6.0322052323273425,
          29.975441101685917,
          39.18277030512027,
          8.014177443154537,
          45.00350474890449,
          65.41252201567757,
          89.72066199968033,
          165.11840830117302,
          252.68105933589425,
          237.4397410610161,
          127.09078536637396,
          68.05766813910408,
          7.250224580383005,
          47.08866043557548
         ],
         "yaxis": "y"
        },
        {
         "line": {
          "color": "rgb(242, 183, 1)"
         },
         "name": "Event",
         "opacity": 0.8,
         "type": "scatter",
         "x": [
          "1949-01-01T00:00:00",
          "1949-02-01T00:00:00",
          "1949-03-01T00:00:00",
          "1949-04-01T00:00:00",
          "1949-05-01T00:00:00",
          "1949-06-01T00:00:00",
          "1949-07-01T00:00:00",
          "1949-08-01T00:00:00",
          "1949-09-01T00:00:00",
          "1949-10-01T00:00:00",
          "1949-11-01T00:00:00",
          "1949-12-01T00:00:00",
          "1950-01-01T00:00:00",
          "1950-02-01T00:00:00",
          "1950-03-01T00:00:00",
          "1950-04-01T00:00:00",
          "1950-05-01T00:00:00",
          "1950-06-01T00:00:00",
          "1950-07-01T00:00:00",
          "1950-08-01T00:00:00",
          "1950-09-01T00:00:00",
          "1950-10-01T00:00:00",
          "1950-11-01T00:00:00",
          "1950-12-01T00:00:00",
          "1951-01-01T00:00:00",
          "1951-02-01T00:00:00",
          "1951-03-01T00:00:00",
          "1951-04-01T00:00:00",
          "1951-05-01T00:00:00",
          "1951-06-01T00:00:00",
          "1951-07-01T00:00:00",
          "1951-08-01T00:00:00",
          "1951-09-01T00:00:00",
          "1951-10-01T00:00:00",
          "1951-11-01T00:00:00",
          "1951-12-01T00:00:00",
          "1952-01-01T00:00:00",
          "1952-02-01T00:00:00",
          "1952-03-01T00:00:00",
          "1952-04-01T00:00:00",
          "1952-05-01T00:00:00",
          "1952-06-01T00:00:00",
          "1952-07-01T00:00:00",
          "1952-08-01T00:00:00",
          "1952-09-01T00:00:00",
          "1952-10-01T00:00:00",
          "1952-11-01T00:00:00",
          "1952-12-01T00:00:00",
          "1953-01-01T00:00:00",
          "1953-02-01T00:00:00",
          "1953-03-01T00:00:00",
          "1953-04-01T00:00:00",
          "1953-05-01T00:00:00",
          "1953-06-01T00:00:00",
          "1953-07-01T00:00:00",
          "1953-08-01T00:00:00",
          "1953-09-01T00:00:00",
          "1953-10-01T00:00:00",
          "1953-11-01T00:00:00",
          "1953-12-01T00:00:00",
          "1954-01-01T00:00:00",
          "1954-02-01T00:00:00",
          "1954-03-01T00:00:00",
          "1954-04-01T00:00:00",
          "1954-05-01T00:00:00",
          "1954-06-01T00:00:00",
          "1954-07-01T00:00:00",
          "1954-08-01T00:00:00",
          "1954-09-01T00:00:00",
          "1954-10-01T00:00:00",
          "1954-11-01T00:00:00",
          "1954-12-01T00:00:00",
          "1955-01-01T00:00:00",
          "1955-02-01T00:00:00",
          "1955-03-01T00:00:00",
          "1955-04-01T00:00:00",
          "1955-05-01T00:00:00",
          "1955-06-01T00:00:00",
          "1955-07-01T00:00:00",
          "1955-08-01T00:00:00",
          "1955-09-01T00:00:00",
          "1955-10-01T00:00:00",
          "1955-11-01T00:00:00",
          "1955-12-01T00:00:00",
          "1956-01-01T00:00:00",
          "1956-02-01T00:00:00",
          "1956-03-01T00:00:00",
          "1956-04-01T00:00:00",
          "1956-05-01T00:00:00",
          "1956-06-01T00:00:00",
          "1956-07-01T00:00:00",
          "1956-08-01T00:00:00",
          "1956-09-01T00:00:00",
          "1956-10-01T00:00:00",
          "1956-11-01T00:00:00",
          "1956-12-01T00:00:00",
          "1957-01-01T00:00:00",
          "1957-02-01T00:00:00",
          "1957-03-01T00:00:00",
          "1957-04-01T00:00:00",
          "1957-05-01T00:00:00",
          "1957-06-01T00:00:00",
          "1957-07-01T00:00:00",
          "1957-08-01T00:00:00",
          "1957-09-01T00:00:00",
          "1957-10-01T00:00:00",
          "1957-11-01T00:00:00",
          "1957-12-01T00:00:00",
          "1958-01-01T00:00:00",
          "1958-02-01T00:00:00",
          "1958-03-01T00:00:00",
          "1958-04-01T00:00:00",
          "1958-05-01T00:00:00",
          "1958-06-01T00:00:00",
          "1958-07-01T00:00:00",
          "1958-08-01T00:00:00",
          "1958-09-01T00:00:00",
          "1958-10-01T00:00:00",
          "1958-11-01T00:00:00",
          "1958-12-01T00:00:00",
          "1959-01-01T00:00:00",
          "1959-02-01T00:00:00",
          "1959-03-01T00:00:00",
          "1959-04-01T00:00:00",
          "1959-05-01T00:00:00",
          "1959-06-01T00:00:00",
          "1959-07-01T00:00:00",
          "1959-08-01T00:00:00",
          "1959-09-01T00:00:00",
          "1959-10-01T00:00:00",
          "1959-11-01T00:00:00",
          "1959-12-01T00:00:00",
          "1960-01-01T00:00:00",
          "1960-02-01T00:00:00",
          "1960-03-01T00:00:00",
          "1960-04-01T00:00:00",
          "1960-05-01T00:00:00",
          "1960-06-01T00:00:00",
          "1960-07-01T00:00:00",
          "1960-08-01T00:00:00",
          "1960-09-01T00:00:00",
          "1960-10-01T00:00:00",
          "1960-11-01T00:00:00",
          "1960-12-01T00:00:00"
         ],
         "xaxis": "x",
         "y": [
          0,
          0,
          0,
          0,
          0,
          0,
          0,
          0,
          0,
          0,
          0,
          0,
          0,
          0,
          0,
          0,
          0,
          0,
          0,
          0,
          0,
          0,
          0,
          0,
          0,
          0,
          0,
          0,
          0,
          0,
          0,
          0,
          0,
          0,
          0,
          0,
          0,
          0,
          0,
          0,
          0,
          0,
          0,
          0,
          0,
          0,
          0,
          0,
          0,
          0,
          0,
          0,
          0,
          0,
          0,
          0,
          0,
          0,
          0,
          0,
          0,
          0,
          0,
          0,
          0,
          0,
          0,
          0,
          0,
          0,
          0,
          0,
          0,
          0,
          0,
          0,
          0,
          0,
          0,
          0,
          0,
          0,
          0,
          0,
          0,
          0,
          0,
          0,
          0,
          0,
          0,
          0,
          0,
          0,
          0,
          0,
          0,
          0,
          0,
          0,
          0,
          0,
          0,
          0,
          0,
          0,
          0,
          0,
          0,
          0,
          0,
          0,
          0,
          0,
          0,
          0,
          0,
          0,
          0,
          0,
          0,
          0,
          0,
          0,
          0,
          0,
          0,
          0,
          0,
          0,
          0,
          0,
          0,
          0,
          0,
          0,
          0,
          0,
          0,
          0,
          0,
          0,
          0,
          0
         ],
         "yaxis": "y"
        },
        {
         "line": {
          "color": "rgb(231, 63, 116)"
         },
         "name": "Seasonality",
         "opacity": 0.8,
         "type": "scatter",
         "x": [
          "1949-01-01T00:00:00",
          "1949-02-01T00:00:00",
          "1949-03-01T00:00:00",
          "1949-04-01T00:00:00",
          "1949-05-01T00:00:00",
          "1949-06-01T00:00:00",
          "1949-07-01T00:00:00",
          "1949-08-01T00:00:00",
          "1949-09-01T00:00:00",
          "1949-10-01T00:00:00",
          "1949-11-01T00:00:00",
          "1949-12-01T00:00:00",
          "1950-01-01T00:00:00",
          "1950-02-01T00:00:00",
          "1950-03-01T00:00:00",
          "1950-04-01T00:00:00",
          "1950-05-01T00:00:00",
          "1950-06-01T00:00:00",
          "1950-07-01T00:00:00",
          "1950-08-01T00:00:00",
          "1950-09-01T00:00:00",
          "1950-10-01T00:00:00",
          "1950-11-01T00:00:00",
          "1950-12-01T00:00:00",
          "1951-01-01T00:00:00",
          "1951-02-01T00:00:00",
          "1951-03-01T00:00:00",
          "1951-04-01T00:00:00",
          "1951-05-01T00:00:00",
          "1951-06-01T00:00:00",
          "1951-07-01T00:00:00",
          "1951-08-01T00:00:00",
          "1951-09-01T00:00:00",
          "1951-10-01T00:00:00",
          "1951-11-01T00:00:00",
          "1951-12-01T00:00:00",
          "1952-01-01T00:00:00",
          "1952-02-01T00:00:00",
          "1952-03-01T00:00:00",
          "1952-04-01T00:00:00",
          "1952-05-01T00:00:00",
          "1952-06-01T00:00:00",
          "1952-07-01T00:00:00",
          "1952-08-01T00:00:00",
          "1952-09-01T00:00:00",
          "1952-10-01T00:00:00",
          "1952-11-01T00:00:00",
          "1952-12-01T00:00:00",
          "1953-01-01T00:00:00",
          "1953-02-01T00:00:00",
          "1953-03-01T00:00:00",
          "1953-04-01T00:00:00",
          "1953-05-01T00:00:00",
          "1953-06-01T00:00:00",
          "1953-07-01T00:00:00",
          "1953-08-01T00:00:00",
          "1953-09-01T00:00:00",
          "1953-10-01T00:00:00",
          "1953-11-01T00:00:00",
          "1953-12-01T00:00:00",
          "1954-01-01T00:00:00",
          "1954-02-01T00:00:00",
          "1954-03-01T00:00:00",
          "1954-04-01T00:00:00",
          "1954-05-01T00:00:00",
          "1954-06-01T00:00:00",
          "1954-07-01T00:00:00",
          "1954-08-01T00:00:00",
          "1954-09-01T00:00:00",
          "1954-10-01T00:00:00",
          "1954-11-01T00:00:00",
          "1954-12-01T00:00:00",
          "1955-01-01T00:00:00",
          "1955-02-01T00:00:00",
          "1955-03-01T00:00:00",
          "1955-04-01T00:00:00",
          "1955-05-01T00:00:00",
          "1955-06-01T00:00:00",
          "1955-07-01T00:00:00",
          "1955-08-01T00:00:00",
          "1955-09-01T00:00:00",
          "1955-10-01T00:00:00",
          "1955-11-01T00:00:00",
          "1955-12-01T00:00:00",
          "1956-01-01T00:00:00",
          "1956-02-01T00:00:00",
          "1956-03-01T00:00:00",
          "1956-04-01T00:00:00",
          "1956-05-01T00:00:00",
          "1956-06-01T00:00:00",
          "1956-07-01T00:00:00",
          "1956-08-01T00:00:00",
          "1956-09-01T00:00:00",
          "1956-10-01T00:00:00",
          "1956-11-01T00:00:00",
          "1956-12-01T00:00:00",
          "1957-01-01T00:00:00",
          "1957-02-01T00:00:00",
          "1957-03-01T00:00:00",
          "1957-04-01T00:00:00",
          "1957-05-01T00:00:00",
          "1957-06-01T00:00:00",
          "1957-07-01T00:00:00",
          "1957-08-01T00:00:00",
          "1957-09-01T00:00:00",
          "1957-10-01T00:00:00",
          "1957-11-01T00:00:00",
          "1957-12-01T00:00:00",
          "1958-01-01T00:00:00",
          "1958-02-01T00:00:00",
          "1958-03-01T00:00:00",
          "1958-04-01T00:00:00",
          "1958-05-01T00:00:00",
          "1958-06-01T00:00:00",
          "1958-07-01T00:00:00",
          "1958-08-01T00:00:00",
          "1958-09-01T00:00:00",
          "1958-10-01T00:00:00",
          "1958-11-01T00:00:00",
          "1958-12-01T00:00:00",
          "1959-01-01T00:00:00",
          "1959-02-01T00:00:00",
          "1959-03-01T00:00:00",
          "1959-04-01T00:00:00",
          "1959-05-01T00:00:00",
          "1959-06-01T00:00:00",
          "1959-07-01T00:00:00",
          "1959-08-01T00:00:00",
          "1959-09-01T00:00:00",
          "1959-10-01T00:00:00",
          "1959-11-01T00:00:00",
          "1959-12-01T00:00:00",
          "1960-01-01T00:00:00",
          "1960-02-01T00:00:00",
          "1960-03-01T00:00:00",
          "1960-04-01T00:00:00",
          "1960-05-01T00:00:00",
          "1960-06-01T00:00:00",
          "1960-07-01T00:00:00",
          "1960-08-01T00:00:00",
          "1960-09-01T00:00:00",
          "1960-10-01T00:00:00",
          "1960-11-01T00:00:00",
          "1960-12-01T00:00:00"
         ],
         "xaxis": "x",
         "y": [
          2.057696366732794,
          12.666950295984622,
          23.905230631241174,
          3.1225578964074705,
          -7.098800078463105,
          -11.642640259864605,
          -18.279320021541366,
          -9.006556767709373,
          3.056389813122218,
          -0.060980706769880655,
          -0.7782235358727467,
          2.057696366732794,
          2.057696366732794,
          12.666950295984622,
          23.905230631241174,
          3.1225578964074705,
          -7.098800078463105,
          -11.642640259864605,
          -18.279320021541366,
          -9.006556767709373,
          3.056389813122218,
          -0.060980706769880655,
          -0.7782235358727467,
          2.057696366732794,
          2.057696366732794,
          12.666950295984622,
          23.905230631241174,
          3.1225578964074705,
          -7.098800078463105,
          -11.642640259864605,
          -18.279320021541366,
          -9.006556767709373,
          3.056389813122218,
          -0.060980706769880655,
          -0.7782235358727467,
          2.057696366732794,
          2.057696366732794,
          12.666950295984622,
          23.905230631241174,
          3.1225578964074705,
          -7.098800078463105,
          -11.642640259864605,
          -18.279320021541366,
          -9.006556767709373,
          3.056389813122218,
          -0.060980706769880655,
          -0.7782235358727467,
          2.057696366732794,
          2.057696366732794,
          12.666950295984622,
          23.905230631241174,
          3.1225578964074705,
          -7.098800078463105,
          -11.642640259864605,
          -18.279320021541366,
          -9.006556767709373,
          3.056389813122218,
          -0.060980706769880655,
          -0.7782235358727467,
          2.057696366732794,
          2.057696366732794,
          12.666950295984622,
          23.905230631241174,
          3.1225578964074705,
          -7.098800078463105,
          -11.642640259864605,
          -18.279320021541366,
          -9.006556767709373,
          3.056389813122218,
          -0.060980706769880655,
          -0.7782235358727467,
          2.057696366732794,
          2.057696366732794,
          12.666950295984622,
          23.905230631241174,
          3.1225578964074705,
          -7.098800078463105,
          -11.642640259864605,
          -18.279320021541366,
          -9.006556767709373,
          3.056389813122218,
          -0.060980706769880655,
          -0.7782235358727467,
          2.057696366732794,
          2.057696366732794,
          12.666950295984622,
          23.905230631241174,
          3.1225578964074705,
          -7.098800078463105,
          -11.642640259864605,
          -18.279320021541366,
          -9.006556767709373,
          3.056389813122218,
          -0.060980706769880655,
          -0.7782235358727467,
          2.057696366732794,
          2.057696366732794,
          12.666950295984622,
          23.905230631241174,
          3.1225578964074705,
          -7.098800078463105,
          -11.642640259864605,
          -18.279320021541366,
          -9.006556767709373,
          3.056389813122218,
          -0.060980706769880655,
          -0.7782235358727467,
          2.057696366732794,
          2.057696366732794,
          12.666950295984622,
          23.905230631241174,
          3.1225578964074705,
          -7.098800078463105,
          -11.642640259864605,
          -18.279320021541366,
          -9.006556767709373,
          3.056389813122218,
          -0.060980706769880655,
          -0.7782235358727467,
          2.057696366732794,
          2.057696366732794,
          12.666950295984622,
          23.905230631241174,
          3.1225578964074705,
          -7.098800078463105,
          -11.642640259864605,
          -18.279320021541366,
          -9.006556767709373,
          3.056389813122218,
          -0.060980706769880655,
          -0.7782235358727467,
          2.057696366732794,
          2.057696366732794,
          12.666950295984622,
          23.905230631241174,
          3.1225578964074705,
          -7.098800078463105,
          -11.642640259864605,
          -18.279320021541366,
          -9.006556767709373,
          3.056389813122218,
          -0.060980706769880655,
          -0.7782235358727467,
          2.057696366732794
         ],
         "yaxis": "y"
        },
        {
         "legendgroup": "TrendGroup",
         "line": {
          "color": "rgb(128, 186, 90)"
         },
         "name": "Trend",
         "opacity": 0.8,
         "type": "scatter",
         "x": [
          "1949-01-01T00:00:00",
          "1949-02-01T00:00:00",
          "1949-03-01T00:00:00",
          "1949-04-01T00:00:00",
          "1949-05-01T00:00:00",
          "1949-06-01T00:00:00",
          "1949-07-01T00:00:00",
          "1949-08-01T00:00:00",
          "1949-09-01T00:00:00",
          "1949-10-01T00:00:00",
          "1949-11-01T00:00:00",
          "1949-12-01T00:00:00",
          "1950-01-01T00:00:00",
          "1950-02-01T00:00:00",
          "1950-03-01T00:00:00",
          "1950-04-01T00:00:00",
          "1950-05-01T00:00:00",
          "1950-06-01T00:00:00",
          "1950-07-01T00:00:00",
          "1950-08-01T00:00:00",
          "1950-09-01T00:00:00",
          "1950-10-01T00:00:00",
          "1950-11-01T00:00:00",
          "1950-12-01T00:00:00",
          "1951-01-01T00:00:00",
          "1951-02-01T00:00:00",
          "1951-03-01T00:00:00",
          "1951-04-01T00:00:00",
          "1951-05-01T00:00:00",
          "1951-06-01T00:00:00",
          "1951-07-01T00:00:00",
          "1951-08-01T00:00:00",
          "1951-09-01T00:00:00",
          "1951-10-01T00:00:00",
          "1951-11-01T00:00:00",
          "1951-12-01T00:00:00",
          "1952-01-01T00:00:00",
          "1952-02-01T00:00:00",
          "1952-03-01T00:00:00",
          "1952-04-01T00:00:00",
          "1952-05-01T00:00:00",
          "1952-06-01T00:00:00",
          "1952-07-01T00:00:00",
          "1952-08-01T00:00:00",
          "1952-09-01T00:00:00",
          "1952-10-01T00:00:00",
          "1952-11-01T00:00:00",
          "1952-12-01T00:00:00",
          "1953-01-01T00:00:00",
          "1953-02-01T00:00:00",
          "1953-03-01T00:00:00",
          "1953-04-01T00:00:00",
          "1953-05-01T00:00:00",
          "1953-06-01T00:00:00",
          "1953-07-01T00:00:00",
          "1953-08-01T00:00:00",
          "1953-09-01T00:00:00",
          "1953-10-01T00:00:00",
          "1953-11-01T00:00:00",
          "1953-12-01T00:00:00",
          "1954-01-01T00:00:00",
          "1954-02-01T00:00:00",
          "1954-03-01T00:00:00",
          "1954-04-01T00:00:00",
          "1954-05-01T00:00:00",
          "1954-06-01T00:00:00",
          "1954-07-01T00:00:00",
          "1954-08-01T00:00:00",
          "1954-09-01T00:00:00",
          "1954-10-01T00:00:00",
          "1954-11-01T00:00:00",
          "1954-12-01T00:00:00",
          "1955-01-01T00:00:00",
          "1955-02-01T00:00:00",
          "1955-03-01T00:00:00",
          "1955-04-01T00:00:00",
          "1955-05-01T00:00:00",
          "1955-06-01T00:00:00",
          "1955-07-01T00:00:00",
          "1955-08-01T00:00:00",
          "1955-09-01T00:00:00",
          "1955-10-01T00:00:00",
          "1955-11-01T00:00:00",
          "1955-12-01T00:00:00",
          "1956-01-01T00:00:00",
          "1956-02-01T00:00:00",
          "1956-03-01T00:00:00",
          "1956-04-01T00:00:00",
          "1956-05-01T00:00:00",
          "1956-06-01T00:00:00",
          "1956-07-01T00:00:00",
          "1956-08-01T00:00:00",
          "1956-09-01T00:00:00",
          "1956-10-01T00:00:00",
          "1956-11-01T00:00:00",
          "1956-12-01T00:00:00",
          "1957-01-01T00:00:00",
          "1957-02-01T00:00:00",
          "1957-03-01T00:00:00",
          "1957-04-01T00:00:00",
          "1957-05-01T00:00:00",
          "1957-06-01T00:00:00",
          "1957-07-01T00:00:00",
          "1957-08-01T00:00:00",
          "1957-09-01T00:00:00",
          "1957-10-01T00:00:00",
          "1957-11-01T00:00:00",
          "1957-12-01T00:00:00",
          "1958-01-01T00:00:00",
          "1958-02-01T00:00:00",
          "1958-03-01T00:00:00",
          "1958-04-01T00:00:00",
          "1958-05-01T00:00:00",
          "1958-06-01T00:00:00",
          "1958-07-01T00:00:00",
          "1958-08-01T00:00:00",
          "1958-09-01T00:00:00",
          "1958-10-01T00:00:00",
          "1958-11-01T00:00:00",
          "1958-12-01T00:00:00",
          "1959-01-01T00:00:00",
          "1959-02-01T00:00:00",
          "1959-03-01T00:00:00",
          "1959-04-01T00:00:00",
          "1959-05-01T00:00:00",
          "1959-06-01T00:00:00",
          "1959-07-01T00:00:00",
          "1959-08-01T00:00:00",
          "1959-09-01T00:00:00",
          "1959-10-01T00:00:00",
          "1959-11-01T00:00:00",
          "1959-12-01T00:00:00",
          "1960-01-01T00:00:00",
          "1960-02-01T00:00:00",
          "1960-03-01T00:00:00",
          "1960-04-01T00:00:00",
          "1960-05-01T00:00:00",
          "1960-06-01T00:00:00",
          "1960-07-01T00:00:00",
          "1960-08-01T00:00:00",
          "1960-09-01T00:00:00",
          "1960-10-01T00:00:00",
          "1960-11-01T00:00:00",
          "1960-12-01T00:00:00"
         ],
         "xaxis": "x",
         "y": [
          -84.78839501299495,
          -84.03333010415776,
          -83.35133599294899,
          -82.59627108410977,
          -81.86556310781539,
          -81.11049819897819,
          -80.20963513745616,
          -79.2787433072197,
          -78.34785147698076,
          -77.4469884154612,
          -76.51609658522476,
          -75.61523352370271,
          -74.68434169346627,
          -73.7534498632298,
          -72.91264433914407,
          -71.98175250890512,
          -71.08088944738557,
          -70.14999761714913,
          -69.24913455562708,
          -68.31824272539063,
          -67.1945264623333,
          -66.10705911098994,
          -64.98334284793563,
          -63.89587549658926,
          -62.77215923353495,
          -61.648442970480644,
          -60.633473442559165,
          -59.50975717950185,
          -58.42228982815848,
          -57.29857356510418,
          -56.2111062137578,
          -55.087389950703496,
          -53.96367368764618,
          -52.876206336302815,
          -51.7524900732485,
          -50.66502272190213,
          -49.54130645884782,
          -48.42066045880723,
          -47.37231420070096,
          -46.251668200660376,
          -45.167172071588446,
          -44.04652607154485,
          -42.96202994247292,
          -41.84138394243233,
          -40.72073794238872,
          -39.6362418133168,
          -38.515595813276214,
          -37.43109968420128,
          -36.310453684160684,
          -35.186737421106386,
          -34.1717678931849,
          -33.04805163012759,
          -31.960584278784218,
          -30.836868015729905,
          -29.749400664383536,
          -28.62568440132923,
          -27.50196813827192,
          -26.41450078692855,
          -25.290784523874244,
          -24.20331717252786,
          -23.079600909473555,
          -21.95588464641925,
          -20.94091511849777,
          -19.817198855440466,
          -18.72973150409709,
          -17.606015241042783,
          -16.518547889696407,
          -14.898753870869811,
          -13.27895985203888,
          -11.711417253173735,
          -10.09162323434714,
          -8.52408063547766,
          -6.9042866166510635,
          -5.2844925978244675,
          -3.821452838882209,
          -2.2016588200512786,
          -0.6341162211861189,
          0.9856777976404771,
          2.553220396509957,
          4.173014415336553,
          5.792808434167483,
          7.360351033032629,
          8.980145051859225,
          10.547687650728719,
          12.167481669555329,
          13.782850021663933,
          15.294001060738722,
          16.90936941284737,
          18.472629108436905,
          20.087997460549857,
          21.651257156139437,
          23.26662550824804,
          24.881993860360993,
          26.44525355595053,
          28.060621908059176,
          29.62388160365306,
          31.239249955761665,
          32.859043974588275,
          34.32208373353052,
          35.941877752361464,
          37.509420351226595,
          39.129214370053205,
          40.696756968922685,
          42.31655098774927,
          43.93634500658021,
          45.503887605445385,
          47.12368162427194,
          48.69122422314143,
          50.311018241968014,
          51.930812260794625,
          53.39385201973687,
          55.01364603856783,
          56.58118863743297,
          58.200982656259555,
          59.76852525512905,
          61.38831927395563,
          63.00811329278656,
          64.57565589165173,
          66.19544991047832,
          67.76299250934778,
          69.38278652817439,
          71.002580547001,
          72.46562030594325,
          74.08541432477418,
          75.65295692363932,
          77.27275094246593,
          78.8402935413354,
          80.46008756016201,
          82.07988157899297,
          83.64742417785808,
          85.2672181966847,
          86.83476079555416,
          88.45455481438077,
          90.06992316648939,
          91.58107420556419,
          93.19644255767281,
          94.75970225326239,
          96.37507060537533,
          97.93833030096485,
          99.5536986530735,
          101.16906700518643,
          102.73232670077601,
          104.3476950528846,
          105.9109547484785
         ],
         "yaxis": "y"
        },
        {
         "legendgroup": "TrendGroup",
         "line": {
          "color": "rgb(128, 186, 90)"
         },
         "name": "Trend",
         "opacity": 0.8,
         "showlegend": false,
         "type": "scatter",
         "x": [
          "1949-01-01T00:00:00",
          "1949-02-01T00:00:00",
          "1949-03-01T00:00:00",
          "1949-04-01T00:00:00",
          "1949-05-01T00:00:00",
          "1949-06-01T00:00:00",
          "1949-07-01T00:00:00",
          "1949-08-01T00:00:00",
          "1949-09-01T00:00:00",
          "1949-10-01T00:00:00",
          "1949-11-01T00:00:00",
          "1949-12-01T00:00:00",
          "1950-01-01T00:00:00",
          "1950-02-01T00:00:00",
          "1950-03-01T00:00:00",
          "1950-04-01T00:00:00",
          "1950-05-01T00:00:00",
          "1950-06-01T00:00:00",
          "1950-07-01T00:00:00",
          "1950-08-01T00:00:00",
          "1950-09-01T00:00:00",
          "1950-10-01T00:00:00",
          "1950-11-01T00:00:00",
          "1950-12-01T00:00:00",
          "1951-01-01T00:00:00",
          "1951-02-01T00:00:00",
          "1951-03-01T00:00:00",
          "1951-04-01T00:00:00",
          "1951-05-01T00:00:00",
          "1951-06-01T00:00:00",
          "1951-07-01T00:00:00",
          "1951-08-01T00:00:00",
          "1951-09-01T00:00:00",
          "1951-10-01T00:00:00",
          "1951-11-01T00:00:00",
          "1951-12-01T00:00:00",
          "1952-01-01T00:00:00",
          "1952-02-01T00:00:00",
          "1952-03-01T00:00:00",
          "1952-04-01T00:00:00",
          "1952-05-01T00:00:00",
          "1952-06-01T00:00:00",
          "1952-07-01T00:00:00",
          "1952-08-01T00:00:00",
          "1952-09-01T00:00:00",
          "1952-10-01T00:00:00",
          "1952-11-01T00:00:00",
          "1952-12-01T00:00:00",
          "1953-01-01T00:00:00",
          "1953-02-01T00:00:00",
          "1953-03-01T00:00:00",
          "1953-04-01T00:00:00",
          "1953-05-01T00:00:00",
          "1953-06-01T00:00:00",
          "1953-07-01T00:00:00",
          "1953-08-01T00:00:00",
          "1953-09-01T00:00:00",
          "1953-10-01T00:00:00",
          "1953-11-01T00:00:00",
          "1953-12-01T00:00:00",
          "1954-01-01T00:00:00",
          "1954-02-01T00:00:00",
          "1954-03-01T00:00:00",
          "1954-04-01T00:00:00",
          "1954-05-01T00:00:00",
          "1954-06-01T00:00:00",
          "1954-07-01T00:00:00",
          "1954-08-01T00:00:00",
          "1954-09-01T00:00:00",
          "1954-10-01T00:00:00",
          "1954-11-01T00:00:00",
          "1954-12-01T00:00:00",
          "1955-01-01T00:00:00",
          "1955-02-01T00:00:00",
          "1955-03-01T00:00:00",
          "1955-04-01T00:00:00",
          "1955-05-01T00:00:00",
          "1955-06-01T00:00:00",
          "1955-07-01T00:00:00",
          "1955-08-01T00:00:00",
          "1955-09-01T00:00:00",
          "1955-10-01T00:00:00",
          "1955-11-01T00:00:00",
          "1955-12-01T00:00:00",
          "1956-01-01T00:00:00",
          "1956-02-01T00:00:00",
          "1956-03-01T00:00:00",
          "1956-04-01T00:00:00",
          "1956-05-01T00:00:00",
          "1956-06-01T00:00:00",
          "1956-07-01T00:00:00",
          "1956-08-01T00:00:00",
          "1956-09-01T00:00:00",
          "1956-10-01T00:00:00",
          "1956-11-01T00:00:00",
          "1956-12-01T00:00:00",
          "1957-01-01T00:00:00",
          "1957-02-01T00:00:00",
          "1957-03-01T00:00:00",
          "1957-04-01T00:00:00",
          "1957-05-01T00:00:00",
          "1957-06-01T00:00:00",
          "1957-07-01T00:00:00",
          "1957-08-01T00:00:00",
          "1957-09-01T00:00:00",
          "1957-10-01T00:00:00",
          "1957-11-01T00:00:00",
          "1957-12-01T00:00:00",
          "1958-01-01T00:00:00",
          "1958-02-01T00:00:00",
          "1958-03-01T00:00:00",
          "1958-04-01T00:00:00",
          "1958-05-01T00:00:00",
          "1958-06-01T00:00:00",
          "1958-07-01T00:00:00",
          "1958-08-01T00:00:00",
          "1958-09-01T00:00:00",
          "1958-10-01T00:00:00",
          "1958-11-01T00:00:00",
          "1958-12-01T00:00:00",
          "1959-01-01T00:00:00",
          "1959-02-01T00:00:00",
          "1959-03-01T00:00:00",
          "1959-04-01T00:00:00",
          "1959-05-01T00:00:00",
          "1959-06-01T00:00:00",
          "1959-07-01T00:00:00",
          "1959-08-01T00:00:00",
          "1959-09-01T00:00:00",
          "1959-10-01T00:00:00",
          "1959-11-01T00:00:00",
          "1959-12-01T00:00:00",
          "1960-01-01T00:00:00",
          "1960-02-01T00:00:00",
          "1960-03-01T00:00:00",
          "1960-04-01T00:00:00",
          "1960-05-01T00:00:00",
          "1960-06-01T00:00:00",
          "1960-07-01T00:00:00",
          "1960-08-01T00:00:00",
          "1960-09-01T00:00:00",
          "1960-10-01T00:00:00",
          "1960-11-01T00:00:00",
          "1960-12-01T00:00:00"
         ],
         "xaxis": "x2",
         "y": [
          -84.78839501299495,
          -84.03333010415776,
          -83.35133599294899,
          -82.59627108410977,
          -81.86556310781539,
          -81.11049819897819,
          -80.20963513745616,
          -79.2787433072197,
          -78.34785147698076,
          -77.4469884154612,
          -76.51609658522476,
          -75.61523352370271,
          -74.68434169346627,
          -73.7534498632298,
          -72.91264433914407,
          -71.98175250890512,
          -71.08088944738557,
          -70.14999761714913,
          -69.24913455562708,
          -68.31824272539063,
          -67.1945264623333,
          -66.10705911098994,
          -64.98334284793563,
          -63.89587549658926,
          -62.77215923353495,
          -61.648442970480644,
          -60.633473442559165,
          -59.50975717950185,
          -58.42228982815848,
          -57.29857356510418,
          -56.2111062137578,
          -55.087389950703496,
          -53.96367368764618,
          -52.876206336302815,
          -51.7524900732485,
          -50.66502272190213,
          -49.54130645884782,
          -48.42066045880723,
          -47.37231420070096,
          -46.251668200660376,
          -45.167172071588446,
          -44.04652607154485,
          -42.96202994247292,
          -41.84138394243233,
          -40.72073794238872,
          -39.6362418133168,
          -38.515595813276214,
          -37.43109968420128,
          -36.310453684160684,
          -35.186737421106386,
          -34.1717678931849,
          -33.04805163012759,
          -31.960584278784218,
          -30.836868015729905,
          -29.749400664383536,
          -28.62568440132923,
          -27.50196813827192,
          -26.41450078692855,
          -25.290784523874244,
          -24.20331717252786,
          -23.079600909473555,
          -21.95588464641925,
          -20.94091511849777,
          -19.817198855440466,
          -18.72973150409709,
          -17.606015241042783,
          -16.518547889696407,
          -14.898753870869811,
          -13.27895985203888,
          -11.711417253173735,
          -10.09162323434714,
          -8.52408063547766,
          -6.9042866166510635,
          -5.2844925978244675,
          -3.821452838882209,
          -2.2016588200512786,
          -0.6341162211861189,
          0.9856777976404771,
          2.553220396509957,
          4.173014415336553,
          5.792808434167483,
          7.360351033032629,
          8.980145051859225,
          10.547687650728719,
          12.167481669555329,
          13.782850021663933,
          15.294001060738722,
          16.90936941284737,
          18.472629108436905,
          20.087997460549857,
          21.651257156139437,
          23.26662550824804,
          24.881993860360993,
          26.44525355595053,
          28.060621908059176,
          29.62388160365306,
          31.239249955761665,
          32.859043974588275,
          34.32208373353052,
          35.941877752361464,
          37.509420351226595,
          39.129214370053205,
          40.696756968922685,
          42.31655098774927,
          43.93634500658021,
          45.503887605445385,
          47.12368162427194,
          48.69122422314143,
          50.311018241968014,
          51.930812260794625,
          53.39385201973687,
          55.01364603856783,
          56.58118863743297,
          58.200982656259555,
          59.76852525512905,
          61.38831927395563,
          63.00811329278656,
          64.57565589165173,
          66.19544991047832,
          67.76299250934778,
          69.38278652817439,
          71.002580547001,
          72.46562030594325,
          74.08541432477418,
          75.65295692363932,
          77.27275094246593,
          78.8402935413354,
          80.46008756016201,
          82.07988157899297,
          83.64742417785808,
          85.2672181966847,
          86.83476079555416,
          88.45455481438077,
          90.06992316648939,
          91.58107420556419,
          93.19644255767281,
          94.75970225326239,
          96.37507060537533,
          97.93833030096485,
          99.5536986530735,
          101.16906700518643,
          102.73232670077601,
          104.3476950528846,
          105.9109547484785
         ],
         "yaxis": "y2"
        },
        {
         "legendgroup": "Changepoints",
         "line": {
          "color": "#000000",
          "dash": "dot",
          "width": 2
         },
         "mode": "lines",
         "name": "Changepoints",
         "opacity": 0.75,
         "showlegend": true,
         "type": "scatter",
         "x": [
          "1954-06-30T00:00:00",
          "1954-06-30T00:00:00"
         ],
         "xaxis": "x2",
         "y": [
          -84.78839501299495,
          105.9109547484785
         ],
         "yaxis": "y2"
        },
        {
         "legendgroup": "Changepoints",
         "line": {
          "color": "#000000",
          "dash": "dot",
          "width": 2
         },
         "mode": "lines",
         "name": "Changepoints",
         "opacity": 0.75,
         "showlegend": false,
         "type": "scatter",
         "x": [
          "1949-05-31T00:00:00",
          "1949-05-31T00:00:00"
         ],
         "xaxis": "x2",
         "y": [
          -84.78839501299495,
          105.9109547484785
         ],
         "yaxis": "y2"
        },
        {
         "legendgroup": "Changepoints",
         "line": {
          "color": "#000000",
          "dash": "dot",
          "width": 2
         },
         "mode": "lines",
         "name": "Changepoints",
         "opacity": 0.75,
         "showlegend": false,
         "type": "scatter",
         "x": [
          "1950-07-31T00:00:00",
          "1950-07-31T00:00:00"
         ],
         "xaxis": "x2",
         "y": [
          -84.78839501299495,
          105.9109547484785
         ],
         "yaxis": "y2"
        },
        {
         "line": {
          "color": "rgb(0,0,0)"
         },
         "name": "Residuals",
         "opacity": 0.75,
         "type": "scatter",
         "x": [
          "1949-01-01T00:00:00",
          "1949-02-01T00:00:00",
          "1949-03-01T00:00:00",
          "1949-04-01T00:00:00",
          "1949-05-01T00:00:00",
          "1949-06-01T00:00:00",
          "1949-07-01T00:00:00",
          "1949-08-01T00:00:00",
          "1949-09-01T00:00:00",
          "1949-10-01T00:00:00",
          "1949-11-01T00:00:00",
          "1949-12-01T00:00:00",
          "1950-01-01T00:00:00",
          "1950-02-01T00:00:00",
          "1950-03-01T00:00:00",
          "1950-04-01T00:00:00",
          "1950-05-01T00:00:00",
          "1950-06-01T00:00:00",
          "1950-07-01T00:00:00",
          "1950-08-01T00:00:00",
          "1950-09-01T00:00:00",
          "1950-10-01T00:00:00",
          "1950-11-01T00:00:00",
          "1950-12-01T00:00:00",
          "1951-01-01T00:00:00",
          "1951-02-01T00:00:00",
          "1951-03-01T00:00:00",
          "1951-04-01T00:00:00",
          "1951-05-01T00:00:00",
          "1951-06-01T00:00:00",
          "1951-07-01T00:00:00",
          "1951-08-01T00:00:00",
          "1951-09-01T00:00:00",
          "1951-10-01T00:00:00",
          "1951-11-01T00:00:00",
          "1951-12-01T00:00:00",
          "1952-01-01T00:00:00",
          "1952-02-01T00:00:00",
          "1952-03-01T00:00:00",
          "1952-04-01T00:00:00",
          "1952-05-01T00:00:00",
          "1952-06-01T00:00:00",
          "1952-07-01T00:00:00",
          "1952-08-01T00:00:00",
          "1952-09-01T00:00:00",
          "1952-10-01T00:00:00",
          "1952-11-01T00:00:00",
          "1952-12-01T00:00:00",
          "1953-01-01T00:00:00",
          "1953-02-01T00:00:00",
          "1953-03-01T00:00:00",
          "1953-04-01T00:00:00",
          "1953-05-01T00:00:00",
          "1953-06-01T00:00:00",
          "1953-07-01T00:00:00",
          "1953-08-01T00:00:00",
          "1953-09-01T00:00:00",
          "1953-10-01T00:00:00",
          "1953-11-01T00:00:00",
          "1953-12-01T00:00:00",
          "1954-01-01T00:00:00",
          "1954-02-01T00:00:00",
          "1954-03-01T00:00:00",
          "1954-04-01T00:00:00",
          "1954-05-01T00:00:00",
          "1954-06-01T00:00:00",
          "1954-07-01T00:00:00",
          "1954-08-01T00:00:00",
          "1954-09-01T00:00:00",
          "1954-10-01T00:00:00",
          "1954-11-01T00:00:00",
          "1954-12-01T00:00:00",
          "1955-01-01T00:00:00",
          "1955-02-01T00:00:00",
          "1955-03-01T00:00:00",
          "1955-04-01T00:00:00",
          "1955-05-01T00:00:00",
          "1955-06-01T00:00:00",
          "1955-07-01T00:00:00",
          "1955-08-01T00:00:00",
          "1955-09-01T00:00:00",
          "1955-10-01T00:00:00",
          "1955-11-01T00:00:00",
          "1955-12-01T00:00:00",
          "1956-01-01T00:00:00",
          "1956-02-01T00:00:00",
          "1956-03-01T00:00:00",
          "1956-04-01T00:00:00",
          "1956-05-01T00:00:00",
          "1956-06-01T00:00:00",
          "1956-07-01T00:00:00",
          "1956-08-01T00:00:00",
          "1956-09-01T00:00:00",
          "1956-10-01T00:00:00",
          "1956-11-01T00:00:00",
          "1956-12-01T00:00:00",
          "1957-01-01T00:00:00",
          "1957-02-01T00:00:00",
          "1957-03-01T00:00:00",
          "1957-04-01T00:00:00",
          "1957-05-01T00:00:00",
          "1957-06-01T00:00:00",
          "1957-07-01T00:00:00",
          "1957-08-01T00:00:00",
          "1957-09-01T00:00:00",
          "1957-10-01T00:00:00",
          "1957-11-01T00:00:00",
          "1957-12-01T00:00:00",
          "1958-01-01T00:00:00",
          "1958-02-01T00:00:00",
          "1958-03-01T00:00:00",
          "1958-04-01T00:00:00",
          "1958-05-01T00:00:00",
          "1958-06-01T00:00:00",
          "1958-07-01T00:00:00",
          "1958-08-01T00:00:00",
          "1958-09-01T00:00:00",
          "1958-10-01T00:00:00",
          "1958-11-01T00:00:00",
          "1958-12-01T00:00:00",
          "1959-01-01T00:00:00",
          "1959-02-01T00:00:00",
          "1959-03-01T00:00:00",
          "1959-04-01T00:00:00",
          "1959-05-01T00:00:00",
          "1959-06-01T00:00:00",
          "1959-07-01T00:00:00",
          "1959-08-01T00:00:00",
          "1959-09-01T00:00:00",
          "1959-10-01T00:00:00",
          "1959-11-01T00:00:00",
          "1959-12-01T00:00:00",
          "1960-01-01T00:00:00",
          "1960-02-01T00:00:00",
          "1960-03-01T00:00:00",
          "1960-04-01T00:00:00",
          "1960-05-01T00:00:00",
          "1960-06-01T00:00:00",
          "1960-07-01T00:00:00",
          "1960-08-01T00:00:00",
          "1960-09-01T00:00:00",
          "1960-10-01T00:00:00",
          "1960-11-01T00:00:00",
          "1960-12-01T00:00:00"
         ],
         "xaxis": "x3",
         "y": [
          0.3204829708298007,
          4.224851515673777,
          -3.8596079204605758,
          4.778226080242533,
          -1.6165340912961597,
          -1.5987702858026864,
          0.28098659955372796,
          -0.6009323731079235,
          2.7025338817723537,
          1.4572682912605757,
          0.3688251179358133,
          -1.0799758551530374,
          -7.529818354312255,
          1.8233070527390254,
          -7.835542793350925,
          -3.1198912468541096,
          -12.48650219585602,
          -2.791474066276237,
          4.965434452349314,
          1.2678855846845067,
          4.89273200200995,
          -3.6419924362706126,
          -6.440510325772479,
          3.0021772251435834,
          3.6925175341135343,
          6.175118395568262,
          5.542316624741119,
          -2.5322608973659726,
          6.046584901109412,
          -11.590622236646453,
          -6.611150672813039,
          -7.036006023496043,
          4.677163929650362,
          2.2516420687841503,
          4.686690979898827,
          4.048095457949444,
          3.476949461753975,
          12.727541235323685,
          -4.9573099091761605,
          -9.447125445424035,
          -7.398687202425492,
          5.3564386518807225,
          -7.131000194551973,
          3.918090974456959,
          -0.5802263435916757,
          6.3726804112082505,
          8.625168693673743,
          8.034191737483496,
          2.8583797938850637,
          5.88214465908564,
          14.543921305843412,
          17.558143226096774,
          5.32349577926189,
          -14.706117162153134,
          -19.442856375637803,
          -3.3706474001395463,
          0.9177893523737453,
          2.334901643584942,
          -3.695735235395375,
          -5.7395772521254855,
          -7.596209020095586,
          -18.146985221757888,
          -0.7316786767024155,
          -3.508529610995737,
          0.11220846327955769,
          -6.045979789757212,
          0.5600021756435467,
          -10.770668267204542,
          -3.2451870236730542,
          -3.890997727561569,
          -1.4444048713288566,
          -1.9080485768532185,
          3.9302542096175728,
          -0.646493028957849,
          -2.417846680934531,
          1.9952375302360679,
          -3.12036503056504,
          1.8600981267758243,
          9.32983172554475,
          -10.0032249933206,
          5.758361302634398,
          2.168642918093724,
          -0.3444562502199915,
          10.233215010378046,
          7.754536979709201,
          9.078136600703772,
          8.318003267883796,
          4.555737784471887,
          1.2611229750317534,
          10.127628242418268,
          -0.7520711329044047,
          -6.86249378170811,
          4.893742090077353,
          -2.551103748142168,
          2.4753191874809204,
          4.469297377186251,
          5.65330618797168,
          2.687170001147024,
          15.902203701910253,
          5.09031531106541,
          1.81742497029677,
          14.361434751360434,
          0.42717122743573555,
          4.677996736994487,
          10.660955561985304,
          0.2270648999574405,
          3.5839763785834293,
          -1.3070153005879774,
          -4.089670216115167,
          -10.212714043664505,
          -7.915535865128447,
          -21.86208997968174,
          -13.339637760039693,
          5.1712009503634135,
          1.7947328215258835,
          12.830677734843391,
          -19.903032010666777,
          -14.368903554064616,
          -15.03656924074295,
          -21.669529481881966,
          -5.847931322529689,
          -8.447752102047616,
          10.296463798144941,
          -7.381692774212922,
          3.9845002355330053,
          -10.089950314686405,
          2.122242773515609,
          13.139586935708394,
          -2.0637412630285894,
          -5.426828536031451,
          3.244599460404345,
          5.833490624916067,
          7.006367402655087,
          -0.04966201673960313,
          -21.78842069682088,
          18.96986641913105,
          14.319824714409322,
          4.850550242205145,
          9.361319273571098,
          -2.2854940574914053,
          -3.6148532957936936,
          9.97237475577873,
          -1.1183072085059393,
          -3.355922661897864
         ],
         "yaxis": "y3"
        },
        {
         "line": {
          "color": "rgb(250,237,9)"
         },
         "name": "Smoothed Residuals",
         "opacity": 0.75,
         "type": "scatter",
         "x": [
          "1949-01-01T00:00:00",
          "1949-02-01T00:00:00",
          "1949-03-01T00:00:00",
          "1949-04-01T00:00:00",
          "1949-05-01T00:00:00",
          "1949-06-01T00:00:00",
          "1949-07-01T00:00:00",
          "1949-08-01T00:00:00",
          "1949-09-01T00:00:00",
          "1949-10-01T00:00:00",
          "1949-11-01T00:00:00",
          "1949-12-01T00:00:00",
          "1950-01-01T00:00:00",
          "1950-02-01T00:00:00",
          "1950-03-01T00:00:00",
          "1950-04-01T00:00:00",
          "1950-05-01T00:00:00",
          "1950-06-01T00:00:00",
          "1950-07-01T00:00:00",
          "1950-08-01T00:00:00",
          "1950-09-01T00:00:00",
          "1950-10-01T00:00:00",
          "1950-11-01T00:00:00",
          "1950-12-01T00:00:00",
          "1951-01-01T00:00:00",
          "1951-02-01T00:00:00",
          "1951-03-01T00:00:00",
          "1951-04-01T00:00:00",
          "1951-05-01T00:00:00",
          "1951-06-01T00:00:00",
          "1951-07-01T00:00:00",
          "1951-08-01T00:00:00",
          "1951-09-01T00:00:00",
          "1951-10-01T00:00:00",
          "1951-11-01T00:00:00",
          "1951-12-01T00:00:00",
          "1952-01-01T00:00:00",
          "1952-02-01T00:00:00",
          "1952-03-01T00:00:00",
          "1952-04-01T00:00:00",
          "1952-05-01T00:00:00",
          "1952-06-01T00:00:00",
          "1952-07-01T00:00:00",
          "1952-08-01T00:00:00",
          "1952-09-01T00:00:00",
          "1952-10-01T00:00:00",
          "1952-11-01T00:00:00",
          "1952-12-01T00:00:00",
          "1953-01-01T00:00:00",
          "1953-02-01T00:00:00",
          "1953-03-01T00:00:00",
          "1953-04-01T00:00:00",
          "1953-05-01T00:00:00",
          "1953-06-01T00:00:00",
          "1953-07-01T00:00:00",
          "1953-08-01T00:00:00",
          "1953-09-01T00:00:00",
          "1953-10-01T00:00:00",
          "1953-11-01T00:00:00",
          "1953-12-01T00:00:00",
          "1954-01-01T00:00:00",
          "1954-02-01T00:00:00",
          "1954-03-01T00:00:00",
          "1954-04-01T00:00:00",
          "1954-05-01T00:00:00",
          "1954-06-01T00:00:00",
          "1954-07-01T00:00:00",
          "1954-08-01T00:00:00",
          "1954-09-01T00:00:00",
          "1954-10-01T00:00:00",
          "1954-11-01T00:00:00",
          "1954-12-01T00:00:00",
          "1955-01-01T00:00:00",
          "1955-02-01T00:00:00",
          "1955-03-01T00:00:00",
          "1955-04-01T00:00:00",
          "1955-05-01T00:00:00",
          "1955-06-01T00:00:00",
          "1955-07-01T00:00:00",
          "1955-08-01T00:00:00",
          "1955-09-01T00:00:00",
          "1955-10-01T00:00:00",
          "1955-11-01T00:00:00",
          "1955-12-01T00:00:00",
          "1956-01-01T00:00:00",
          "1956-02-01T00:00:00",
          "1956-03-01T00:00:00",
          "1956-04-01T00:00:00",
          "1956-05-01T00:00:00",
          "1956-06-01T00:00:00",
          "1956-07-01T00:00:00",
          "1956-08-01T00:00:00",
          "1956-09-01T00:00:00",
          "1956-10-01T00:00:00",
          "1956-11-01T00:00:00",
          "1956-12-01T00:00:00",
          "1957-01-01T00:00:00",
          "1957-02-01T00:00:00",
          "1957-03-01T00:00:00",
          "1957-04-01T00:00:00",
          "1957-05-01T00:00:00",
          "1957-06-01T00:00:00",
          "1957-07-01T00:00:00",
          "1957-08-01T00:00:00",
          "1957-09-01T00:00:00",
          "1957-10-01T00:00:00",
          "1957-11-01T00:00:00",
          "1957-12-01T00:00:00",
          "1958-01-01T00:00:00",
          "1958-02-01T00:00:00",
          "1958-03-01T00:00:00",
          "1958-04-01T00:00:00",
          "1958-05-01T00:00:00",
          "1958-06-01T00:00:00",
          "1958-07-01T00:00:00",
          "1958-08-01T00:00:00",
          "1958-09-01T00:00:00",
          "1958-10-01T00:00:00",
          "1958-11-01T00:00:00",
          "1958-12-01T00:00:00",
          "1959-01-01T00:00:00",
          "1959-02-01T00:00:00",
          "1959-03-01T00:00:00",
          "1959-04-01T00:00:00",
          "1959-05-01T00:00:00",
          "1959-06-01T00:00:00",
          "1959-07-01T00:00:00",
          "1959-08-01T00:00:00",
          "1959-09-01T00:00:00",
          "1959-10-01T00:00:00",
          "1959-11-01T00:00:00",
          "1959-12-01T00:00:00",
          "1960-01-01T00:00:00",
          "1960-02-01T00:00:00",
          "1960-03-01T00:00:00",
          "1960-04-01T00:00:00",
          "1960-05-01T00:00:00",
          "1960-06-01T00:00:00",
          "1960-07-01T00:00:00",
          "1960-08-01T00:00:00",
          "1960-09-01T00:00:00",
          "1960-10-01T00:00:00",
          "1960-11-01T00:00:00",
          "1960-12-01T00:00:00"
         ],
         "xaxis": "x3",
         "y": [
          0.3204829708298007,
          2.6631040977361864,
          -0.4266015950938583,
          1.73540374696895,
          0.4486408801467991,
          -0.29951086921519327,
          -0.0939826250517433,
          -0.2698270499524358,
          0.7474208804135515,
          0.9882123769702421,
          0.7793351231953835,
          0.154750910049364,
          -2.420001852756232,
          -1.0007037632149958,
          -3.284198160770804,
          -3.2293456799178992,
          -6.318199579329687,
          -5.141828429143112,
          -1.7712203443007621,
          -0.7578802942438089,
          1.1260348360223391,
          -0.46352004350137,
          -2.456027679562429,
          -0.6365179599750911,
          0.8065510199903024,
          2.596120725695373,
          3.5782033109596396,
          1.5413580079152525,
          3.043112053331773,
          -1.8348248155653912,
          -3.4269389699990382,
          -4.629964109560462,
          -1.5275833026499532,
          -0.2678402144573619,
          1.383671317855885,
          2.2718131045147882,
          2.673525346208071,
          6.024864657860171,
          2.3641393055798754,
          -1.5729493008161046,
          -3.5148620517673503,
          -0.5577616983586893,
          -2.7488412558027475,
          -0.5265304726829475,
          -0.5444290965323538,
          1.7612740910210207,
          4.049238970682375,
          5.37755656430337,
          4.537830972188487,
          4.985935535190313,
          8.171930795405803,
          11.300668274483632,
          9.308277441817207,
          1.3034792380139295,
          -5.611965967964886,
          -4.864859778586907,
          -2.937310068089759,
          -1.17990616409065,
          -2.0185158545597703,
          -3.258869653782076,
          -4.70464944257946,
          -9.185428035693096,
          -6.367511582673496,
          -5.4145175921091235,
          -3.5722755736396326,
          -4.396843645680794,
          -2.744561705236717,
          -5.419930559228831,
          -4.695016047376392,
          -4.427009940771325,
          -3.4328082509568563,
          -2.924555026255537,
          -0.6396186142975149,
          -0.6419100858509598,
          -1.2338889508788535,
          -0.15751345717383544,
          -1.145130648304264,
          -0.14338772327754964,
          3.014352092996589,
          -1.3248402691091754,
          1.0362269214720283,
          1.4136989203459285,
          0.8276471968239538,
          3.9628364680086556,
          5.226736638575505,
          6.510536625951595,
          7.113025506595662,
          6.260596265887736,
          4.594105168935742,
          6.438612860096583,
          4.041718195762921,
          0.4069808699392438,
          1.9025679433186136,
          0.41801071283168634,
          1.103780204381431,
          2.225619261983038,
          3.3681815706459184,
          3.1411777141462864,
          7.394853043400942,
          6.626673799289098,
          5.023590856291656,
          8.136205487981249,
          5.566527401132745,
          5.270350513086659,
          7.06721886271954,
          4.78716754179884,
          4.386103820727036,
          2.4883974469553647,
          0.29570822593185425,
          -3.2070991972669325,
          -4.776578086554104,
          -10.471748717596649,
          -11.42771173174433,
          -5.894740837708415,
          -3.331582951296982,
          2.0558372774164755,
          -5.263785818611275,
          -8.298825063762388,
          -10.544739789422575,
          -14.253003020242373,
          -11.451312454338145,
          -10.450125670241302,
          -3.5345958474458876,
          -4.816961489701566,
          -1.8831409146233753,
          -4.618744047977718,
          -2.371748440813276,
          2.7986966846939474,
          1.1778840354531017,
          -1.0236868217084159,
          0.39907527232917106,
          2.210547056524803,
          3.8091538385682306,
          2.522881886798953,
          -5.580885641074325,
          2.602698378994134,
          6.5084071574658635,
          5.955788185712291,
          7.090965214998559,
          3.965478790835238,
          1.438701428625594,
          4.283259204343306,
          2.482737066726891,
          0.5365171571853059
         ],
         "yaxis": "y3"
        }
       ],
       "layout": {
        "annotations": [
         {
          "font": {
           "size": 16
          },
          "showarrow": false,
          "text": "Component plot",
          "x": 0.5,
          "xanchor": "center",
          "xref": "paper",
          "y": 1,
          "yanchor": "bottom",
          "yref": "paper"
         },
         {
          "font": {
           "size": 16
          },
          "showarrow": false,
          "text": "Trend and change points",
          "x": 0.5,
          "xanchor": "center",
          "xref": "paper",
          "y": 0.6111111111111112,
          "yanchor": "bottom",
          "yref": "paper"
         },
         {
          "font": {
           "size": 16
          },
          "showarrow": false,
          "text": "Residuals",
          "x": 0.5,
          "xanchor": "center",
          "xref": "paper",
          "y": 0.22222222222222224,
          "yanchor": "bottom",
          "yref": "paper"
         }
        ],
        "height": 1050,
        "template": {
         "data": {
          "bar": [
           {
            "error_x": {
             "color": "#2a3f5f"
            },
            "error_y": {
             "color": "#2a3f5f"
            },
            "marker": {
             "line": {
              "color": "#E5ECF6",
              "width": 0.5
             },
             "pattern": {
              "fillmode": "overlay",
              "size": 10,
              "solidity": 0.2
             }
            },
            "type": "bar"
           }
          ],
          "barpolar": [
           {
            "marker": {
             "line": {
              "color": "#E5ECF6",
              "width": 0.5
             },
             "pattern": {
              "fillmode": "overlay",
              "size": 10,
              "solidity": 0.2
             }
            },
            "type": "barpolar"
           }
          ],
          "carpet": [
           {
            "aaxis": {
             "endlinecolor": "#2a3f5f",
             "gridcolor": "white",
             "linecolor": "white",
             "minorgridcolor": "white",
             "startlinecolor": "#2a3f5f"
            },
            "baxis": {
             "endlinecolor": "#2a3f5f",
             "gridcolor": "white",
             "linecolor": "white",
             "minorgridcolor": "white",
             "startlinecolor": "#2a3f5f"
            },
            "type": "carpet"
           }
          ],
          "choropleth": [
           {
            "colorbar": {
             "outlinewidth": 0,
             "ticks": ""
            },
            "type": "choropleth"
           }
          ],
          "contour": [
           {
            "colorbar": {
             "outlinewidth": 0,
             "ticks": ""
            },
            "colorscale": [
             [
              0,
              "#0d0887"
             ],
             [
              0.1111111111111111,
              "#46039f"
             ],
             [
              0.2222222222222222,
              "#7201a8"
             ],
             [
              0.3333333333333333,
              "#9c179e"
             ],
             [
              0.4444444444444444,
              "#bd3786"
             ],
             [
              0.5555555555555556,
              "#d8576b"
             ],
             [
              0.6666666666666666,
              "#ed7953"
             ],
             [
              0.7777777777777778,
              "#fb9f3a"
             ],
             [
              0.8888888888888888,
              "#fdca26"
             ],
             [
              1,
              "#f0f921"
             ]
            ],
            "type": "contour"
           }
          ],
          "contourcarpet": [
           {
            "colorbar": {
             "outlinewidth": 0,
             "ticks": ""
            },
            "type": "contourcarpet"
           }
          ],
          "heatmap": [
           {
            "colorbar": {
             "outlinewidth": 0,
             "ticks": ""
            },
            "colorscale": [
             [
              0,
              "#0d0887"
             ],
             [
              0.1111111111111111,
              "#46039f"
             ],
             [
              0.2222222222222222,
              "#7201a8"
             ],
             [
              0.3333333333333333,
              "#9c179e"
             ],
             [
              0.4444444444444444,
              "#bd3786"
             ],
             [
              0.5555555555555556,
              "#d8576b"
             ],
             [
              0.6666666666666666,
              "#ed7953"
             ],
             [
              0.7777777777777778,
              "#fb9f3a"
             ],
             [
              0.8888888888888888,
              "#fdca26"
             ],
             [
              1,
              "#f0f921"
             ]
            ],
            "type": "heatmap"
           }
          ],
          "heatmapgl": [
           {
            "colorbar": {
             "outlinewidth": 0,
             "ticks": ""
            },
            "colorscale": [
             [
              0,
              "#0d0887"
             ],
             [
              0.1111111111111111,
              "#46039f"
             ],
             [
              0.2222222222222222,
              "#7201a8"
             ],
             [
              0.3333333333333333,
              "#9c179e"
             ],
             [
              0.4444444444444444,
              "#bd3786"
             ],
             [
              0.5555555555555556,
              "#d8576b"
             ],
             [
              0.6666666666666666,
              "#ed7953"
             ],
             [
              0.7777777777777778,
              "#fb9f3a"
             ],
             [
              0.8888888888888888,
              "#fdca26"
             ],
             [
              1,
              "#f0f921"
             ]
            ],
            "type": "heatmapgl"
           }
          ],
          "histogram": [
           {
            "marker": {
             "pattern": {
              "fillmode": "overlay",
              "size": 10,
              "solidity": 0.2
             }
            },
            "type": "histogram"
           }
          ],
          "histogram2d": [
           {
            "colorbar": {
             "outlinewidth": 0,
             "ticks": ""
            },
            "colorscale": [
             [
              0,
              "#0d0887"
             ],
             [
              0.1111111111111111,
              "#46039f"
             ],
             [
              0.2222222222222222,
              "#7201a8"
             ],
             [
              0.3333333333333333,
              "#9c179e"
             ],
             [
              0.4444444444444444,
              "#bd3786"
             ],
             [
              0.5555555555555556,
              "#d8576b"
             ],
             [
              0.6666666666666666,
              "#ed7953"
             ],
             [
              0.7777777777777778,
              "#fb9f3a"
             ],
             [
              0.8888888888888888,
              "#fdca26"
             ],
             [
              1,
              "#f0f921"
             ]
            ],
            "type": "histogram2d"
           }
          ],
          "histogram2dcontour": [
           {
            "colorbar": {
             "outlinewidth": 0,
             "ticks": ""
            },
            "colorscale": [
             [
              0,
              "#0d0887"
             ],
             [
              0.1111111111111111,
              "#46039f"
             ],
             [
              0.2222222222222222,
              "#7201a8"
             ],
             [
              0.3333333333333333,
              "#9c179e"
             ],
             [
              0.4444444444444444,
              "#bd3786"
             ],
             [
              0.5555555555555556,
              "#d8576b"
             ],
             [
              0.6666666666666666,
              "#ed7953"
             ],
             [
              0.7777777777777778,
              "#fb9f3a"
             ],
             [
              0.8888888888888888,
              "#fdca26"
             ],
             [
              1,
              "#f0f921"
             ]
            ],
            "type": "histogram2dcontour"
           }
          ],
          "mesh3d": [
           {
            "colorbar": {
             "outlinewidth": 0,
             "ticks": ""
            },
            "type": "mesh3d"
           }
          ],
          "parcoords": [
           {
            "line": {
             "colorbar": {
              "outlinewidth": 0,
              "ticks": ""
             }
            },
            "type": "parcoords"
           }
          ],
          "pie": [
           {
            "automargin": true,
            "type": "pie"
           }
          ],
          "scatter": [
           {
            "fillpattern": {
             "fillmode": "overlay",
             "size": 10,
             "solidity": 0.2
            },
            "type": "scatter"
           }
          ],
          "scatter3d": [
           {
            "line": {
             "colorbar": {
              "outlinewidth": 0,
              "ticks": ""
             }
            },
            "marker": {
             "colorbar": {
              "outlinewidth": 0,
              "ticks": ""
             }
            },
            "type": "scatter3d"
           }
          ],
          "scattercarpet": [
           {
            "marker": {
             "colorbar": {
              "outlinewidth": 0,
              "ticks": ""
             }
            },
            "type": "scattercarpet"
           }
          ],
          "scattergeo": [
           {
            "marker": {
             "colorbar": {
              "outlinewidth": 0,
              "ticks": ""
             }
            },
            "type": "scattergeo"
           }
          ],
          "scattergl": [
           {
            "marker": {
             "colorbar": {
              "outlinewidth": 0,
              "ticks": ""
             }
            },
            "type": "scattergl"
           }
          ],
          "scattermapbox": [
           {
            "marker": {
             "colorbar": {
              "outlinewidth": 0,
              "ticks": ""
             }
            },
            "type": "scattermapbox"
           }
          ],
          "scatterpolar": [
           {
            "marker": {
             "colorbar": {
              "outlinewidth": 0,
              "ticks": ""
             }
            },
            "type": "scatterpolar"
           }
          ],
          "scatterpolargl": [
           {
            "marker": {
             "colorbar": {
              "outlinewidth": 0,
              "ticks": ""
             }
            },
            "type": "scatterpolargl"
           }
          ],
          "scatterternary": [
           {
            "marker": {
             "colorbar": {
              "outlinewidth": 0,
              "ticks": ""
             }
            },
            "type": "scatterternary"
           }
          ],
          "surface": [
           {
            "colorbar": {
             "outlinewidth": 0,
             "ticks": ""
            },
            "colorscale": [
             [
              0,
              "#0d0887"
             ],
             [
              0.1111111111111111,
              "#46039f"
             ],
             [
              0.2222222222222222,
              "#7201a8"
             ],
             [
              0.3333333333333333,
              "#9c179e"
             ],
             [
              0.4444444444444444,
              "#bd3786"
             ],
             [
              0.5555555555555556,
              "#d8576b"
             ],
             [
              0.6666666666666666,
              "#ed7953"
             ],
             [
              0.7777777777777778,
              "#fb9f3a"
             ],
             [
              0.8888888888888888,
              "#fdca26"
             ],
             [
              1,
              "#f0f921"
             ]
            ],
            "type": "surface"
           }
          ],
          "table": [
           {
            "cells": {
             "fill": {
              "color": "#EBF0F8"
             },
             "line": {
              "color": "white"
             }
            },
            "header": {
             "fill": {
              "color": "#C8D4E3"
             },
             "line": {
              "color": "white"
             }
            },
            "type": "table"
           }
          ]
         },
         "layout": {
          "annotationdefaults": {
           "arrowcolor": "#2a3f5f",
           "arrowhead": 0,
           "arrowwidth": 1
          },
          "autotypenumbers": "strict",
          "coloraxis": {
           "colorbar": {
            "outlinewidth": 0,
            "ticks": ""
           }
          },
          "colorscale": {
           "diverging": [
            [
             0,
             "#8e0152"
            ],
            [
             0.1,
             "#c51b7d"
            ],
            [
             0.2,
             "#de77ae"
            ],
            [
             0.3,
             "#f1b6da"
            ],
            [
             0.4,
             "#fde0ef"
            ],
            [
             0.5,
             "#f7f7f7"
            ],
            [
             0.6,
             "#e6f5d0"
            ],
            [
             0.7,
             "#b8e186"
            ],
            [
             0.8,
             "#7fbc41"
            ],
            [
             0.9,
             "#4d9221"
            ],
            [
             1,
             "#276419"
            ]
           ],
           "sequential": [
            [
             0,
             "#0d0887"
            ],
            [
             0.1111111111111111,
             "#46039f"
            ],
            [
             0.2222222222222222,
             "#7201a8"
            ],
            [
             0.3333333333333333,
             "#9c179e"
            ],
            [
             0.4444444444444444,
             "#bd3786"
            ],
            [
             0.5555555555555556,
             "#d8576b"
            ],
            [
             0.6666666666666666,
             "#ed7953"
            ],
            [
             0.7777777777777778,
             "#fb9f3a"
            ],
            [
             0.8888888888888888,
             "#fdca26"
            ],
            [
             1,
             "#f0f921"
            ]
           ],
           "sequentialminus": [
            [
             0,
             "#0d0887"
            ],
            [
             0.1111111111111111,
             "#46039f"
            ],
            [
             0.2222222222222222,
             "#7201a8"
            ],
            [
             0.3333333333333333,
             "#9c179e"
            ],
            [
             0.4444444444444444,
             "#bd3786"
            ],
            [
             0.5555555555555556,
             "#d8576b"
            ],
            [
             0.6666666666666666,
             "#ed7953"
            ],
            [
             0.7777777777777778,
             "#fb9f3a"
            ],
            [
             0.8888888888888888,
             "#fdca26"
            ],
            [
             1,
             "#f0f921"
            ]
           ]
          },
          "colorway": [
           "#636efa",
           "#EF553B",
           "#00cc96",
           "#ab63fa",
           "#FFA15A",
           "#19d3f3",
           "#FF6692",
           "#B6E880",
           "#FF97FF",
           "#FECB52"
          ],
          "font": {
           "color": "#2a3f5f"
          },
          "geo": {
           "bgcolor": "white",
           "lakecolor": "white",
           "landcolor": "#E5ECF6",
           "showlakes": true,
           "showland": true,
           "subunitcolor": "white"
          },
          "hoverlabel": {
           "align": "left"
          },
          "hovermode": "closest",
          "mapbox": {
           "style": "light"
          },
          "paper_bgcolor": "white",
          "plot_bgcolor": "#E5ECF6",
          "polar": {
           "angularaxis": {
            "gridcolor": "white",
            "linecolor": "white",
            "ticks": ""
           },
           "bgcolor": "#E5ECF6",
           "radialaxis": {
            "gridcolor": "white",
            "linecolor": "white",
            "ticks": ""
           }
          },
          "scene": {
           "xaxis": {
            "backgroundcolor": "#E5ECF6",
            "gridcolor": "white",
            "gridwidth": 2,
            "linecolor": "white",
            "showbackground": true,
            "ticks": "",
            "zerolinecolor": "white"
           },
           "yaxis": {
            "backgroundcolor": "#E5ECF6",
            "gridcolor": "white",
            "gridwidth": 2,
            "linecolor": "white",
            "showbackground": true,
            "ticks": "",
            "zerolinecolor": "white"
           },
           "zaxis": {
            "backgroundcolor": "#E5ECF6",
            "gridcolor": "white",
            "gridwidth": 2,
            "linecolor": "white",
            "showbackground": true,
            "ticks": "",
            "zerolinecolor": "white"
           }
          },
          "shapedefaults": {
           "line": {
            "color": "#2a3f5f"
           }
          },
          "ternary": {
           "aaxis": {
            "gridcolor": "white",
            "linecolor": "white",
            "ticks": ""
           },
           "baxis": {
            "gridcolor": "white",
            "linecolor": "white",
            "ticks": ""
           },
           "bgcolor": "#E5ECF6",
           "caxis": {
            "gridcolor": "white",
            "linecolor": "white",
            "ticks": ""
           }
          },
          "title": {
           "x": 0.05
          },
          "xaxis": {
           "automargin": true,
           "gridcolor": "white",
           "linecolor": "white",
           "ticks": "",
           "title": {
            "standoff": 15
           },
           "zerolinecolor": "white",
           "zerolinewidth": 2
          },
          "yaxis": {
           "automargin": true,
           "gridcolor": "white",
           "linecolor": "white",
           "ticks": "",
           "title": {
            "standoff": 15
           },
           "zerolinecolor": "white",
           "zerolinewidth": 2
          }
         }
        },
        "title": {
         "text": "Component Plot - Training",
         "x": 0.5
        },
        "xaxis": {
         "anchor": "y",
         "domain": [
          0,
          1
         ],
         "matches": "x3",
         "rangeslider": {
          "thickness": 0.05,
          "visible": true
         },
         "showticklabels": true,
         "title": {
          "text": "Date"
         }
        },
        "xaxis2": {
         "anchor": "y2",
         "domain": [
          0,
          1
         ],
         "matches": "x3",
         "showticklabels": true
        },
        "xaxis3": {
         "anchor": "y3",
         "domain": [
          0,
          1
         ]
        },
        "yaxis": {
         "anchor": "x",
         "domain": [
          0.7777777777777778,
          1
         ],
         "fixedrange": false
        },
        "yaxis2": {
         "anchor": "x2",
         "domain": [
          0.3888888888888889,
          0.6111111111111112
         ],
         "fixedrange": false
        },
        "yaxis3": {
         "anchor": "x3",
         "domain": [
          0,
          0.22222222222222224
         ],
         "fixedrange": false
        }
       }
      }
     },
     "metadata": {},
     "output_type": "display_data"
    }
   ],
   "source": [
    "fig=forecast1.plot_components()\n",
    "iplot(fig)"
   ]
  },
  {
   "cell_type": "code",
   "execution_count": 24,
   "metadata": {},
   "outputs": [
    {
     "name": "stdout",
     "output_type": "stream",
     "text": [
      "================================ Model Summary =================================\n",
      "\n",
      "Number of observations: 144,   Number of features: 28\n",
      "Method: Lasso regression\n",
      "Number of nonzero features: 25\n",
      "Regularization parameter: 0.03539\n",
      "\n",
      "Residuals:\n",
      "         Min           1Q       Median           3Q          Max\n",
      "      -21.86       -3.867       0.4936        4.893        18.97\n",
      "\n",
      "           Pred_col Estimate Pr(>)_split sig. code                95%CI  Prob_nonzero\n",
      "          Intercept    111.7      <2e-16       ***      (-465.4, 327.0)          1.00\n",
      "C(month,... 13)))_2    10.61       0.630                (-105.2, 99.26)          0.76\n",
      "C(month,... 13)))_3    21.85    9.17e-04       ***      (-63.04, 120.4)          0.99\n",
      "C(month,... 13)))_4    1.065       0.161                (-139.0, 134.8)          0.63\n",
      "C(month,... 13)))_5   -9.156       0.745                (-233.2, 450.4)          0.79\n",
      "C(month,... 13)))_6    -13.7       0.083         .      (-146.3, 88.59)          0.77\n",
      "C(month,... 13)))_7   -20.34       0.033         *      (-207.8, 95.95)          0.90\n",
      "C(month,... 13)))_8   -11.06       0.680                (-111.2, 73.31)          0.89\n",
      "C(month,... 13)))_9   0.9987       1.000                (-87.91, 90.51)          0.61\n",
      "C(month,...13)))_10   -2.119       1.000                (-100.9, 111.7)          0.60\n",
      "C(month,...13)))_11   -2.836       1.000                (-324.2, 281.4)          0.70\n",
      "C(month,...13)))_12       0.       1.000                (-73.62, 79.32)          0.37\n",
      "     y_avglag_1_2_3    213.0    3.62e-13       ***       (-90.8, 696.6)          1.00\n",
      "y_avglag... 13)))_2   -32.66       0.020         *      (-284.9, 366.5)          0.98\n",
      "y_avglag... 13)))_3       0.       0.625                (-147.9, 167.8)          0.66\n",
      "y_avglag... 13)))_4    18.32       0.340                (-147.8, 300.9)          0.73\n",
      "y_avglag... 13)))_5    36.06       0.012         *      (-948.4, 423.2)          0.94\n",
      "y_avglag... 13)))_6    99.37    6.48e-11       ***      (-99.24, 320.9)          1.00\n",
      "y_avglag... 13)))_7    169.6    4.49e-15       ***      (-15.48, 426.5)          1.00\n",
      "y_avglag... 13)))_8    130.3    3.94e-10       ***       (-33.6, 280.4)          0.98\n",
      "y_avglag... 13)))_9       0.       1.000                (-250.9, 164.8)          0.35\n",
      "y_avglag...13)))_10    -55.0    1.25e-08       ***      (-342.4, 85.46)          0.98\n",
      "y_avglag...13)))_11   -91.78    1.83e-11       ***      (-625.8, 586.8)          0.98\n",
      "y_avglag...13)))_12   -19.71       0.031         *      (-161.2, 91.06)          0.94\n",
      "                ct1    105.9       1.000           (-5889.0, 1.695e+04)          1.00\n",
      "  cp0_1949_05_31_00    23.81       1.000           (-1.617e+04, 5607.0)          0.98\n",
      "  cp1_1950_07_31_00    23.46       1.000                (-370.9, 427.8)          0.74\n",
      "  cp2_1954_06_30_00     37.5       0.003        **      (-47.35, 114.8)          1.00\n",
      "Signif. Code: 0 '***' 0.001 '**' 0.01 '*' 0.05 '.' 0.1 ' ' 1\n",
      "\n",
      "Multiple R-squared: 0.9956,   Adjusted R-squared: 0.9947\n",
      "F-statistic: 1105.3 on 24 and 118 DF,   p-value: 1.110e-16\n",
      "Model AIC: 1363.3,   model BIC: 1437.6\n",
      "\n",
      "WARNING: the condition number is large, 5.04e+05. This might indicate that there are strong multicollinearity or other numerical problems.\n",
      "WARNING: the F-ratio and its p-value on regularized methods might be misleading, they are provided only for reference purposes.\n",
      "\n"
     ]
    }
   ],
   "source": [
    "# Get the useful fields from the forecast result\n",
    "model1 = result1.model[-1]\n",
    "backtest1 = result1.backtest\n",
    "forecast1 = result1.forecast\n",
    "grid_search = result1.grid_search\\\n",
    "\n",
    "# Check model coefficients / variables\n",
    "# Get model summary with p-values\n",
    "print(model1.summary())"
   ]
  },
  {
   "cell_type": "code",
   "execution_count": 25,
   "metadata": {},
   "outputs": [
    {
     "data": {
      "text/html": [
       "<div>\n",
       "<style scoped>\n",
       "    .dataframe tbody tr th:only-of-type {\n",
       "        vertical-align: middle;\n",
       "    }\n",
       "\n",
       "    .dataframe tbody tr th {\n",
       "        vertical-align: top;\n",
       "    }\n",
       "\n",
       "    .dataframe thead th {\n",
       "        text-align: right;\n",
       "    }\n",
       "</style>\n",
       "<table border=\"1\" class=\"dataframe\">\n",
       "  <thead>\n",
       "    <tr style=\"text-align: right;\">\n",
       "      <th></th>\n",
       "      <th>train</th>\n",
       "      <th>test</th>\n",
       "    </tr>\n",
       "  </thead>\n",
       "  <tbody>\n",
       "    <tr>\n",
       "      <th>CORR</th>\n",
       "      <td>0.997784</td>\n",
       "      <td>0.987993</td>\n",
       "    </tr>\n",
       "    <tr>\n",
       "      <th>R2</th>\n",
       "      <td>0.995564</td>\n",
       "      <td>0.873565</td>\n",
       "    </tr>\n",
       "    <tr>\n",
       "      <th>MSE</th>\n",
       "      <td>32.182037</td>\n",
       "      <td>773.568473</td>\n",
       "    </tr>\n",
       "    <tr>\n",
       "      <th>RMSE</th>\n",
       "      <td>5.672921</td>\n",
       "      <td>27.813099</td>\n",
       "    </tr>\n",
       "    <tr>\n",
       "      <th>MAE</th>\n",
       "      <td>4.344461</td>\n",
       "      <td>24.553929</td>\n",
       "    </tr>\n",
       "  </tbody>\n",
       "</table>\n",
       "</div>"
      ],
      "text/plain": [
       "          train        test\n",
       "CORR   0.997784    0.987993\n",
       "R2     0.995564    0.873565\n",
       "MSE   32.182037  773.568473\n",
       "RMSE   5.672921   27.813099\n",
       "MAE    4.344461   24.553929"
      ]
     },
     "execution_count": 25,
     "metadata": {},
     "output_type": "execute_result"
    }
   ],
   "source": [
    "backtest1 = result1.backtest\n",
    "backtest_eval1 = defaultdict(list)\n",
    "for metric, value in backtest1.train_evaluation.items():\n",
    "    backtest_eval1[metric].append(value)\n",
    "    backtest_eval1[metric].append(backtest1.test_evaluation[metric])\n",
    "metrics1 = pd.DataFrame(backtest_eval1, index=[\"train\", \"test\"]).T\n",
    "metrics1.head()"
   ]
  },
  {
   "cell_type": "code",
   "execution_count": 26,
   "metadata": {},
   "outputs": [
    {
     "data": {
      "text/html": [
       "<div>\n",
       "<style scoped>\n",
       "    .dataframe tbody tr th:only-of-type {\n",
       "        vertical-align: middle;\n",
       "    }\n",
       "\n",
       "    .dataframe tbody tr th {\n",
       "        vertical-align: top;\n",
       "    }\n",
       "\n",
       "    .dataframe thead th {\n",
       "        text-align: right;\n",
       "    }\n",
       "</style>\n",
       "<table border=\"1\" class=\"dataframe\">\n",
       "  <thead>\n",
       "    <tr style=\"text-align: right;\">\n",
       "      <th></th>\n",
       "      <th>Value</th>\n",
       "    </tr>\n",
       "  </thead>\n",
       "  <tbody>\n",
       "    <tr>\n",
       "      <th>CORR</th>\n",
       "      <td>0.987993</td>\n",
       "    </tr>\n",
       "    <tr>\n",
       "      <th>R2</th>\n",
       "      <td>0.873565</td>\n",
       "    </tr>\n",
       "    <tr>\n",
       "      <th>MSE</th>\n",
       "      <td>773.568473</td>\n",
       "    </tr>\n",
       "    <tr>\n",
       "      <th>RMSE</th>\n",
       "      <td>27.813099</td>\n",
       "    </tr>\n",
       "    <tr>\n",
       "      <th>MAE</th>\n",
       "      <td>24.553929</td>\n",
       "    </tr>\n",
       "    <tr>\n",
       "      <th>MedAE</th>\n",
       "      <td>25.420445</td>\n",
       "    </tr>\n",
       "    <tr>\n",
       "      <th>MAPE</th>\n",
       "      <td>6.174095</td>\n",
       "    </tr>\n",
       "    <tr>\n",
       "      <th>MedAPE</th>\n",
       "      <td>5.488894</td>\n",
       "    </tr>\n",
       "    <tr>\n",
       "      <th>sMAPE</th>\n",
       "      <td>2.964961</td>\n",
       "    </tr>\n",
       "    <tr>\n",
       "      <th>Q80</th>\n",
       "      <td>4.910786</td>\n",
       "    </tr>\n",
       "    <tr>\n",
       "      <th>Q95</th>\n",
       "      <td>1.227696</td>\n",
       "    </tr>\n",
       "    <tr>\n",
       "      <th>Q99</th>\n",
       "      <td>0.245539</td>\n",
       "    </tr>\n",
       "    <tr>\n",
       "      <th>OutsideTolerance1p</th>\n",
       "      <td>0.916667</td>\n",
       "    </tr>\n",
       "    <tr>\n",
       "      <th>OutsideTolerance2p</th>\n",
       "      <td>0.833333</td>\n",
       "    </tr>\n",
       "    <tr>\n",
       "      <th>OutsideTolerance3p</th>\n",
       "      <td>0.805556</td>\n",
       "    </tr>\n",
       "    <tr>\n",
       "      <th>OutsideTolerance4p</th>\n",
       "      <td>0.75</td>\n",
       "    </tr>\n",
       "    <tr>\n",
       "      <th>OutsideTolerance5p</th>\n",
       "      <td>0.638889</td>\n",
       "    </tr>\n",
       "    <tr>\n",
       "      <th>Outside Tolerance (fraction)</th>\n",
       "      <td>None</td>\n",
       "    </tr>\n",
       "    <tr>\n",
       "      <th>R2_null_model_score</th>\n",
       "      <td>None</td>\n",
       "    </tr>\n",
       "    <tr>\n",
       "      <th>Prediction Band Width (%)</th>\n",
       "      <td>5.378737</td>\n",
       "    </tr>\n",
       "    <tr>\n",
       "      <th>Prediction Band Coverage (fraction)</th>\n",
       "      <td>0.166667</td>\n",
       "    </tr>\n",
       "    <tr>\n",
       "      <th>Coverage: Lower Band</th>\n",
       "      <td>0.166667</td>\n",
       "    </tr>\n",
       "    <tr>\n",
       "      <th>Coverage: Upper Band</th>\n",
       "      <td>0.0</td>\n",
       "    </tr>\n",
       "    <tr>\n",
       "      <th>Coverage Diff: Actual_Coverage - Intended_Coverage</th>\n",
       "      <td>-0.783333</td>\n",
       "    </tr>\n",
       "    <tr>\n",
       "      <th>MIS</th>\n",
       "      <td>602.861425</td>\n",
       "    </tr>\n",
       "  </tbody>\n",
       "</table>\n",
       "</div>"
      ],
      "text/plain": [
       "                                                         Value\n",
       "CORR                                                  0.987993\n",
       "R2                                                    0.873565\n",
       "MSE                                                 773.568473\n",
       "RMSE                                                 27.813099\n",
       "MAE                                                  24.553929\n",
       "MedAE                                                25.420445\n",
       "MAPE                                                  6.174095\n",
       "MedAPE                                                5.488894\n",
       "sMAPE                                                 2.964961\n",
       "Q80                                                   4.910786\n",
       "Q95                                                   1.227696\n",
       "Q99                                                   0.245539\n",
       "OutsideTolerance1p                                    0.916667\n",
       "OutsideTolerance2p                                    0.833333\n",
       "OutsideTolerance3p                                    0.805556\n",
       "OutsideTolerance4p                                        0.75\n",
       "OutsideTolerance5p                                    0.638889\n",
       "Outside Tolerance (fraction)                              None\n",
       "R2_null_model_score                                       None\n",
       "Prediction Band Width (%)                             5.378737\n",
       "Prediction Band Coverage (fraction)                   0.166667\n",
       "Coverage: Lower Band                                  0.166667\n",
       "Coverage: Upper Band                                       0.0\n",
       "Coverage Diff: Actual_Coverage - Intended_Coverage   -0.783333\n",
       "MIS                                                 602.861425"
      ]
     },
     "execution_count": 26,
     "metadata": {},
     "output_type": "execute_result"
    }
   ],
   "source": [
    "pd.DataFrame(result1.backtest.test_evaluation, index=[\"Value\"]).transpose()"
   ]
  },
  {
   "cell_type": "code",
   "execution_count": 27,
   "metadata": {},
   "outputs": [],
   "source": [
    "model1 = result1.model\n",
    "future_df1 = result1.timeseries.make_future_dataframe(\n",
    "    periods=36,\n",
    "    include_history=False\n",
    ")"
   ]
  },
  {
   "cell_type": "code",
   "execution_count": 28,
   "metadata": {},
   "outputs": [
    {
     "data": {
      "text/html": [
       "<div>\n",
       "<style scoped>\n",
       "    .dataframe tbody tr th:only-of-type {\n",
       "        vertical-align: middle;\n",
       "    }\n",
       "\n",
       "    .dataframe tbody tr th {\n",
       "        vertical-align: top;\n",
       "    }\n",
       "\n",
       "    .dataframe thead th {\n",
       "        text-align: right;\n",
       "    }\n",
       "</style>\n",
       "<table border=\"1\" class=\"dataframe\">\n",
       "  <thead>\n",
       "    <tr style=\"text-align: right;\">\n",
       "      <th></th>\n",
       "      <th>ts</th>\n",
       "      <th>forecast</th>\n",
       "      <th>quantile_summary</th>\n",
       "      <th>err_std</th>\n",
       "      <th>forecast_lower</th>\n",
       "      <th>forecast_upper</th>\n",
       "    </tr>\n",
       "  </thead>\n",
       "  <tbody>\n",
       "    <tr>\n",
       "      <th>0</th>\n",
       "      <td>1961-01-01</td>\n",
       "      <td>445.333607</td>\n",
       "      <td>(429.66472181541485, 461.0024929964301)</td>\n",
       "      <td>7.994476</td>\n",
       "      <td>429.664722</td>\n",
       "      <td>461.002493</td>\n",
       "    </tr>\n",
       "    <tr>\n",
       "      <th>1</th>\n",
       "      <td>1961-02-01</td>\n",
       "      <td>420.264574</td>\n",
       "      <td>(404.59568889121795, 435.9334600722332)</td>\n",
       "      <td>7.994476</td>\n",
       "      <td>404.595689</td>\n",
       "      <td>435.933460</td>\n",
       "    </tr>\n",
       "    <tr>\n",
       "      <th>2</th>\n",
       "      <td>1961-03-01</td>\n",
       "      <td>472.442748</td>\n",
       "      <td>(456.77386268153975, 488.111633862555)</td>\n",
       "      <td>7.994476</td>\n",
       "      <td>456.773863</td>\n",
       "      <td>488.111634</td>\n",
       "    </tr>\n",
       "    <tr>\n",
       "      <th>3</th>\n",
       "      <td>1961-04-01</td>\n",
       "      <td>479.293335</td>\n",
       "      <td>(463.62444931394054, 494.9622204949558)</td>\n",
       "      <td>7.994476</td>\n",
       "      <td>463.624449</td>\n",
       "      <td>494.962220</td>\n",
       "    </tr>\n",
       "    <tr>\n",
       "      <th>4</th>\n",
       "      <td>1961-05-01</td>\n",
       "      <td>494.656855</td>\n",
       "      <td>(478.9879690067688, 510.32574018778405)</td>\n",
       "      <td>7.994476</td>\n",
       "      <td>478.987969</td>\n",
       "      <td>510.325740</td>\n",
       "    </tr>\n",
       "    <tr>\n",
       "      <th>5</th>\n",
       "      <td>1961-06-01</td>\n",
       "      <td>570.216461</td>\n",
       "      <td>(554.547575454454, 585.8853466354691)</td>\n",
       "      <td>7.994476</td>\n",
       "      <td>554.547575</td>\n",
       "      <td>585.885347</td>\n",
       "    </tr>\n",
       "    <tr>\n",
       "      <th>6</th>\n",
       "      <td>1961-07-01</td>\n",
       "      <td>651.852639</td>\n",
       "      <td>(636.1837529397925, 667.5215241208076)</td>\n",
       "      <td>7.994476</td>\n",
       "      <td>636.183753</td>\n",
       "      <td>667.521524</td>\n",
       "    </tr>\n",
       "    <tr>\n",
       "      <th>7</th>\n",
       "      <td>1961-08-01</td>\n",
       "      <td>647.448089</td>\n",
       "      <td>(631.7792034845876, 663.1169746656027)</td>\n",
       "      <td>7.994476</td>\n",
       "      <td>631.779203</td>\n",
       "      <td>663.116975</td>\n",
       "    </tr>\n",
       "    <tr>\n",
       "      <th>8</th>\n",
       "      <td>1961-09-01</td>\n",
       "      <td>546.566852</td>\n",
       "      <td>(530.8979667702795, 562.2357379512946)</td>\n",
       "      <td>7.994476</td>\n",
       "      <td>530.897967</td>\n",
       "      <td>562.235738</td>\n",
       "    </tr>\n",
       "    <tr>\n",
       "      <th>9</th>\n",
       "      <td>1961-10-01</td>\n",
       "      <td>483.002910</td>\n",
       "      <td>(467.33402469725615, 498.6717958782714)</td>\n",
       "      <td>7.994476</td>\n",
       "      <td>467.334025</td>\n",
       "      <td>498.671796</td>\n",
       "    </tr>\n",
       "    <tr>\n",
       "      <th>10</th>\n",
       "      <td>1961-11-01</td>\n",
       "      <td>419.462497</td>\n",
       "      <td>(403.79361116409336, 435.1313823451086)</td>\n",
       "      <td>7.994476</td>\n",
       "      <td>403.793611</td>\n",
       "      <td>435.131382</td>\n",
       "    </tr>\n",
       "    <tr>\n",
       "      <th>11</th>\n",
       "      <td>1961-12-01</td>\n",
       "      <td>466.555090</td>\n",
       "      <td>(450.88620490577455, 482.2239760867898)</td>\n",
       "      <td>7.994476</td>\n",
       "      <td>450.886205</td>\n",
       "      <td>482.223976</td>\n",
       "    </tr>\n",
       "    <tr>\n",
       "      <th>12</th>\n",
       "      <td>1962-01-01</td>\n",
       "      <td>477.243901</td>\n",
       "      <td>(461.5750150476381, 492.9127862286533)</td>\n",
       "      <td>7.994476</td>\n",
       "      <td>461.575015</td>\n",
       "      <td>492.912786</td>\n",
       "    </tr>\n",
       "    <tr>\n",
       "      <th>13</th>\n",
       "      <td>1962-02-01</td>\n",
       "      <td>451.007334</td>\n",
       "      <td>(435.3384481251627, 466.6762193061779)</td>\n",
       "      <td>7.994476</td>\n",
       "      <td>435.338448</td>\n",
       "      <td>466.676219</td>\n",
       "    </tr>\n",
       "    <tr>\n",
       "      <th>14</th>\n",
       "      <td>1962-03-01</td>\n",
       "      <td>506.022793</td>\n",
       "      <td>(490.3539075307675, 521.6916787117827)</td>\n",
       "      <td>7.994476</td>\n",
       "      <td>490.353908</td>\n",
       "      <td>521.691679</td>\n",
       "    </tr>\n",
       "    <tr>\n",
       "      <th>15</th>\n",
       "      <td>1962-04-01</td>\n",
       "      <td>514.164647</td>\n",
       "      <td>(498.4957615119236, 529.8335326929388)</td>\n",
       "      <td>7.994476</td>\n",
       "      <td>498.495762</td>\n",
       "      <td>529.833533</td>\n",
       "    </tr>\n",
       "    <tr>\n",
       "      <th>16</th>\n",
       "      <td>1962-05-01</td>\n",
       "      <td>531.347630</td>\n",
       "      <td>(515.6787447770531, 547.0165159580682)</td>\n",
       "      <td>7.994476</td>\n",
       "      <td>515.678745</td>\n",
       "      <td>547.016516</td>\n",
       "    </tr>\n",
       "    <tr>\n",
       "      <th>17</th>\n",
       "      <td>1962-06-01</td>\n",
       "      <td>612.708380</td>\n",
       "      <td>(597.0394948365816, 628.3772660175968)</td>\n",
       "      <td>7.994476</td>\n",
       "      <td>597.039495</td>\n",
       "      <td>628.377266</td>\n",
       "    </tr>\n",
       "    <tr>\n",
       "      <th>18</th>\n",
       "      <td>1962-07-01</td>\n",
       "      <td>701.125203</td>\n",
       "      <td>(685.456316973893, 716.7940881549081)</td>\n",
       "      <td>7.994476</td>\n",
       "      <td>685.456317</td>\n",
       "      <td>716.794088</td>\n",
       "    </tr>\n",
       "    <tr>\n",
       "      <th>19</th>\n",
       "      <td>1962-08-01</td>\n",
       "      <td>695.970414</td>\n",
       "      <td>(680.3015283685405, 711.6392995495556)</td>\n",
       "      <td>7.994476</td>\n",
       "      <td>680.301528</td>\n",
       "      <td>711.639300</td>\n",
       "    </tr>\n",
       "    <tr>\n",
       "      <th>20</th>\n",
       "      <td>1962-09-01</td>\n",
       "      <td>586.576371</td>\n",
       "      <td>(570.9074852380605, 602.2452564190756)</td>\n",
       "      <td>7.994476</td>\n",
       "      <td>570.907485</td>\n",
       "      <td>602.245256</td>\n",
       "    </tr>\n",
       "    <tr>\n",
       "      <th>21</th>\n",
       "      <td>1962-10-01</td>\n",
       "      <td>518.275740</td>\n",
       "      <td>(502.60685462687246, 533.9446258078876)</td>\n",
       "      <td>7.994476</td>\n",
       "      <td>502.606855</td>\n",
       "      <td>533.944626</td>\n",
       "    </tr>\n",
       "    <tr>\n",
       "      <th>22</th>\n",
       "      <td>1962-11-01</td>\n",
       "      <td>449.797463</td>\n",
       "      <td>(434.12857728143047, 465.4663484624457)</td>\n",
       "      <td>7.994476</td>\n",
       "      <td>434.128577</td>\n",
       "      <td>465.466348</td>\n",
       "    </tr>\n",
       "    <tr>\n",
       "      <th>23</th>\n",
       "      <td>1962-12-01</td>\n",
       "      <td>499.858766</td>\n",
       "      <td>(484.1898808199104, 515.5276520009256)</td>\n",
       "      <td>7.994476</td>\n",
       "      <td>484.189881</td>\n",
       "      <td>515.527652</td>\n",
       "    </tr>\n",
       "    <tr>\n",
       "      <th>24</th>\n",
       "      <td>1963-01-01</td>\n",
       "      <td>511.078167</td>\n",
       "      <td>(495.4092810704933, 526.7470522515085)</td>\n",
       "      <td>7.994476</td>\n",
       "      <td>495.409281</td>\n",
       "      <td>526.747052</td>\n",
       "    </tr>\n",
       "    <tr>\n",
       "      <th>25</th>\n",
       "      <td>1963-02-01</td>\n",
       "      <td>481.938068</td>\n",
       "      <td>(466.26918193653927, 497.6069531175545)</td>\n",
       "      <td>7.994476</td>\n",
       "      <td>466.269182</td>\n",
       "      <td>497.606953</td>\n",
       "    </tr>\n",
       "    <tr>\n",
       "      <th>26</th>\n",
       "      <td>1963-03-01</td>\n",
       "      <td>539.731272</td>\n",
       "      <td>(524.0623865550464, 555.4001577360615)</td>\n",
       "      <td>7.994476</td>\n",
       "      <td>524.062387</td>\n",
       "      <td>555.400158</td>\n",
       "    </tr>\n",
       "    <tr>\n",
       "      <th>27</th>\n",
       "      <td>1963-04-01</td>\n",
       "      <td>549.403785</td>\n",
       "      <td>(533.7348994118435, 565.0726705928586)</td>\n",
       "      <td>7.994476</td>\n",
       "      <td>533.734899</td>\n",
       "      <td>565.072671</td>\n",
       "    </tr>\n",
       "    <tr>\n",
       "      <th>28</th>\n",
       "      <td>1963-05-01</td>\n",
       "      <td>568.159941</td>\n",
       "      <td>(552.4910552958212, 583.8288264768363)</td>\n",
       "      <td>7.994476</td>\n",
       "      <td>552.491055</td>\n",
       "      <td>583.828826</td>\n",
       "    </tr>\n",
       "    <tr>\n",
       "      <th>29</th>\n",
       "      <td>1963-06-01</td>\n",
       "      <td>655.337912</td>\n",
       "      <td>(639.6690264497632, 671.0067976307784)</td>\n",
       "      <td>7.994476</td>\n",
       "      <td>639.669026</td>\n",
       "      <td>671.006798</td>\n",
       "    </tr>\n",
       "    <tr>\n",
       "      <th>30</th>\n",
       "      <td>1963-07-01</td>\n",
       "      <td>750.563785</td>\n",
       "      <td>(734.8948994963622, 766.2326706773773)</td>\n",
       "      <td>7.994476</td>\n",
       "      <td>734.894899</td>\n",
       "      <td>766.232671</td>\n",
       "    </tr>\n",
       "    <tr>\n",
       "      <th>31</th>\n",
       "      <td>1963-08-01</td>\n",
       "      <td>744.590215</td>\n",
       "      <td>(728.9213296793463, 760.2591008603614)</td>\n",
       "      <td>7.994476</td>\n",
       "      <td>728.921330</td>\n",
       "      <td>760.259101</td>\n",
       "    </tr>\n",
       "    <tr>\n",
       "      <th>32</th>\n",
       "      <td>1963-09-01</td>\n",
       "      <td>626.645754</td>\n",
       "      <td>(610.9768687874308, 642.3146399684459)</td>\n",
       "      <td>7.994476</td>\n",
       "      <td>610.976869</td>\n",
       "      <td>642.314640</td>\n",
       "    </tr>\n",
       "    <tr>\n",
       "      <th>33</th>\n",
       "      <td>1963-10-01</td>\n",
       "      <td>553.586586</td>\n",
       "      <td>(537.9177005774619, 569.255471758477)</td>\n",
       "      <td>7.994476</td>\n",
       "      <td>537.917701</td>\n",
       "      <td>569.255472</td>\n",
       "    </tr>\n",
       "    <tr>\n",
       "      <th>34</th>\n",
       "      <td>1963-11-01</td>\n",
       "      <td>480.150202</td>\n",
       "      <td>(464.4813161568005, 495.81908733781574)</td>\n",
       "      <td>7.994476</td>\n",
       "      <td>464.481316</td>\n",
       "      <td>495.819087</td>\n",
       "    </tr>\n",
       "    <tr>\n",
       "      <th>35</th>\n",
       "      <td>1963-12-01</td>\n",
       "      <td>533.178027</td>\n",
       "      <td>(517.5091410638352, 548.8469122448503)</td>\n",
       "      <td>7.994476</td>\n",
       "      <td>517.509141</td>\n",
       "      <td>548.846912</td>\n",
       "    </tr>\n",
       "  </tbody>\n",
       "</table>\n",
       "</div>"
      ],
      "text/plain": [
       "           ts    forecast                         quantile_summary   err_std  \\\n",
       "0  1961-01-01  445.333607  (429.66472181541485, 461.0024929964301)  7.994476   \n",
       "1  1961-02-01  420.264574  (404.59568889121795, 435.9334600722332)  7.994476   \n",
       "2  1961-03-01  472.442748   (456.77386268153975, 488.111633862555)  7.994476   \n",
       "3  1961-04-01  479.293335  (463.62444931394054, 494.9622204949558)  7.994476   \n",
       "4  1961-05-01  494.656855  (478.9879690067688, 510.32574018778405)  7.994476   \n",
       "5  1961-06-01  570.216461    (554.547575454454, 585.8853466354691)  7.994476   \n",
       "6  1961-07-01  651.852639   (636.1837529397925, 667.5215241208076)  7.994476   \n",
       "7  1961-08-01  647.448089   (631.7792034845876, 663.1169746656027)  7.994476   \n",
       "8  1961-09-01  546.566852   (530.8979667702795, 562.2357379512946)  7.994476   \n",
       "9  1961-10-01  483.002910  (467.33402469725615, 498.6717958782714)  7.994476   \n",
       "10 1961-11-01  419.462497  (403.79361116409336, 435.1313823451086)  7.994476   \n",
       "11 1961-12-01  466.555090  (450.88620490577455, 482.2239760867898)  7.994476   \n",
       "12 1962-01-01  477.243901   (461.5750150476381, 492.9127862286533)  7.994476   \n",
       "13 1962-02-01  451.007334   (435.3384481251627, 466.6762193061779)  7.994476   \n",
       "14 1962-03-01  506.022793   (490.3539075307675, 521.6916787117827)  7.994476   \n",
       "15 1962-04-01  514.164647   (498.4957615119236, 529.8335326929388)  7.994476   \n",
       "16 1962-05-01  531.347630   (515.6787447770531, 547.0165159580682)  7.994476   \n",
       "17 1962-06-01  612.708380   (597.0394948365816, 628.3772660175968)  7.994476   \n",
       "18 1962-07-01  701.125203    (685.456316973893, 716.7940881549081)  7.994476   \n",
       "19 1962-08-01  695.970414   (680.3015283685405, 711.6392995495556)  7.994476   \n",
       "20 1962-09-01  586.576371   (570.9074852380605, 602.2452564190756)  7.994476   \n",
       "21 1962-10-01  518.275740  (502.60685462687246, 533.9446258078876)  7.994476   \n",
       "22 1962-11-01  449.797463  (434.12857728143047, 465.4663484624457)  7.994476   \n",
       "23 1962-12-01  499.858766   (484.1898808199104, 515.5276520009256)  7.994476   \n",
       "24 1963-01-01  511.078167   (495.4092810704933, 526.7470522515085)  7.994476   \n",
       "25 1963-02-01  481.938068  (466.26918193653927, 497.6069531175545)  7.994476   \n",
       "26 1963-03-01  539.731272   (524.0623865550464, 555.4001577360615)  7.994476   \n",
       "27 1963-04-01  549.403785   (533.7348994118435, 565.0726705928586)  7.994476   \n",
       "28 1963-05-01  568.159941   (552.4910552958212, 583.8288264768363)  7.994476   \n",
       "29 1963-06-01  655.337912   (639.6690264497632, 671.0067976307784)  7.994476   \n",
       "30 1963-07-01  750.563785   (734.8948994963622, 766.2326706773773)  7.994476   \n",
       "31 1963-08-01  744.590215   (728.9213296793463, 760.2591008603614)  7.994476   \n",
       "32 1963-09-01  626.645754   (610.9768687874308, 642.3146399684459)  7.994476   \n",
       "33 1963-10-01  553.586586    (537.9177005774619, 569.255471758477)  7.994476   \n",
       "34 1963-11-01  480.150202  (464.4813161568005, 495.81908733781574)  7.994476   \n",
       "35 1963-12-01  533.178027   (517.5091410638352, 548.8469122448503)  7.994476   \n",
       "\n",
       "    forecast_lower  forecast_upper  \n",
       "0       429.664722      461.002493  \n",
       "1       404.595689      435.933460  \n",
       "2       456.773863      488.111634  \n",
       "3       463.624449      494.962220  \n",
       "4       478.987969      510.325740  \n",
       "5       554.547575      585.885347  \n",
       "6       636.183753      667.521524  \n",
       "7       631.779203      663.116975  \n",
       "8       530.897967      562.235738  \n",
       "9       467.334025      498.671796  \n",
       "10      403.793611      435.131382  \n",
       "11      450.886205      482.223976  \n",
       "12      461.575015      492.912786  \n",
       "13      435.338448      466.676219  \n",
       "14      490.353908      521.691679  \n",
       "15      498.495762      529.833533  \n",
       "16      515.678745      547.016516  \n",
       "17      597.039495      628.377266  \n",
       "18      685.456317      716.794088  \n",
       "19      680.301528      711.639300  \n",
       "20      570.907485      602.245256  \n",
       "21      502.606855      533.944626  \n",
       "22      434.128577      465.466348  \n",
       "23      484.189881      515.527652  \n",
       "24      495.409281      526.747052  \n",
       "25      466.269182      497.606953  \n",
       "26      524.062387      555.400158  \n",
       "27      533.734899      565.072671  \n",
       "28      552.491055      583.828826  \n",
       "29      639.669026      671.006798  \n",
       "30      734.894899      766.232671  \n",
       "31      728.921330      760.259101  \n",
       "32      610.976869      642.314640  \n",
       "33      537.917701      569.255472  \n",
       "34      464.481316      495.819087  \n",
       "35      517.509141      548.846912  "
      ]
     },
     "execution_count": 28,
     "metadata": {},
     "output_type": "execute_result"
    }
   ],
   "source": [
    "model1.predict(future_df1)"
   ]
  },
  {
   "cell_type": "code",
   "execution_count": null,
   "metadata": {},
   "outputs": [],
   "source": []
  }
 ],
 "metadata": {
  "kernelspec": {
   "display_name": "greykite",
   "language": "python",
   "name": "python3"
  },
  "language_info": {
   "codemirror_mode": {
    "name": "ipython",
    "version": 3
   },
   "file_extension": ".py",
   "mimetype": "text/x-python",
   "name": "python",
   "nbconvert_exporter": "python",
   "pygments_lexer": "ipython3",
   "version": "3.10.13"
  }
 },
 "nbformat": 4,
 "nbformat_minor": 2
}
